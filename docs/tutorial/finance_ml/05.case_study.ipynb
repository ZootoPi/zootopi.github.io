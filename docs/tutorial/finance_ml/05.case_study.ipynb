{
 "cells": [
  {
   "cell_type": "markdown",
   "id": "1b2780d7-904c-4377-9f96-5e33eb134746",
   "metadata": {},
   "source": [
    "# Bài 4: Xác suất vỡ nợ"
   ]
  },
  {
   "cell_type": "markdown",
   "id": "93a6f13e-cf5e-4412-ad72-9ac2737d2090",
   "metadata": {},
   "source": [
    "Trước khi tiếp cận với ứng dụng các thuật toán Học máy đối với dữ liệu tài chính, chúng ta sẽ cùng nhau tiếp cận bài toán xác suất vỡ nợ (tiếng anh là Probability of Default hay viết tắt là PD). Trong thị trường tài chính, xác suất vỡ nợ là xác suất mà một công ty phát hành trái phiếu không đáp ứng được các nghĩa vụ hợp đồng của mình theo đúng tiến độ. Bên cạnh trường hợp phổ biến nhất là doanh nghiệp không thanh toán dẫn đến phá sản, ta có thể xây bản cáo bạch trái phiếu xác định các trường hợp vỡ nợ khác, chẳng hạn như việc không đáp ứng một nghĩa vụ nào đó trong hợp đồng hoặc vi phạm giao ước tài chính.\n",
    "\n",
    "## 1. Giới thiệu\n",
    "\n",
    "Trong bài viết này, chúng ta sẽ tập trung vào xác suất vỡ nợ có thời hạn một năm của giá trái phiếu doanh nghiệp theo thị trường. Thời hạn một năm cho đến khi đáo hạn được chọn để tính toán xác suất vỡ nợ theo thị trường bởi lí do sau: \n",
    "* Trong khoảng thời gian ngắn hơn một hoặc hai năm, các công ty phải chịu tác động của chu kỳ kinh doanh. \n",
    "* Trong khoảng thời gian dài hơn, hiệu ứng của chu kỳ kinh doanh có xu hướng có tác động ít hơn và cấu trúc vốn của công ty trở nên quan trọng hơn, từ đó làm cho mức độ rủi ro dài hạn ít theo chu kỳ hơn và ổn định hơn.\n",
    "\n",
    "Chúng ta sẽ tận dụng bảng \"Tỷ lệ chuyển đổi trung bình trong một năm cho các doanh nghiệp toàn cầu\" của Standard & Poor với dữ liệu lịch sử từ năm 1981-2019 để đánh giá các xác suất quan sát được của một xếp hạng cụ thể chuyển đổi sang xếp hạng khác trong suốt một năm."
   ]
  },
  {
   "cell_type": "markdown",
   "id": "a35081be-be1d-4146-a1a4-a5621441befa",
   "metadata": {},
   "source": [
    "## 2. Thu thập và chuyển đổi dữ liệu\n",
    "\n",
    "Để tính toán xác suất vỡ nợ theo thị trường, trước tiên chúng ta phải thu được giá trái phiếu hiện tại của công ty. Nếu bạn chưa biết làm thế nào để thu thập được thông tin này thì đừng lo, đã có [Selenium](https://pypi.org/project/selenium/) giúp bạn. Selenium là công cụ chúng ta có thể sử dụng để tự động hóa hoạt động trình duyệt do người dùng thực hiện, chẳng hạn như tải một trang web và điền vào biểu mẫu trên trang web đó. Nó yêu cầu một WebDriver cụ thể cho trình duyệt web của một người.\n",
    "\n",
    "Trong trường hợp bạn chưa cài đặt [Selenium](https://pypi.org/project/selenium/), bạn có thể truy cập các liên kết tương ứng của chúng và tải chúng xuống bằng cách sử dụng `pip` (tham khảo cách sử dụng `pip` tại đây). Ngoài ra, ta cũng sẽ cần một chromedriver, có thể tải xuống bằng Python với gói [WebDriver-manager](https://pypi.org/project/webdriver-manager/) trong PyPi.\n",
    "\n",
    "Chúng ta sẽ sử dụng tập các câu lệnh Selenium để mô phỏng các thao tác nhấn phím và nhấp chuột của người dùng trong trình duyệt như một phương tiện để trỏ đến dữ liệu trái phiếu Trade Reporting and Compliance Engine (TRACE) do Cơ quan quản lý ngành tài chính (FINRA) cung cấp, từ đó truy cập dữ liệu cần thiết để tính toán xác suất vỡ nợ của thị trường.\n",
    "\n",
    "Trước hết, chúng ta sẽ cài đặt những thư viện cần thiết sử dụng `pip` và import những thư viện sẽ dùng trong bài viết này."
   ]
  },
  {
   "cell_type": "code",
   "execution_count": null,
   "id": "820b9b82-8d3c-42bf-8b81-e4ab2214ac0c",
   "metadata": {},
   "outputs": [],
   "source": [
    "# Mô phỏng thao tác người dùng để đào dữ liệu\n",
    "!pip install selenium\n",
    "# Đơn giản hóa việc quản lý trình điều khiển nhị phân cho các trình duyệt khác nhau.\n",
    "!pip install webdriver_manager\n",
    "# Truy cập dữ liệu tài chính công khai từ Internet và nhập dữ liệu đó vào Python dưới dạng DataFrame.\n",
    "!pip install pandas_datareader\n",
    "# Tính toán đại số\n",
    "!pip install sympy"
   ]
  },
  {
   "cell_type": "code",
   "execution_count": null,
   "id": "b60856ab-b5cb-44db-a8e6-f0cff17d513a",
   "metadata": {},
   "outputs": [],
   "source": [
    "import time\n",
    "import numpy as np\n",
    "import pandas as pd\n",
    "import pandas_datareader as dr\n",
    "from datetime import date\n",
    "from datetime import datetime as dt\n",
    "from datetime import timedelta\n",
    "from sympy import solve, symbols\n",
    "import matplotlib.pyplot as plt\n",
    "\n",
    "from selenium import webdriver\n",
    "from selenium.webdriver.chrome.options import Options\n",
    "from selenium.webdriver.chrome.service import Service\n",
    "from selenium.webdriver.common.by import By\n",
    "from selenium.webdriver.support import expected_conditions as EC\n",
    "from selenium.webdriver.support.ui import Select, WebDriverWait\n",
    "from webdriver_manager.chrome import ChromeDriverManager"
   ]
  },
  {
   "cell_type": "markdown",
   "id": "6736c1c9-c4e9-44aa-9dee-cbc6ef1f91f2",
   "metadata": {},
   "source": [
    "Chúng ta sẽ tải xuống thông tin về trái phiếu của công ty từ cơ sở dữ liệu TRACE, được duy trì bởi FINRA bằng đoạn mã dưới đây. Một số công ty bạn có thể thử, ví dụ:\n",
    "|Mã công ty| Tên công ty|\n",
    "|:-:|:-:|\n",
    "|HES|Hess|\n",
    "|F|Ford Motor|\n",
    "|KHC|Kraft Heinz Co|\n",
    "|DVN|Devon Energy|\n",
    "|...|...|\n",
    "\n",
    "Một số tần suất coupon có thể sử dụng: ALL, Annual, Anytime, Bi-Monthly, Monthly, N/A, None, Pays At Maturity, Quarterly, Semi-Annual, Variable, ..."
   ]
  },
  {
   "cell_type": "code",
   "execution_count": null,
   "id": "7c1456b3-7ae7-4614-a95b-19cb605fc376",
   "metadata": {},
   "outputs": [],
   "source": [
    "# Bắt buộc\n",
    "company_ticker = \"HES\"\n",
    "\n",
    "# Tuỳ chọn\n",
    "company_name = \"Hess\"\n",
    "\n",
    "# Tuỳ chọn đầu vào:\n",
    "coupon_frequency = \"Semi-Annual\""
   ]
  },
  {
   "cell_type": "code",
   "execution_count": null,
   "id": "efe00452-6026-44fe-baff-a6cb3f0594c4",
   "metadata": {},
   "outputs": [],
   "source": [
    "# Đoạn mã Selenium để thu thập dữ liệu\n",
    "options = Options()\n",
    "options.add_argument(\"--headless\")\n",
    "options.add_argument(\"--no-sandbox\")\n",
    "options.add_argument(\"--disable-dev-shm-usage\")\n",
    "driver = webdriver.Chrome(\n",
    "    service=Service(ChromeDriverManager().install()), options=options\n",
    ")\n",
    "\n",
    "# Lưu thời gian bắt đầu thực thi vào biến begin\n",
    "begin = time.time()\n",
    "\n",
    "# Truy cập vào FINRA's TRACE Bond Center\n",
    "driver.get(\"http://finra-markets.morningstar.com/BondCenter/Results.jsp\")\n",
    "\n",
    "# Chọn đồng ý\n",
    "WebDriverWait(driver, 10).until(\n",
    "    EC.element_to_be_clickable((By.CSS_SELECTOR, \".button_blue.agree\"))\n",
    ").click()\n",
    "\n",
    "# Chọn chỉnh sửa tìm kiếm \n",
    "WebDriverWait(driver, 10).until(\n",
    "    EC.element_to_be_clickable((By.CSS_SELECTOR, \"a.qs-ui-btn.blue\"))\n",
    ").click()\n",
    "\n",
    "# Chọn Tên tổ chức phát hành\n",
    "WebDriverWait(driver, 10).until(\n",
    "    EC.presence_of_element_located((By.CSS_SELECTOR, \"input[id=firscreener-issuer]\"))\n",
    ")\n",
    "inputElement = driver.find_element(By.ID, \"firscreener-issuer\")\n",
    "inputElement.send_keys(company_name)\n",
    "\n",
    "# Chọn biểu tượng\n",
    "WebDriverWait(driver, 10).until(\n",
    "    EC.presence_of_element_located((By.CSS_SELECTOR, \"input[id=firscreener-cusip]\"))\n",
    ")\n",
    "inputElement = driver.find_element(By.ID,\"firscreener-cusip\")\n",
    "inputElement.send_keys(company_ticker)\n",
    "\n",
    "# Chọn tìm kiếm nâng cao\n",
    "WebDriverWait(driver, 10).until(\n",
    "    EC.element_to_be_clickable((By.CSS_SELECTOR, \"a.ms-display-switcher.hide\"))\n",
    ").click()\n",
    "\n",
    "# Chọn Coupon Frequency\n",
    "WebDriverWait(driver, 10).until(\n",
    "    EC.presence_of_element_located((By.CSS_SELECTOR, \"select[name=interestFrequency]\"))\n",
    ")\n",
    "Select(\n",
    "    (driver.find_elements(By.CSS_SELECTOR,\"select[name=interestFrequency]\"))[0]\n",
    ").select_by_visible_text(coupon_frequency)\n",
    "\n",
    "# Chọn hiển thị kết quả\n",
    "WebDriverWait(driver, 10).until(\n",
    "    EC.element_to_be_clickable((By.CSS_SELECTOR, \"input.button_blue[type=submit]\"))\n",
    ").click()\n",
    "\n",
    "# Chờ kết quả\n",
    "WebDriverWait(driver, 10).until(\n",
    "    EC.presence_of_element_located(\n",
    "        (By.CSS_SELECTOR, \".rtq-grid-row.rtq-grid-rzrow .rtq-grid-cell-ctn\")\n",
    "    )\n",
    ")\n",
    "\n",
    "# Tạo DataFrame lưu trữ thông tin\n",
    "frames = []\n",
    "for page in range(1, 11):\n",
    "    bonds = []\n",
    "    WebDriverWait(driver, 10).until(\n",
    "        EC.presence_of_element_located(\n",
    "            (By.CSS_SELECTOR, (f\"a.qs-pageutil-btn[value='{str(page)}']\"))\n",
    "        )\n",
    "    ) \n",
    "    time.sleep(2)\n",
    "\n",
    "    headers = [\n",
    "        title.text\n",
    "        for title in driver.find_elements(By.CSS_SELECTOR,\n",
    "            \".rtq-grid-row.rtq-grid-rzrow .rtq-grid-cell-ctn\"\n",
    "        )[1:]\n",
    "    ]\n",
    "\n",
    "    tablerows = driver.find_elements(By.CSS_SELECTOR,\n",
    "        \"div.rtq-grid-bd > div.rtq-grid-row\"\n",
    "    )\n",
    "    for tablerow in tablerows:\n",
    "        tablerowdata = tablerow.find_elements(By.CSS_SELECTOR,\"div.rtq-grid-cell\")\n",
    "        bond = [item.text for item in tablerowdata[1:]]\n",
    "        bonds.append(bond)\n",
    "\n",
    "        # Chuyển về DataFrame\n",
    "        df = pd.DataFrame(bonds, columns=headers)\n",
    "\n",
    "    frames.append(df)\n",
    "\n",
    "    try:\n",
    "        driver.find_element(By.CSS_SELECTOR,\"a.qs-pageutil-next\").click()\n",
    "    except:  \n",
    "        break\n",
    "\n",
    "bond_prices_df = pd.concat(frames)\n",
    "\n",
    "# Lưu thời gian kết thúc\n",
    "end = time.time()\n",
    "\n",
    "# Tính tổng thời gian chương trình chạy\n",
    "print(f\"Total runtime of the program is {end - begin} seconds\")\n",
    "\n",
    "bond_prices_df"
   ]
  },
  {
   "cell_type": "markdown",
   "id": "5be8eee1-b503-4760-b060-e285e02b1b4b",
   "metadata": {},
   "source": [
    "Chúng ta cũng đã tải xuống thông tin về giá và xếp hạng cho trái phiếu do một công ty phát hành cụ thể phát hành từ cơ sở dữ liệu trái phiếu được đánh giá cao, TRACE từ FINRA. Sau khi tải xuống, chúng ta tiếp tục sạch dữ liệu, chuyển đổi một số dữ liệu liên quan đến kỳ hạn trái phiếu và lọc dữ liệu để có thể tập trung phân tích vào các trái phiếu có kỳ hạn ngắn hơn thông qua hàm dưới đây."
   ]
  },
  {
   "cell_type": "code",
   "execution_count": null,
   "id": "a602a2d2-25ec-43c1-bc11-7f51533a6a04",
   "metadata": {},
   "outputs": [],
   "source": [
    "def bond_dataframe_filter(df):\n",
    "    # Loại bỏ những bản ghi về thông tin trái phiếu bị thiếu lợi suất và xếp hạng tín dụng\n",
    "    df[\"Yield\"].replace(\"\", np.nan, inplace=True)\n",
    "    df[\"Moody's®\"].replace({\"WR\": np.nan, \"\": np.nan}, inplace=True)\n",
    "    df[\"S&P\"].replace({\"NR\": np.nan, \"\": np.nan}, inplace=True)\n",
    "    for col in [\"Yield\", \"Moody's®\", \"S&P\"]:\n",
    "        df = df.dropna(subset=[col])\n",
    "\n",
    "    # Tạo cột Số năm đáo hạn  Maturity Years phù hợp với \n",
    "    # Khoản thanh toán nửa năm một lần Semi-Annual Payments từ trái phiếu doanh nghiệp\n",
    "    now = dt.strptime(date.today().strftime(\"%m/%d/%Y\"), \"%m/%d/%Y\")\n",
    "    df[\"Raw_Maturity\"] = pd.to_datetime(df[\"Maturity\"]).dt.strftime(\"%m/%d/%Y\")\n",
    "    df[\"Maturity\"] = [(dt.strptime(x, \"%m/%d/%Y\") - now).days for x in df[\"Raw_Maturity\"]]\n",
    "    df[\"Maturity Years\"] = [round((x/360)/0.5)*0.5 for x in df[\"Maturity\"]]\n",
    "\n",
    "    # Ép kiểu dữ liệu về dạng số thực\n",
    "    for col in [\"Maturity\", \"Yield\", \"Coupon\", \"Price\"]:\n",
    "        df[col] = df[col].astype(float)\n",
    "        \n",
    "    return df[(df[\"Maturity Years\"] > 0) & (df[\"Maturity Years\"] <= 5)]"
   ]
  },
  {
   "cell_type": "code",
   "execution_count": null,
   "id": "9ae2040d-2d83-48cd-8784-e15a4aa4f8bf",
   "metadata": {},
   "outputs": [],
   "source": [
    "bond_df_result = bond_dataframe_filter(bond_prices_df)\n",
    "bond_df_result"
   ]
  },
  {
   "cell_type": "markdown",
   "id": "faf80891-5005-4763-bff8-0e50b772209c",
   "metadata": {},
   "source": [
    "## 3. Tính dòng tiền chiết khấu\n",
    "\n",
    "Chúng ta sẽ sử dụng các kỹ thuật định giá trái phiếu (Bond Prices) để tính xác suất vỡ nợ bằng cách sử dụng giá trái phiếu doanh nghiệp hiện tại. Việc định giá trái phiếu doanh nghiệp tương tự như bất kỳ tài sản rủi ro nào; nó phụ thuộc vào giá trị hiện tại của các dòng tiền kỳ vọng (Expected Cash Flow hay $ECF$) trong tương lai theo lãi suất suất chiết khấu $d$ (Discount Rate).\n",
    "\n",
    "\\begin{equation*}\n",
    "BOND\\ PRICE = \\frac{ECF_1}{1+d}\\ +\\ \\frac{ECF_2}{(1+d)^2}\\ +\\ \\frac{ECF_3}{(1+d)^3}\n",
    "\\end{equation*}\n",
    "\n",
    "Việc định giá trái phiếu doanh nghiệp cũng cần tính đến khả năng trái phiếu không trả được nợ và không trả lại đầy đủ tiền gốc.\n",
    "Khi đó, ta cần ước tính dòng tiền kỳ vọng và lãi suất chiết khấu được điều chỉnh theo rủi ro.\n",
    "\n",
    "Để định giá trái phiếu, trước hết ta tìm ECF ở mỗi thời kỳ bằng cách cộng tích của khoản thanh toán mặc định (Default Payout)\n",
    "và xác suất vỡ nợ (P) với tích của khoản thanh toán đã hứa (thanh toán phiếu lãi và trả nợ gốc) và xác suất không vỡ nợ (1-P), hay còn gọi là như xác suất sống sót.\n",
    "\\begin{equation*}\n",
    "ECF_1 = (P)*(Default\\ Payout)\\ +\\ (1-P)*(Coupon\\ Payment)\n",
    "\\end{equation*}\n",
    "\n",
    "\\begin{equation*}\n",
    "ECF_2 = (1-P)*\\{(P)\\ *(Default\\ Payout)\\ +\\ (1-P)*(Coupon\\ Payment)\\}\n",
    "\\end{equation*}\n",
    "\n",
    "\\begin{equation*}\n",
    "ECF_3 = (1-P)^2*\\{(P)\\ *(Default\\ Payout)\\ +\\ (1-P)*(Coupon\\ Payment\\ +\\ Principal)\\}\n",
    "\\end{equation*}\n",
    "\n",
    "\\begin{equation*}\n",
    "Default\\ Payout = Principal\\ *\\ Recovery\\ Rate\n",
    "\\end{equation*}\n",
    "\n",
    "Nếu trái phiếu vỡ nợ, khoản thanh toán vỡ nợ là tích của tỷ lệ thu hồi nợ và vốn gốc. Trong trường hợp vốn gốc bằng mệnh giá trái phiếu (ví dụ: $100), tỷ lệ thu hồi tương ứng tỷ lệ phần trăm của khoản lỗ được thu hồi từ một trái phiếu bị vỡ nợ. Tỷ lệ thu hồi khác nhau tùy theo ngành, mức độ thâm niên trong cấu trúc vốn, mức độ đòn bẩy trong cấu trúc vốn nói chung và liệu một chứng khoán cụ thể có được bảo đảm hay được thế chấp bằng cách khác hay không. Trong bài viết này, ta sẽ giả định tỷ lệ thu hồi đối với trái phiếu doanh nghiệp là 40%, một giả định phổ biến trong thực tế."
   ]
  },
  {
   "cell_type": "markdown",
   "id": "cbf72473-859a-4d13-b128-a88ff2f8ce48",
   "metadata": {},
   "source": [
    "Sau khi các dòng tiền kỳ vọng được tính toán, chúng được chiết khấu trở lại giai đoạn 0 với tỷ lệ chiết khấu được điều chỉnh theo rủi ro (d) để tính giá trái phiếu. Tỷ lệ chiết khấu được điều chỉnh theo rủi ro là tỷ lệ thu được bằng cách kết hợp phần bù rủi ro dự kiến với tỷ lệ phi rủi ro trong quá trình tính toán giá trị hiện tại của một khoản đầu tư rủi ro.\n",
    "\n",
    "\\begin{equation*}\n",
    "Risk-adjusted\\ Discount\\ Rate = Risk-free\\ Interest\\ Rate + Expected\\ Risk\\ Premium\n",
    "\\end{equation*}\n",
    "\n",
    "với $Risk-adjusted\\ Discount\\ Rate$ là Tỷ lệ chiết khấu được điều chỉnh theo rủi ro, $Risk-free\\ Interest\\ Rate$ là Lãi suất phi rủi ro, và $Expected\\ Risk\\ Premium$ là Phần bù rủi ro dự kiến.\n",
    "\n",
    "Ta sử dụng tỷ lệ chiết khấu (đã điều chỉnh theo rủi ro) để tính đến các cân nhắc về tính thanh khoản, thời gian đáo hạn và thuế khiến trái phiếu doanh nghiệp có mức chênh lệch quan sát được so với lợi tức của trái phiếu phi rủi ro như trái phiếu do chính phủ phát hành trong một nền kinh tế ổn định. Lợi nhuận yêu cầu tối thiểu dự kiến đối với một nhà đầu tư trái phiếu bằng tổng của những yếu tố sau:\n",
    "\n",
    "|Yếu tố|Mô tả|\n",
    "|-|-|\n",
    "|**Default Risk Premium** | Phần bù rủi ro mặc định bồi thường cho các nhà đầu tư có khả năng vỡ nợ doanh nghiệp.|\n",
    "|**Liquidity Premium** | Phí thanh khoản bồi thường cho các nhà đầu tư khi đầu tư vào các chứng khoán kém thanh khoản hơn như trái phiếu.|\n",
    "|**Maturity Premium** |  Phí bảo hiểm đáo hạn bồi thường cho các nhà đầu tư về rủi ro liên quan đến trái phiếu đáo hạn trong nhiều năm tới trong tương lai vốn tiềm ẩn nhiều rủi ro hơn.|\n",
    "|**Taxation Premium** | Phí bảo hiểm thuế bồi thường cho các nhà đầu tư về thu nhập chịu thuế mà trái phiếu tạo ra.|\n",
    "|**Projected Inflation** | Lạm phát dự kiến tính đến sự mất giá của tiền tệ theo thời gian.|\n",
    "|**Risk-free Rate** | Tỷ lệ phi rủi ro đề cập đến tỷ suất lợi nhuận mà nhà đầu tư có thể mong đợi đối với chứng khoán phi rủi ro.|\n",
    "\n",
    "Chúng ta bắt đầu tính toán tỷ lệ chiết khấu được điều chỉnh theo rủi ro thông qua ước tính phần bù rủi ro dự kiến (Expected Risk Premium), được tính bởi công thức sau:\n",
    "\\begin{equation*}\n",
    "Expected\\ Risk\\ Premium = (Market\\ Rate\\ of\\ Return - Risk-free\\ Rate\\ of\\ Return) * Beta\n",
    "\\end{equation*}\n",
    "trong đó $Market\\ Rate\\ of\\ Return$ là tỷ suất lợi nhuận thị trường, $Risk-free\\ Rate\\ of\\ Return$ là tỷ lệ hoàn vốn phi rủi ro, hệ số beta là trọng số được điều chỉnh dựa trên mức độ rủi ro đầu tư liên quan. Bằng cách lựa chọn cẩn thận hệ số beta của trái phiếu doanh nghiệp ngắn hạn đại diện cho thị trường tổng thể, chúng ta có thể tính toán phần bù rủi ro dự kiến sẽ dẫn đến tỷ lệ chiết khấu được điều chỉnh theo rủi ro kết hợp với các cân nhắc về tính thanh khoản, kỳ hạn và thuế để tạo ra xác suất vỡ nợ chính xác hơn khi sử dụng kỹ thuật định giá trái phiếu.\n",
    "\n",
    "Để tính phần bù rủi ro kỳ vọng, trước hết chúng ta phải tính tỷ suất sinh lợi thị trường. Chúng ta có thể sử dụng mô hình định giá tài sản vốn (CAPM) để xác định tỷ lệ hoàn vốn thị trường.\n",
    "\n",
    "$$r_m = r_f\\ +(\\beta*MRP)$$\n",
    "\n",
    "với $r_m$ là tỷ lệ hoàn vốn thị trường, $r_f$ là lãi suất phi rủi ro, và $MRP$ tương ưng phần bù rủi ro thị trường.\n",
    "\n",
    "Chứng khoán chính phủ được giả định là không có rủi ro, ít nhất là từ quan điểm tín dụng. Với giả định này, tỷ lệ thích hợp để sử dụng trong tính toán tỷ lệ hoàn vốn thị trường là chứng khoán của chính phủ có thời hạn xấp xỉ bằng tài sản được định giá và đủ thanh khoản để lợi suất không có phí bảo hiểm rủi ro thanh khoản. Cổ phiếu được giả định là có thời hạn dài, do đó, lợi suất trái phiếu chính phủ dài hạn là đại diện thích hợp cho lãi suất phi rủi ro.\n",
    "\n",
    "Trong bước này, lợi suất trái phiếu kho bạc Hoa Kỳ kỳ hạn 10 năm sẽ được sử dụng làm lãi suất phi rủi ro và có thể tính từ dữ liệu Yahoo Finance thông qua đoạn mã dưới đây."
   ]
  },
  {
   "cell_type": "code",
   "execution_count": null,
   "id": "b6e4e21e-28e6-4112-8da4-e041d6324aa9",
   "metadata": {},
   "outputs": [],
   "source": [
    "# Ten-Year Risk-free Rate\n",
    "timespan = 100\n",
    "current_date = date.today()\n",
    "past_date = current_date - timedelta(days=timespan)\n",
    "ten_year_risk_free_rate_df =  dr.DataReader(\"^TNX\", \"yahoo\", past_date, current_date)\n",
    "ten_year_risk_free_rate = ten_year_risk_free_rate_df.iloc[len(ten_year_risk_free_rate_df) - 1, 5] / 100\n",
    "ten_year_risk_free_rate"
   ]
  },
  {
   "cell_type": "markdown",
   "id": "ef427f81-6602-4abd-aea7-9cb8de5d3e3f",
   "metadata": {},
   "source": [
    "Ta tận dụng [phần bù rủi ro thị trường](http://pages.stern.nyu.edu/~adamodar/New_Home_Page/datafile/ctryprem.html) hàng năm do Aswath Damodaran, giáo sư tại Trường Kinh doanh Stern thuộc Đại học New York cung cấp. Theo lý thuyết định giá tài sản, $beta$ đại diện cho loại rủi ro. Bản thân thị trường có hệ số beta là 1. Do đó, hệ số beta sẽ bằng 1 khi tính toán tỷ suất sinh lợi của thị trường."
   ]
  },
  {
   "cell_type": "code",
   "execution_count": null,
   "id": "346d4e75-40c6-4dcd-a248-702df59176ac",
   "metadata": {},
   "outputs": [],
   "source": [
    "market_risk_premium = 0.0472\n",
    "stock_market_beta = 1"
   ]
  },
  {
   "cell_type": "markdown",
   "id": "0126236e-c926-4d1b-ad39-e3f14dffb409",
   "metadata": {},
   "source": [
    "Từ những dữ kiện trên, ta tính được tỷ lệ hoàn vốn thị trường."
   ]
  },
  {
   "cell_type": "code",
   "execution_count": null,
   "id": "9ac3b15e-6990-4aa2-81b4-5569d8fa93d3",
   "metadata": {},
   "outputs": [],
   "source": [
    "market_rate_of_return = ten_year_risk_free_rate + (stock_market_beta * market_risk_premium)\n",
    "market_rate_of_return"
   ]
  },
  {
   "cell_type": "markdown",
   "id": "3d86ee44-4630-41f8-be62-85bd60757e75",
   "metadata": {},
   "source": [
    "Sau khi tính được Tỷ lệ hoàn vốn thị trường, ta tiếp tục xác định Phần bù rủi ro kỳ vọng bằng phần chênh lệch giữa Tỷ lệ hoàn vốn thị trường và lãi suất phi rủi ro nhân với hệ số beta của trái phiếu. Trong bước này, chúng ta sẽ sử dụng Lãi suất phi rủi ro một năm để Phần bù rủi ro dự kiến phù hợp với khoảng thời gian đối với tỷ lệ chiết khấu được điều chỉnh theo rủi ro. Ta thực hiện điều này bằng cách lấy Lợi tức của trái phiếu kho bạc Hoa Kỳ kỳ hạn 10 năm có tính thanh khoản rất cao và tăng nó lên lũy thừa 1/10 để chuyển đổi lợi tức thành tương đương một năm."
   ]
  },
  {
   "cell_type": "code",
   "execution_count": null,
   "id": "e6fef5cd-6fd2-47dc-b039-41430d34c3f8",
   "metadata": {},
   "outputs": [],
   "source": [
    "# Lãi suất phi rủi ro một năm\n",
    "one_year_risk_free_rate = (1 + ten_year_risk_free_rate) ** (1 / 10) - 1\n",
    "one_year_risk_free_rate"
   ]
  },
  {
   "cell_type": "markdown",
   "id": "1fdfe19e-23d2-4ad8-a0ba-e56fa2e3c9b6",
   "metadata": {},
   "source": [
    "Cuối cùng, ta sẽ tính hệ số beta của trái phiếu doanh nghiệp. Hệ số beta của trái phiếu là độ nhạy của tỷ suất sinh lợi của trái phiếu đó đối với tỷ suất sinh lợi của chỉ số thị trường. Nó là thước đo rủi ro hệ thống, không thể đa dạng hóa. Ta có thể tính hệ số beta theo (ít nhất) một trong hai cách dưới đây."
   ]
  },
  {
   "cell_type": "code",
   "execution_count": null,
   "id": "874d1e0e-59ec-400e-9d27-9cf17c348886",
   "metadata": {},
   "outputs": [],
   "source": [
    "# Quỹ Chỉ số Trái phiếu Doanh nghiệp Ngắn hạn Vanguard Cổ phiếu ETF\n",
    "bond_fund_ticker = \"VCSH\""
   ]
  },
  {
   "cell_type": "markdown",
   "id": "f704f327-955b-4aef-963f-1d63e3c5a4d7",
   "metadata": {},
   "source": [
    "Do sự khác biệt về tính thanh khoản trong trái phiếu doanh nghiệp là rất lớn, chúng ta sử dụng Cổ phiếu ETF của Quỹ chỉ số trái phiếu doanh nghiệp ngắn hạn Vanguard (VCSH) làm đại diện cho trái phiếu đáo hạn ngắn hạn. Phiên bản beta từ chỉ số này sẽ cho phép ta nhúng một số rủi ro thanh khoản và kỳ hạn vào tỷ lệ chiết khấu được điều chỉnh theo rủi ro sẽ được sử dụng để tính xác suất vỡ nợ cho trái phiếu doanh nghiệp mà ta sẽ phân tích. Điều này sẽ cho phép cô lập tốt hơn rủi ro tín dụng liên quan đến trái phiếu được chọn.\n",
    "\n",
    "Tiếp theo, ta tính hệ số beta của quỹ trái phiếu (đối với S&P):"
   ]
  },
  {
   "cell_type": "code",
   "execution_count": null,
   "id": "b11528e5-810f-4b29-b866-e4ffd8049e18",
   "metadata": {},
   "outputs": [],
   "source": [
    "# Tải dữ liệu cho quỹ trái phiếu và thị trường\n",
    "market_data = dr.get_data_yahoo(\"SPY\", past_date, current_date)  # thị trường\n",
    "fund_data = dr.get_data_yahoo(\"VCSH\", past_date, current_date)  # quỹ trái phiếu"
   ]
  },
  {
   "cell_type": "code",
   "execution_count": null,
   "id": "5915a761-45ec-4f10-82ae-1878298ece7b",
   "metadata": {},
   "outputs": [],
   "source": [
    "# Cách #1 - Phương pháp hiệp phương sai/phương sai\n",
    "\n",
    "# Tính hiệp phương sai giữa quỹ và thị trường -- đây là tử số trong phép tính Beta\n",
    "fund_market_cov = fund_data[\"Adj Close\"].cov(market_data[\"Adj Close\"])\n",
    "print(\"covariance between fund and market: \", fund_market_cov)\n",
    "\n",
    "# Tính phương sai thị trường (S&P) -- đây là mẫu số trong phép tính Beta\n",
    "market_var = market_data[\"Adj Close\"].var()\n",
    "print(\"market variance: \", market_var)\n",
    "\n",
    "# Tính Beta\n",
    "bond_fund_beta_cv = fund_market_cov / market_var\n",
    "print(\"bond fund beta (using covariance/variance): \", bond_fund_beta_cv)"
   ]
  },
  {
   "cell_type": "code",
   "execution_count": null,
   "id": "867a5e39-78bf-4e6e-a0f1-b79c34a9e209",
   "metadata": {},
   "outputs": [],
   "source": [
    "# Cách #2 - Phương pháp tương quan\n",
    "\n",
    "# Tính độ lệch chuẩn của thị trường bằng cách lấy căn bậc hai của phương sai, để sử dụng trong mẫu số\n",
    "market_stdev = market_var**0.5\n",
    "print(\"market standard deviation: \", market_stdev)\n",
    "\n",
    "# Tính độ lệch chuẩn của quỹ trái phiếu, để sử dụng trong tử số\n",
    "\n",
    "fund_stdev = fund_data[\"Adj Close\"].std()\n",
    "print(\"fund standard deviation: \", fund_stdev)\n",
    "\n",
    "# Tính tương quan Pearson giữa quỹ trái phiếu và thị trường (S&P), để sử dụng trong tử số\n",
    "fund_market_Pearson_corr = fund_data[\"Adj Close\"].corr(\n",
    "    market_data[\"Adj Close\"], method=\"pearson\"\n",
    ")\n",
    "print(\"Pearson correlation between fund and market: \", fund_market_Pearson_corr)\n",
    "\n",
    "# Tính Beta\n",
    "fund_beta_corr = fund_stdev * fund_market_Pearson_corr / market_stdev\n",
    "print(\"bond fund beta (using correlation): \", fund_beta_corr)"
   ]
  },
  {
   "cell_type": "markdown",
   "id": "63099bf5-ce2c-472f-b835-608ff2caa795",
   "metadata": {},
   "source": [
    "Lưu ý rằng `.corr()` ở trên có thể được sử dụng để tính bất kỳ chỉ số nào trong số ba chỉ số tương quan mà chúng ta đã thảo luận sử dụng các tham số như `pearson`, `kendall` hoặc `spearman`."
   ]
  },
  {
   "cell_type": "code",
   "execution_count": null,
   "id": "ef53e181-4bf8-44fd-9703-26652eb4184b",
   "metadata": {},
   "outputs": [],
   "source": [
    "# Beta của trái phiếu có thể được tính bằng một trong 2 hàm trên (bond_fund_beta_cv hoặc fund_beta_corr)\n",
    "bond_beta = fund_beta_corr\n",
    "bond_beta"
   ]
  },
  {
   "cell_type": "markdown",
   "id": "a426fe97-20b3-4ddc-be18-ffd5da554d63",
   "metadata": {},
   "source": [
    "Bây giờ chúng ta có tất cả các thành phần cần thiết để tính Phần bù rủi ro dự kiến."
   ]
  },
  {
   "cell_type": "code",
   "execution_count": null,
   "id": "72ad431b-8b1f-4466-9383-d6639e465193",
   "metadata": {},
   "outputs": [],
   "source": [
    "# Phần bù rủi ro dự kiến\n",
    "expected_risk_premium = (market_rate_of_return - one_year_risk_free_rate) * bond_beta\n",
    "expected_risk_premium"
   ]
  },
  {
   "cell_type": "markdown",
   "id": "6d305066-64dd-4d32-99a1-c0165b20fad7",
   "metadata": {},
   "source": [
    "Chúng ta sẽ sử dụng lãi suất phi rủi ro một năm để nó phù hợp với khoảng thời gian mà chúng ta muốn đối với Tỷ lệ chiết khấu được điều chỉnh theo rủi ro và sử dụng nó để chiết khấu các dòng tiền kỳ vọng nhằm xác định xác suất vỡ nợ."
   ]
  },
  {
   "cell_type": "code",
   "execution_count": null,
   "id": "670bf591-877e-484d-99a8-d680fd7aa48e",
   "metadata": {},
   "outputs": [],
   "source": [
    "# Lãi suất phi rủi ro một năm\n",
    "one_year_risk_free_rate = (1 + ten_year_risk_free_rate) ** (1 / 10) - 1\n",
    "one_year_risk_free_rate"
   ]
  },
  {
   "cell_type": "markdown",
   "id": "43c6785c-aa66-438a-99b7-a65bd0932a48",
   "metadata": {},
   "source": [
    "We can now combine the risk-free interest rate and the expected risk premium to obtain the risk-adjusted discount rate."
   ]
  },
  {
   "cell_type": "code",
   "execution_count": null,
   "id": "f0f6689a-f380-430d-980a-050fe8b9cb77",
   "metadata": {},
   "outputs": [],
   "source": [
    "# Tỷ lệ chiết khấu được điều chỉnh theo rủi ro\n",
    "risk_adjusted_discount_rate = one_year_risk_free_rate + expected_risk_premium\n",
    "risk_adjusted_discount_rate"
   ]
  },
  {
   "cell_type": "markdown",
   "id": "4d290f28-e634-4186-a5fe-a1da3062c0a6",
   "metadata": {},
   "source": [
    "Ta đã xem xét mô hình CAPM và tìm thấy Tỷ lệ chiết khấu được điều chỉnh theo rủi ro, thông tin đầu vào cho ước tính xác suất vỡ nợ dựa trên thị trường. Để tìm được Lãi suất chiết khấu đã điều chỉnh theo rủi ro, chúng ta phải tìm Lãi suất phi rủi ro kỳ hạn một năm và Phần bù rủi ro kỳ vọng. Lãi suất phi rủi ro một năm bằng cách lấy căn bậc mười của Lãi suất phi rủi ro 10 năm trong khi Phần bù rủi ro kỳ vọng được tính bằng cách tìm Phần bù rủi ro thị trường và Hệ số beta, trong đó beta có thể được tính bằng cách sử dụng mối tương quan và độ lệch chuẩn, hoặc hiệp phương sai và phương sai thị trường, do mối quan hệ toán học giữa các biến này. Tiếp theo, chúng ta sẽ tính toán xác suất vỡ nợ do thị trường."
   ]
  },
  {
   "cell_type": "markdown",
   "id": "e840462a-8540-40e0-ba21-a30dd507e4a3",
   "metadata": {},
   "source": [
    "### 4. Tính xác suất vỡ nợ với SymPy\n",
    "\n",
    "Bước cuối cùng trước khi chạy hàm xác minh tài khoản vỡ nợ của trái phiếu là xác định Tài khoản thanh toán gốc, Tỷ lệ thu hồi nợ, và xác suất vỡ nợ (kí hiệu P) và sử dụng hàm trong thư viện Python `SymPy` để tính."
   ]
  },
  {
   "cell_type": "code",
   "execution_count": null,
   "id": "e460fd6d-b8cd-46fd-96ec-58682de3e246",
   "metadata": {},
   "outputs": [],
   "source": [
    "def bonds_probability_of_default(coupon, maturity_years, bond_price, principal_payment, risk_adjusted_discount_rate):\n",
    "    # Công thức dưới đây dành cho Dòng tiền nửa năm\n",
    "    price = bond_price\n",
    "    prob_default_exp = 0\n",
    "    times = np.arange(0.5, (maturity_years - 0.5) + 1, 0.5)  \n",
    "    semi_annual_coupon = coupon / 2 \n",
    "\n",
    "    # Tính ECF\n",
    "    cashflows = np.array([])\n",
    "    for i in times[:-1]:\n",
    "        cashflows = np.append(cashflows, semi_annual_coupon)\n",
    "    cashflows = np.append(cashflows, semi_annual_coupon + principal_payment)\n",
    "\n",
    "    for i in range(len(times)):\n",
    "        # Đoạn mã này được sử dụng nếu chỉ còn một khoản thanh toán\n",
    "        if len(times) == 1:\n",
    "            prob_default_exp += (cashflows[i] * (1 - P) + cashflows[i] * recovery_rate * P) / np.power((1 + risk_adjusted_discount_rate), times[i])\n",
    "        # Đoãn mã này được sử dụng nếu còn nhiều khoản thanh toán \n",
    "        else:\n",
    "            if times[i] == 0.5:\n",
    "                prob_default_exp += (cashflows[i] * (1 - P) + principal_payment * recovery_rate * P) / np.power((1 + risk_adjusted_discount_rate), times[i])\n",
    "            else:\n",
    "                prob_default_exp += (np.power((1 - P), times[i - 1]) * (cashflows[i] * (1 - P) + principal_payment * recovery_rate * P)) / np.power((1 + risk_adjusted_discount_rate), times[i])\n",
    "\n",
    "    prob_default_exp = prob_default_exp - price\n",
    "    implied_prob_default = solve(prob_default_exp, P)\n",
    "    implied_prob_default = round(float(implied_prob_default[0]) * 100, 2)\n",
    "\n",
    "    if implied_prob_default < 0:\n",
    "        return 0.0\n",
    "    else:\n",
    "        return implied_prob_default"
   ]
  },
  {
   "cell_type": "code",
   "execution_count": null,
   "id": "c7c180c0-a235-48eb-818f-77e998f73a7b",
   "metadata": {},
   "outputs": [],
   "source": [
    "# Khởi tạo các biến đầu vào của hàm bonds_probability_of_default\n",
    "principal_payment = 100\n",
    "recovery_rate = 0.40\n",
    "P = symbols(\"P\")"
   ]
  },
  {
   "cell_type": "markdown",
   "id": "60a90185-9419-4002-9b9a-e0d83019bb57",
   "metadata": {},
   "source": [
    "Bây giờ chúng ta đã sẵn sàng để chạy hàm `bond_probability_of_default` để tính xác suất vỡ nợ theo thị trường cho các trái phiếu công ty đã chọn."
   ]
  },
  {
   "cell_type": "code",
   "execution_count": null,
   "id": "246ecca0-65dd-4972-b4f8-1bc00af8cc85",
   "metadata": {},
   "outputs": [],
   "source": [
    "bond_df_result.head(1)"
   ]
  },
  {
   "cell_type": "code",
   "execution_count": null,
   "id": "5759de52-0bbd-4afb-bc2d-b45af5e15f24",
   "metadata": {},
   "outputs": [],
   "source": [
    "# Việc tính toán này có thể mất một chút thời gian nếu có nhiều khoản thanh toán bằng coupon\n",
    "bond_df_result[\"Probability of Default %\"] = bond_df_result.head(1).apply(\n",
    "    lambda row: bonds_probability_of_default(\n",
    "        row[\"Coupon\"],\n",
    "        row[\"Maturity Years\"],\n",
    "        row[\"Price\"],\n",
    "        principal_payment,\n",
    "        risk_adjusted_discount_rate,\n",
    "    ),\n",
    "    axis=1,\n",
    ")\n",
    "\n",
    "bond_df_result.head(1)"
   ]
  },
  {
   "cell_type": "markdown",
   "id": "b482fccb-1c0b-4a36-93a0-95c3d09b51cb",
   "metadata": {},
   "source": [
    "### 5. Trực quan hoá Ma trận chuyển dịch\n",
    "\n",
    "Xếp hạng tín dụng được sử dụng cho trái phiếu do các tập đoàn và tổ chức chính phủ phát hành cũng như chứng khoán đảm bảo bằng tài sản (ABS) và chứng khoán đảm bảo bằng thế chấp (MBS). Ba cơ quan xếp hạng tín dụng lớn trên toàn cầu là Moody’s Investors Service, Standard & Poor’s, và Fitch Ratings. Mỗi bên đều cung cấp xếp hạng chất lượng tín dụng cho các tổ chức phát hành và đây là những xếp hạng theo thứ tự tập trung vào xác suất vỡ nợ. Những cơ quan này sẽ xem xét tổn thất dự kiến do vỡ nợ (LGD) bằng phương pháp ghi chú, đây là một sự điều chỉnh đối với xếp hạng của tổ chức phát hành để phản ánh mức độ ưu tiên của yêu cầu đối với các vấn đề nợ cụ thể của tổ chức phát hành đó. Xếp hạng này thường dành cho khoản nợ không có bảo đảm cấp cao. Xếp hạng nợ thứ cấp sau đó được điều chỉnh, hay còn gọi là \"được ghi chú\", bằng cách hạ thấp nó xuống một hoặc hai cấp—ví dụ: từ A+ xuống A hoặc xa hơn nữa xuống A–. Việc bao gồm tổn thất do vỡ nợ bên cạnh xác suất vỡ nợ giải thích tại sao chúng được gọi là \"xếp hạng tín dụng\" chứ không chỉ là \"xếp hạng vỡ nợ\". Các cơ quan xếp hạng báo cáo ma trận chuyển đổi dựa trên dữ liệu lịch sử của họ và sử dụng ma trận chuyển đổi để cho thấy khả năng xếp hạng thay đổi (hoặc giữ nguyên) trong thời gian một năm. \n",
    "\n",
    "Chúng ta có thể xác minh tính chính xác của xác suất vỡ nợ do thị trường bằng ma trận chuyển đổi của các cơ quan xếp hạng. Cụ thể, bài viết này sử dụng Tỷ lệ chuyển đổi trung bình trong một năm của Standard & Poor cho các tập đoàn toàn cầu sử dụng dữ liệu lịch sử từ năm 1981-2019 để xác minh xác suất vỡ nợ do thị trường đã tính toán trước đó thông qua đoạn mã bên dưới đây."
   ]
  },
  {
   "cell_type": "code",
   "execution_count": null,
   "id": "b23df640-30f1-4147-b8e6-e551a2d50f37",
   "metadata": {},
   "outputs": [],
   "source": [
    "def prob_default_term_structure(df):\n",
    "\n",
    "    fig, (ax1, ax2) = plt.subplots(1, 2, clear=True)\n",
    "    fig.subplots_adjust(wspace=0.5)\n",
    "    Mgroups = df.groupby(\"Moody's®\")\n",
    "    ax1.clear()\n",
    "    ax1.margins(0.5)\n",
    "    ax1.set_xlabel(\"Days Until Maturity\")\n",
    "    ax1.set_ylabel(\"Probability of Default %\")\n",
    "    ax1.set_title(\"Moody's® Ratings\")\n",
    "    for name, group in Mgroups:\n",
    "        ax1.plot(\n",
    "            group[\"Maturity\"],\n",
    "            group[\"Probability of Default %\"],\n",
    "            marker=\"o\",\n",
    "            linestyle=\"\",\n",
    "            ms=12,\n",
    "            label=name,\n",
    "        )\n",
    "    ax1.legend(numpoints=1, loc=\"upper left\")\n",
    "\n",
    "    SPgroups = df.groupby(\"S&P\")\n",
    "    ax2.clear()\n",
    "    ax2.margins(0.5)\n",
    "    ax2.set_xlabel(\"Days Until Maturity\")\n",
    "    ax2.set_ylabel(\"Probability of Default %\")\n",
    "    ax2.set_title(\"S&P Ratings\")\n",
    "\n",
    "    for name, group in SPgroups:\n",
    "        ax2.plot(\n",
    "            group[\"Maturity\"],\n",
    "            group[\"Probability of Default %\"],\n",
    "            marker=\"o\",\n",
    "            linestyle=\"\",\n",
    "            ms=12,\n",
    "            label=name,\n",
    "        )\n",
    "    ax2.legend(numpoints=1, loc=\"upper left\")\n",
    "    plt"
   ]
  },
  {
   "cell_type": "code",
   "execution_count": null,
   "id": "4d58a598-3433-4706-8ea6-512e967a077e",
   "metadata": {},
   "outputs": [],
   "source": [
    "prob_default_term_structure(bond_df_result)"
   ]
  },
  {
   "cell_type": "code",
   "execution_count": null,
   "id": "2fbfa87a-de8f-4fc3-a022-ce0d8b41f887",
   "metadata": {},
   "outputs": [],
   "source": [
    "tgt_website = r\"https://www.spglobal.com/ratings/en/research/articles/200429-default-transition-and-recovery-2019-annual-global-corporate-default-and-rating-transition-study-11444862\""
   ]
  },
  {
   "cell_type": "code",
   "execution_count": null,
   "id": "7ca141f5-0dd6-4087-8ab1-e4a7158f37ed",
   "metadata": {},
   "outputs": [],
   "source": [
    "def get_transition_matrix(tgt_website):\n",
    "    df_list = pd.read_html(tgt_website)\n",
    "    matrix_result_df = df_list[22]\n",
    "    return matrix_result_df\n",
    "\n",
    "transition_matrix_df = get_transition_matrix(tgt_website)"
   ]
  },
  {
   "cell_type": "code",
   "execution_count": null,
   "id": "2eb22c01-cf86-4236-af36-1d0eae8f752a",
   "metadata": {},
   "outputs": [],
   "source": [
    "sp_clean_result_df = pd.DataFrame(transition_matrix_df.iloc[:34, :19].dropna(axis=0))\n",
    "sp_clean_result_df"
   ]
  },
  {
   "cell_type": "markdown",
   "id": "633727ab-38b3-4d80-940a-4b771f1b0ed3",
   "metadata": {},
   "source": [
    "Ma trận chuyển đổi năm 2019 của Standard & Poor ở trên cho thấy xác suất của một xếp hạng cụ thể chuyển sang xếp hạng khác trong suốt năm tiếp theo. Một tổ chức phát hành được xếp hạng A có 78.88% xác suất duy trì ở mức đó, 0.03% xác suất chuyển lên hạng AAA; xác suất tăng lên AA là 0.22%; xác suất chuyển xuống BBB là 0.86%; 0.10% xuống BB; 0.02% đối với B, 0.01% đối với CCC, CC hoặc C; và 0.05% cho D, ở mức mặc định.\n",
    "\n",
    "Selenium có thể được tận dụng để truy xuất xếp hạng tín dụng của Standard & Poor từ đó ta có thể xếp hạng tín dụng của trái phiếu doanh nghiệp và xác định xác suất chuyển đổi xếp hạng cụ thể sang D (mặc định) trong năm tới theo ma trận chuyển đổi của Standard & Poor's 2019."
   ]
  },
  {
   "cell_type": "code",
   "execution_count": null,
   "id": "9fbe28f6-95cb-4769-9f34-1e5e2b2de8cc",
   "metadata": {},
   "outputs": [],
   "source": [
    "# Lấy xác suất vỡ nợ mỗi xếp hạng\n",
    "\n",
    "sp_rating_list = [ \"AAA\", \"AA+\", \"AA\", \"AA-\", \"A+\",  \"A\", \"A-\", \"BBB+\",  \"BBB\", \"BBB-\", \"BB+\", \"BB\", \"BB-\", \"B+\", \"B\", \"B-\"]\n",
    "\n",
    "ccc_list = [\"CCC+\", \"CCC\", \"CCC-\", \"CC+\", \"CC\", \"CC-\", \"C+\", \"C\", \"C-\"]\n",
    "\n",
    "sp_rating = None\n",
    "\n",
    "for i in sp_rating_list:\n",
    "    if bond_df_result[\"S&P\"].iloc[0] == i:\n",
    "        sp_rating = bond_df_result[\"S&P\"].iloc[0]\n",
    "\n",
    "if sp_rating is None:\n",
    "    for i in ccc_list:\n",
    "        if bond_df_result[\"S&P\"].iloc[0] == i:\n",
    "            sp_rating = \"CCC/C\"\n",
    "\n",
    "sp_transition_dp = 0\n",
    "\n",
    "for i in range(33):\n",
    "    if transition_matrix_df.loc[i][0] == sp_rating:\n",
    "        sp_transition_dp += float(sp_clean_result_df.loc[i][18])\n",
    "\n",
    "sp_transition_dp"
   ]
  },
  {
   "cell_type": "markdown",
   "id": "8154d4f1-737b-4fe9-916f-1d729331d276",
   "metadata": {},
   "source": [
    "Có vẻ như xác suất vỡ nợ do thị trường ta tính toán cho trái phiếu doanh nghiệp có kỳ hạn gần nhất gần bằng với xác suất vỡ nợ được xác định từ dữ liệu lịch sử trong ma trận chuyển đổi năm 2019 của Standard & Poor."
   ]
  },
  {
   "cell_type": "code",
   "execution_count": null,
   "id": "8fb9f2f7-778b-4c64-9f5e-67268ffdb31b",
   "metadata": {},
   "outputs": [],
   "source": [
    "# So sánh kỳ hạn gần nhất Xác suất vỡ nợ theo thị trường với xác suất vỡ nợ lịch sử trong ma trận chuyển đổi năm 2019 của Standard & Poor\n",
    "print(\"Market-implied probability of default = %s\" % (bond_df_result[\"Probability of Default %\"].iloc[0]))\n",
    "print(\"Standard & Poor’s probability of default = %s\" % (sp_transition_dp))"
   ]
  },
  {
   "cell_type": "markdown",
   "id": "5f734318-ba1b-4a32-abbe-488f8d9d856d",
   "metadata": {},
   "source": [
    "Từ ví dụ trên, các kỹ thuật định giá trái phiếu sử dụng Tỷ lệ chiết khấu được điều chỉnh theo rủi ro thực hiện khá tốt việc xác định rủi ro vỡ nợ của công ty và có thể đủ để xếp hạng các công ty theo mức độ tín nhiệm. Tuy nhiên, cần lưu ý một số giả định ta đặt ra và thực tế ứng dụng tuỳ trong doanh nghiệp.\n",
    "\n",
    "|Yếu tố|Giả định| Thực tế|\n",
    "|-|-|-|\n",
    "| Đường cong lợi suất trái phiếu chính phủ| Bằng phẳng| Có thể dốc lên hoặc dốc xuống|\n",
    "| Tỷ lệ khôi phục|  40% | Có thể thử nghiệm với 30% hoặc 60%|\n",
    "| Quá trình hồi vốn| Tức thời|Thời gian trì hoãn kéo dài có thể xảy ra giữa sự kiện vỡ nợ và việc thu hồi tiền mặt cuối cùng|\n",
    "| Xác suất vỡ nợ hàng năm|  Như nhau| Không nhất thiết phải đúng như vậy|\n",
    "\n",
    "Hi vọng bài viết này sẽ giúp các bạn nắm được những kiến thức tài chính cơ bản cũng như cơ chế được sử dụng để dự đoán xác suất vỡ nợ trước khi có Học máy. Từ đó, chúng ta có thể so sánh cùng một bài toán nhưng khi tiếp cần với phương pháp Học máy thì có những ưu và nhược điểm gì ở các phần sau.\n",
    "\n",
    "Chúc các bạn học tập vui vẻ!"
   ]
  },
  {
   "cell_type": "markdown",
   "id": "d2a9fc3c-c98b-40e4-90d2-f9d200dac9d7",
   "metadata": {},
   "source": [
    "**Tham khảo**\n",
    "\n",
    "* Donnelly, Hugh. \"[Calculating a Company's Probability of Default with Python.](https://github.com/AlphaWaveData/Jupyter-Notebooks/blob/master/AlphaWave%20Market-Implied%20Probability%20of%20Default%20Example.ipynb.)\", AlphaWave Data. \n",
    "* Mã nguồn và tài liệu tham khảo một phần từ **Hugh Donnelly, CFA**, *AlphaWave Data*, **Tháng Ba 2021** theo Giấy phép MIT sau:\n",
    "\n",
    "> Copyright (c) 2020 HDVI <br>Permission is hereby granted, free of charge, to any person obtaining a copy\n",
    "of this software and associated documentation files (the \"Software\"), to deal\n",
    "in the Software without restriction, including without limitation the rights\n",
    "to use, copy, modify, merge, publish, distribute, sublicense, and/or sell\n",
    "copies of the Software, and to permit persons to whom the Software is\n",
    "furnished to do so, subject to the following conditions:<br>The above copyright notice and this permission notice shall be included in all\n",
    "copies or substantial portions of the Software.<br>THE SOFTWARE IS PROVIDED \"AS IS\", WITHOUT WARRANTY OF ANY KIND, EXPRESS OR\n",
    "IMPLIED, INCLUDING BUT NOT LIMITED TO THE WARRANTIES OF MERCHANTABILITY,\n",
    "FITNESS FOR A PARTICULAR PURPOSE AND NONINFRINGEMENT. IN NO EVENT SHALL THE\n",
    "AUTHORS OR COPYRIGHT HOLDERS BE LIABLE FOR ANY CLAIM, DAMAGES OR OTHER\n",
    "LIABILITY, WHETHER IN AN ACTION OF CONTRACT, TORT OR OTHERWISE, ARISING FROM,\n",
    "OUT OF OR IN CONNECTION WITH THE SOFTWARE OR THE USE OR OTHER DEALINGS IN THE\n",
    "SOFTWARE.\n",
    "\n",
    "**Lưu ý**: Thông báo giấy phép MIT ở trên được sao chép ở đây để tuân thủ các yêu cầu của nó, nhưng nó không áp dụng cho nội dung trong các ghi chú bài học này.\n",
    "* WoldQuant University. “MscFe 600 Financial Data.” WoldQuant University, https://learn.wqu.edu/my-path/courses/financial-data/. Truy cập ngày 22/11/2022.\n",
    "\n"
   ]
  }
 ],
 "metadata": {
  "kernelspec": {
   "display_name": "Python 3 (ipykernel)",
   "language": "python",
   "name": "python3"
  },
  "language_info": {
   "codemirror_mode": {
    "name": "ipython",
    "version": 3
   },
   "file_extension": ".py",
   "mimetype": "text/x-python",
   "name": "python",
   "nbconvert_exporter": "python",
   "pygments_lexer": "ipython3",
   "version": "3.7.13"
  },
  "vscode": {
   "interpreter": {
    "hash": "31f2aee4e71d21fbe5cf8b01ff0e069b9275f58929596ceb00d14d90e3e16cd6"
   }
  }
 },
 "nbformat": 4,
 "nbformat_minor": 5
}
