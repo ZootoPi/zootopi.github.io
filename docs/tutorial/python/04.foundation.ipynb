{
 "cells": [
  {
   "cell_type": "markdown",
   "id": "59c8a7dc",
   "metadata": {},
   "source": [
    "# Bài 2: Giới thiệu về PYTHON "
   ]
  },
  {
   "cell_type": "markdown",
   "id": "b3672a13",
   "metadata": {},
   "source": [
    "\n",
    "![](https://laptrinhcanban.com/python/nhap-mon-lap-trinh-python/gioi-thieu-python/python-la-gi/Python.jpg)"
   ]
  },
  {
   "cell_type": "markdown",
   "id": "2012c7f7",
   "metadata": {},
   "source": [
    "## I. GIỚI THIỆU\n",
    "\n",
    "### 1. Tổng quan\n",
    "\n",
    "Theo thống kê của Wiki, tính đến đến tháng 10/2010, trên thế giới có khoảng hơn 700 ngôn ngữ lập trình (xem danh sách các ngôn ngữ lập trình tại [đây](https://vi.wikipedia.org/wiki/Danh_s%C3%A1ch_c%C3%A1c_ng%C3%B4n_ng%E1%BB%AF_l%E1%BA%ADp_tr%C3%ACnh)). Theo thống kê của [FOLDOC](http://foldoc.org/), 1 trang từ điển tin học trực tuyến miễn phí, con số này đã lên 1000 vào tháng 9/2020, 1 con số đáng kinh ngạc.\n",
    "\n",
    "![Độ phổ biến của 1 số ngôn ngữ lập trình được sử dụng trên các kho lưu trữ trên GitHub.](./img/python.png)\n",
    "> *Độ phổ biến của 1 số ngôn ngữ lập trình được sử dụng trên các kho lưu trữ trên GitHub tính đến tháng 4/2014 theo [Githut](https://githut.info/).*\n",
    "\n",
    "Cũng giống như ngôn ngữ nói, ngôn ngữ lập trình cũng tuân theo 1 hệ thống phân cấp bao gồm 2 loại chính.\n",
    "\n",
    "- ***Ngôn ngữ bậc thấp***: Cú pháp cực kỳ gần với ngôn ngữ máy nên rất khó sử dụng, tuy nhiên lại cung cấp nhiều chức năng hơn và cho phép ta tạo ra chương trình chi tiết và hiệu quả hơn rất nhiều, thích hợp để viết các chương trình liên quan đến kiến trúc và phần cứng của máy tính. Các ngôn ngữ này có thể được chia thành hai loại: ngôn ngữ máy và hợp ngữ.\n",
    "\n",
    "- ***Ngôn ngữ bậc cao***: Cú pháp gẫn gũi với ngôn ngữ của con người hơn, tương tự như ngôn ngữ tiếng Anh nên dễ hiểu và thân thiện với người dùng hơn, xử lý lỗi nhanh hơn, thích hợp để phát triển phần mềm, xử lý dữ liệu... Một số ngôn ngữ bậc cao nổi tiếng nhất có thể kể đến C, C ++, Java và Python. \n",
    "\n",
    "### 2. Ngôn ngữ lập trình Python\n",
    "\n",
    "Một số điểm nổi bật:\n",
    "- Được phát triển từ 1980s và chính thức phát hành vào năm 1991 bởi `Guido van Rossum`.\n",
    "- Là ngôn ngữ lập trình `bậc cao` - `high level`: người dùng lập trình bằng ngôn ngữ dễ hiểu và dễ sử dụng, sau đó máy tính sẽ chuyển các đoạn mã thành ngôn ngữ máy tính.\n",
    "- Là ngôn ngữ `thông dịch`-`intepreted`: code được viết ra sẽ được chuyển thể trực tiếp thành ngôn ngữ máy tính và chạy trực tiếp cùng 1 lúc. Điều này khiến việc sử dụng Python dễ dàng hơn so với các ngôn ngữ `biên dịch`-`compiled` - code được chuyển thể thành ngôn ngữ máy tính trước rồi mới có thể chạy.\n",
    "- Là ngôn ngữ `đa năng`-`generally purposed`: có thể sử dụng cho nhiều mục đích khác nhau.\n",
    "- Là ngôn ngữ `dynamic type`: không cần khai báo trước kiểu dữ liệu của biến, có thể ghi đè trực tiếp kiểu dữ liệu của biến.\n",
    "- Là ngôn ngữ `tuần tự`-`procedural` đồng thời `hướng đối tượng`-`object-oriented`.\n",
    "- Phiên bản ổn định hiện tại là phiên bản `3.8.10`.\n",
    "\n",
    "Python được sử dụng như một công cụ hoàn hảo cho các tác vụ tính toán khoa học, bao gồm phân tích và trực quan hóa các bộ dữ liệu lớn nhờ hệ sinh thái lớn và hoạt động của các gói bên thứ ba như: \n",
    "- [NumPy](https://numpy.org/) \n",
    "- [Pandas](https://pandas.pydata.org/) \n",
    "- [Matplotlib](https://matplotlib.org/), [Seaborn](https://seaborn.pydata.org/)\n",
    "- [Scikit-Learn](https://scikit-learn.org/stable/)\n",
    "\n",
    "### 3. Tôn chỉ Python (The Zen of Python)\n",
    "\n",
    "> 1. Beautiful is better than ugly >> Thà đẹp hơn xấu\n",
    "\n",
    "> 2. Explicit is better than implicit >> Thà rõ ràng hơn là ngấm ngầm\n",
    "\n",
    "> 3. Simple is better than complex >> Thà đơn giản hơn phức hợp\n",
    "\n",
    "> 4. Complex is better than complicated >> Thà phức hợp hơn phức tạp\n",
    "\n",
    "> 5. Readability counts >> Dễ đọc là 1 điểm cộng\n",
    "\n",
    "#### Perl\n",
    "\n",
    "> There is more than one way to do it.\n",
    "\n",
    "#### Python\n",
    "\n",
    "> There is more than one way to do it. But, there should be one - and preferable one - obvious way to do it.\n",
    "\n",
    "Tham khảo [PEP 8](https://www.python.org/dev/peps/pep-0008/)\n",
    "\n",
    "\n",
    "### 4. Vì sao nên dùng Python\n",
    "\n",
    "In ra `Hello, World!` với các ngôn ngữ:\n",
    "\n",
    "#### C ++\n",
    "```C++\n",
    "#include <iostream.h>\n",
    " \n",
    "int main()\n",
    "{\n",
    "    std::cout << \"Hello, world!\";\n",
    "    return 0;\n",
    "}\n",
    "```\n",
    "\n",
    "### C#\n",
    "```C#\n",
    "using System;\n",
    "class Program\n",
    "{\n",
    "    public static void Main(string[] args)\n",
    "    {\n",
    "        Console.WriteLine(\"Hello, world!\");\n",
    "    }\n",
    "}\n",
    "```\n",
    "\n",
    "### Java\n",
    "```Java\n",
    "class HelloWorld {\n",
    "    public static void main(String[] args) {\n",
    "        System.out.println(\"Hello, World!\"); \n",
    "    }\n",
    "}\n",
    "```\n",
    "\n",
    "### Python\n",
    "```Python\n",
    "print(\"Hello, World!\");\n",
    "```\n",
    "\n",
    "Nguồn tài liệu:\n",
    "- Thư viện để phân tích dữ liệu: Pandas, Numpy, Matplotlib.\n",
    "- Python thuần tuý: Euler project, Python Module of the week.\n",
    "- Web với Python: Flask.\n",
    "- Automate với Python: Sách Automate the boring stuff with Python."
   ]
  },
  {
   "cell_type": "markdown",
   "id": "caf8c768",
   "metadata": {},
   "source": [
    "Để bắt đầu bài học với Python, chúng ta sẽ cùng nhau thực thi chương trình đầu tiên `print('Hello, world')`. Lưu ý, ta có thể nhấn tổ hợp phím `Shift Return` (MacOS) hoặc `Shift Enter` (Windows, Ubuntu) để thực thi câu lệnh trong cell code."
   ]
  },
  {
   "cell_type": "code",
   "execution_count": 1,
   "id": "4875c459",
   "metadata": {},
   "outputs": [
    {
     "name": "stdout",
     "output_type": "stream",
     "text": [
      "Hello, world!\n"
     ]
    }
   ],
   "source": [
    "print('Hello, world!')"
   ]
  },
  {
   "cell_type": "markdown",
   "id": "cce4f6fc",
   "metadata": {},
   "source": [
    "Dòng chú thích (Comments) là các câu giải thích đoạn mã để con người có thể đọc được. Nó cung cấp một số thông tin hoặc giải thích về những gì mỗi phần của một chương trình thực hiện. Dòng chú thích bị trình biên dịch và thông dịch bỏ qua.\n",
    "\n",
    "Python hỗ trợ chú thích một dòng:"
   ]
  },
  {
   "cell_type": "code",
   "execution_count": 2,
   "id": "4f59eea4",
   "metadata": {},
   "outputs": [
    {
     "name": "stdout",
     "output_type": "stream",
     "text": [
      "Hello, World!\n"
     ]
    }
   ],
   "source": [
    "# Print Hello, World! on the screen\n",
    "print(\"Hello, World!\")"
   ]
  },
  {
   "cell_type": "code",
   "execution_count": 3,
   "id": "47d139de",
   "metadata": {},
   "outputs": [
    {
     "name": "stdout",
     "output_type": "stream",
     "text": [
      "Hello, World!\n"
     ]
    }
   ],
   "source": [
    "print(\"Hello, World!\") # Print Hello, World! on the screen"
   ]
  },
  {
   "cell_type": "markdown",
   "id": "0f4232e6",
   "metadata": {},
   "source": [
    "Để chú thích nhiều dòng, bạn có thể chèn `'''` hoặc `\"\"\"`cho mỗi dòng:"
   ]
  },
  {
   "cell_type": "code",
   "execution_count": 4,
   "id": "dc1bb074",
   "metadata": {},
   "outputs": [
    {
     "name": "stdout",
     "output_type": "stream",
     "text": [
      "Hello, World!\n"
     ]
    }
   ],
   "source": [
    "'''\n",
    "Use print() function\n",
    "to print Hello, World! on the screen\n",
    "'''\n",
    "print(\"Hello, World!\")"
   ]
  },
  {
   "cell_type": "markdown",
   "id": "556a436f",
   "metadata": {},
   "source": [
    "Ok, bây giờ chúng ta sẽ cũng nhau tìm hiểu sâu hơn về các thành phần cơ bản trong Python nha."
   ]
  },
  {
   "cell_type": "markdown",
   "id": "13f5bfa9",
   "metadata": {},
   "source": [
    "## II. CÁC THÀNH PHẦN CƠ BẢN TRONG PYTHON "
   ]
  },
  {
   "cell_type": "markdown",
   "id": "632d1783",
   "metadata": {},
   "source": [
    "### 1. Biến (Variables)\n",
    "\n",
    "Khái niệm biến chắc hẳn không còn xa lạ gì với các bạn từ những ngày cấp 2, cấp 3. Khi ta làm các bài toán đại số, các bạn luôn phải chạm mặt các biến như là biến x, y,... Trong lập trình, biến là tên của một vùng trong bộ nhớ RAM, được sử dụng để lưu trữ thông tin. Khi một biến được khai báo, một vùng trong bộ nhớ sẽ dành cho các biến.\n",
    "\n",
    "Tại sao chúng ta cần sử dụng biến?"
   ]
  },
  {
   "cell_type": "code",
   "execution_count": 5,
   "id": "9d47da4a",
   "metadata": {},
   "outputs": [
    {
     "data": {
      "text/plain": [
       "2738087168627369076568435079514204928692"
      ]
     },
     "execution_count": 5,
     "metadata": {},
     "output_type": "execute_result"
    }
   ],
   "source": [
    "5233255324824524012138 * 523209168801482034  # nhân hai số"
   ]
  },
  {
   "cell_type": "code",
   "execution_count": 6,
   "id": "4f2be3ef",
   "metadata": {},
   "outputs": [
    {
     "data": {
      "text/plain": [
       "2738087168627369076568435079514208069405"
      ]
     },
     "execution_count": 6,
     "metadata": {},
     "output_type": "execute_result"
    }
   ],
   "source": [
    "2738087168627369076568435079514204928692 + 3140713 # lấy kết quả phép tính trên tiếp tục thực hiện cộng hai số"
   ]
  },
  {
   "cell_type": "markdown",
   "id": "4bd456d9",
   "metadata": {},
   "source": [
    "Từ ví dụ trên, ta có thể thấy rằng những con số với nhiều chữ số gây khó khăn trong việc sử dụng vì chúng có quá nhiều chữ số, đôi lúc chúng ta cũng có thể vô tình gây sai lệnh giá trị. Để tránh điều này xảy ra, ta có thể nhờ tới sự giúp đỡ của các biến để lưu trữ dữ liệu và lấy ra để tính toán được thuận tiện và chính xác hơn."
   ]
  },
  {
   "cell_type": "markdown",
   "id": "47c01844",
   "metadata": {},
   "source": [
    "#### 1.1 Khởi tạo biến \n",
    "\n",
    "Để khai báo biến trong Python thì mọi người sử dụng cú pháp `tên_biến = giá_trị`, trong đó:\n",
    "- `tên_biến`: tên của biến mà các bạn muốn đặt. \n",
    "- `giá_trị` : giá trị của biến mà bạn muốn gán.\n",
    "- `=`: phép gán."
   ]
  },
  {
   "cell_type": "code",
   "execution_count": 7,
   "id": "81cb3097",
   "metadata": {},
   "outputs": [
    {
     "data": {
      "text/plain": [
       "2738087168627369076568435079514208069405"
      ]
     },
     "execution_count": 7,
     "metadata": {},
     "output_type": "execute_result"
    }
   ],
   "source": [
    "x = 5233255324824524012138 # gán giá trị 5233255324824524012138 cho biến x\n",
    "y = 523209168801482034 # gán giá trị 523209168801482034 cho biến y\n",
    "z = 3140713 # gán giá trị 3140713 cho biến z\n",
    "x * y + z"
   ]
  },
  {
   "cell_type": "markdown",
   "id": "1bb13b48",
   "metadata": {},
   "source": [
    "Dễ thấy cùng 1 kết quả tương tự, dùng biến giúp ta dễ dàng tính toán, giảm thiểu tỉ lệ sai lệnh giá trị hơn khi không sử dụng tới biến. Ta có thể khai báo mỗi biến 1 dòng như trên hoặc khai báo chúng trên cùng 1 dòng."
   ]
  },
  {
   "cell_type": "code",
   "execution_count": 8,
   "id": "9d17e025",
   "metadata": {},
   "outputs": [
    {
     "data": {
      "text/plain": [
       "2738087168627369076568435079514208069405"
      ]
     },
     "execution_count": 8,
     "metadata": {},
     "output_type": "execute_result"
    }
   ],
   "source": [
    "x , y , z = 5233255324824524012138, 523209168801482034, 3140713\n",
    "x * y + z"
   ]
  },
  {
   "cell_type": "markdown",
   "id": "005681c4",
   "metadata": {},
   "source": [
    "Một số lưu ý khi đặt tên biến:\n",
    "- Tên của biến có thể bắt đầu với các kí tự hoặc dấu `_` nhưng không được bắt đầu bằng số.\n",
    "- Tên biến phân biệt chữ hoa chữ thường: `Num`, `NUM`,`num` là 3 tên biến khác nhau.\n",
    "- Tên biến không được trùng với các từ khóa của Python."
   ]
  },
  {
   "cell_type": "markdown",
   "id": "7495cda7",
   "metadata": {},
   "source": [
    "#### 1.2 Các kiểu dữ liệu"
   ]
  },
  {
   "cell_type": "markdown",
   "id": "be5ad8a1",
   "metadata": {},
   "source": [
    "Với Python, khi ta khai báo một biến thì kiểu dữ liệu của biến sẽ tự động được nhận biết. Vì vậy, ta cũng không phải quá vất vả khi khai báo 1 biến. Mặc định, Python có các kiểu dữ liệu cơ bản sau:\n",
    "\n",
    "|Kiểu dữ liệu|Ý nghĩa|Ví dụ|\n",
    "|-|-|-|\n",
    "|`int`|Kiểu số nguyên (không có chứa dấu chấm thập phân)|`11`, `-15`|\n",
    "|`float`|Kiểu số thực (có chứa dấu chấm thập phân)|`3.14`, `4.02`|\n",
    "|`complex`|Kiểu số phức|`1 + 2j`, `3 - 4j`|\n",
    "|`str`|Kiểu chuỗi|`'MCI'`,`'Python'`|\n",
    "|`bool`|Kiểu luận lý|`TRUE`, `FALSE`|"
   ]
  },
  {
   "cell_type": "markdown",
   "id": "07f3b8f0",
   "metadata": {},
   "source": [
    "#### 1.3 Kiểm tra kiểu dữ liệu của biến"
   ]
  },
  {
   "cell_type": "markdown",
   "id": "40ec694e",
   "metadata": {},
   "source": [
    "Để kiểm tra kiểu dữ liệu giá trị của một biến đã khởi tạo, ta sử dụng hàm `type()`\n",
    "- Cú pháp: `type(tên_biến)`"
   ]
  },
  {
   "cell_type": "code",
   "execution_count": 9,
   "id": "1d4745ff",
   "metadata": {},
   "outputs": [
    {
     "data": {
      "text/plain": [
       "int"
      ]
     },
     "execution_count": 9,
     "metadata": {},
     "output_type": "execute_result"
    }
   ],
   "source": [
    "type(x) # số nguyên"
   ]
  },
  {
   "cell_type": "code",
   "execution_count": 10,
   "id": "ff77faa8",
   "metadata": {},
   "outputs": [
    {
     "data": {
      "text/plain": [
       "float"
      ]
     },
     "execution_count": 10,
     "metadata": {},
     "output_type": "execute_result"
    }
   ],
   "source": [
    "float_number = 3.14 # số thực\n",
    "type(float_number)"
   ]
  },
  {
   "cell_type": "code",
   "execution_count": 11,
   "id": "15382e5b",
   "metadata": {},
   "outputs": [],
   "source": [
    "# type = 0 # Không nên gán như thế này"
   ]
  },
  {
   "cell_type": "markdown",
   "id": "4fe62d1e",
   "metadata": {},
   "source": [
    "#### 1.4 Ép kiểu dữ liệu\n",
    "Python hỗ trợ chuyển đổi kiểu dữ liệu của một biến x (casting) qua 1 số hàm cơ bản sau:\n",
    "\n",
    "|Cú pháp| Ý nghĩa|\n",
    "|-|-|\n",
    "|`float(x)`| chuyển đổi sang kiểu số thực|\n",
    "|`int(x)`  | chuyển đổi sang kiểu số|\n",
    "|`str(x)`  | chuyển đổi sang dạng chuỗi|\n",
    "|`complex(x)`| chuyển đổi sang kiểu phức hợp|\n",
    "|`tuple(x)`| chuyển đổi sang kiểu Tuple|\n",
    "|`dict(x)` | chuyển đổi sang kiểu Dictionary|\n",
    "|`hex(x)`  | chuyển đổi sang hệ 16|\n",
    "|`oct(x)`  | chuyển đổi sang hệ 8|\n",
    "|`chr(x)`  | chuyển đổi sang dạng ký tự|"
   ]
  },
  {
   "cell_type": "markdown",
   "id": "13f4b114",
   "metadata": {},
   "source": [
    "Ví dụ:"
   ]
  },
  {
   "cell_type": "code",
   "execution_count": 12,
   "id": "b0f6117a",
   "metadata": {},
   "outputs": [
    {
     "data": {
      "text/plain": [
       "3"
      ]
     },
     "execution_count": 12,
     "metadata": {},
     "output_type": "execute_result"
    }
   ],
   "source": [
    "x = 3.14\n",
    "int(x)"
   ]
  },
  {
   "cell_type": "code",
   "execution_count": 13,
   "id": "47dbd714",
   "metadata": {},
   "outputs": [
    {
     "data": {
      "text/plain": [
       "(3.14+0j)"
      ]
     },
     "execution_count": 13,
     "metadata": {},
     "output_type": "execute_result"
    }
   ],
   "source": [
    "complex(x)"
   ]
  },
  {
   "cell_type": "code",
   "execution_count": 14,
   "id": "b7a215d5",
   "metadata": {},
   "outputs": [
    {
     "data": {
      "text/plain": [
       "'3.14'"
      ]
     },
     "execution_count": 14,
     "metadata": {},
     "output_type": "execute_result"
    }
   ],
   "source": [
    "str(x)"
   ]
  },
  {
   "cell_type": "markdown",
   "id": "8eb52083",
   "metadata": {},
   "source": [
    "### 2. Toán tử số học"
   ]
  },
  {
   "cell_type": "markdown",
   "id": "f9a88b84",
   "metadata": {},
   "source": [
    "|Phép toán|Biểu thức|Ý nghĩa |\n",
    "|-|-|-|\n",
    "|+|`x + y`|Phép cộng|\n",
    "|-|`x - y`|Phép trừ|\n",
    "|*|`x * y`|Phép nhân|\n",
    "|/|`x / y`|Phép chia|\n",
    "|%|`x % y`|Phép chia lấy phần dư|\n",
    "|//|`x // y`|Phép chia làm tròn xuống|\n",
    "|**|`x ** y`|Phép mũ|\n",
    "\n",
    "Ví dụ:"
   ]
  },
  {
   "cell_type": "code",
   "execution_count": 15,
   "id": "b240fb43",
   "metadata": {},
   "outputs": [],
   "source": [
    "x, y  = 11, 3"
   ]
  },
  {
   "cell_type": "code",
   "execution_count": 16,
   "id": "4a92fd90",
   "metadata": {},
   "outputs": [
    {
     "name": "stdout",
     "output_type": "stream",
     "text": [
      " x + y = 14 \n",
      " x - y = 8 \n",
      " x * y = 33 \n",
      " x / y = 3.6666666666666665 \n",
      " x % y = 2 \n",
      " x // y = 3 \n",
      " x ** y =  1331 \n",
      " x ** (1/2) = 3.3166247903554\n"
     ]
    }
   ],
   "source": [
    "print(' x + y =',x + y, \n",
    "      '\\n x - y =',x - y,\n",
    "      '\\n x * y =',x * y,\n",
    "      '\\n x / y =',x / y ,\n",
    "      '\\n x % y =',x % y, \n",
    "      '\\n x // y =',x // y,\n",
    "      '\\n x ** y = ',x ** y,\n",
    "      '\\n x ** (1/2) =',x ** (1/2))"
   ]
  },
  {
   "cell_type": "markdown",
   "id": "577b7db6",
   "metadata": {},
   "source": [
    "Ngoài ra, ta có thể tận dụng thư viện `math` để tính toán"
   ]
  },
  {
   "cell_type": "code",
   "execution_count": 17,
   "id": "b361a151",
   "metadata": {},
   "outputs": [
    {
     "name": "stdout",
     "output_type": "stream",
     "text": [
      "4\n",
      "3\n"
     ]
    }
   ],
   "source": [
    "import math\n",
    "print(math.ceil(3.14)) # làm tròn lên\n",
    "print(math.floor(3.14)) # làm tròn xuống"
   ]
  },
  {
   "cell_type": "code",
   "execution_count": 18,
   "id": "929bc290",
   "metadata": {
    "tags": []
   },
   "outputs": [
    {
     "data": {
      "text/plain": [
       "4"
      ]
     },
     "execution_count": 18,
     "metadata": {},
     "output_type": "execute_result"
    }
   ],
   "source": [
    "round(3.54)"
   ]
  },
  {
   "cell_type": "markdown",
   "id": "82d35614",
   "metadata": {},
   "source": [
    "### 3. Toán tử luận lý"
   ]
  },
  {
   "cell_type": "markdown",
   "id": "20bfbd5f",
   "metadata": {},
   "source": [
    "Để thực hiện các phép toán luận lý trong python, ta có thể sử dụng các toán tử luận lý dưới đây:\n",
    "\n",
    "|Toán tử|Biểu thức|Ý nghĩa|\n",
    "|-|-|-|\n",
    "|AND|`X and Y`|True nếu cả X và Y đều đúng|\n",
    "|OR |`X or Y`|True nếu ít nhất một trong hai vế X hoặc Y đúng|\n",
    "|NOT|`not X`|True nếu X sai và False nếu X đúng|\n",
    "|XOR|`bool(Y) ^ bool(Y)`|True nếu X và Y cùng giá trị và False nếu ngược lại|\n",
    "\n",
    "Phép toán luận lý sẽ kiểm tra hai vế của toán tử là đúng hay sai và kết hợp chúng lại để đưa ra kết quả. Kết quả của phép toán luận lý là kiểu boolean trong Python với hai giá trị là True (đúng) hoặc False (sai)."
   ]
  },
  {
   "cell_type": "code",
   "execution_count": 19,
   "id": "93abffa3",
   "metadata": {},
   "outputs": [
    {
     "data": {
      "text/plain": [
       "False"
      ]
     },
     "execution_count": 19,
     "metadata": {},
     "output_type": "execute_result"
    }
   ],
   "source": [
    "True and False"
   ]
  },
  {
   "cell_type": "code",
   "execution_count": 20,
   "id": "627cb08f",
   "metadata": {},
   "outputs": [
    {
     "data": {
      "text/plain": [
       "True"
      ]
     },
     "execution_count": 20,
     "metadata": {},
     "output_type": "execute_result"
    }
   ],
   "source": [
    "True or False"
   ]
  },
  {
   "cell_type": "code",
   "execution_count": 21,
   "id": "d92b55c8",
   "metadata": {},
   "outputs": [
    {
     "data": {
      "text/plain": [
       "True"
      ]
     },
     "execution_count": 21,
     "metadata": {},
     "output_type": "execute_result"
    }
   ],
   "source": [
    "True and not False or (True and False)"
   ]
  },
  {
   "cell_type": "markdown",
   "id": "0800ff83",
   "metadata": {},
   "source": [
    "### 4. Toán tử điều kiện"
   ]
  },
  {
   "cell_type": "markdown",
   "id": "faec71ff",
   "metadata": {},
   "source": [
    "|Toán tử| Biểu thức| Ý nghĩa|\n",
    "|-|-|-|\n",
    "|<| `x < y` |So sánh giá trị x có nhỏ hơn y hay không|\n",
    "|>| `x > y `|So sánh giá trị x có lớn hơn y hay không|\n",
    "|<=|`x <= y`|So sánh giá trị x có nhỏ hơn hoặc bằng y hay không|\n",
    "|>=|`x >= y`|So sánh giá trị x có lớn hơn hoặc bằng y hay không|\n",
    "|==|`x == y`|So sánh giá trị x có bằng y hay không|\n",
    "|!=|`x != y`|So sánh giá trị x có khác y hay không|\n",
    "\n",
    "Tương tự toán tử luận lý, kết quả của phép toán điều kiện là kiểu boolean với hai giá trị là True (đúng) hoặc False (sai).\n",
    "\n",
    "Lưu ý trong Python, dấu `=` sử dụng cho phép gán, dấu `==` sử dụng cho phép so sánh."
   ]
  },
  {
   "cell_type": "code",
   "execution_count": 22,
   "id": "decabdaf",
   "metadata": {},
   "outputs": [
    {
     "data": {
      "text/plain": [
       "False"
      ]
     },
     "execution_count": 22,
     "metadata": {},
     "output_type": "execute_result"
    }
   ],
   "source": [
    "3 > 5"
   ]
  },
  {
   "cell_type": "code",
   "execution_count": 23,
   "id": "01eac8a8",
   "metadata": {},
   "outputs": [
    {
     "data": {
      "text/plain": [
       "True"
      ]
     },
     "execution_count": 23,
     "metadata": {},
     "output_type": "execute_result"
    }
   ],
   "source": [
    "1 != 2"
   ]
  },
  {
   "cell_type": "code",
   "execution_count": 24,
   "id": "5ec4f580",
   "metadata": {},
   "outputs": [
    {
     "data": {
      "text/plain": [
       "True"
      ]
     },
     "execution_count": 24,
     "metadata": {},
     "output_type": "execute_result"
    }
   ],
   "source": [
    "(5 == 6) or (9 >= 2) and (8 != 3)"
   ]
  },
  {
   "cell_type": "markdown",
   "id": "2b695c88",
   "metadata": {},
   "source": [
    "### 5. Cấu trúc dữ liệu"
   ]
  },
  {
   "cell_type": "markdown",
   "id": "047b0ac5",
   "metadata": {},
   "source": [
    "Cấu trúc dữ liệu (data structures) và giải thuật (algorithms) được xem là 2 yếu tố quan trọng nhất trong lập trình, đúng như câu nói nổi tiếng của Niklaus Wirth:\n",
    "\n",
    "`Programs = Data Structures + Algorithms`\n",
    "\n",
    "Như tên gọi của mình, cấu trúc dữ liệu cho phép ta tổ chức, sắp xếp, quản lý và lưu trữ dữ liệu sao cho đảm bảo việc truy cập dễ dàng hơn và sửa đổi hiệu quả hơn. Trong thực tế, cấu trúc dữ liệu có thể chia thành 2 nhánh: được định nghĩa sẵn chỉ lôi ra dùng thôi (built-in) và định nghĩa bởi người dùng (user-defined).\n",
    "\n",
    "![](https://sunway.edu.np/wp-content/uploads/2020/11/Blank-diagram-700x365.png)\n",
    "\n",
    "Trong nôi dụng bài viết này, chúng ta sẽ đi sâu vào 4 cấu trúc dữ liệu: List, Dictionary, Tuple, và Set.\n",
    "\n",
    "|Cấu trúc dữ liệu| Cú pháp | Đặc điểm|\n",
    "|-|-|-|\n",
    "|List|`[]`,`list()`|có index, có thứ tự, có thể thay đổi|\n",
    "|Dictionary|`{key:value}`|không trùng lặp|\n",
    "|Tuple|`()`,`tuple()`|có index, có thứ tự, không thể thay đổi|\n",
    "|Set|`{}`,`set`|không index, không trùng lặp, có thứ tự , có thể thay đổi|"
   ]
  },
  {
   "cell_type": "markdown",
   "id": "609190e0",
   "metadata": {},
   "source": [
    "#### 5.1 List\n",
    "\n",
    "List là một danh sách các phần tử dữ liệu phân cách bởi dấu phẩy và được bao ngoài bởi dấu ngoặc vuông `[]`, có thể chứa 1 hoặc nhiều kiểu dữ liệu khác nhau từ 1 số cho đến 1 chuỗi được lưu theo 1 cách tuần tự.\n",
    "\n",
    "##### 5.1.0 Khai báo list\n",
    "\n",
    "- Cú pháp: `[value1, value2, ...]`\n",
    "\n",
    "Mỗi phần tử trong list đều được gán 1 vị trí, gọi là chỉ số index. Giá trị index bắt đầu từ 0 và tiếp tục cho đến phần tử cuối cùng được gọi là index dương (theo chiều từ trái qua phải). Ngoài ra, ta có thể sử dụng index phủ định bắt đầu từ -1 cho phép bạn truy cập các phần tử từ cuối cùng đến đầu tiên (theo chiều từ phải qua trái). \n"
   ]
  },
  {
   "cell_type": "code",
   "execution_count": 25,
   "id": "31ca5ad9",
   "metadata": {},
   "outputs": [
    {
     "data": {
      "text/plain": [
       "[1, 2, 'Python', 3.14]"
      ]
     },
     "execution_count": 25,
     "metadata": {},
     "output_type": "execute_result"
    }
   ],
   "source": [
    "li = [1 , 2, \"Python\", 3.14] \n",
    "#     0   1    2         3    -> index từ trái sang phải\n",
    "#    -4  -3   -2        -1    -> index từ phải sang trái \n",
    "li"
   ]
  },
  {
   "cell_type": "code",
   "execution_count": 26,
   "id": "f10a79dc",
   "metadata": {},
   "outputs": [
    {
     "data": {
      "text/plain": [
       "4"
      ]
     },
     "execution_count": 26,
     "metadata": {},
     "output_type": "execute_result"
    }
   ],
   "source": [
    "len(li)"
   ]
  },
  {
   "cell_type": "markdown",
   "id": "9e495c4d",
   "metadata": {},
   "source": [
    "##### 5.1.1 Truy xuất phần tử trong list\n",
    "\n",
    "Như đề cập ở trên, mỗi phần tử trong List sẽ có một vị trí nhất định tương ứng với một con số index, bắt đầu từ số 0 và tăng dần từ trái qua phải. Chúng ta có thể truy xuất đến các phần tử trong danh sách với cú pháp: `tên_list[index]`"
   ]
  },
  {
   "cell_type": "code",
   "execution_count": 27,
   "id": "08513343",
   "metadata": {},
   "outputs": [
    {
     "data": {
      "text/plain": [
       "1"
      ]
     },
     "execution_count": 27,
     "metadata": {},
     "output_type": "execute_result"
    }
   ],
   "source": [
    "li[0]"
   ]
  },
  {
   "cell_type": "code",
   "execution_count": 28,
   "id": "dd2a5a6b",
   "metadata": {},
   "outputs": [
    {
     "data": {
      "text/plain": [
       "[2, 'Python']"
      ]
     },
     "execution_count": 28,
     "metadata": {},
     "output_type": "execute_result"
    }
   ],
   "source": [
    "li[1:3]"
   ]
  },
  {
   "cell_type": "markdown",
   "id": "f1e451da",
   "metadata": {},
   "source": [
    "Mỗi phần tử bên trong list cũng có thể là 1 list con, khi đó mỗi list con cũng có 1 index duy nhất."
   ]
  },
  {
   "cell_type": "code",
   "execution_count": 29,
   "id": "7dafb292",
   "metadata": {},
   "outputs": [
    {
     "data": {
      "text/plain": [
       "[1, 2, 3]"
      ]
     },
     "execution_count": 29,
     "metadata": {},
     "output_type": "execute_result"
    }
   ],
   "source": [
    "li1 = [1, [1,2,3], 3.14, 'Hn']\n",
    "li1[1]"
   ]
  },
  {
   "cell_type": "code",
   "execution_count": 30,
   "id": "05585c65",
   "metadata": {},
   "outputs": [
    {
     "data": {
      "text/plain": [
       "1"
      ]
     },
     "execution_count": 30,
     "metadata": {},
     "output_type": "execute_result"
    }
   ],
   "source": [
    "li1[1][0]"
   ]
  },
  {
   "cell_type": "code",
   "execution_count": 31,
   "id": "cc327094",
   "metadata": {},
   "outputs": [
    {
     "data": {
      "text/plain": [
       "[3.14, 2, 'Python', 3.14]"
      ]
     },
     "execution_count": 31,
     "metadata": {},
     "output_type": "execute_result"
    }
   ],
   "source": [
    "li[0] = 3.14\n",
    "li"
   ]
  },
  {
   "cell_type": "markdown",
   "id": "c03e4524",
   "metadata": {},
   "source": [
    "##### 5.1.2 Các hàm cơ bản với List"
   ]
  },
  {
   "cell_type": "markdown",
   "id": "3984d01f",
   "metadata": {},
   "source": [
    "Để biết có những hàm có sẵn nào hỗ trợ cho cấu trúc dữ liệu list, ta sử dụng câu lệnh dưới đây:"
   ]
  },
  {
   "cell_type": "code",
   "execution_count": 32,
   "id": "f5c5c66b",
   "metadata": {},
   "outputs": [
    {
     "data": {
      "text/plain": [
       "['append',\n",
       " 'clear',\n",
       " 'copy',\n",
       " 'count',\n",
       " 'extend',\n",
       " 'index',\n",
       " 'insert',\n",
       " 'pop',\n",
       " 'remove',\n",
       " 'reverse',\n",
       " 'sort']"
      ]
     },
     "execution_count": 32,
     "metadata": {},
     "output_type": "execute_result"
    }
   ],
   "source": [
    "[method for method in dir(li) if not method.startswith('_')]"
   ]
  },
  {
   "cell_type": "markdown",
   "id": "1de94834",
   "metadata": {},
   "source": [
    "Các hàm này được chia thành 2 loại:\n",
    "- Gán giá trị trực tiếp vào biến và không trả về cái gì\n",
    "- Trả về giá trị và cần gán giá trị đó vào 1 biến mới\n",
    "\n",
    "Dưới đây là 1 số ví dụ về các hàm kể trên:\n",
    "\n",
    "|Tên hàm|Ý nghĩa|Trả về giá trị|\n",
    "|-|-|-|\n",
    "|`append()`|Thêm một phần tử vào vị trí cuối cùng trong list|Không|\n",
    "|`clear()`|Xóa sạch các phần tử trong list|Không|\n",
    "|`copy()`|Sao chép toàn bộ list|Có|\n",
    "|`count()`|Đếm số lần một phần tử xuất hiện trong list|Có|\n",
    "|`extend()`|Kết hợp list với một list khác|Không|\n",
    "|`index()`|Trả về vị trí phần tử trong list|Có|\n",
    "|`insert()`|Chèn một phần tử vào list tại vị trí cho trước|Không|\n",
    "|`pop()`|Loại bỏ phần tử ở vị trí index cho trước trong list|Không|\n",
    "|`remove()`|Loại bỏ một phần tử khỏi list|Không|\n",
    "|`reverse()`|Đảo ngược thứ tự các phần tử trong list|Không|\n",
    "|`sort()`|Sắp xếp các phần tử trong list|Không|"
   ]
  },
  {
   "cell_type": "code",
   "execution_count": 33,
   "id": "9fa6218b",
   "metadata": {},
   "outputs": [
    {
     "data": {
      "text/plain": [
       "[3.14, 2, 'Python', 3.14, 10]"
      ]
     },
     "execution_count": 33,
     "metadata": {},
     "output_type": "execute_result"
    }
   ],
   "source": [
    "li.append(10)\n",
    "li"
   ]
  },
  {
   "cell_type": "code",
   "execution_count": 34,
   "id": "18a1e6c2",
   "metadata": {},
   "outputs": [
    {
     "data": {
      "text/plain": [
       "[]"
      ]
     },
     "execution_count": 34,
     "metadata": {},
     "output_type": "execute_result"
    }
   ],
   "source": [
    "li.clear()\n",
    "li"
   ]
  },
  {
   "cell_type": "code",
   "execution_count": 35,
   "id": "d4132307",
   "metadata": {},
   "outputs": [
    {
     "data": {
      "text/plain": [
       "[1, 2, 'Hanoi', 2.14, 'c']"
      ]
     },
     "execution_count": 35,
     "metadata": {},
     "output_type": "execute_result"
    }
   ],
   "source": [
    "li = [1, 2, 'Hanoi', 2.14, 'c']\n",
    "li.copy()"
   ]
  },
  {
   "cell_type": "code",
   "execution_count": 36,
   "id": "9c685bfd",
   "metadata": {},
   "outputs": [
    {
     "data": {
      "text/plain": [
       "1"
      ]
     },
     "execution_count": 36,
     "metadata": {},
     "output_type": "execute_result"
    }
   ],
   "source": [
    "li.count('Hanoi')"
   ]
  },
  {
   "cell_type": "code",
   "execution_count": 37,
   "id": "e93a0028",
   "metadata": {},
   "outputs": [
    {
     "data": {
      "text/plain": [
       "[1, 2, 'Hanoi', 2.14, 'c', 1, 2, 3]"
      ]
     },
     "execution_count": 37,
     "metadata": {},
     "output_type": "execute_result"
    }
   ],
   "source": [
    "li.extend([1,2,3])\n",
    "li"
   ]
  },
  {
   "cell_type": "code",
   "execution_count": 38,
   "id": "01289f8e",
   "metadata": {},
   "outputs": [
    {
     "data": {
      "text/plain": [
       "7"
      ]
     },
     "execution_count": 38,
     "metadata": {},
     "output_type": "execute_result"
    }
   ],
   "source": [
    "li.index(3)"
   ]
  },
  {
   "cell_type": "code",
   "execution_count": 39,
   "id": "861c15ca",
   "metadata": {},
   "outputs": [
    {
     "data": {
      "text/plain": [
       "[1, 2, 'Hanoi', 2.14, 'c', 1, 2, 3, 0]"
      ]
     },
     "execution_count": 39,
     "metadata": {},
     "output_type": "execute_result"
    }
   ],
   "source": [
    "li.insert(10,0)\n",
    "li"
   ]
  },
  {
   "cell_type": "code",
   "execution_count": 40,
   "id": "73cb0df4",
   "metadata": {},
   "outputs": [
    {
     "data": {
      "text/plain": [
       "[1, 'Hanoi', 2.14, 'c', 1, 2, 3, 0]"
      ]
     },
     "execution_count": 40,
     "metadata": {},
     "output_type": "execute_result"
    }
   ],
   "source": [
    "li.pop(1)\n",
    "li"
   ]
  },
  {
   "cell_type": "code",
   "execution_count": 41,
   "id": "4eb7e9c0",
   "metadata": {},
   "outputs": [
    {
     "data": {
      "text/plain": [
       "[1, 'Hanoi', 2.14, 'c', 1, 2, 3]"
      ]
     },
     "execution_count": 41,
     "metadata": {},
     "output_type": "execute_result"
    }
   ],
   "source": [
    "li.remove(0)\n",
    "li"
   ]
  },
  {
   "cell_type": "code",
   "execution_count": 42,
   "id": "635ac1ea",
   "metadata": {},
   "outputs": [
    {
     "data": {
      "text/plain": [
       "[0, 1, 2, 9]"
      ]
     },
     "execution_count": 42,
     "metadata": {},
     "output_type": "execute_result"
    }
   ],
   "source": [
    "li = [1, 9, 2,0]\n",
    "li.sort()\n",
    "li"
   ]
  },
  {
   "cell_type": "code",
   "execution_count": 43,
   "id": "6e699f1c",
   "metadata": {},
   "outputs": [
    {
     "data": {
      "text/plain": [
       "[9, 2, 1, 0]"
      ]
     },
     "execution_count": 43,
     "metadata": {},
     "output_type": "execute_result"
    }
   ],
   "source": [
    "li.reverse()\n",
    "li"
   ]
  },
  {
   "cell_type": "markdown",
   "id": "aefd57aa",
   "metadata": {},
   "source": [
    "Đố vui:\n",
    "- Hàm `extend()` và hàm `append()` khác gì nhau?\n",
    "- Hàm `remove()` and `pop()` khác gì nhau?"
   ]
  },
  {
   "cell_type": "markdown",
   "id": "35b06841",
   "metadata": {},
   "source": [
    "#### 5.2 Tuple\n",
    "\n",
    "Tuple là 1 cấu trúc dữ liệu gần tương tự như list trong Python, tuy nhiên tuple là 1 danh sách bất biến, không thể thay đổi nội dung. Tuple có tốc độ xử lý nhanh hơn list, do tuple được lưu trữ một khối bộ nhớ xác định còn list thì thường xuyên phải thay đổi không gian lưu trữ. Chính vì vậy, với những dữ liệu dạng hằng số, dữ liệu không thay đổi theo thời gian, tuple là 1 sự lựa chọn hoàn hảo. Ngoài ra, tuple còn được sử dụng làm khóa trong dictionary, một cấu trúc dữ liệu ta sẽ được tìm hiểu trong phần sau.\n",
    "\n",
    "##### 5.2.0 Khai báo tuple\n",
    "\n",
    "- Cú pháp: `(value1, value2, ...)`"
   ]
  },
  {
   "cell_type": "code",
   "execution_count": 44,
   "id": "9f432b48",
   "metadata": {},
   "outputs": [
    {
     "data": {
      "text/plain": [
       "(1, 2, 3.14, 'Vietnam')"
      ]
     },
     "execution_count": 44,
     "metadata": {},
     "output_type": "execute_result"
    }
   ],
   "source": [
    "tup = (1, 2, 3.14, 'Vietnam')\n",
    "tup"
   ]
  },
  {
   "cell_type": "markdown",
   "id": "ff885d8b",
   "metadata": {},
   "source": [
    "##### 5.2.1 Các hàm cơ bản trong tuple\n",
    "\n",
    "|Tên hàm|Ý nghĩa|Trả về giá trị|\n",
    "|-|-|-|\n",
    "|`count()`|Đếm số lần một phần tử xuất hiện trong tuple|Có|\n",
    "|`index()`|Trả về vị trí phần tử trong tuple|Có|"
   ]
  },
  {
   "cell_type": "code",
   "execution_count": 45,
   "id": "575a1f99",
   "metadata": {},
   "outputs": [
    {
     "data": {
      "text/plain": [
       "['count', 'index']"
      ]
     },
     "execution_count": 45,
     "metadata": {},
     "output_type": "execute_result"
    }
   ],
   "source": [
    "[method for method in dir(tup) if not method.startswith('_')]"
   ]
  },
  {
   "cell_type": "code",
   "execution_count": 46,
   "id": "407dd25a",
   "metadata": {},
   "outputs": [
    {
     "data": {
      "text/plain": [
       "1"
      ]
     },
     "execution_count": 46,
     "metadata": {},
     "output_type": "execute_result"
    }
   ],
   "source": [
    "tup.count(3.14)"
   ]
  },
  {
   "cell_type": "code",
   "execution_count": 47,
   "id": "74c141ca",
   "metadata": {},
   "outputs": [
    {
     "data": {
      "text/plain": [
       "1"
      ]
     },
     "execution_count": 47,
     "metadata": {},
     "output_type": "execute_result"
    }
   ],
   "source": [
    "tup.index(2)"
   ]
  },
  {
   "cell_type": "markdown",
   "id": "57a7de3a",
   "metadata": {},
   "source": [
    "#### 5.3 Set\n",
    "\n",
    "Set là danh sách không theo thứ tự các phần tử không trùng nhau nằm trong hai dấu ngoặc nhọn `{}` hoặc được khởi tạo bằng `set()`. Set có hỗ trợ các tính toán tổ hợp như là phép toán giao, phép toán hợp, phép đối xứng, phép loại trừ...\n",
    "\n",
    "##### 5.3.0 Khai báo set\n",
    "\n",
    "- Cú pháp: `{value1, value2, ...}`\n"
   ]
  },
  {
   "cell_type": "code",
   "execution_count": 48,
   "id": "7464c228",
   "metadata": {},
   "outputs": [
    {
     "data": {
      "text/plain": [
       "{1, 2, 3}"
      ]
     },
     "execution_count": 48,
     "metadata": {},
     "output_type": "execute_result"
    }
   ],
   "source": [
    "s = {1, 1, 1, 2, 3}\n",
    "s"
   ]
  },
  {
   "cell_type": "code",
   "execution_count": 49,
   "id": "ebd94fd0",
   "metadata": {},
   "outputs": [
    {
     "data": {
      "text/plain": [
       "{1, 2, 3}"
      ]
     },
     "execution_count": 49,
     "metadata": {},
     "output_type": "execute_result"
    }
   ],
   "source": [
    "s.difference()"
   ]
  },
  {
   "cell_type": "markdown",
   "id": "cf1ff04b",
   "metadata": {},
   "source": [
    "##### 5.3.1 Các hàm cơ bản trong set\n",
    "\n",
    "|Tên hàm|Ý nghĩa|Trả về giá trị|\n",
    "|-|-|-|\n",
    "|`add()`|Thêm một phần tử vào vị trí cuối cùng trong set|Không|\n",
    "|`clear()`|Xóa sạch các phần tử trong set|Không|\n",
    "|`copy()`|Sao chép toàn bộ set|Có|\n",
    "|`A.difference(B)`|Phép trừ sẽ trả về một tập hợp các giá trị chỉ có ở set A hoặc set B|Có|\n",
    "|`A.difference_update(B)`|Xóa các thành phần tồn tại trong cả hai bộ của set A|Không|\n",
    "|`discard()`|Xoá phần tử trong set|Có|\n",
    "|`A.intersection(B)`|Phép giao giữa 2 set|Có|\n",
    "|`A.intersection_update(B)`|Loại bỏ các thành phần không có trong cả 2 set|Không|\n",
    "|`A.isdisjoint(B)`|Trả về True nếu 2 set là tập hợp rời rạc|Có|\n",
    "|`A.issubset(B)`|Trả về True nếu tất cả các item của set A đều có trong set B, False nếu ngược lại|Có|\n",
    "|`A.issuperset(B)`|Trả về True nếu tất cả các item của set B đều có trong set A, False nếu ngược lại|Có|\n",
    "|`pop()`|Loại bỏ phần tử ở vị trí index cho trước|Không|\n",
    "|`remove()`|Loại bỏ một phần tử |Không|\n",
    "|`A.symmetric_difference(B)`|Phép đối xứng trả về tập hợp những giá trị có trong set A không có trong set B và ngược lại|Có|\n",
    "|`A.symmetric_difference_update(B)`|Xóa các thành phần có trong cả hai nhóm và chèn các mục không có trong cả hai nhóm|Có|\n",
    "|`A.union(B)`|Phép hợp của 2 set|Có|\n",
    "|`update()`|Thêm phần tử|Không|\n",
    "\n",
    "\n",
    "Để có thể nắm được ý nghĩa của các hàm trong set hay bất kì cấu trúc dữ liệu nào, ta có thể tận dụng `docstring` hoặc `help()`.\n"
   ]
  },
  {
   "cell_type": "code",
   "execution_count": 50,
   "id": "ee5aaeb8",
   "metadata": {},
   "outputs": [
    {
     "data": {
      "text/plain": [
       "['add',\n",
       " 'clear',\n",
       " 'copy',\n",
       " 'difference',\n",
       " 'difference_update',\n",
       " 'discard',\n",
       " 'intersection',\n",
       " 'intersection_update',\n",
       " 'isdisjoint',\n",
       " 'issubset',\n",
       " 'issuperset',\n",
       " 'pop',\n",
       " 'remove',\n",
       " 'symmetric_difference',\n",
       " 'symmetric_difference_update',\n",
       " 'union',\n",
       " 'update']"
      ]
     },
     "execution_count": 50,
     "metadata": {},
     "output_type": "execute_result"
    }
   ],
   "source": [
    "[method for method in dir(s) if not method.startswith('_')]"
   ]
  },
  {
   "cell_type": "code",
   "execution_count": 51,
   "id": "7452a366",
   "metadata": {},
   "outputs": [],
   "source": [
    "s = {1, 1, 1, 2, 3}\n",
    "s1 = {2,3,4,5}"
   ]
  },
  {
   "cell_type": "code",
   "execution_count": 52,
   "id": "5151dabe",
   "metadata": {},
   "outputs": [
    {
     "data": {
      "text/plain": [
       "{1}"
      ]
     },
     "execution_count": 52,
     "metadata": {},
     "output_type": "execute_result"
    }
   ],
   "source": [
    "s.difference(s1)"
   ]
  },
  {
   "cell_type": "code",
   "execution_count": 53,
   "id": "85828899",
   "metadata": {},
   "outputs": [
    {
     "data": {
      "text/plain": [
       "{4, 5}"
      ]
     },
     "execution_count": 53,
     "metadata": {},
     "output_type": "execute_result"
    }
   ],
   "source": [
    "s1.difference(s)"
   ]
  },
  {
   "cell_type": "code",
   "execution_count": 54,
   "id": "6ebafade",
   "metadata": {},
   "outputs": [
    {
     "data": {
      "text/plain": [
       "{2, 3}"
      ]
     },
     "execution_count": 54,
     "metadata": {},
     "output_type": "execute_result"
    }
   ],
   "source": [
    "s.intersection(s1)"
   ]
  },
  {
   "cell_type": "code",
   "execution_count": 55,
   "id": "dfc15c60",
   "metadata": {},
   "outputs": [
    {
     "data": {
      "text/plain": [
       "{1, 4, 5}"
      ]
     },
     "execution_count": 55,
     "metadata": {},
     "output_type": "execute_result"
    }
   ],
   "source": [
    "s.symmetric_difference(s1)"
   ]
  },
  {
   "cell_type": "markdown",
   "id": "d0f03862",
   "metadata": {},
   "source": [
    "#### 5.4 Dictionary\n",
    "\n",
    "##### 5.4.0 Khai báo dictionary\n",
    "\n",
    "Để khai báo một dictionary chúng ta dùng cặp dấu `{}` theo cú pháp sau:\n",
    "- Cú pháp: `{key1:value1, key2:value2,...}`\n",
    "\n",
    "Lưu ý:\n",
    "- Các phần tử đều phải có key.\n",
    "- Key chỉ có thể là số hoặc chuỗi.\n",
    "- Key phải là duy nhất, nếu không nó sẽ nhận giá trị của phần tử có key được xuất hiện cuối cùng.\n",
    "- Key khi đã được khai báo thì không thể đổi được tên.\n",
    "- Key có phân biệt hoa thường."
   ]
  },
  {
   "cell_type": "code",
   "execution_count": 56,
   "id": "443c9948",
   "metadata": {},
   "outputs": [],
   "source": [
    "my_dict = {}"
   ]
  },
  {
   "cell_type": "code",
   "execution_count": 57,
   "id": "7cae2057",
   "metadata": {},
   "outputs": [
    {
     "data": {
      "text/plain": [
       "{'language1': 'Java', 'language2': 'Python', 'language3': 'C++'}"
      ]
     },
     "execution_count": 57,
     "metadata": {},
     "output_type": "execute_result"
    }
   ],
   "source": [
    "my_dict1 = {'language1':'Java', 'language2':'Python', 'language3':'C++'}\n",
    "my_dict1"
   ]
  },
  {
   "cell_type": "markdown",
   "id": "8545d94f",
   "metadata": {},
   "source": [
    "##### 5.4.1 Truy xuất các phần tử trong dictionary"
   ]
  },
  {
   "cell_type": "code",
   "execution_count": 58,
   "id": "196b5959",
   "metadata": {},
   "outputs": [
    {
     "data": {
      "text/plain": [
       "'Java'"
      ]
     },
     "execution_count": 58,
     "metadata": {},
     "output_type": "execute_result"
    }
   ],
   "source": [
    "my_dict1['language1']"
   ]
  },
  {
   "cell_type": "code",
   "execution_count": 59,
   "id": "b100719b",
   "metadata": {},
   "outputs": [],
   "source": [
    "my_dict1['language4'] = 'C' # dict_name[key] = value"
   ]
  },
  {
   "cell_type": "markdown",
   "id": "13101e15",
   "metadata": {},
   "source": [
    "Dictionary có thể lồng trong dictionary"
   ]
  },
  {
   "cell_type": "code",
   "execution_count": 60,
   "id": "695d8160",
   "metadata": {},
   "outputs": [],
   "source": [
    "my_dict2 = {'name':'Zootpi',\n",
    "           'info':{'age':1,\n",
    "                  'sex':'unknown'}}"
   ]
  },
  {
   "cell_type": "code",
   "execution_count": 61,
   "id": "b96f582c",
   "metadata": {},
   "outputs": [
    {
     "data": {
      "text/plain": [
       "'unknown'"
      ]
     },
     "execution_count": 61,
     "metadata": {},
     "output_type": "execute_result"
    }
   ],
   "source": [
    "my_dict2['info']['sex']"
   ]
  },
  {
   "cell_type": "markdown",
   "id": "e7d25ef3",
   "metadata": {},
   "source": [
    "##### 5.4.2 Các hàm cơ bản trong dictionary\n",
    "\n",
    "|Tên hàm|Ý nghĩa|Trả về giá trị|\n",
    "|-|-|-|\n",
    "|`clear()`|Xóa sạch các phần tử|Không|\n",
    "|`copy()`|Sao chép các phần tử|Có|\n",
    "|`fromkeys()`|Tạo ra một dictionary với các khóa và giá trị được chỉ định|Có|\n",
    "|`get()`|Trả về giá trị của khóa được chỉ định|Có|\n",
    "|`items()`| Trả về danh sách chứa bộ giá trị cho mỗi cặp giá trị khóa|Có|\n",
    "|`keys()`|Trả về danh sách chứa các key của dictionary|Có|\n",
    "|`pop()`|Loại bỏ phần tử có key được chỉ định|Không|\n",
    "|`popitem()`|Xóa cặp key-value được chèn cuối cùng|Không|\n",
    "|`setdefault()`|Trả về giá trị của key được chỉ định. Nếu key không tồn tại: hãy chèn key, với giá trị được chỉ định|Không|\n",
    "|`update()`|Cập nhật dictionary với các cặp key-value được chỉ định|Không|\n",
    "|`values()`| Trả về danh sách tất cả các value trong từ điển |Có|"
   ]
  },
  {
   "cell_type": "code",
   "execution_count": 62,
   "id": "3206e9c4",
   "metadata": {},
   "outputs": [
    {
     "data": {
      "text/plain": [
       "['clear',\n",
       " 'copy',\n",
       " 'fromkeys',\n",
       " 'get',\n",
       " 'items',\n",
       " 'keys',\n",
       " 'pop',\n",
       " 'popitem',\n",
       " 'setdefault',\n",
       " 'update',\n",
       " 'values']"
      ]
     },
     "execution_count": 62,
     "metadata": {},
     "output_type": "execute_result"
    }
   ],
   "source": [
    "[method for method in dir(my_dict1) if not method.startswith('_')]"
   ]
  },
  {
   "cell_type": "code",
   "execution_count": 63,
   "id": "63251530",
   "metadata": {},
   "outputs": [
    {
     "data": {
      "text/plain": [
       "{'key1': 0, 'key2': 0, 'key3': 0}"
      ]
     },
     "execution_count": 63,
     "metadata": {},
     "output_type": "execute_result"
    }
   ],
   "source": [
    "x = ('key1', 'key2', 'key3')\n",
    "y = 0\n",
    "dict.fromkeys(x, y)"
   ]
  },
  {
   "cell_type": "code",
   "execution_count": 64,
   "id": "e5376641",
   "metadata": {},
   "outputs": [
    {
     "data": {
      "text/plain": [
       "'Python'"
      ]
     },
     "execution_count": 64,
     "metadata": {},
     "output_type": "execute_result"
    }
   ],
   "source": [
    "my_dict1.get('language2')"
   ]
  },
  {
   "cell_type": "code",
   "execution_count": 65,
   "id": "65fb8de1",
   "metadata": {},
   "outputs": [
    {
     "data": {
      "text/plain": [
       "dict_items([('language1', 'Java'), ('language2', 'Python'), ('language3', 'C++'), ('language4', 'C')])"
      ]
     },
     "execution_count": 65,
     "metadata": {},
     "output_type": "execute_result"
    }
   ],
   "source": [
    "my_dict1.items()"
   ]
  },
  {
   "cell_type": "code",
   "execution_count": 66,
   "id": "f6260ef0",
   "metadata": {},
   "outputs": [
    {
     "data": {
      "text/plain": [
       "dict_keys(['language1', 'language2', 'language3', 'language4'])"
      ]
     },
     "execution_count": 66,
     "metadata": {},
     "output_type": "execute_result"
    }
   ],
   "source": [
    "my_dict1.keys()"
   ]
  },
  {
   "cell_type": "code",
   "execution_count": 67,
   "id": "f36943c0",
   "metadata": {},
   "outputs": [
    {
     "data": {
      "text/plain": [
       "'C'"
      ]
     },
     "execution_count": 67,
     "metadata": {},
     "output_type": "execute_result"
    }
   ],
   "source": [
    "my_dict1.pop('language4')"
   ]
  },
  {
   "cell_type": "code",
   "execution_count": 68,
   "id": "5e74a0b4",
   "metadata": {},
   "outputs": [
    {
     "data": {
      "text/plain": [
       "{'language1': 'Java', 'language2': 'Python', 'language3': 'C++'}"
      ]
     },
     "execution_count": 68,
     "metadata": {},
     "output_type": "execute_result"
    }
   ],
   "source": [
    "my_dict1"
   ]
  },
  {
   "cell_type": "code",
   "execution_count": 69,
   "id": "5b24a8a8",
   "metadata": {},
   "outputs": [
    {
     "data": {
      "text/plain": [
       "('language3', 'C++')"
      ]
     },
     "execution_count": 69,
     "metadata": {},
     "output_type": "execute_result"
    }
   ],
   "source": [
    "my_dict1.popitem()"
   ]
  },
  {
   "cell_type": "code",
   "execution_count": 70,
   "id": "d79541e5",
   "metadata": {},
   "outputs": [
    {
     "data": {
      "text/plain": [
       "{'language1': 'Java', 'language2': 'Python'}"
      ]
     },
     "execution_count": 70,
     "metadata": {},
     "output_type": "execute_result"
    }
   ],
   "source": [
    "my_dict1"
   ]
  },
  {
   "cell_type": "code",
   "execution_count": 71,
   "id": "5ed142be",
   "metadata": {},
   "outputs": [],
   "source": [
    "my_dict1.setdefault('language3')"
   ]
  },
  {
   "cell_type": "code",
   "execution_count": 72,
   "id": "f7df8462",
   "metadata": {},
   "outputs": [
    {
     "data": {
      "text/plain": [
       "{'language1': 'Java', 'language2': 'Python', 'language3': None}"
      ]
     },
     "execution_count": 72,
     "metadata": {},
     "output_type": "execute_result"
    }
   ],
   "source": [
    "my_dict1"
   ]
  },
  {
   "cell_type": "code",
   "execution_count": 73,
   "id": "e0824b22",
   "metadata": {},
   "outputs": [],
   "source": [
    "my_dict1.update({'language3':'Ruby'})"
   ]
  },
  {
   "cell_type": "code",
   "execution_count": 74,
   "id": "15573f7b",
   "metadata": {},
   "outputs": [
    {
     "data": {
      "text/plain": [
       "{'language1': 'Java', 'language2': 'Python', 'language3': 'Ruby'}"
      ]
     },
     "execution_count": 74,
     "metadata": {},
     "output_type": "execute_result"
    }
   ],
   "source": [
    "my_dict1"
   ]
  },
  {
   "cell_type": "code",
   "execution_count": 75,
   "id": "eb4e4962",
   "metadata": {},
   "outputs": [
    {
     "data": {
      "text/plain": [
       "dict_values(['Java', 'Python', 'Ruby'])"
      ]
     },
     "execution_count": 75,
     "metadata": {},
     "output_type": "execute_result"
    }
   ],
   "source": [
    "my_dict1.values()"
   ]
  },
  {
   "cell_type": "markdown",
   "id": "61c33af1",
   "metadata": {},
   "source": [
    "Ở bài tiếp theo, chúng ta sẽ tìm hiểu về vòng lặp, câu điều kiện, cũng như cách viết 1 hàm trong Python."
   ]
  }
 ],
 "metadata": {
  "kernelspec": {
   "display_name": "Python 3",
   "language": "python",
   "name": "python3"
  },
  "language_info": {
   "codemirror_mode": {
    "name": "ipython",
    "version": 3
   },
   "file_extension": ".py",
   "mimetype": "text/x-python",
   "name": "python",
   "nbconvert_exporter": "python",
   "pygments_lexer": "ipython3",
   "version": "3.8.11"
  }
 },
 "nbformat": 4,
 "nbformat_minor": 5
}
