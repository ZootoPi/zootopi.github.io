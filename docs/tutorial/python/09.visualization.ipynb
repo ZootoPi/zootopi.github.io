{
 "cells": [
  {
   "cell_type": "markdown",
   "id": "29eccae6-dbf0-4de6-b6a0-e95e848b5cb8",
   "metadata": {},
   "source": [
    "# Bài 7: Trực quan hoá dữ liệu với Matplotlib và Seaborn"
   ]
  },
  {
   "cell_type": "markdown",
   "id": "7443d29b-818d-4d01-a6e9-947adcabed95",
   "metadata": {},
   "source": [
    "## I. GIỚI THIỆU\n",
    "\n",
    "\n",
    "Bất kì 1 thư viện nào sử dụng cho mục đích biểu diễn dữ liệu cũng sẽ theo anatomy sau. \n",
    "![](https://matplotlib.org/stable/_images/sphx_glr_anatomy_001.png)\n",
    "\n",
    "Đây cũng là những điểm mình cần biết khi vẽ đồ thị với các thư viện trong Python.\n",
    "\n",
    "### 1. Thư viện Matplotlib \n",
    "\n",
    "Matplotlib (cụ thể trong bài học này ta quan tâm tới gói `Matplotlib.pyplot` hay được viết gọn là `plt`) là một gói Python được sử dụng cho đồ họa 2D.\n",
    "\n",
    "Matplotlib có 2 objects chính:\n",
    "- `Figure`: chứa nhiều axes\n",
    "- `Axes`: nơi vẽ đồ thị, thực tế chính là cái đồ thị\n",
    "\n",
    "Nói 1 cách dễ hiểu, `Figure` giống khung ảnh và 1 khung ảnh có thể không chứa hoặc chứa 1 đến nhiều bức ảnh, và `Axes` tương ứng với những bức ảnh trong cái khung ảnh.  \n",
    "\n",
    "Các thành phần khác:\n",
    "- `Title`: tên của đồ thị\n",
    "- `X axis label`,`Y axis label`: 2 trục (ngang, đứng) của đồ thị\n",
    "- `Major tick label`, `Minor tick label`: Tick chính chứa con số, tick nhỏ có thể hoặc không chứa con số\n",
    "- `Legend`: Chú thích\n",
    "- `Grid`: Lưới (dễ căn chỉnh)\n",
    "- `Line plot`: Đồ thị đường\n",
    "- `Scatter plot`: Đồ thị phân tán\n",
    "- `Marker`: Những chấm tròn biểu diễn điểm dữ liệu trong đồ thị phân tán\n",
    "- `Axis spine`: Đường ghi nhận ranh giới khu vực dữ liệu\n",
    "- `Spine`: Đường kết nối các dấu ticks trên trục và ghi nhận ranh giới của khu vực dữ liệu.\n",
    "\n",
    "**Tham khảo**: [Thư viện Matplotlib](https://matplotlib.org/stable/gallery/index.html)\n",
    "\n",
    "### 2. Thư viện Seaborn\n",
    "\n",
    "Seaborn là thư viện mở rộng được viết trên nền Matplotlib, từ đó kế thừa các chức năng biểu diễn dữ liệu từ Matplotlib. Vì vậy, những gì Seaborn làm được thì Matplotlib cũng làm được tuy nhiên không có chiều ngược lại, cũng có nghĩa là Seaborn không thể thay thế hoàn toàn được Matplotlib (Seaborn hiểu đơn giản là 1 đứa con được Matplotlib tạo ra).\n",
    "\n",
    "**Tham khảo**: [Thư viện Seaborn](https://seaborn.pydata.org/examples/index.html)\n",
    "\n",
    "Mỗi thư viện đều có những ưu điểm riêng: Nếu Seaborn sử dụng ít cú pháp hơn và có các chủ đề mặc định tuyệt đẹp thì Matplotlib dễ dàng tùy chỉnh hơn thông qua việc truy cập các lớp. Và trong bài viết này, chúng ta sẽ cùng nhau khám phá vẻ đẹp của 2 thư viện.\n",
    "\n",
    "### 3. Cài đặt\n",
    "- Cài đặt khi tạo môi trường ảo:\n",
    "\n",
    "`conda create -n hanh python=3.7 matplotlib seaborn`\n",
    "\n",
    "- Cài đặt sau khi tạo xong môi trường ảo: \n",
    "\n",
    "`conda install matplotlib` hoặc `pip install matplotlib`,\n",
    "\n",
    "`conda install seaborn` hoặc `pip install seaborn`\n",
    "\n",
    "### 4. Import \n",
    "\n",
    "```python\n",
    "import matplotlib.pyplot as plt\n",
    "import seaborn as sns\n",
    "```\n",
    "\n",
    "Để bắt đầu buổi học hôm nay, chúng ta sẽ import một số thư viện phục vụ cho buổi học:"
   ]
  },
  {
   "cell_type": "code",
   "execution_count": 1,
   "id": "bc54e0d4-e421-4e1a-b7a2-150070a2ac06",
   "metadata": {},
   "outputs": [],
   "source": [
    "import pandas as pd\n",
    "import numpy as np\n",
    "import matplotlib.pyplot as plt\n",
    "import seaborn as sns"
   ]
  },
  {
   "cell_type": "markdown",
   "id": "4b25a5a8-bf42-428a-8af7-4737f6b957b0",
   "metadata": {},
   "source": [
    "## II. CÁC KIỂU TRỰC QUAN HOÁ DỮ LIỆU CƠ BẢN\n",
    "\n",
    "### 1. Đồ thị đường\n",
    "\n",
    "Biểu đồ đường được sử dụng để theo dõi những thay đổi trong khoảng thời gian ngắn và dài.\n",
    "\n",
    "#### 1.1. Đồ thị 1 đường\n",
    "\n",
    "#### **Thực hành**: Vẽ đồ thị hình sin của 100 điểm trong khoảng từ -10 đến 10.\n",
    "\n",
    "**Gợi ý**: Cho trước giá trị x, y. Sử dụng hàm `plot()` để vẽ đồ thị đường dưới đây\n",
    "\n",
    "```python\n",
    "x = np.linspace(-10,10,100)\n",
    "y = np.sin(x)\n",
    "```\n",
    "![](./visualization/line_plot.png)\n",
    "#### **Sử dụng Matplotlib**:"
   ]
  },
  {
   "cell_type": "code",
   "execution_count": 12,
   "id": "2cc391a8-1108-4f15-b848-81d496ba1cf6",
   "metadata": {},
   "outputs": [],
   "source": [
    "x = np.linspace(-10,10,100)\n",
    "y = np.sin(x)\n",
    "\n",
    "# Mặc định plt.plot() là đồ thị đường\n",
    "plt.plot(x,y,linestyle='-.') # linestyle để thay đổi đường biểu diễn, ví dụ: linestyle=(0,(3,1,1,1)) tương ứng linestyle='-.' \n",
    "plt.title('Sin function') # Tên của đồ thị\n",
    "plt.xlabel('X value') # Tên trục hoàng\n",
    "plt.ylabel('Sin of x') # Tên trục tung\n",
    "plt.grid() # Tạo lưới\n",
    "plt.show() # Hiển thị biểu đồ"
   ]
  },
  {
   "cell_type": "markdown",
   "id": "9724457a-6c1a-4759-a40c-5c1d7cb2019c",
   "metadata": {},
   "source": [
    "Tham khảo 1 số cách thay đổi linestyle tại [đây](https://matplotlib.org/stable/_images/sphx_glr_linestyles_001.png).\n",
    "\n",
    "#### **Sử dụng Seaborn**:"
   ]
  },
  {
   "cell_type": "code",
   "execution_count": 17,
   "id": "4336692e-6b66-4a3c-b180-0908e22d8910",
   "metadata": {},
   "outputs": [],
   "source": [
    "df = pd.DataFrame({'x':x,'sin':y})\n",
    "sns.lineplot(x=df['x'], y=df['sin'],linestyle='-.')\n",
    "plt.grid()\n",
    "plt.show()"
   ]
  },
  {
   "cell_type": "markdown",
   "id": "d95407d3-fa13-4575-8d42-6fc81c68ba94",
   "metadata": {},
   "source": [
    "#### 1.2 Đồ thị đa đường\n",
    "\n",
    "#### **Thực hành**: Vẽ đồ thị hình sin và hình cos của 100 điểm trong khoảng từ -10 đến 10 trên cùng 1 đồ thị.\n",
    "\n",
    "**Gợi ý**: Cho trước giá trị x, y. Sử dụng hàm `plot()` để vẽ đồ thị đường dưới đây:\n",
    "\n",
    "```python\n",
    "x = np.linspace(-10,10,100)\n",
    "sin = np.sin(x)\n",
    "cos = np.cos(x)\n",
    "```\n",
    "\n",
    "![](./visualization/multiline_plot.png)"
   ]
  },
  {
   "cell_type": "code",
   "execution_count": 18,
   "id": "8e698577-a9da-4fc9-84b0-5b69f1d641c9",
   "metadata": {},
   "outputs": [],
   "source": [
    "x = np.linspace(-10,10,100)\n",
    "sin = np.sin(x)\n",
    "cos = np.cos(x)\n",
    "df = pd.DataFrame({'x':x,'sin': sin, 'cos':cos})"
   ]
  },
  {
   "cell_type": "markdown",
   "id": "1b23e98c-890e-47aa-a9d4-8d4abec8716f",
   "metadata": {},
   "source": [
    "**Cách 1**"
   ]
  },
  {
   "cell_type": "code",
   "execution_count": 24,
   "id": "4040b162-ff73-415a-a209-d555bfcd0d6b",
   "metadata": {},
   "outputs": [],
   "source": [
    "# truyền tham số c để thay đổi màu\n",
    "plt.plot(x, sin, label = 'Sin', c='red') \n",
    "plt.plot(x, cos, label = 'Cos', c='blue')\n",
    "plt.title('Function plot')\n",
    "plt.xlabel('X value')\n",
    "plt.ylabel('Y value')\n",
    "plt.legend(loc='best') # có thể tinh chỉnh 4 góc\n",
    "plt.grid()\n",
    "plt.show()"
   ]
  },
  {
   "cell_type": "markdown",
   "id": "1fd0cdda-ad0f-4d64-818c-c199d1d9dbb6",
   "metadata": {},
   "source": [
    "**Cách 2**:\n",
    "```python\n",
    "ax.set_xlabel('X Label')\n",
    "ax.set_ylabel('Y Label')\n",
    "ax.set_title('Function plot')\n",
    "```\n",
    "có thể được viết gọn trong 1 dòng với hàm `set()` và truyền tham số tương ứng vào bên trong như sau:\n",
    "```python\n",
    "ax.set(xlabel='X_label', ylabel='Y_label', title='Function plot')\n",
    "```"
   ]
  },
  {
   "cell_type": "code",
   "execution_count": 25,
   "id": "0a91edb7-e4f7-4079-8094-45a608ee1edd",
   "metadata": {},
   "outputs": [],
   "source": [
    "ax = plt.axes() # định nghĩa nơi vẽ đồ thị\n",
    "ax.plot(x,sin,label='Sin', c = 'red')\n",
    "ax.plot(x,cos,label='Cos', c= 'blue')\n",
    "ax.set(xlabel='X value', ylabel='Y value', title='Function plot')\n",
    "ax.legend(loc='best')\n",
    "ax.grid()\n",
    "plt.show()"
   ]
  },
  {
   "cell_type": "markdown",
   "id": "54c3d064-824f-4d43-9461-e3cb477bc391",
   "metadata": {},
   "source": [
    "#### **Thực hành**: Vẽ đồ thị hình sin và hình cos của 100 điểm trong khoảng từ -10 đến 10 trên 2 đồ thị cạnh nhau như hình sau:\n",
    "![](./visualization/paraline_plot.png)"
   ]
  },
  {
   "cell_type": "markdown",
   "id": "68b71886-e0f2-4a19-a736-19bc8fe3fbbb",
   "metadata": {},
   "source": [
    "**Cách 1**"
   ]
  },
  {
   "cell_type": "code",
   "execution_count": 26,
   "id": "732068dd-5dea-417e-aa36-863ac3689596",
   "metadata": {},
   "outputs": [],
   "source": [
    "plt.figure(figsize=(15,5)) # chiều dài 15, chiều rộng 5\n",
    "\n",
    "plt.subplot(1,2,1) #1 hàng 2 cột ở axis 1\n",
    "plt.plot(x,sin)\n",
    "plt.title('Sin Function')\n",
    "plt.xlabel('X value')\n",
    "plt.ylabel('Y value')\n",
    "\n",
    "plt.subplot(1,2,2)\n",
    "plt.plot(x,cos,c='red')\n",
    "plt.title('Cos Function')\n",
    "plt.xlabel('X value')\n",
    "plt.ylabel('Y value')\n",
    "plt.show()"
   ]
  },
  {
   "cell_type": "markdown",
   "id": "6f10f849-0487-459f-8bcd-4e0835f77d69",
   "metadata": {},
   "source": [
    "**Cách 2**"
   ]
  },
  {
   "cell_type": "code",
   "execution_count": 27,
   "id": "72438fc6-f3c4-45ac-991f-1c09ba11268a",
   "metadata": {},
   "outputs": [],
   "source": [
    "plt.figure(figsize=(15,5)) \n",
    "\n",
    "ax1 = plt.subplot(1,2,1) \n",
    "ax2 = plt.subplot(1,2,2)\n",
    "\n",
    "ax1.plot(x,sin)\n",
    "ax2.plot(x,cos,c='red')\n",
    "\n",
    "ax1.set(xlabel='X_label', ylabel='Y_label', title='Sin Function')\n",
    "ax2.set(xlabel='X_label', ylabel='Y_label', title='Cos Function');\n",
    "\n",
    "plt.show()"
   ]
  },
  {
   "cell_type": "markdown",
   "id": "109170a5-69eb-461c-9e7e-dd4e3e07e10b",
   "metadata": {},
   "source": [
    "**Cách 3**"
   ]
  },
  {
   "cell_type": "code",
   "execution_count": 28,
   "id": "fbc212f8-a3a2-4190-ae8c-8a0975778e74",
   "metadata": {},
   "outputs": [],
   "source": [
    "fig, ax = plt.subplots(1,2, figsize=(15,5))\n",
    "ax[0].plot(x,sin)\n",
    "ax[1].plot(x,cos,c='red');\n",
    "plt.show()"
   ]
  },
  {
   "cell_type": "markdown",
   "id": "1cb3bdb0-e5a1-4e8e-ab4c-31062a7f3cde",
   "metadata": {},
   "source": [
    "### 2. Đồ thị phân phối (Histogram/Distribution)\n",
    "\n",
    "Hist/Dist plot đếm theo bins, bins được tính bằng cách lấy max và min rồi của dữ liệu rồi chia đều thành số bins mình muốn. Số bins càng lớn, chia khoảng càng nhỏ thì các chính xác!\n",
    "\n",
    "Để giúp các bạn dễ dàng hình dung cách sử dụng các đồ thị vào bài toán dữ liệu thực tế, chúng ta sẽ cùng nhau thực hành các kiểu đồ thị trên tập dữ liệu `iris`."
   ]
  },
  {
   "cell_type": "code",
   "execution_count": 30,
   "id": "b1c2b1b5-20fe-44ca-a369-5fdc84be315c",
   "metadata": {},
   "outputs": [],
   "source": [
    "iris = sns.load_dataset('iris')"
   ]
  },
  {
   "cell_type": "markdown",
   "id": "73b27ebe-ee1e-41fe-9e8f-f0a6872b7d1e",
   "metadata": {},
   "source": [
    "#### **Thực hành**: Vẽ đồ thị phân phối độ dài cánh hoa tương ứng cột `petal_length`.\n",
    "\n",
    "#### **Sử dụng Matplotlib**:\n",
    "\n",
    "![](./visualization/dist_plot.png)"
   ]
  },
  {
   "cell_type": "code",
   "execution_count": 34,
   "id": "a8ef95cb-3ca5-4929-add8-314065bdbbed",
   "metadata": {},
   "outputs": [],
   "source": [
    "plt.hist(iris['petal_length'], bins = 10)\n",
    "plt.show()"
   ]
  },
  {
   "cell_type": "markdown",
   "id": "b397a8ca-b299-4def-9a3b-33e6bae3b842",
   "metadata": {},
   "source": [
    "#### **Sử dụng Seaborn**:\n",
    "\n",
    "![](./visualization/dist_plot1.png)"
   ]
  },
  {
   "cell_type": "code",
   "execution_count": 37,
   "id": "d809ab19-c90a-4395-9eae-f6c9a7999b9c",
   "metadata": {},
   "outputs": [],
   "source": [
    "sns.histplot(iris, x = 'petal_length', bins = 10)\n",
    "plt.show()"
   ]
  },
  {
   "cell_type": "markdown",
   "id": "70e18305-62ab-4ed1-8e13-fd1d1173a411",
   "metadata": {},
   "source": [
    "Ngoài ra, ta có thể sử dụng hàm `distplot()` như ví dụ dưới đây:"
   ]
  },
  {
   "cell_type": "code",
   "execution_count": 38,
   "id": "f0f12f28-9b1b-474a-ab37-983d55654d87",
   "metadata": {},
   "outputs": [],
   "source": [
    "sns.displot(iris['petal_length'], bins = 10)\n",
    "plt.show()"
   ]
  },
  {
   "cell_type": "markdown",
   "id": "b7bfe80c-fd61-44a9-a604-a84fdef27722",
   "metadata": {},
   "source": [
    "### 3. Đồ thị phân tán (Scatter plot)\n",
    "\n",
    "Biểu đồ hay đồ thị phân tán là một đồ thị biểu hiện mối tương quan giữa nguyên nhân và kết quả hoặc giữa các yếu tố ảnh hưởng đến chất lượng.\n",
    "\n",
    "#### **Thực hành**: Vẽ đồ thị phân tán cánh hoa và đài hoa.\n",
    "\n",
    "#### **Sử dụng Matplotlib**:\n",
    "\n",
    "![](./visualization/scatter_plt.png)"
   ]
  },
  {
   "cell_type": "code",
   "execution_count": 45,
   "id": "8ec19995-12f4-4a13-8d3c-786f9906cc91",
   "metadata": {},
   "outputs": [],
   "source": [
    "plt.scatter(iris.petal_length, iris.petal_width, label='Petal')\n",
    "plt.scatter(iris.sepal_length, iris.sepal_width, marker='*', label = 'Sepal')\n",
    "plt.legend()\n",
    "plt.show()"
   ]
  },
  {
   "cell_type": "markdown",
   "id": "63074656-e2cc-4ea3-8339-19b0e315594e",
   "metadata": {},
   "source": [
    "#### **Sử dụng Seaborn**:\n",
    "\n",
    "![](./visualization/scatter_sns.png)"
   ]
  },
  {
   "cell_type": "code",
   "execution_count": 46,
   "id": "d9b7b591-a56b-4069-b67d-26f15f9a144e",
   "metadata": {},
   "outputs": [],
   "source": [
    "sns.scatterplot(data=iris, x='petal_length', y='petal_width', label='Petal')\n",
    "sns.scatterplot(data=iris, x='sepal_length', y='sepal_width', marker='*', label = 'Sepal')\n",
    "plt.legend()\n",
    "plt.show()"
   ]
  },
  {
   "cell_type": "markdown",
   "id": "813e9ab6-f18d-4dc6-ae44-24f819a221e4",
   "metadata": {},
   "source": [
    "#### **Thực hành**: Vẽ đồ thị phân tán độ dài và độ rộng đài hoa tương ứng cột `petal_length`.\n",
    "\n",
    "#### **Sử dụng Matplotlib**:\n",
    "\n",
    "![](./visualization/scatter_plt_classify.png)"
   ]
  },
  {
   "cell_type": "code",
   "execution_count": 50,
   "id": "b36f7b12-b181-4c45-a98d-b275212620c1",
   "metadata": {},
   "outputs": [],
   "source": [
    "plt.scatter(iris[iris['species'] == 'setosa'].petal_length, iris[iris['species'] == 'setosa'].petal_width, label='setosa')\n",
    "plt.scatter(iris[iris['species'] == 'versicolor'].petal_length, iris[iris['species'] == 'versicolor'].petal_width, label='versicolor')\n",
    "plt.scatter(iris[iris['species'] == 'virginica'].petal_length, iris[iris['species'] == 'virginica'].petal_width, label='virginica')\n",
    "plt.legend()\n",
    "plt.show()"
   ]
  },
  {
   "cell_type": "markdown",
   "id": "7023ebef-2d18-4b05-8d5e-408ee46ccec0",
   "metadata": {},
   "source": [
    "#### **Sử dụng Seaborn**:\n",
    "\n",
    "![](./visualization/scatter_sns_classify.png)"
   ]
  },
  {
   "cell_type": "code",
   "execution_count": 51,
   "id": "84b325ab-6b7a-48e1-ade9-fff7442af0ef",
   "metadata": {
    "tags": []
   },
   "outputs": [],
   "source": [
    "sns.scatterplot(data=iris, x='petal_length', y='petal_width', hue='species', palette = ['red','blue','brown'])\n",
    "plt.show()"
   ]
  },
  {
   "cell_type": "markdown",
   "id": "d67d7ed0-87e6-4a36-b051-2a535df606da",
   "metadata": {},
   "source": [
    "### 4. Đồ thị hộp (Box plot)\n",
    "\n",
    "#### **Thực hành**: Vẽ biểu đồ hộp độ dài đài hoa tương ứng cột `petal_length`.\n",
    "\n",
    "#### **Sử dụng Matplotlib**:\n",
    "\n",
    "![](./visualization/boxplot_plt.png)"
   ]
  },
  {
   "cell_type": "code",
   "execution_count": 55,
   "id": "2659e117-ee22-40b3-91be-22cc1e049496",
   "metadata": {},
   "outputs": [],
   "source": [
    "plt.boxplot(iris.petal_length, vert=False)\n",
    "plt.show()"
   ]
  },
  {
   "cell_type": "markdown",
   "id": "f8dbd67e-7458-4a7a-8dbf-0234d1f82881",
   "metadata": {},
   "source": [
    "#### **Sử dụng Seaborn**:\n",
    "\n",
    "![](./visualization/boxplot_sns.png)"
   ]
  },
  {
   "cell_type": "code",
   "execution_count": 56,
   "id": "076bb68f-9a24-4186-925a-5e38a553076d",
   "metadata": {},
   "outputs": [],
   "source": [
    "sns.boxplot(data=iris,x='petal_length', width=0.2)\n",
    "plt.show()"
   ]
  },
  {
   "cell_type": "markdown",
   "id": "2fd45f93-0ea1-4541-aace-871a505c9a2a",
   "metadata": {},
   "source": [
    "#### **Thực hành**: Vẽ biểu đồ hộp các cột dữ liệu trong `iris`.\n",
    "\n",
    "#### **Sử dụng Matplotlib**:\n",
    "\n",
    "![](./visualization/boxplot_plt1.png)"
   ]
  },
  {
   "cell_type": "code",
   "execution_count": 59,
   "id": "2b90ce93-35fc-4e68-bd57-b08417d7c1fb",
   "metadata": {},
   "outputs": [],
   "source": [
    "plt.boxplot([iris.petal_length,iris.petal_width,iris.sepal_length,iris.sepal_width])\n",
    "plt.show()"
   ]
  },
  {
   "cell_type": "markdown",
   "id": "e3cde5c3-682f-483d-8196-36499b82b4d2",
   "metadata": {},
   "source": [
    "#### **Sử dụng Seaborn**:\n",
    "\n",
    "![](./visualization/boxplot_sns1.png)"
   ]
  },
  {
   "cell_type": "code",
   "execution_count": 62,
   "id": "b74fa2a7-9b06-4fda-826f-2531f215d6cf",
   "metadata": {},
   "outputs": [],
   "source": [
    "sns.boxplot(data=iris, width=0.8)\n",
    "plt.show()"
   ]
  },
  {
   "cell_type": "markdown",
   "id": "16518f6a-06a0-48d8-ae28-0578ffc4405f",
   "metadata": {},
   "source": [
    "Ngoài ra, chúng ta có 1 vài hàm biến thể nhằm trực quan hoá mô tả phân bố dữ liệu, tham khảo 1 số hàm plot dưới đây:\n",
    "\n",
    "**Boxenplot**\n",
    "\n",
    "![](./visualization/boxenplot.png)"
   ]
  },
  {
   "cell_type": "code",
   "execution_count": 67,
   "id": "2e2e802a-b167-4a70-8ac7-d00eb8d86f6e",
   "metadata": {},
   "outputs": [],
   "source": [
    "sns.boxenplot(data=iris) #Thêm số lượng bins/điểm\n",
    "plt.show()"
   ]
  },
  {
   "cell_type": "markdown",
   "id": "4586b577-f38d-4d3e-a042-d1465441c3b0",
   "metadata": {},
   "source": [
    "**Violin plot**\n",
    "\n",
    "![](./visualization/violinplot.png)"
   ]
  },
  {
   "cell_type": "code",
   "execution_count": 70,
   "id": "0f8be82d-a8fc-4bab-9d5d-e57e23bafc44",
   "metadata": {},
   "outputs": [],
   "source": [
    "sns.violinplot(data=iris) #Thêm phân bố bên ngoài\n",
    "plt.show()"
   ]
  },
  {
   "cell_type": "markdown",
   "id": "aea83c67-a067-4bf8-a033-45e38c3aec78",
   "metadata": {},
   "source": [
    "Từ những đồ thị hộp trên, ta có thể đưa ra 1 số phân tích, ví dụ như sau:\n",
    "- Độ rộng cánh hoa (petal) và đài hoa (sepal) hẹp hơn độ dài \n",
    "- Độ rộng cánh hoa phân tán hơn độ rộng đài hoa \n",
    "- Các điểm dữ liệu tập trung trong khoảng percentile 50 nhiều hay ít \n",
    "- Có outlier ở độ rộng đài hoa\n",
    "..."
   ]
  },
  {
   "cell_type": "markdown",
   "id": "6d1ec3d9-14bd-4e73-96ae-8c24e6c7b7f4",
   "metadata": {},
   "source": [
    "#### **Lưu ý: Một số thuật ngữ hay gặp**\n",
    "\n",
    "- Decile: chia dữ liệu thành 10 phần bằng nhau.\n",
    "- Percentile: phần trăm vị trí xếp hạng (25%, 50%, 75%)\n",
    "- Quantile: xếp hạng giá trị trong bộ dữ liệu tại phần trăm percentile (i.e ở 50% có 50% số điểm dữ liệu lớn hơn và 50% số điểm dữ liệu bé hơn), thường chia dữ liệu thành 4 phần bằng nhau: [min-25%, 25%-50%, 50%-75%, 75%-max]\n",
    "\n",
    "![](https://chidokun.github.io/images/post/box-and-whisker-plot/1.png)"
   ]
  },
  {
   "cell_type": "markdown",
   "id": "548f065e-956c-4115-9b91-11f30de27a0b",
   "metadata": {},
   "source": [
    "### 5. Biểu đồ tròn (Pie chart)"
   ]
  },
  {
   "cell_type": "code",
   "execution_count": 72,
   "id": "2ce650bc-5671-4c57-aa38-fd1233443b64",
   "metadata": {},
   "outputs": [],
   "source": [
    "tips = sns.load_dataset('tips')"
   ]
  },
  {
   "cell_type": "markdown",
   "id": "7476ce3c-30e2-4273-8b8b-962e312117ee",
   "metadata": {},
   "source": [
    "#### **Thực hành**: Vẽ biểu đồ tròn thể hiện giới tính nam và nữ chiếm bao nhiêu phần trăm trong tổng hoá đơn.\n",
    "\n",
    "![](./visualization/pie.png)"
   ]
  },
  {
   "cell_type": "markdown",
   "id": "f0f260f0-c496-4326-9cda-3f6af6fdd813",
   "metadata": {},
   "source": [
    "#### **Sử dụng Matplotlib**:"
   ]
  },
  {
   "cell_type": "code",
   "execution_count": 73,
   "id": "bb8c9fc9-bb6f-4642-88d7-347eaa754591",
   "metadata": {},
   "outputs": [],
   "source": [
    "sex = tips.groupby('sex').total_bill.sum()\n",
    "plt.pie(sex, labels = sex.index, autopct='%.2f%%')\n",
    "plt.show()"
   ]
  },
  {
   "cell_type": "markdown",
   "id": "55149430-f967-4973-88cf-4c32229ae5b5",
   "metadata": {},
   "source": [
    "#### **Sử dụng Seaborn**:\n",
    "Seaborn thì không hỗ trợ trực tiếp **pie chart**, ta có thể sử dụng **bar plot chart** thay thế.\n",
    "\n",
    "![](./visualization/bar.png)"
   ]
  },
  {
   "cell_type": "code",
   "execution_count": 74,
   "id": "2bb21f22-38a2-4afe-9203-8708d02c2d4b",
   "metadata": {},
   "outputs": [],
   "source": [
    "sex1 = sex.reset_index() #chuyển về DataFrame\n",
    "sns.barplot(data=sex1, x='sex', y='total_bill')\n",
    "plt.show()"
   ]
  },
  {
   "cell_type": "markdown",
   "id": "78d32f88-ee71-43ba-b32c-77ddeb09fa5e",
   "metadata": {},
   "source": [
    "#### **Thực hành**: Vẽ biểu đồ tròn thể hiện giới phần trăm tổng hoá đơn tiêu thụ của nam theo ngày.\n",
    "\n",
    "![](./visualization/pie1.png)\n",
    "\n",
    "**Cách 1**"
   ]
  },
  {
   "cell_type": "code",
   "execution_count": 75,
   "id": "f7ad4837-2959-443e-9423-99781e9a2692",
   "metadata": {},
   "outputs": [],
   "source": [
    "male = tips[tips['sex'] == 'Male'].groupby('day').total_bill.sum()\n",
    "plt.figure(figsize=(6,6))\n",
    "plt.pie(male, labels = male.index, autopct='%.2f%%', explode=[0,0.1,0,0])\n",
    "plt.show()"
   ]
  },
  {
   "cell_type": "markdown",
   "id": "558af74b-8aab-4428-9961-314c918c0985",
   "metadata": {},
   "source": [
    "**Cách 2**"
   ]
  },
  {
   "cell_type": "code",
   "execution_count": 76,
   "id": "14165b82-4cc7-4031-81e8-7b59b93cdcdb",
   "metadata": {},
   "outputs": [],
   "source": [
    "male.plot(kind='pie', autopct='%.2f%%', explode=[0,0.1,0,0], figsize=(6,6))\n",
    "plt.show()"
   ]
  },
  {
   "cell_type": "markdown",
   "id": "55c94f72-20e9-44f9-b60f-f0f3f73e6336",
   "metadata": {},
   "source": [
    "#### **Bài tập về nhà**: Vẽ biểu đồ tròn thể hiện giới tính nam và nữ chiếm bao nhiêu phần trăm trong tổng hoá đơn phía bên trái và biểu đồ tròn thể hiện tổng hoá đơn tiêu thụ theo ngày phía bên phải như hình dưới đây.\n",
    "\n",
    "![](./visualization/joint_pie.png)"
   ]
  },
  {
   "cell_type": "markdown",
   "id": "609d24c4-6e69-4fe5-a7e9-aee6bb7303d6",
   "metadata": {},
   "source": [
    "### 6. Một số biểu đồ tương quan phức hợp\n",
    "\n",
    "#### 6.1 FacetGrid\n",
    "\n",
    "#### **Thực hành**: Vẽ biểu đồ phân tán thể hiện mối tương quan giữa tổng hoá đơn và tiền tips như hình dưới đây.\n",
    "\n",
    "![](./visualization/facetgrid.png)"
   ]
  },
  {
   "cell_type": "code",
   "execution_count": 78,
   "id": "7d460afd-ca9f-4dc0-a266-889a5a93499c",
   "metadata": {},
   "outputs": [],
   "source": [
    "g = sns.FacetGrid(data=tips,col='sex',row='smoker',hue='time') #hue cho mã màu, mã màu thay đổi dựa theo time\n",
    "g.map(sns.scatterplot,'total_bill','tip') \n",
    "plt.legend()\n",
    "plt.show()"
   ]
  },
  {
   "cell_type": "markdown",
   "id": "217cb4df-1f87-4a8d-a094-bb7e33ceff4a",
   "metadata": {},
   "source": [
    "#### 6.2 Swarm plot\n",
    "\n",
    "![](./visualization/swarm.png)"
   ]
  },
  {
   "cell_type": "code",
   "execution_count": 87,
   "id": "532fe740-691e-432e-8bc2-511f16a33658",
   "metadata": {},
   "outputs": [],
   "source": [
    "sns.swarmplot(data=tips,x='time',y='total_bill',hue='smoker') #biến rời rạc vs biến liên tục\n",
    "plt.show()"
   ]
  },
  {
   "cell_type": "markdown",
   "id": "eb9ea746-f1b6-499e-a451-69ec9ed9d4ed",
   "metadata": {},
   "source": [
    "#### 6.3 Catplot\n",
    "\n",
    "![](./visualization/swarm.png)"
   ]
  },
  {
   "cell_type": "code",
   "execution_count": 86,
   "id": "4d026c2a-6f97-477a-ba1b-33420ab10d5d",
   "metadata": {},
   "outputs": [],
   "source": [
    "sns.catplot(data=tips,x='time',y='total_bill',hue='smoker', kind='swarm');\n",
    "plt.show()"
   ]
  },
  {
   "cell_type": "markdown",
   "id": "8d1f4a6b-be8b-4bc7-8964-06f2047d40d1",
   "metadata": {},
   "source": [
    "![](./visualization/violin1.png)"
   ]
  },
  {
   "cell_type": "code",
   "execution_count": 88,
   "id": "ff6e45d1-53ba-47ce-acd7-965421584e32",
   "metadata": {},
   "outputs": [],
   "source": [
    "sns.catplot(data=tips,x='time',y='total_bill',hue='smoker', kind='violin')\n",
    "plt.show()"
   ]
  },
  {
   "cell_type": "markdown",
   "id": "8d39d263-9a2e-4393-bc55-9a59fbc8b394",
   "metadata": {},
   "source": [
    "![](./visualization/violin2.png)"
   ]
  },
  {
   "cell_type": "code",
   "execution_count": 89,
   "id": "f485c1a5-bec7-4b6a-b945-ee87d75f507f",
   "metadata": {},
   "outputs": [],
   "source": [
    "sns.catplot(data=tips,x='time',y='total_bill',row='sex', col='smoker',kind='violin')\n",
    "plt.show()"
   ]
  },
  {
   "cell_type": "markdown",
   "id": "c9980068-875c-4d33-b29d-7e5da4d4a634",
   "metadata": {},
   "source": [
    "#### 6.4 Pairplot\n",
    "\n",
    "Khi muốn nhìn tổng quan dữ liệu và mối tương quan giữa các chiều dữ liệu theo từng cặp với nhau, thì pair plots là lựa chọn vô cùng hoàn hảo. Ta có thể thử nghiệm đơn giản với các cột dữ liệu của tập `iris`.\n",
    "\n",
    "![](./visualization/pairplot.png)"
   ]
  },
  {
   "cell_type": "code",
   "execution_count": 90,
   "id": "1d7f5349-6d57-4ecb-8e25-d4d64eb6a97a",
   "metadata": {},
   "outputs": [],
   "source": [
    "sns.pairplot(iris, hue='species', height=1.5) \n",
    "plt.show()"
   ]
  },
  {
   "cell_type": "markdown",
   "id": "5d72c232-a57c-4022-9c46-63aa2fe6e328",
   "metadata": {},
   "source": [
    "Trong bài học tiếp theo, chúng ta sẽ cùng nhau tìm hiểu về Học máy, các bài toán trong Học máy và tiếp cận đến loại bài toán đầu tiên trong Học máy, đó là Học có giám sát."
   ]
  }
 ],
 "metadata": {
  "kernelspec": {
   "display_name": "Python 3",
   "language": "python",
   "name": "python3"
  },
  "language_info": {
   "codemirror_mode": {
    "name": "ipython",
    "version": 3
   },
   "file_extension": ".py",
   "mimetype": "text/x-python",
   "name": "python",
   "nbconvert_exporter": "python",
   "pygments_lexer": "ipython3",
   "version": "3.8.11"
  }
 },
 "nbformat": 4,
 "nbformat_minor": 5
}
