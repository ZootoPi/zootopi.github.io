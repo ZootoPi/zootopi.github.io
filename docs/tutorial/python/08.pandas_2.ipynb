{
 "cells": [
  {
   "cell_type": "markdown",
   "id": "3433a74e-10a1-413e-8c45-2df63e2275ab",
   "metadata": {
    "id": "3433a74e-10a1-413e-8c45-2df63e2275ab"
   },
   "source": [
    "# Bài 6: Giới thiệu về Pandas (tiếp theo)"
   ]
  },
  {
   "cell_type": "markdown",
   "id": "91ed8df8-fc8e-45fa-83f8-e71770b2b53e",
   "metadata": {
    "id": "91ed8df8-fc8e-45fa-83f8-e71770b2b53e"
   },
   "source": [
    "![](https://upload.wikimedia.org/wikipedia/commons/thumb/e/ed/Pandas_logo.svg/1200px-Pandas_logo.svg.png)"
   ]
  },
  {
   "cell_type": "markdown",
   "id": "92dc033d-7ace-408d-ad9c-ad68323be14b",
   "metadata": {},
   "source": [
    "## 1. Tổng quan"
   ]
  },
  {
   "cell_type": "markdown",
   "id": "9f19c5e8-7460-4a9a-ada1-5069dbc92e52",
   "metadata": {},
   "source": [
    "Để hiển thị hết các dòng và các cột của 1 DataFrame hoặc 1 Series, ta có thể tận dụng câu lệnh dưới đây:\n",
    "\n",
    "```python \n",
    "pd.options.display.max_rows = \u001d\n",
    "None \n",
    "pd.options.display.max_columns = None\n",
    "``` \n",
    "\n",
    "hoặc\n",
    "```python\n",
    "pd.set_option('display.max_rows', None)\n",
    "pd.set_option('display.max_columns', None)\n",
    "```\n",
    "\n",
    "Để thuận tiện cho việc phân tích dữ liệu thông qua các hàm cơ bản Pandas hỗ trợ, ta sử dụng dữ liệu `tips` trong buổi trước, có format như sau:\n",
    "\n",
    "|    |   total_bill |   tip | sex    | smoker   | day   | time   |   size |\n",
    "|---:|-------------:|------:|:-------|:---------|:------|:-------|-------:|\n",
    "|  0 |        16.99 |  1.01 | Female | No       | Sun   | Dinner |      2 |\n",
    "|  1 |        10.34 |  1.66 | Male   | No       | Sun   | Dinner |      3 |\n",
    "|  2 |        21.01 |  3.5  | Male   | No       | Sun   | Dinner |      3 |\n",
    "|  3 |        23.68 |  3.31 | Male   | No       | Sun   | Dinner |      2 |\n",
    "|  4 |        24.59 |  3.61 | Female | No       | Sun   | Dinner |      4 |"
   ]
  },
  {
   "cell_type": "code",
   "execution_count": 1,
   "id": "6cbac726-974c-4c5f-a0b9-114b13ca149b",
   "metadata": {},
   "outputs": [],
   "source": [
    "import pandas as pd # import thư viện pandas để phân tích dữ liệu\n",
    "import seaborn as sns # import thư viện seaborn để load dữ liệu\n",
    "tips_df = sns.load_dataset('tips')"
   ]
  },
  {
   "cell_type": "markdown",
   "id": "4da55c0e-5965-4a31-81fd-3a2d5f0136a4",
   "metadata": {
    "id": "4da55c0e-5965-4a31-81fd-3a2d5f0136a4"
   },
   "source": [
    "## 2. Các hàm cơ bản\n",
    "\n",
    "### 2.1. Indexing"
   ]
  },
  {
   "cell_type": "markdown",
   "id": "ebec19be-f26e-4997-a409-5a3e83fb0a42",
   "metadata": {
    "id": "ebec19be-f26e-4997-a409-5a3e83fb0a42"
   },
   "source": [
    "Ở phần trước, chúng ta đã nắm được cách khởi tạo 1 DataFrame hoặc 1 Series trong Pandas cũng như cách ta có thể đọc 1 file từ trên mạng và trong máy của bạn.\n",
    "\n",
    "Vậy nếu muốn truy cập vào 1 phần tử cụ thể trong DataFrame hoặc Series thì ta phải làm như thế nào? \n",
    "\n",
    "Để làm được điều này, Pandas có hỗ trợ:\n",
    "\n",
    "- `[]`: chọn các cột trong DataFrame và trả về 1 Series.\n",
    "\n",
    "Chọn tất cả các dòng (slicing):\n",
    "- `loc` (location): `df.loc[row_label,col_label]`, `series.loc[row_label]`\n",
    "  \n",
    "  `loc` nhận tên của các hàng và cột, và trả về 1 Series hoặc DataFrame. Ta có thể sử dụng `loc` để lấy toàn bộ hàng hoặc cột, cũng như các phần nhỏ của chúng. \n",
    "\n",
    "- `iloc` (index location): `df.iloc[row_index,col_index]`, `series.iloc[row_index]`\n",
    "\n",
    "  `iloc` nhận các index của các hàng và cột, và trả về 1 Series hoặc DataFrame. Tương tự như `loc`, ta có thể sử dụng `loc` để lấy toàn bộ hàng hoặc cột, cũng như các phần nhỏ của chúng. \n",
    "\n",
    "Chọn 1 cell:\n",
    "- `at`:  `df.at[row_label,col_label]`\n",
    "\n",
    "  `at` nhận tên của các hàng và cột, và trả về một giá trị dữ liệu duy nhất.\n",
    "\n",
    "- `iat`: `df.iat[row_index,col_index]`\n",
    "  \n",
    "  `iat` nhận index của các hàng và cột, và trả về một giá trị dữ liệu duy nhất.\n"
   ]
  },
  {
   "cell_type": "markdown",
   "id": "ROir51UfL1S4",
   "metadata": {
    "id": "ROir51UfL1S4"
   },
   "source": [
    "#### **Thực hành**: Lấy giá trị ở hàng thứ 2 cột `total_bill` (10.34) trong `tips_df`"
   ]
  },
  {
   "cell_type": "code",
   "execution_count": 2,
   "id": "28bca293-0372-4768-81c3-37d8e60ba8cb",
   "metadata": {
    "colab": {
     "base_uri": "https://localhost:8080/"
    },
    "executionInfo": {
     "elapsed": 21,
     "status": "ok",
     "timestamp": 1630858960181,
     "user": {
      "displayName": "Hanh Hong",
      "photoUrl": "https://lh3.googleusercontent.com/a-/AOh14GgTGrVmuc_fqpti3RtfBoBV5xUv39ZrkX4aNbIspKA=s64",
      "userId": "02640640021897565157"
     },
     "user_tz": -420
    },
    "id": "28bca293-0372-4768-81c3-37d8e60ba8cb",
    "outputId": "64c8335a-b282-4376-b44a-ae30e85c8253",
    "tags": []
   },
   "outputs": [
    {
     "data": {
      "text/plain": [
       "10.34"
      ]
     },
     "execution_count": 2,
     "metadata": {},
     "output_type": "execute_result"
    }
   ],
   "source": [
    "tips_df.loc[1,'total_bill']"
   ]
  },
  {
   "cell_type": "code",
   "execution_count": 3,
   "id": "HTcPB4mDMEXw",
   "metadata": {
    "colab": {
     "base_uri": "https://localhost:8080/"
    },
    "executionInfo": {
     "elapsed": 16,
     "status": "ok",
     "timestamp": 1630858960181,
     "user": {
      "displayName": "Hanh Hong",
      "photoUrl": "https://lh3.googleusercontent.com/a-/AOh14GgTGrVmuc_fqpti3RtfBoBV5xUv39ZrkX4aNbIspKA=s64",
      "userId": "02640640021897565157"
     },
     "user_tz": -420
    },
    "id": "HTcPB4mDMEXw",
    "outputId": "c1d98a84-26b6-4fa9-cb76-107e8e0513b5"
   },
   "outputs": [
    {
     "data": {
      "text/plain": [
       "10.34"
      ]
     },
     "execution_count": 3,
     "metadata": {},
     "output_type": "execute_result"
    }
   ],
   "source": [
    "tips_df.iloc[1,0]"
   ]
  },
  {
   "cell_type": "code",
   "execution_count": 4,
   "id": "z0kO0QzZMI26",
   "metadata": {
    "colab": {
     "base_uri": "https://localhost:8080/"
    },
    "executionInfo": {
     "elapsed": 15,
     "status": "ok",
     "timestamp": 1630858960182,
     "user": {
      "displayName": "Hanh Hong",
      "photoUrl": "https://lh3.googleusercontent.com/a-/AOh14GgTGrVmuc_fqpti3RtfBoBV5xUv39ZrkX4aNbIspKA=s64",
      "userId": "02640640021897565157"
     },
     "user_tz": -420
    },
    "id": "z0kO0QzZMI26",
    "outputId": "93191c00-67f2-4f33-e0bf-9e7deda931cb"
   },
   "outputs": [
    {
     "data": {
      "text/plain": [
       "10.34"
      ]
     },
     "execution_count": 4,
     "metadata": {},
     "output_type": "execute_result"
    }
   ],
   "source": [
    "tips_df.at[1,'total_bill']"
   ]
  },
  {
   "cell_type": "code",
   "execution_count": 5,
   "id": "M2SkHi5zMQdV",
   "metadata": {
    "colab": {
     "base_uri": "https://localhost:8080/"
    },
    "executionInfo": {
     "elapsed": 13,
     "status": "ok",
     "timestamp": 1630858960182,
     "user": {
      "displayName": "Hanh Hong",
      "photoUrl": "https://lh3.googleusercontent.com/a-/AOh14GgTGrVmuc_fqpti3RtfBoBV5xUv39ZrkX4aNbIspKA=s64",
      "userId": "02640640021897565157"
     },
     "user_tz": -420
    },
    "id": "M2SkHi5zMQdV",
    "outputId": "b0539533-9e50-42ce-f1d1-aa257fc08a39"
   },
   "outputs": [
    {
     "data": {
      "text/plain": [
       "10.34"
      ]
     },
     "execution_count": 5,
     "metadata": {},
     "output_type": "execute_result"
    }
   ],
   "source": [
    "tips_df.iat[1,0]"
   ]
  },
  {
   "cell_type": "markdown",
   "id": "XMaAV870OdE-",
   "metadata": {
    "id": "XMaAV870OdE-"
   },
   "source": [
    "#### **Thực hành**: Lấy DataFrame dưới đây từ `tips_df`:\n",
    "\n",
    "|    |   total_bill |   tip | sex    |\n",
    "|---:|-------------:|------:|:-------|\n",
    "|  0 |        16.99 |  1.01 | Female |\n",
    "|  1 |        10.34 |  1.66 | Male   |\n",
    "|  2 |        21.01 |  3.5  | Male   |\n",
    "|  3 |        23.68 |  3.31 | Male   |\n",
    "|  4 |        24.59 |  3.61 | Female |\n",
    "|  5 |        25.29 |  4.71 | Male   |"
   ]
  },
  {
   "cell_type": "code",
   "execution_count": 6,
   "id": "aa50f05b-e2c6-44b9-95a1-c96ede3f6313",
   "metadata": {
    "colab": {
     "base_uri": "https://localhost:8080/",
     "height": 235
    },
    "executionInfo": {
     "elapsed": 11,
     "status": "ok",
     "timestamp": 1630858960182,
     "user": {
      "displayName": "Hanh Hong",
      "photoUrl": "https://lh3.googleusercontent.com/a-/AOh14GgTGrVmuc_fqpti3RtfBoBV5xUv39ZrkX4aNbIspKA=s64",
      "userId": "02640640021897565157"
     },
     "user_tz": -420
    },
    "id": "aa50f05b-e2c6-44b9-95a1-c96ede3f6313",
    "outputId": "9e4d95fb-052f-444d-91fe-9ff2caf7e744",
    "tags": []
   },
   "outputs": [],
   "source": [
    "tips_df.loc[:5,:'sex'] # bao gồm tên cột, hàng bắt đầu và bao gồm tên cột, hàng kết thúc"
   ]
  },
  {
   "cell_type": "code",
   "execution_count": 7,
   "id": "tHVtogZCO-xD",
   "metadata": {
    "colab": {
     "base_uri": "https://localhost:8080/",
     "height": 235
    },
    "executionInfo": {
     "elapsed": 569,
     "status": "ok",
     "timestamp": 1630858960741,
     "user": {
      "displayName": "Hanh Hong",
      "photoUrl": "https://lh3.googleusercontent.com/a-/AOh14GgTGrVmuc_fqpti3RtfBoBV5xUv39ZrkX4aNbIspKA=s64",
      "userId": "02640640021897565157"
     },
     "user_tz": -420
    },
    "id": "tHVtogZCO-xD",
    "outputId": "d812afff-a6c4-47ad-d6e2-03d9d3069b14"
   },
   "outputs": [],
   "source": [
    "tips_df.iloc[:6,:3] #bao gồm index bắt đầu, không bao gồm index kết thúc"
   ]
  },
  {
   "cell_type": "markdown",
   "id": "fnnjt5QrPgnL",
   "metadata": {
    "id": "fnnjt5QrPgnL"
   },
   "source": [
    "#### **Thực hành**: Lấy hết thông tin của bảng ghi đầu tiên trong `tips_df`\n",
    "\n",
    "|            | 0      |\n",
    "|:-----------|:-------|\n",
    "| total_bill | 16.99  |\n",
    "| tip        | 1.01   |\n",
    "| sex        | Female |\n",
    "| smoker     | No     |\n",
    "| day        | Sun    |\n",
    "| time       | Dinner |\n",
    "| size       | 2      |\n",
    "| wow        | nan    |"
   ]
  },
  {
   "cell_type": "code",
   "execution_count": 8,
   "id": "397e6320-9f42-4808-9370-3bde243d1926",
   "metadata": {
    "colab": {
     "base_uri": "https://localhost:8080/"
    },
    "executionInfo": {
     "elapsed": 34,
     "status": "ok",
     "timestamp": 1630858960759,
     "user": {
      "displayName": "Hanh Hong",
      "photoUrl": "https://lh3.googleusercontent.com/a-/AOh14GgTGrVmuc_fqpti3RtfBoBV5xUv39ZrkX4aNbIspKA=s64",
      "userId": "02640640021897565157"
     },
     "user_tz": -420
    },
    "id": "397e6320-9f42-4808-9370-3bde243d1926",
    "outputId": "04764a95-e61b-486a-b9f5-71c2bc28997a",
    "tags": []
   },
   "outputs": [],
   "source": [
    "tips_df.loc[0,] #tips_df.loc[0] "
   ]
  },
  {
   "cell_type": "code",
   "execution_count": 9,
   "id": "qLelTf8xQJg8",
   "metadata": {
    "colab": {
     "base_uri": "https://localhost:8080/"
    },
    "executionInfo": {
     "elapsed": 32,
     "status": "ok",
     "timestamp": 1630858960760,
     "user": {
      "displayName": "Hanh Hong",
      "photoUrl": "https://lh3.googleusercontent.com/a-/AOh14GgTGrVmuc_fqpti3RtfBoBV5xUv39ZrkX4aNbIspKA=s64",
      "userId": "02640640021897565157"
     },
     "user_tz": -420
    },
    "id": "qLelTf8xQJg8",
    "outputId": "4c9580c0-ce9f-49df-bbd0-d6e07ff62525"
   },
   "outputs": [],
   "source": [
    "tips_df.iloc[0,] #tips_df.iloc[0]"
   ]
  },
  {
   "cell_type": "markdown",
   "id": "nRv7Y-jjQmJE",
   "metadata": {
    "id": "nRv7Y-jjQmJE"
   },
   "source": [
    "#### **Thực hành**: Lấy tất cả các thông tin cột `total_bill` trong `tips_df` và ép định dạng về DataFrame."
   ]
  },
  {
   "cell_type": "code",
   "execution_count": 10,
   "id": "c3a827b2-9823-4fa6-a7f2-f521461893a4",
   "metadata": {
    "colab": {
     "base_uri": "https://localhost:8080/",
     "height": 419
    },
    "executionInfo": {
     "elapsed": 30,
     "status": "ok",
     "timestamp": 1630858960760,
     "user": {
      "displayName": "Hanh Hong",
      "photoUrl": "https://lh3.googleusercontent.com/a-/AOh14GgTGrVmuc_fqpti3RtfBoBV5xUv39ZrkX4aNbIspKA=s64",
      "userId": "02640640021897565157"
     },
     "user_tz": -420
    },
    "id": "c3a827b2-9823-4fa6-a7f2-f521461893a4",
    "outputId": "8678a62a-675b-44eb-b0ba-31e897c90325",
    "tags": []
   },
   "outputs": [],
   "source": [
    "tips_df['total_bill'].to_frame() # cách 1"
   ]
  },
  {
   "cell_type": "code",
   "execution_count": 11,
   "id": "0eec6ea5-acfe-4941-b040-745836d40572",
   "metadata": {
    "colab": {
     "base_uri": "https://localhost:8080/",
     "height": 419
    },
    "executionInfo": {
     "elapsed": 29,
     "status": "ok",
     "timestamp": 1630858960760,
     "user": {
      "displayName": "Hanh Hong",
      "photoUrl": "https://lh3.googleusercontent.com/a-/AOh14GgTGrVmuc_fqpti3RtfBoBV5xUv39ZrkX4aNbIspKA=s64",
      "userId": "02640640021897565157"
     },
     "user_tz": -420
    },
    "id": "0eec6ea5-acfe-4941-b040-745836d40572",
    "outputId": "7e0c514d-62f9-46ab-a8a7-0c0a926dddef",
    "tags": []
   },
   "outputs": [],
   "source": [
    "pd.DataFrame(tips_df['total_bill']) # cách 2"
   ]
  },
  {
   "cell_type": "code",
   "execution_count": 12,
   "id": "58238d47-3b57-42a7-957b-40617f96e030",
   "metadata": {
    "colab": {
     "base_uri": "https://localhost:8080/",
     "height": 419
    },
    "executionInfo": {
     "elapsed": 29,
     "status": "ok",
     "timestamp": 1630858960761,
     "user": {
      "displayName": "Hanh Hong",
      "photoUrl": "https://lh3.googleusercontent.com/a-/AOh14GgTGrVmuc_fqpti3RtfBoBV5xUv39ZrkX4aNbIspKA=s64",
      "userId": "02640640021897565157"
     },
     "user_tz": -420
    },
    "id": "58238d47-3b57-42a7-957b-40617f96e030",
    "outputId": "c49867ed-b59f-47f6-b83d-7a78ed1549d7",
    "tags": []
   },
   "outputs": [],
   "source": [
    "tips_df[['total_bill']] # cách 3"
   ]
  },
  {
   "cell_type": "markdown",
   "id": "F9DrACRrRVPG",
   "metadata": {
    "id": "F9DrACRrRVPG"
   },
   "source": [
    "#### **Bài tập**: Lấy DataFrame dưới đây trong `tips_df`.\n",
    "\n",
    "|    |   total_bill |   tip | sex    | smoker   | day   | time   |\n",
    "|---:|-------------:|------:|:-------|:---------|:------|:-------|\n",
    "|  3 |        23.68 |  3.31 | Male   | No       | Sun   | Dinner |\n",
    "|  4 |        24.59 |  3.61 | Female | No       | Sun   | Dinner |"
   ]
  },
  {
   "cell_type": "code",
   "execution_count": 13,
   "id": "YBkLztgIRhZ5",
   "metadata": {
    "colab": {
     "base_uri": "https://localhost:8080/",
     "height": 111
    },
    "executionInfo": {
     "elapsed": 28,
     "status": "ok",
     "timestamp": 1630858960761,
     "user": {
      "displayName": "Hanh Hong",
      "photoUrl": "https://lh3.googleusercontent.com/a-/AOh14GgTGrVmuc_fqpti3RtfBoBV5xUv39ZrkX4aNbIspKA=s64",
      "userId": "02640640021897565157"
     },
     "user_tz": -420
    },
    "id": "YBkLztgIRhZ5",
    "outputId": "af63effa-65c6-46e8-851d-d8cbb182f902"
   },
   "outputs": [],
   "source": [
    "tips_df.loc[3:4,:'time'] # cách 1"
   ]
  },
  {
   "cell_type": "code",
   "execution_count": 14,
   "id": "YcCsuJLNSDO4",
   "metadata": {
    "colab": {
     "base_uri": "https://localhost:8080/",
     "height": 111
    },
    "executionInfo": {
     "elapsed": 28,
     "status": "ok",
     "timestamp": 1630858960761,
     "user": {
      "displayName": "Hanh Hong",
      "photoUrl": "https://lh3.googleusercontent.com/a-/AOh14GgTGrVmuc_fqpti3RtfBoBV5xUv39ZrkX4aNbIspKA=s64",
      "userId": "02640640021897565157"
     },
     "user_tz": -420
    },
    "id": "YcCsuJLNSDO4",
    "outputId": "2677319f-136f-4bbc-e76b-710b5ea526d9"
   },
   "outputs": [],
   "source": [
    "tips_df.iloc[3:5,:6] # cách 2"
   ]
  },
  {
   "cell_type": "markdown",
   "id": "P2a89poHSLfb",
   "metadata": {
    "id": "P2a89poHSLfb"
   },
   "source": [
    "#### **Bài tập**: Lấy 5 dòng đầu của 2 cột `sex` và `total_bill` trong `tips_df`."
   ]
  },
  {
   "cell_type": "code",
   "execution_count": 15,
   "id": "JwrzKP-ASKKP",
   "metadata": {
    "colab": {
     "base_uri": "https://localhost:8080/",
     "height": 204
    },
    "executionInfo": {
     "elapsed": 27,
     "status": "ok",
     "timestamp": 1630858960761,
     "user": {
      "displayName": "Hanh Hong",
      "photoUrl": "https://lh3.googleusercontent.com/a-/AOh14GgTGrVmuc_fqpti3RtfBoBV5xUv39ZrkX4aNbIspKA=s64",
      "userId": "02640640021897565157"
     },
     "user_tz": -420
    },
    "id": "JwrzKP-ASKKP",
    "outputId": "fba89837-2834-4689-e610-012dd1afdb80"
   },
   "outputs": [],
   "source": [
    "tips_df[['sex','total_bill']].head(5) # cách 1"
   ]
  },
  {
   "cell_type": "code",
   "execution_count": 16,
   "id": "fZcu942PSg6W",
   "metadata": {
    "colab": {
     "base_uri": "https://localhost:8080/",
     "height": 204
    },
    "executionInfo": {
     "elapsed": 26,
     "status": "ok",
     "timestamp": 1630858960761,
     "user": {
      "displayName": "Hanh Hong",
      "photoUrl": "https://lh3.googleusercontent.com/a-/AOh14GgTGrVmuc_fqpti3RtfBoBV5xUv39ZrkX4aNbIspKA=s64",
      "userId": "02640640021897565157"
     },
     "user_tz": -420
    },
    "id": "fZcu942PSg6W",
    "outputId": "3d7ca0eb-16b1-4f13-9b41-4d7aa296a706"
   },
   "outputs": [],
   "source": [
    "tips_df.loc[:4,['sex','total_bill']] # cách 2"
   ]
  },
  {
   "cell_type": "code",
   "execution_count": 17,
   "id": "8tm6piIGSvIy",
   "metadata": {
    "colab": {
     "base_uri": "https://localhost:8080/",
     "height": 204
    },
    "executionInfo": {
     "elapsed": 26,
     "status": "ok",
     "timestamp": 1630858960761,
     "user": {
      "displayName": "Hanh Hong",
      "photoUrl": "https://lh3.googleusercontent.com/a-/AOh14GgTGrVmuc_fqpti3RtfBoBV5xUv39ZrkX4aNbIspKA=s64",
      "userId": "02640640021897565157"
     },
     "user_tz": -420
    },
    "id": "8tm6piIGSvIy",
    "outputId": "20123df8-9fdb-44ec-fc58-b589bbec66e8"
   },
   "outputs": [],
   "source": [
    "tips_df.iloc[:5,[2,0]] # cách 3"
   ]
  },
  {
   "cell_type": "markdown",
   "id": "3a816f2a-e442-4e32-ab8d-c8a54821fd52",
   "metadata": {
    "id": "3a816f2a-e442-4e32-ab8d-c8a54821fd52"
   },
   "source": [
    "### 2.2. Masking/Filtering"
   ]
  },
  {
   "cell_type": "markdown",
   "id": "glpboHU7Vp1N",
   "metadata": {
    "id": "glpboHU7Vp1N"
   },
   "source": [
    "Trong thực tế, đối với 1 tập dữ liệu có cấu trúc, đôi khi ta muốn lọc dữ liệu theo 1 số tiêu chí nhất định nhằm đáp ứng nhu cầu bài toán đề ra, ví dụ phân tích tập khách hàng nữ, phân tích tập khách hàng V.I.P có hoá đơn cao hơn 1 mức nhất định, hay tổng hợp và chỉ trích xuất dữ liệu trong 1 khoảng thời gian cần để phân tích. Để đáp ứng nhu cầu trên, Pandas có 1 số cách phổ biến như sau:\n",
    "- Sử dụng cấu trúc `df_name.loc[conditions]`\n",
    "- Sử dụng cấu trúc `df_name[conditions]`\n",
    "- Sử dụng hàm `query()`.\n",
    "\n",
    "#### **Thực hành**: Lọc tất cả các thông tin của những khác hàng là nữ trong `tips_df`"
   ]
  },
  {
   "cell_type": "code",
   "execution_count": 18,
   "id": "l_hsthMEX-ic",
   "metadata": {
    "colab": {
     "base_uri": "https://localhost:8080/",
     "height": 142
    },
    "executionInfo": {
     "elapsed": 26,
     "status": "ok",
     "timestamp": 1630858960762,
     "user": {
      "displayName": "Hanh Hong",
      "photoUrl": "https://lh3.googleusercontent.com/a-/AOh14GgTGrVmuc_fqpti3RtfBoBV5xUv39ZrkX4aNbIspKA=s64",
      "userId": "02640640021897565157"
     },
     "user_tz": -420
    },
    "id": "l_hsthMEX-ic",
    "outputId": "3461e4af-7bc4-4f50-f631-29a620b208bb"
   },
   "outputs": [],
   "source": [
    "tips_df.loc[tips_df['sex'] == 'Female'] # cách 1"
   ]
  },
  {
   "cell_type": "code",
   "execution_count": 19,
   "id": "0niM7eEwXA8m",
   "metadata": {
    "colab": {
     "base_uri": "https://localhost:8080/",
     "height": 142
    },
    "executionInfo": {
     "elapsed": 25,
     "status": "ok",
     "timestamp": 1630858960762,
     "user": {
      "displayName": "Hanh Hong",
      "photoUrl": "https://lh3.googleusercontent.com/a-/AOh14GgTGrVmuc_fqpti3RtfBoBV5xUv39ZrkX4aNbIspKA=s64",
      "userId": "02640640021897565157"
     },
     "user_tz": -420
    },
    "id": "0niM7eEwXA8m",
    "outputId": "31e42be6-8a7e-49c7-ba51-723a980079f6"
   },
   "outputs": [],
   "source": [
    "tips_df[tips_df['sex'] == 'Female'] # cách 2"
   ]
  },
  {
   "cell_type": "code",
   "execution_count": 20,
   "id": "c2847f27-2188-4d67-aa68-890144ca0468",
   "metadata": {
    "colab": {
     "base_uri": "https://localhost:8080/",
     "height": 142
    },
    "executionInfo": {
     "elapsed": 25,
     "status": "ok",
     "timestamp": 1630858960762,
     "user": {
      "displayName": "Hanh Hong",
      "photoUrl": "https://lh3.googleusercontent.com/a-/AOh14GgTGrVmuc_fqpti3RtfBoBV5xUv39ZrkX4aNbIspKA=s64",
      "userId": "02640640021897565157"
     },
     "user_tz": -420
    },
    "id": "c2847f27-2188-4d67-aa68-890144ca0468",
    "outputId": "32f65bdd-40e4-4540-8eec-b6aeee584ffe",
    "tags": []
   },
   "outputs": [],
   "source": [
    "tips_df.query(\"sex == 'Female'\") # cách 3"
   ]
  },
  {
   "cell_type": "markdown",
   "id": "Ddeg7eyJXKpk",
   "metadata": {
    "id": "Ddeg7eyJXKpk"
   },
   "source": [
    "#### **Thực hành**: Lọc tất cả các thông tin của những khác hàng là nữ có hút thuốc trong `tips_df`"
   ]
  },
  {
   "cell_type": "code",
   "execution_count": 21,
   "id": "1474fb88-a203-4715-8037-079a70085210",
   "metadata": {
    "colab": {
     "base_uri": "https://localhost:8080/",
     "height": 142
    },
    "executionInfo": {
     "elapsed": 28,
     "status": "ok",
     "timestamp": 1630858960766,
     "user": {
      "displayName": "Hanh Hong",
      "photoUrl": "https://lh3.googleusercontent.com/a-/AOh14GgTGrVmuc_fqpti3RtfBoBV5xUv39ZrkX4aNbIspKA=s64",
      "userId": "02640640021897565157"
     },
     "user_tz": -420
    },
    "id": "1474fb88-a203-4715-8037-079a70085210",
    "outputId": "782d5377-716c-4a81-9c59-fd9c22226e24",
    "tags": []
   },
   "outputs": [],
   "source": [
    "tips_df[(tips_df['sex'] == 'Female') & (tips_df['smoker'] == 'Yes')] # cách 1"
   ]
  },
  {
   "cell_type": "code",
   "execution_count": 22,
   "id": "gUdUVQO9XO0d",
   "metadata": {
    "colab": {
     "base_uri": "https://localhost:8080/",
     "height": 142
    },
    "executionInfo": {
     "elapsed": 28,
     "status": "ok",
     "timestamp": 1630858960766,
     "user": {
      "displayName": "Hanh Hong",
      "photoUrl": "https://lh3.googleusercontent.com/a-/AOh14GgTGrVmuc_fqpti3RtfBoBV5xUv39ZrkX4aNbIspKA=s64",
      "userId": "02640640021897565157"
     },
     "user_tz": -420
    },
    "id": "gUdUVQO9XO0d",
    "outputId": "0a303768-ab09-4192-b182-5ddc0ac5dcd0"
   },
   "outputs": [],
   "source": [
    "tips_df.loc[(tips_df['sex'] == 'Female') & (tips_df['smoker'] == 'Yes')] # cách 2"
   ]
  },
  {
   "cell_type": "code",
   "execution_count": 23,
   "id": "PTEsdCvifleh",
   "metadata": {
    "colab": {
     "base_uri": "https://localhost:8080/",
     "height": 142
    },
    "executionInfo": {
     "elapsed": 27,
     "status": "ok",
     "timestamp": 1630858960766,
     "user": {
      "displayName": "Hanh Hong",
      "photoUrl": "https://lh3.googleusercontent.com/a-/AOh14GgTGrVmuc_fqpti3RtfBoBV5xUv39ZrkX4aNbIspKA=s64",
      "userId": "02640640021897565157"
     },
     "user_tz": -420
    },
    "id": "PTEsdCvifleh",
    "outputId": "3e0862a1-1866-4f65-f0bc-43c72a5c2191"
   },
   "outputs": [],
   "source": [
    "tips_df.query(\"sex == 'Female' & smoker == 'Yes'\") # cách 3"
   ]
  },
  {
   "cell_type": "markdown",
   "id": "TE2Mtbn5h2Hs",
   "metadata": {
    "id": "TE2Mtbn5h2Hs"
   },
   "source": [
    "#### **Bài tập**: \n",
    "\n",
    "1. Lọc tất cả các bản ghi chứa thông tin của khách hàng \u001d\n",
    "nam có tổng hoá đơn lớn hơn 10.\n",
    "2. Lọc tất cả các bản ghi chứa thông tin của khách hàng không hút thuốc và dùng suất ăn cho 3 người trở lên.\n",
    "3. Lọc tất cả các bản ghi chứa thông tin của khách hàng \u001d\n",
    "nữ ăn tối tại nhà hàng vào cuối tuần (Thứ 7, Chủ nhật) và tip cho nhân viên từ 5 đô trở lên.\n",
    "\n",
    "#### **Bài giải**: \n",
    "\n",
    "1. Lọc tất cả các bản ghi chứa thông tin của khách hàng \u001d\n",
    "nam có tổng hoá đơn lớn hơn 10."
   ]
  },
  {
   "cell_type": "code",
   "execution_count": 24,
   "id": "6chN7eqxh1hZ",
   "metadata": {
    "colab": {
     "base_uri": "https://localhost:8080/",
     "height": 142
    },
    "executionInfo": {
     "elapsed": 27,
     "status": "ok",
     "timestamp": 1630858960767,
     "user": {
      "displayName": "Hanh Hong",
      "photoUrl": "https://lh3.googleusercontent.com/a-/AOh14GgTGrVmuc_fqpti3RtfBoBV5xUv39ZrkX4aNbIspKA=s64",
      "userId": "02640640021897565157"
     },
     "user_tz": -420
    },
    "id": "6chN7eqxh1hZ",
    "outputId": "45b46459-4bfa-40eb-e2d0-0db589624fca"
   },
   "outputs": [],
   "source": [
    "condition1 = (tips_df['sex'] == 'Male') & (tips_df['total_bill'] > 10)\n",
    "tips_df[condition1] # cách 1"
   ]
  },
  {
   "cell_type": "code",
   "execution_count": 25,
   "id": "gMI1EgL-kWM8",
   "metadata": {
    "colab": {
     "base_uri": "https://localhost:8080/",
     "height": 142
    },
    "executionInfo": {
     "elapsed": 407,
     "status": "ok",
     "timestamp": 1630858966875,
     "user": {
      "displayName": "Hanh Hong",
      "photoUrl": "https://lh3.googleusercontent.com/a-/AOh14GgTGrVmuc_fqpti3RtfBoBV5xUv39ZrkX4aNbIspKA=s64",
      "userId": "02640640021897565157"
     },
     "user_tz": -420
    },
    "id": "gMI1EgL-kWM8",
    "outputId": "d063393f-8d47-4d5e-96ff-75123ec10025"
   },
   "outputs": [],
   "source": [
    "tips_df.loc[condition1] # cách 2"
   ]
  },
  {
   "cell_type": "code",
   "execution_count": 52,
   "id": "SpRMRnUXkuHR",
   "metadata": {
    "colab": {
     "base_uri": "https://localhost:8080/",
     "height": 142
    },
    "executionInfo": {
     "elapsed": 3,
     "status": "ok",
     "timestamp": 1630858968716,
     "user": {
      "displayName": "Hanh Hong",
      "photoUrl": "https://lh3.googleusercontent.com/a-/AOh14GgTGrVmuc_fqpti3RtfBoBV5xUv39ZrkX4aNbIspKA=s64",
      "userId": "02640640021897565157"
     },
     "user_tz": -420
    },
    "id": "SpRMRnUXkuHR",
    "outputId": "18b5fba8-ad5c-47e3-f96c-2fbac01103e2"
   },
   "outputs": [],
   "source": [
    "tips_df.query(\"sex == 'Male' & total_bill > 10\") # cách 3"
   ]
  },
  {
   "cell_type": "markdown",
   "id": "cw4VhCzqknNp",
   "metadata": {
    "id": "cw4VhCzqknNp"
   },
   "source": [
    "2. Lọc tất cả các bản ghi chứa thông tin của khách hàng không hút thuốc và dùng suất ăn cho 3 người trở lên."
   ]
  },
  {
   "cell_type": "code",
   "execution_count": 27,
   "id": "0m2bidwpj3sm",
   "metadata": {
    "colab": {
     "base_uri": "https://localhost:8080/",
     "height": 142
    },
    "executionInfo": {
     "elapsed": 4,
     "status": "ok",
     "timestamp": 1630858969256,
     "user": {
      "displayName": "Hanh Hong",
      "photoUrl": "https://lh3.googleusercontent.com/a-/AOh14GgTGrVmuc_fqpti3RtfBoBV5xUv39ZrkX4aNbIspKA=s64",
      "userId": "02640640021897565157"
     },
     "user_tz": -420
    },
    "id": "0m2bidwpj3sm",
    "outputId": "116820b9-69a7-4cf9-8c41-8e6ad684a2ba"
   },
   "outputs": [],
   "source": [
    "condition2 = (tips_df['smoker'] == 'No') & (tips_df['size'] >=3)\n",
    "tips_df[condition2] # cách 1"
   ]
  },
  {
   "cell_type": "code",
   "execution_count": 54,
   "id": "NntB0geNk831",
   "metadata": {
    "colab": {
     "base_uri": "https://localhost:8080/",
     "height": 142
    },
    "executionInfo": {
     "elapsed": 4,
     "status": "ok",
     "timestamp": 1630858969257,
     "user": {
      "displayName": "Hanh Hong",
      "photoUrl": "https://lh3.googleusercontent.com/a-/AOh14GgTGrVmuc_fqpti3RtfBoBV5xUv39ZrkX4aNbIspKA=s64",
      "userId": "02640640021897565157"
     },
     "user_tz": -420
    },
    "id": "NntB0geNk831",
    "outputId": "6df0fb52-8d3b-4ed2-a738-99c2a12d1757"
   },
   "outputs": [],
   "source": [
    "tips_df.loc[condition2] # cách 2"
   ]
  },
  {
   "cell_type": "code",
   "execution_count": 55,
   "id": "pzz2q7ZhlAlb",
   "metadata": {
    "colab": {
     "base_uri": "https://localhost:8080/",
     "height": 142
    },
    "executionInfo": {
     "elapsed": 3,
     "status": "ok",
     "timestamp": 1630858969715,
     "user": {
      "displayName": "Hanh Hong",
      "photoUrl": "https://lh3.googleusercontent.com/a-/AOh14GgTGrVmuc_fqpti3RtfBoBV5xUv39ZrkX4aNbIspKA=s64",
      "userId": "02640640021897565157"
     },
     "user_tz": -420
    },
    "id": "pzz2q7ZhlAlb",
    "outputId": "ab042a69-962d-41cc-800a-57922f3b2258"
   },
   "outputs": [],
   "source": [
    "tips_df.query(\"smoker == 'No' & size >= 3\") # cách 3"
   ]
  },
  {
   "cell_type": "markdown",
   "id": "7e1vwq2KkoJy",
   "metadata": {
    "id": "7e1vwq2KkoJy"
   },
   "source": [
    "3. Lọc tất cả các bản ghi chứa thông tin của khách hàng \u001d\n",
    "nữ ăn tối tại nhà hàng vào cuối tuần (Thứ 7, Chủ nhật) và tip cho nhân viên \u001d\n",
    "từ 5 đô trở lên."
   ]
  },
  {
   "cell_type": "code",
   "execution_count": 57,
   "id": "MXpyZCqKlPxo",
   "metadata": {
    "colab": {
     "base_uri": "https://localhost:8080/",
     "height": 204
    },
    "executionInfo": {
     "elapsed": 6,
     "status": "ok",
     "timestamp": 1630858970174,
     "user": {
      "displayName": "Hanh Hong",
      "photoUrl": "https://lh3.googleusercontent.com/a-/AOh14GgTGrVmuc_fqpti3RtfBoBV5xUv39ZrkX4aNbIspKA=s64",
      "userId": "02640640021897565157"
     },
     "user_tz": -420
    },
    "id": "MXpyZCqKlPxo",
    "outputId": "3068c8ae-20c8-4a5d-8da9-047a279cba6d"
   },
   "outputs": [],
   "source": [
    "condition3 = (tips_df['sex'] == \"Female\") & (tips_df['time'] == \"Dinner\") & ((tips_df['day'] == \"Sat\") | (tips_df['day'] == \"Sun\")) & (tips_df['tip'] >=5)\n",
    "tips_df[condition3] # cách 1"
   ]
  },
  {
   "cell_type": "code",
   "execution_count": 58,
   "id": "gXujeY23lUDN",
   "metadata": {
    "colab": {
     "base_uri": "https://localhost:8080/",
     "height": 204
    },
    "executionInfo": {
     "elapsed": 5,
     "status": "ok",
     "timestamp": 1630858970175,
     "user": {
      "displayName": "Hanh Hong",
      "photoUrl": "https://lh3.googleusercontent.com/a-/AOh14GgTGrVmuc_fqpti3RtfBoBV5xUv39ZrkX4aNbIspKA=s64",
      "userId": "02640640021897565157"
     },
     "user_tz": -420
    },
    "id": "gXujeY23lUDN",
    "outputId": "36030328-5e5c-48c9-c422-f4f304756c81"
   },
   "outputs": [],
   "source": [
    "tips_df.loc[condition3] # cách 2"
   ]
  },
  {
   "cell_type": "code",
   "execution_count": 59,
   "id": "a71WYOuqlXNV",
   "metadata": {
    "colab": {
     "base_uri": "https://localhost:8080/",
     "height": 204
    },
    "executionInfo": {
     "elapsed": 3,
     "status": "ok",
     "timestamp": 1630858970965,
     "user": {
      "displayName": "Hanh Hong",
      "photoUrl": "https://lh3.googleusercontent.com/a-/AOh14GgTGrVmuc_fqpti3RtfBoBV5xUv39ZrkX4aNbIspKA=s64",
      "userId": "02640640021897565157"
     },
     "user_tz": -420
    },
    "id": "a71WYOuqlXNV",
    "outputId": "300575d5-9979-437a-ee46-538ef10c250f"
   },
   "outputs": [],
   "source": [
    "tips_df.query(\"(sex == 'Female') & (time == 'Dinner') & ((day == 'Sat') | (day == 'Sun')) & (tip >= 5)\") # cách 3"
   ]
  },
  {
   "cell_type": "markdown",
   "id": "737fa923-7127-4b45-8997-a0d8cb7caad7",
   "metadata": {
    "id": "737fa923-7127-4b45-8997-a0d8cb7caad7"
   },
   "source": [
    "### 2.3. Tổng hợp dữ liệu (Aggregation)"
   ]
  },
  {
   "cell_type": "markdown",
   "id": "3dcc97e4-ae76-48b6-bd12-55e760e72082",
   "metadata": {
    "id": "3dcc97e4-ae76-48b6-bd12-55e760e72082"
   },
   "source": [
    "#### 2.3.1 Groupby()\n",
    "\n",
    "Trong Python, `groupby()` là một hàm linh hoạt trong Python cho phép bạn chia dữ liệu thành các nhóm riêng biệt để thực hiện các phép tính nhằm phân tích tốt hơn, cũng hoàn toàn tương tự như groupby trong SQL.\n",
    "\n",
    "`groupby()` được xây dựng theo cơ chế 3 bước:\n",
    "- **Split**: Chia dữ liệu thành các nhóm dựa trên một số tiêu chí (ví dụ theo cột `x` trong ảnh mô tả ở dưới)\n",
    "- **Apply**: Áp dụng một số phép tính toán cho từng nhóm một cách độc lập (ví dụ tính tổng các giá trị của từng nhóm trong cột `x`). Bước này có thể là 1 trong các thao tác dưới đây:\n",
    "  - Tổng hợp (Aggregation/Reduction): đưa ra 1 số phân tích thống kê trong một nhóm như sum, mean, std, min, max, size, count ... của nhóm dữ liệu.\n",
    "  - Chuyển đổi (Transformation): thực hiện một số tính toán nhóm như chuẩn hoá, lấp đầy các giá trị null ...\n",
    "  - Lọc (Filteration): loại bỏ một số nhóm, ...\n",
    "- **Combine**: Kết hợp các kết quả vào một cấu trúc dữ liệu.\n",
    "\n",
    "![](https://blog.dask.org/images/split-apply-combine.png)\n",
    "\n",
    "Pandas hỗ trợ 13 chức năng tổng hợp sử dụng sau `groupby()` sau:\n",
    "\n",
    "|Tên hàm| Ý nghĩa|\n",
    "|-|-|\n",
    "|`mean()` | Tính trung bình của các nhóm|\n",
    "|`sum()`  | Tính tổng các giá trị của nhóm|\n",
    "|`size()` | Tính kích thước nhóm|\n",
    "|`count()`| Tính toán số lượng nhóm|\n",
    "|`std()`  | Độ lệch chuẩn của các nhóm|\n",
    "|`var()`  | Tính toán phương sai của các nhóm|\n",
    "|`sem()`  | Sai số chuẩn của giá trị trung bình của các nhóm|\n",
    "|`describe()`| Tạo thống kê mô tả|\n",
    "|`first()`| Tính toán giá trị đầu tiên của nhóm|\n",
    "|`last()` | Tính giá trị cuối cùng của nhóm|\n",
    "|`nth()`  | Lấy giá trị thứ n hoặc một tập hợp con nếu n là một danh sách|\n",
    "|`min()`  | Tính toán giá trị nhỏ nhất nhóm|\n",
    "|`max():` | Tính toán giá trị lớn nhất nhóm|"
   ]
  },
  {
   "cell_type": "markdown",
   "id": "7KRHJVTKOKHi",
   "metadata": {
    "id": "7KRHJVTKOKHi"
   },
   "source": [
    "#### **Thực hành**: Tính trung bình số tiền mỗi giới tính trả khi ăn tại nhà hàng theo thống kê trong `tips_df`."
   ]
  },
  {
   "cell_type": "code",
   "execution_count": 33,
   "id": "D2w-q95HRRuw",
   "metadata": {
    "colab": {
     "base_uri": "https://localhost:8080/"
    },
    "executionInfo": {
     "elapsed": 1,
     "status": "ok",
     "timestamp": 1630858971501,
     "user": {
      "displayName": "Hanh Hong",
      "photoUrl": "https://lh3.googleusercontent.com/a-/AOh14GgTGrVmuc_fqpti3RtfBoBV5xUv39ZrkX4aNbIspKA=s64",
      "userId": "02640640021897565157"
     },
     "user_tz": -420
    },
    "id": "D2w-q95HRRuw",
    "outputId": "850535bb-e5e2-4151-bc19-34b51b3d1671"
   },
   "outputs": [],
   "source": [
    "tips_df.groupby('sex').total_bill.mean() # riêng hoá đơn"
   ]
  },
  {
   "cell_type": "code",
   "execution_count": 34,
   "id": "jWK_unbyRYoo",
   "metadata": {
    "colab": {
     "base_uri": "https://localhost:8080/"
    },
    "executionInfo": {
     "elapsed": 1,
     "status": "ok",
     "timestamp": 1630858971877,
     "user": {
      "displayName": "Hanh Hong",
      "photoUrl": "https://lh3.googleusercontent.com/a-/AOh14GgTGrVmuc_fqpti3RtfBoBV5xUv39ZrkX4aNbIspKA=s64",
      "userId": "02640640021897565157"
     },
     "user_tz": -420
    },
    "id": "jWK_unbyRYoo",
    "outputId": "28d18d33-7e1b-4246-cbbb-5a17e7a7418a"
   },
   "outputs": [],
   "source": [
    "tips_df['total_bill_tip'] = tips_df['total_bill'] + tips_df['tip'] #cả hoá đơn và tips\n",
    "tips_df.groupby('sex').total_bill_tip.mean()"
   ]
  },
  {
   "cell_type": "markdown",
   "id": "aTx3pXB0ONF1",
   "metadata": {
    "id": "aTx3pXB0ONF1"
   },
   "source": [
    "#### **Thực hành**: Tính số tiền lớn nhất, nhỏ nhất và trung bình hoá đơn và số tiền tips mỗi giới tính chi ra cho 1 bữa ăn tại nhà hàng theo thống kê trong `tips_df`."
   ]
  },
  {
   "cell_type": "code",
   "execution_count": 35,
   "id": "cQrvJk5bSIYk",
   "metadata": {
    "colab": {
     "base_uri": "https://localhost:8080/",
     "height": 173
    },
    "executionInfo": {
     "elapsed": 4,
     "status": "ok",
     "timestamp": 1630858972396,
     "user": {
      "displayName": "Hanh Hong",
      "photoUrl": "https://lh3.googleusercontent.com/a-/AOh14GgTGrVmuc_fqpti3RtfBoBV5xUv39ZrkX4aNbIspKA=s64",
      "userId": "02640640021897565157"
     },
     "user_tz": -420
    },
    "id": "cQrvJk5bSIYk",
    "outputId": "2870153d-aaca-4215-a05c-05a5d9516157"
   },
   "outputs": [],
   "source": [
    "tips_df.groupby('sex').agg({'total_bill':['mean','min','max'],'tip':['mean','min','max']})"
   ]
  },
  {
   "cell_type": "code",
   "execution_count": 36,
   "id": "VP4Z6nQ_TaYW",
   "metadata": {
    "colab": {
     "base_uri": "https://localhost:8080/",
     "height": 142
    },
    "executionInfo": {
     "elapsed": 4,
     "status": "ok",
     "timestamp": 1630858972397,
     "user": {
      "displayName": "Hanh Hong",
      "photoUrl": "https://lh3.googleusercontent.com/a-/AOh14GgTGrVmuc_fqpti3RtfBoBV5xUv39ZrkX4aNbIspKA=s64",
      "userId": "02640640021897565157"
     },
     "user_tz": -420
    },
    "id": "VP4Z6nQ_TaYW",
    "outputId": "f794b593-7709-492d-fcf5-2667cc1d8838"
   },
   "outputs": [],
   "source": [
    "# Ta có thể đổi tên cột bằng cách dưới đây\n",
    "tips_df.groupby('sex').agg(mean_total_bill=('total_bill','mean'), mean_total_tip=('tip','mean'))"
   ]
  },
  {
   "cell_type": "markdown",
   "id": "Q17qUD1zONbh",
   "metadata": {
    "id": "Q17qUD1zONbh"
   },
   "source": [
    "#### **Thực hành**: Tính số tiền trung bình trong hoá đơn và tips mỗi giới tính khi có hút thuốc và không hút thuốc chi ra cho 1 bữa ăn tại nhà hàng theo thống kê trong `tips_df`."
   ]
  },
  {
   "cell_type": "code",
   "execution_count": 37,
   "id": "TXX3-7xTS0_T",
   "metadata": {
    "colab": {
     "base_uri": "https://localhost:8080/",
     "height": 204
    },
    "executionInfo": {
     "elapsed": 5,
     "status": "ok",
     "timestamp": 1630858973164,
     "user": {
      "displayName": "Hanh Hong",
      "photoUrl": "https://lh3.googleusercontent.com/a-/AOh14GgTGrVmuc_fqpti3RtfBoBV5xUv39ZrkX4aNbIspKA=s64",
      "userId": "02640640021897565157"
     },
     "user_tz": -420
    },
    "id": "TXX3-7xTS0_T",
    "outputId": "5f3ea58a-3929-4724-b9a4-6519814be71b"
   },
   "outputs": [],
   "source": [
    "tips_df.groupby(['sex','smoker'])[['total_bill','tip']].mean()"
   ]
  },
  {
   "cell_type": "markdown",
   "id": "Wqxt85SuONs6",
   "metadata": {
    "id": "Wqxt85SuONs6"
   },
   "source": [
    "#### **Thực hành**: Tính số tiền trung bình trong hoá đơn và tips mỗi giới tính khi có hút thuốc và không hút thuốc chi ra cho 1 bữa ăn tối tại nhà hàng theo thống kê trong `tips_df`."
   ]
  },
  {
   "cell_type": "code",
   "execution_count": 64,
   "id": "74ONrdVSUSmu",
   "metadata": {
    "colab": {
     "base_uri": "https://localhost:8080/",
     "height": 204
    },
    "executionInfo": {
     "elapsed": 4,
     "status": "ok",
     "timestamp": 1630858973707,
     "user": {
      "displayName": "Hanh Hong",
      "photoUrl": "https://lh3.googleusercontent.com/a-/AOh14GgTGrVmuc_fqpti3RtfBoBV5xUv39ZrkX4aNbIspKA=s64",
      "userId": "02640640021897565157"
     },
     "user_tz": -420
    },
    "id": "74ONrdVSUSmu",
    "outputId": "b8856704-90b2-4b5e-e7c4-8c8d74c42edf"
   },
   "outputs": [],
   "source": [
    "tips_df[tips_df['time'] == 'Dinner'].groupby(['sex','smoker'])[['total_bill','tip']].mean()"
   ]
  },
  {
   "cell_type": "markdown",
   "id": "SB8pYsQMOObJ",
   "metadata": {
    "id": "SB8pYsQMOObJ"
   },
   "source": [
    "#### **Bài tập**:\n",
    "1. Tổng doanh thu của nhà hàng thời gian dùng bữa của khách hàng theo số liệu thống kế trong `tips_df`.\n",
    "2. Tổng doanh thu không tính tips của nhà hàng theo thời gian dùng bữa với riêng khách hàng không hút thuốc vào cuối tuần (thứ 7, chủ nhật).\n",
    "\n",
    "#### **Bài giải**:\n",
    "1. Tổng doanh thu của nhà hàng thời gian dùng bữa của khách hàng theo số liệu thống kế trong `tips_df`."
   ]
  },
  {
   "cell_type": "code",
   "execution_count": 39,
   "id": "EpdEzEx_ZK9q",
   "metadata": {
    "colab": {
     "base_uri": "https://localhost:8080/"
    },
    "executionInfo": {
     "elapsed": 4,
     "status": "ok",
     "timestamp": 1630858974354,
     "user": {
      "displayName": "Hanh Hong",
      "photoUrl": "https://lh3.googleusercontent.com/a-/AOh14GgTGrVmuc_fqpti3RtfBoBV5xUv39ZrkX4aNbIspKA=s64",
      "userId": "02640640021897565157"
     },
     "user_tz": -420
    },
    "id": "EpdEzEx_ZK9q",
    "outputId": "990be9b8-4d2e-471c-c78b-f1788a2ad1e4"
   },
   "outputs": [],
   "source": [
    "tips_df.groupby('time').total_bill_tip.sum()"
   ]
  },
  {
   "cell_type": "markdown",
   "id": "DDN3eQ23ZfZx",
   "metadata": {
    "id": "DDN3eQ23ZfZx"
   },
   "source": [
    "\n",
    "2. Tổng doanh thu không tính tips của nhà hàng theo thời gian dùng bữa với riêng khách hàng không hút thuốc vào cuối tuần (thứ 7, chủ nhật)."
   ]
  },
  {
   "cell_type": "code",
   "execution_count": 40,
   "id": "bebd12af-c7b5-4f4d-8722-5af10bcf1b81",
   "metadata": {
    "colab": {
     "base_uri": "https://localhost:8080/"
    },
    "executionInfo": {
     "elapsed": 2,
     "status": "ok",
     "timestamp": 1630858974737,
     "user": {
      "displayName": "Hanh Hong",
      "photoUrl": "https://lh3.googleusercontent.com/a-/AOh14GgTGrVmuc_fqpti3RtfBoBV5xUv39ZrkX4aNbIspKA=s64",
      "userId": "02640640021897565157"
     },
     "user_tz": -420
    },
    "id": "bebd12af-c7b5-4f4d-8722-5af10bcf1b81",
    "outputId": "43d03488-a60c-4526-eb68-859d02de6c2e",
    "tags": []
   },
   "outputs": [],
   "source": [
    "tips_df[(tips_df['smoker'] == 'No') & ((tips_df['day'] == 'Sat') | (tips_df['day'] == 'Sun'))].groupby('time').total_bill.sum()"
   ]
  },
  {
   "cell_type": "markdown",
   "id": "cf202ba9-1e0c-4e5c-ba20-2d427e7ce20e",
   "metadata": {
    "id": "cf202ba9-1e0c-4e5c-ba20-2d427e7ce20e"
   },
   "source": [
    "#### 2.3.2 Pivot\n",
    "\n",
    "Nếu như bạn đã từng làm việc với Excel chắc hẳn không lạ gì với Pivot Table. Tương tự như Pivot Table trong Excel, Pandas hỗ trợ ta tổng hợp, trích lọc, phân tích dữ liệu dễ dàng và nhanh chóng với `pivot_table()`. \n",
    "\n",
    "`pivot_table()` khá tương đồng với `groupby()` bởi cùng theo nguyên lý split-apply-combine giống nhau, tuy nhiên dữ liệu sẽ được phân tích và tổng hợp dưới với `pivot_table()` đa chiều (mulitdimensional) chứ không phải là một chiều như `groupby()`.\n",
    "\n",
    "Một số tham số cần lưu ý:\n",
    "- data: DataFrame\n",
    "- values (optional): cột để tổng hợp\n",
    "- index: cột, Group hoặc mảng. Nếu mảng được truyền vào thì phải có độ dài bằng với dữ liệu\n",
    "- columns: cột, Group hoặc mảng. Tương tự như index\n",
    "- aggfunc: (default: mean): hàm tổng hợp dữ liệu\n",
    "- fill_value: giá trị được điền vào các ô dữ liệu NA (sau khi đã tính toán)\n",
    "- margins: (bool, default: False). Thêm một cột tính tất cả các giá trị của các cột còn lại theo hàm tổng hợp\n",
    "- margins_name (string, default: 'All'): Tên của cột margins\n",
    "- dropna: (bool, default: False). Bỏ đi các hàng có chứa NA\n",
    "- observed: (bool, default: False). Chỉ áp dụng nếu tất cả các nhóm dữ liệu đều là Categoricals.Nếu là True: chỉ hiển thị các giá trị quan sát được cho các nhóm phân loại. Nếu là False: hiển thị tất cả các giá trị cho các nhóm phân loại."
   ]
  },
  {
   "cell_type": "markdown",
   "id": "MujEG2hxr3Pw",
   "metadata": {
    "id": "MujEG2hxr3Pw"
   },
   "source": [
    "#### **Thực hành**: Tính trung bình số tiền mỗi giới tính trả khi ăn tại nhà hàng theo thống kê trong `tips_df`."
   ]
  },
  {
   "cell_type": "code",
   "execution_count": 41,
   "id": "8VP50pdfr9WB",
   "metadata": {
    "colab": {
     "base_uri": "https://localhost:8080/",
     "height": 142
    },
    "executionInfo": {
     "elapsed": 3,
     "status": "ok",
     "timestamp": 1630858976062,
     "user": {
      "displayName": "Hanh Hong",
      "photoUrl": "https://lh3.googleusercontent.com/a-/AOh14GgTGrVmuc_fqpti3RtfBoBV5xUv39ZrkX4aNbIspKA=s64",
      "userId": "02640640021897565157"
     },
     "user_tz": -420
    },
    "id": "8VP50pdfr9WB",
    "outputId": "451887e9-15e4-42c8-e78d-f3dc0f2ebe01"
   },
   "outputs": [],
   "source": [
    "tips_df.pivot_table(values='total_bill_tip', index='sex', aggfunc='mean')"
   ]
  },
  {
   "cell_type": "markdown",
   "id": "4kraM_oKsay-",
   "metadata": {
    "id": "4kraM_oKsay-"
   },
   "source": [
    "#### **Thực hành**: Tính tổng số tiền nhà hàng thu được không kể tips các ngày trong tuần theo bữa ăn được thống kê trong `tips_df`."
   ]
  },
  {
   "cell_type": "code",
   "execution_count": 42,
   "id": "86d8fb53-4a75-4a74-b3e1-d9c588c4eeec",
   "metadata": {
    "colab": {
     "base_uri": "https://localhost:8080/",
     "height": 204
    },
    "executionInfo": {
     "elapsed": 3,
     "status": "ok",
     "timestamp": 1630858977712,
     "user": {
      "displayName": "Hanh Hong",
      "photoUrl": "https://lh3.googleusercontent.com/a-/AOh14GgTGrVmuc_fqpti3RtfBoBV5xUv39ZrkX4aNbIspKA=s64",
      "userId": "02640640021897565157"
     },
     "user_tz": -420
    },
    "id": "86d8fb53-4a75-4a74-b3e1-d9c588c4eeec",
    "outputId": "0c13b8c1-5a79-42b1-8cc4-73083db71152",
    "tags": []
   },
   "outputs": [],
   "source": [
    "tips_df.pivot_table(values='total_bill', index='day', columns='time',aggfunc='sum')"
   ]
  },
  {
   "cell_type": "markdown",
   "id": "2a338498-127a-45b0-8ed5-6daa1aaef5c8",
   "metadata": {
    "id": "2a338498-127a-45b0-8ed5-6daa1aaef5c8"
   },
   "source": [
    "### 2.4. Hợp nhất dữ liệu (Merge, Concat)\n",
    "\n",
    "#### 2.4.1. Merge\n",
    "\n",
    "Pandas có đầy đủ tính năng, hiệu suất cao trong hoạt động in-memory join rất giống với SQL thông qua hàm `merge()`. Dưới đây là 1 số so sánh giữa phương pháp sử dụng trong Pandas và trong SQL và hình ảnh minh hoạ để có thể thấy rõ sự tương đồng này.\n",
    "\n",
    "\n",
    "|Merge methods| SQL Join Name | Meaning| _merge|\n",
    "|-|-|-|-|\n",
    "|left| LEFT OUTER JOIN|Chỉ sử dụng keys bên trái|left_only|\n",
    "|right| RIGHT OUTER JOIN|Chỉ sử dụng keys bên phải|right_only|\n",
    "|outer|FULL OUTER JOIN|Sử dụng keys của cả 2 dataframes|both|\n",
    "|inner|INNER JOIN|Chỉ sử dụng keys giao nhau của 2 dataframes|both|\n",
    "\n",
    "![](https://lh3.googleusercontent.com/-n76c6dtr5sw/YBO5d-3PzGI/AAAAAAAAAh8/xiT6YIzePLEXArb8uU1f1vgg8JRXYeg8ACLcBGAsYHQ/image.png) \n",
    "\n",
    "Dưới đây là 1 số ví dụ giúp bạn làm quen với cách sử dụng hàm với các tham số trên."
   ]
  },
  {
   "cell_type": "code",
   "execution_count": 46,
   "id": "edf3cc76-70c4-4978-b402-e063f35304f8",
   "metadata": {
    "id": "edf3cc76-70c4-4978-b402-e063f35304f8"
   },
   "outputs": [],
   "source": [
    "left = tips_df.head(6)[['total_bill','tip']].reset_index()\n",
    "right = tips_df.loc[4:8][['tip','sex']].reset_index()"
   ]
  },
  {
   "cell_type": "code",
   "execution_count": 47,
   "id": "897280a3-a94d-4cf2-a4a1-496cbb22be72",
   "metadata": {
    "colab": {
     "base_uri": "https://localhost:8080/",
     "height": 235
    },
    "executionInfo": {
     "elapsed": 3,
     "status": "ok",
     "timestamp": 1630858980247,
     "user": {
      "displayName": "Hanh Hong",
      "photoUrl": "https://lh3.googleusercontent.com/a-/AOh14GgTGrVmuc_fqpti3RtfBoBV5xUv39ZrkX4aNbIspKA=s64",
      "userId": "02640640021897565157"
     },
     "user_tz": -420
    },
    "id": "897280a3-a94d-4cf2-a4a1-496cbb22be72",
    "outputId": "36513b19-a23f-4f9b-a367-d09ad70a37ff",
    "tags": []
   },
   "outputs": [],
   "source": [
    "left.merge(right, on=['index','tip'], how='left')"
   ]
  },
  {
   "cell_type": "code",
   "execution_count": 48,
   "id": "mg86WJaeuQ-Z",
   "metadata": {
    "colab": {
     "base_uri": "https://localhost:8080/",
     "height": 204
    },
    "executionInfo": {
     "elapsed": 3,
     "status": "ok",
     "timestamp": 1630858980248,
     "user": {
      "displayName": "Hanh Hong",
      "photoUrl": "https://lh3.googleusercontent.com/a-/AOh14GgTGrVmuc_fqpti3RtfBoBV5xUv39ZrkX4aNbIspKA=s64",
      "userId": "02640640021897565157"
     },
     "user_tz": -420
    },
    "id": "mg86WJaeuQ-Z",
    "outputId": "a6118190-980e-4536-e830-c4d8f9a035f8"
   },
   "outputs": [],
   "source": [
    "left.merge(right, on=['index','tip'], how='right')"
   ]
  },
  {
   "cell_type": "code",
   "execution_count": 49,
   "id": "0cUL7bN-ukua",
   "metadata": {
    "colab": {
     "base_uri": "https://localhost:8080/",
     "height": 111
    },
    "executionInfo": {
     "elapsed": 3,
     "status": "ok",
     "timestamp": 1630858980630,
     "user": {
      "displayName": "Hanh Hong",
      "photoUrl": "https://lh3.googleusercontent.com/a-/AOh14GgTGrVmuc_fqpti3RtfBoBV5xUv39ZrkX4aNbIspKA=s64",
      "userId": "02640640021897565157"
     },
     "user_tz": -420
    },
    "id": "0cUL7bN-ukua",
    "outputId": "fb40583a-dbc1-40fd-8efa-8951b74011fb"
   },
   "outputs": [],
   "source": [
    "left.merge(right, on=['index','tip'], how='inner')"
   ]
  },
  {
   "cell_type": "code",
   "execution_count": 50,
   "id": "f9AqyVF6unpO",
   "metadata": {
    "colab": {
     "base_uri": "https://localhost:8080/",
     "height": 328
    },
    "executionInfo": {
     "elapsed": 3,
     "status": "ok",
     "timestamp": 1630858980631,
     "user": {
      "displayName": "Hanh Hong",
      "photoUrl": "https://lh3.googleusercontent.com/a-/AOh14GgTGrVmuc_fqpti3RtfBoBV5xUv39ZrkX4aNbIspKA=s64",
      "userId": "02640640021897565157"
     },
     "user_tz": -420
    },
    "id": "f9AqyVF6unpO",
    "outputId": "f1130705-bbe7-47ec-e0c7-f6fd2ae90990"
   },
   "outputs": [],
   "source": [
    "left.merge(right, on=['index','tip'], how='outer')"
   ]
  },
  {
   "cell_type": "markdown",
   "id": "NUEm7Lypu5xj",
   "metadata": {
    "id": "NUEm7Lypu5xj"
   },
   "source": [
    "#### 2.4.2 Concat\n",
    "\n",
    "Trong thực tế, ta có thể làm việc với các dữ liệu có cấu trúc cùng 1 format (bao gồm các cột tương đồng nhau) nhưng được chia nhỏ thành các file khác nhau. Để có thể thuận lợi đánh giá được dữ liệu 1 cách tổng quan nhất, ta cần nối các dữ liệu có cấu trúc này với nhau và Pandas hỗ trợ ta đắc lực thông qua hàm `pd.concat()`. Dưới đây là 1 ví dụ về cách thức hàm hoạt động. "
   ]
  },
  {
   "cell_type": "code",
   "execution_count": 51,
   "id": "OXKignDv7hSm",
   "metadata": {
    "executionInfo": {
     "elapsed": 400,
     "status": "ok",
     "timestamp": 1630924119095,
     "user": {
      "displayName": "Hanh Hong",
      "photoUrl": "https://lh3.googleusercontent.com/a-/AOh14GgTGrVmuc_fqpti3RtfBoBV5xUv39ZrkX4aNbIspKA=s64",
      "userId": "02640640021897565157"
     },
     "user_tz": -420
    },
    "id": "OXKignDv7hSm"
   },
   "outputs": [],
   "source": [
    "pd.concat([tips_df.head(3),tips_df.tail(3), tips_df.sample(3)[['total_bill','tip','sex']]])"
   ]
  },
  {
   "cell_type": "markdown",
   "id": "1eec0eae-1aa9-4fa3-887d-3322433c391c",
   "metadata": {},
   "source": [
    "Trong bài sau, chúng ta sẽ cùng nhau tìm hiểu cách trực quan hoá dữ liệu thông qua 1 số thư viện phổ biến như Matplotlib, Seaborn."
   ]
  }
 ],
 "metadata": {
  "colab": {
   "collapsed_sections": [
    "d83e0c15-c9ee-4600-a59b-d5eb3971c4a9"
   ],
   "name": "07.pandas.ipynb",
   "provenance": []
  },
  "kernelspec": {
   "display_name": "Python 3",
   "language": "python",
   "name": "python3"
  },
  "language_info": {
   "codemirror_mode": {
    "name": "ipython",
    "version": 3
   },
   "file_extension": ".py",
   "mimetype": "text/x-python",
   "name": "python",
   "nbconvert_exporter": "python",
   "pygments_lexer": "ipython3",
   "version": "3.8.11"
  }
 },
 "nbformat": 4,
 "nbformat_minor": 5
}
