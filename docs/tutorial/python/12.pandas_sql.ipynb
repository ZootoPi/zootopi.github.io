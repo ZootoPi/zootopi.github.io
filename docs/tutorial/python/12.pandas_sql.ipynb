{
 "cells": [
  {
   "cell_type": "markdown",
   "id": "ca19f6b0-d3ef-4864-9a74-c7e088e556e7",
   "metadata": {},
   "source": [
    "# Bài 10: Kết nối Pandas với SQL"
   ]
  },
  {
   "cell_type": "markdown",
   "id": "e04f1b8c-daf7-48ad-9428-f13628191977",
   "metadata": {},
   "source": [
    "Trong bài viết này, chúng ta sẽ cùng nhau tìm hiểu cách sử dụng MySQL server và kết nối với Pandas để thực hiện truy vấn dữ liệu. Nếu bạn nào mà làm việc với SQL rồi thì có thể sử dụng MSSQL có sẵn của mọi người, các bạn chưa học thì có thể dùng MySQL server.\n",
    "\n",
    "## I. CÀI ĐẶT\n",
    "\n",
    "- **Bước 1**: Cài đặt 1 số phần mềm sau:\n",
    "    - Tải SQLServer tại [đây](https://dev.mysql.com/downloads/mysql/).\n",
    "        - Với windows cài bản MSI Installer 435.7M. \n",
    "        - Với MacOS cài bản DMG Archive vì nó hỗ trợ UI. \n",
    "    - Tải MySQL Workbench tại [đây](https://dev.mysql.com/downloads/workbench/).\n",
    "    - Tải database tại [đây](https://www.mediafire.com/folder/ajgkhko9x58ck/LEARNINGSQL_DB).\n",
    "\n",
    "- **Bước 2**: Cài đặt thư viện hỗ trợ kết nối từ database đến Pandas thông qua câu lệnh \n",
    "```python \n",
    "!pip install mysql-connector-python\n",
    "```\n",
    "\n",
    "- **Bước 3**: Tạo database từ Python MySQL (tham khảo tại [đây](https://www.w3schools.com/python/python_mysql_create_db.asp)).\n",
    "    - Click biểu tượng `create new schema`, nhập tên schema và click `Apply` x2 và `Close`. Khi đó trong phần `Schemas`  sẽ có thêm database mới có tên là `banking`.\n",
    "    - Gõ `use banking` vào phần `Query`, khi đó DB banking sẽ được bôi đen lên.\n",
    "    - Mở file `LearningSQL-MySQL-Script.sql` và chạy script đến bước 118 là thành công và refresh.\n",
    "    \n",
    "- **Bước 4**: Hiển thị EER diagram trong MySQL Workbench\n",
    "    - Vào `Database` chọn `Reverse Engineering`\n",
    "    - Chọn `Local instance 3306` trong mục `Stored connection` rồi chọn `Continue`\n",
    "    - Nhập mật khẩu rồi chọn `Continue`\n",
    "    - Chọn schema bằng cách tick vào ô `banking` rồi chọn lần lượt `Continue`, `Execute`, `Continue` và `OK`.\n",
    "    \n",
    "## II. THỰC HÀNH\n",
    "\n",
    "### 1. Import thư viện"
   ]
  },
  {
   "cell_type": "code",
   "execution_count": null,
   "id": "5e573d51-2c12-4c71-9aa7-4e03d41b85bd",
   "metadata": {},
   "outputs": [],
   "source": [
    "import mysql.connector \n",
    "import pandas as pd\n",
    "import numpy as np"
   ]
  },
  {
   "cell_type": "markdown",
   "id": "1fea2fa6-68ee-4a10-baa8-b89efc1b024a",
   "metadata": {},
   "source": [
    "### 2. Tạo 1 kết nối tới database"
   ]
  },
  {
   "cell_type": "code",
   "execution_count": 1,
   "id": "72b86032-6a37-4f43-83f8-480e77cbfe7c",
   "metadata": {},
   "outputs": [],
   "source": [
    "connection = mysql.connector.connect(\n",
    "      host=\"localhost\",\n",
    "      user=\"root\", \n",
    "      password=\"@Mci1234\",\n",
    "      database=\"banking\"\n",
    ") "
   ]
  },
  {
   "cell_type": "markdown",
   "id": "73f3bc63-6766-4e95-b495-15a9648e5703",
   "metadata": {},
   "source": [
    "### 3. Truy vấn dữ liệu"
   ]
  },
  {
   "cell_type": "markdown",
   "id": "1ca9928a-a6ce-44b1-926e-a37be68e2923",
   "metadata": {},
   "source": [
    "#### **Câu hỏi:** Lấy tất cả các bản ghi trong bảng `ACCOUNT`"
   ]
  },
  {
   "cell_type": "code",
   "execution_count": 4,
   "id": "c8d6ea74-e40e-4f15-8efb-d3e012ff1d16",
   "metadata": {},
   "outputs": [],
   "source": [
    "sql = 'SELECT * FROM ACCOUNT'\n",
    "account = pd.read_sql(sql, connection)"
   ]
  },
  {
   "cell_type": "markdown",
   "id": "6fec3fad-7dc1-4740-aa30-ef63e97e72a7",
   "metadata": {},
   "source": [
    "#### **Câu hỏi:** Lấy tất cả các thông tin cột `ACCOUNT_ID` và `AVAIL_BALANCE` trong bảng `ACCOUNT`"
   ]
  },
  {
   "cell_type": "code",
   "execution_count": 8,
   "id": "fcdaccb1-75c7-4333-ba72-e8e7119f750e",
   "metadata": {},
   "outputs": [
    {
     "data": {
      "text/html": [
       "<div>\n",
       "<style scoped>\n",
       "    .dataframe tbody tr th:only-of-type {\n",
       "        vertical-align: middle;\n",
       "    }\n",
       "\n",
       "    .dataframe tbody tr th {\n",
       "        vertical-align: top;\n",
       "    }\n",
       "\n",
       "    .dataframe thead th {\n",
       "        text-align: right;\n",
       "    }\n",
       "</style>\n",
       "<table border=\"1\" class=\"dataframe\">\n",
       "  <thead>\n",
       "    <tr style=\"text-align: right;\">\n",
       "      <th></th>\n",
       "      <th>ACCOUNT_ID</th>\n",
       "      <th>AVAIL_BALANCE</th>\n",
       "    </tr>\n",
       "  </thead>\n",
       "  <tbody>\n",
       "    <tr>\n",
       "      <th>0</th>\n",
       "      <td>1</td>\n",
       "      <td>1057.75</td>\n",
       "    </tr>\n",
       "    <tr>\n",
       "      <th>1</th>\n",
       "      <td>2</td>\n",
       "      <td>500.00</td>\n",
       "    </tr>\n",
       "  </tbody>\n",
       "</table>\n",
       "</div>"
      ],
      "text/plain": [
       "   ACCOUNT_ID  AVAIL_BALANCE\n",
       "0           1        1057.75\n",
       "1           2         500.00"
      ]
     },
     "execution_count": 8,
     "metadata": {},
     "output_type": "execute_result"
    }
   ],
   "source": [
    "sql = \"SELECT ACCOUNT_ID, AVAIL_BALANCE FROM ACCOUNT\"\n",
    "account = pd.read_sql(sql,connection)"
   ]
  },
  {
   "cell_type": "code",
   "execution_count": 9,
   "id": "ed3ebccf-9b7b-465b-9d1a-8ab44e1ee43c",
   "metadata": {},
   "outputs": [
    {
     "data": {
      "text/html": [
       "<div>\n",
       "<style scoped>\n",
       "    .dataframe tbody tr th:only-of-type {\n",
       "        vertical-align: middle;\n",
       "    }\n",
       "\n",
       "    .dataframe tbody tr th {\n",
       "        vertical-align: top;\n",
       "    }\n",
       "\n",
       "    .dataframe thead th {\n",
       "        text-align: right;\n",
       "    }\n",
       "</style>\n",
       "<table border=\"1\" class=\"dataframe\">\n",
       "  <thead>\n",
       "    <tr style=\"text-align: right;\">\n",
       "      <th></th>\n",
       "      <th>ACCOUNT_ID</th>\n",
       "      <th>AVAIL_BALANCE</th>\n",
       "    </tr>\n",
       "  </thead>\n",
       "  <tbody>\n",
       "    <tr>\n",
       "      <th>0</th>\n",
       "      <td>1</td>\n",
       "      <td>1057.75</td>\n",
       "    </tr>\n",
       "    <tr>\n",
       "      <th>1</th>\n",
       "      <td>2</td>\n",
       "      <td>500.00</td>\n",
       "    </tr>\n",
       "  </tbody>\n",
       "</table>\n",
       "</div>"
      ],
      "text/plain": [
       "   ACCOUNT_ID  AVAIL_BALANCE\n",
       "0           1        1057.75\n",
       "1           2         500.00"
      ]
     },
     "execution_count": 9,
     "metadata": {},
     "output_type": "execute_result"
    }
   ],
   "source": [
    "sql = \"SELECT * FROM ACCOUNT\"\n",
    "account = pd.read_sql(sql,connection)[['ACCOUNT_ID', 'AVAIL_BALANCE']]"
   ]
  },
  {
   "cell_type": "markdown",
   "id": "9b0bee74-79fe-4d3c-9796-5c060d826e0f",
   "metadata": {},
   "source": [
    "#### **Câu hỏi:** Liệt kê tên các bảng trong database `banking`"
   ]
  },
  {
   "cell_type": "code",
   "execution_count": 10,
   "id": "3d606e67-b1d2-4410-a661-beafb6568b42",
   "metadata": {},
   "outputs": [
    {
     "data": {
      "text/html": [
       "<div>\n",
       "<style scoped>\n",
       "    .dataframe tbody tr th:only-of-type {\n",
       "        vertical-align: middle;\n",
       "    }\n",
       "\n",
       "    .dataframe tbody tr th {\n",
       "        vertical-align: top;\n",
       "    }\n",
       "\n",
       "    .dataframe thead th {\n",
       "        text-align: right;\n",
       "    }\n",
       "</style>\n",
       "<table border=\"1\" class=\"dataframe\">\n",
       "  <thead>\n",
       "    <tr style=\"text-align: right;\">\n",
       "      <th></th>\n",
       "      <th>TABLE_NAME</th>\n",
       "    </tr>\n",
       "  </thead>\n",
       "  <tbody>\n",
       "    <tr>\n",
       "      <th>0</th>\n",
       "      <td>ACC_TRANSACTION</td>\n",
       "    </tr>\n",
       "    <tr>\n",
       "      <th>1</th>\n",
       "      <td>ACCOUNT</td>\n",
       "    </tr>\n",
       "    <tr>\n",
       "      <th>2</th>\n",
       "      <td>BRANCH</td>\n",
       "    </tr>\n",
       "    <tr>\n",
       "      <th>3</th>\n",
       "      <td>BUSINESS</td>\n",
       "    </tr>\n",
       "    <tr>\n",
       "      <th>4</th>\n",
       "      <td>CUSTOMER</td>\n",
       "    </tr>\n",
       "    <tr>\n",
       "      <th>5</th>\n",
       "      <td>DEPARTMENT</td>\n",
       "    </tr>\n",
       "    <tr>\n",
       "      <th>6</th>\n",
       "      <td>EMPLOYEE</td>\n",
       "    </tr>\n",
       "    <tr>\n",
       "      <th>7</th>\n",
       "      <td>INDIVIDUAL</td>\n",
       "    </tr>\n",
       "    <tr>\n",
       "      <th>8</th>\n",
       "      <td>OFFICER</td>\n",
       "    </tr>\n",
       "    <tr>\n",
       "      <th>9</th>\n",
       "      <td>PRODUCT</td>\n",
       "    </tr>\n",
       "    <tr>\n",
       "      <th>10</th>\n",
       "      <td>PRODUCT_TYPE</td>\n",
       "    </tr>\n",
       "  </tbody>\n",
       "</table>\n",
       "</div>"
      ],
      "text/plain": [
       "         TABLE_NAME\n",
       "0   ACC_TRANSACTION\n",
       "1           ACCOUNT\n",
       "2            BRANCH\n",
       "3          BUSINESS\n",
       "4          CUSTOMER\n",
       "5        DEPARTMENT\n",
       "6          EMPLOYEE\n",
       "7        INDIVIDUAL\n",
       "8           OFFICER\n",
       "9           PRODUCT\n",
       "10     PRODUCT_TYPE"
      ]
     },
     "execution_count": 10,
     "metadata": {},
     "output_type": "execute_result"
    }
   ],
   "source": [
    "sql = \"SELECT TABLE_NAME FROM INFORMATION_SCHEMA.TABLES WHERE TABLE_SCHEMA = 'banking'\"\n",
    "table_name = pd.read_sql(sql, connection)"
   ]
  },
  {
   "cell_type": "markdown",
   "id": "be513c30-ff52-4d6b-bc79-e3a839ff3a67",
   "metadata": {},
   "source": [
    "#### **Câu hỏi:** Top 3 khách hàng có số dư cao nhất"
   ]
  },
  {
   "cell_type": "code",
   "execution_count": 11,
   "id": "3876401b-ac74-4d37-b923-1cf96d17cd77",
   "metadata": {},
   "outputs": [
    {
     "data": {
      "text/html": [
       "<div>\n",
       "<style scoped>\n",
       "    .dataframe tbody tr th:only-of-type {\n",
       "        vertical-align: middle;\n",
       "    }\n",
       "\n",
       "    .dataframe tbody tr th {\n",
       "        vertical-align: top;\n",
       "    }\n",
       "\n",
       "    .dataframe thead th {\n",
       "        text-align: right;\n",
       "    }\n",
       "</style>\n",
       "<table border=\"1\" class=\"dataframe\">\n",
       "  <thead>\n",
       "    <tr style=\"text-align: right;\">\n",
       "      <th></th>\n",
       "      <th>CUST_ID</th>\n",
       "      <th>AVAIL_BALANCE</th>\n",
       "    </tr>\n",
       "  </thead>\n",
       "  <tbody>\n",
       "    <tr>\n",
       "      <th>0</th>\n",
       "      <td>13</td>\n",
       "      <td>50000.0</td>\n",
       "    </tr>\n",
       "    <tr>\n",
       "      <th>1</th>\n",
       "      <td>12</td>\n",
       "      <td>38552.1</td>\n",
       "    </tr>\n",
       "    <tr>\n",
       "      <th>2</th>\n",
       "      <td>10</td>\n",
       "      <td>23575.1</td>\n",
       "    </tr>\n",
       "  </tbody>\n",
       "</table>\n",
       "</div>"
      ],
      "text/plain": [
       "   CUST_ID  AVAIL_BALANCE\n",
       "0       13        50000.0\n",
       "1       12        38552.1\n",
       "2       10        23575.1"
      ]
     },
     "execution_count": 11,
     "metadata": {},
     "output_type": "execute_result"
    }
   ],
   "source": [
    "sql = \"SELECT c.CUST_ID, AVAIL_BALANCE FROM CUSTOMER c \\\n",
    "        LEFT JOIN ACCOUNT a ON c.CUST_ID = a.CUST_ID ORDER BY AVAIL_BALANCE DESC LIMIT 3\"\n",
    "account = pd.read_sql(sql, connection)"
   ]
  },
  {
   "cell_type": "code",
   "execution_count": 12,
   "id": "9bcce9d3-a04a-490d-8793-ac88400a53ba",
   "metadata": {},
   "outputs": [
    {
     "data": {
      "text/html": [
       "<div>\n",
       "<style scoped>\n",
       "    .dataframe tbody tr th:only-of-type {\n",
       "        vertical-align: middle;\n",
       "    }\n",
       "\n",
       "    .dataframe tbody tr th {\n",
       "        vertical-align: top;\n",
       "    }\n",
       "\n",
       "    .dataframe thead th {\n",
       "        text-align: right;\n",
       "    }\n",
       "</style>\n",
       "<table border=\"1\" class=\"dataframe\">\n",
       "  <thead>\n",
       "    <tr style=\"text-align: right;\">\n",
       "      <th></th>\n",
       "      <th>CUST_ID</th>\n",
       "      <th>AVAIL_BALANCE</th>\n",
       "    </tr>\n",
       "  </thead>\n",
       "  <tbody>\n",
       "    <tr>\n",
       "      <th>23</th>\n",
       "      <td>13</td>\n",
       "      <td>50000.0</td>\n",
       "    </tr>\n",
       "    <tr>\n",
       "      <th>22</th>\n",
       "      <td>12</td>\n",
       "      <td>38552.1</td>\n",
       "    </tr>\n",
       "    <tr>\n",
       "      <th>19</th>\n",
       "      <td>10</td>\n",
       "      <td>23575.1</td>\n",
       "    </tr>\n",
       "  </tbody>\n",
       "</table>\n",
       "</div>"
      ],
      "text/plain": [
       "    CUST_ID  AVAIL_BALANCE\n",
       "23       13        50000.0\n",
       "22       12        38552.1\n",
       "19       10        23575.1"
      ]
     },
     "execution_count": 12,
     "metadata": {},
     "output_type": "execute_result"
    }
   ],
   "source": [
    "sql = \"SELECT * FROM ACCOUNT\"\n",
    "account_df = pd.read_sql(sql, connection)\n",
    "\n",
    "sql = \"SELECT * FROM CUSTOMER\"\n",
    "customer_df = pd.read_sql(sql, connection)\n",
    "\n",
    "acccount = account_df.merge(customer_df, on='CUST_ID', how='inner')[['CUST_ID', 'AVAIL_BALANCE']].\\\n",
    "        sort_values('AVAIL_BALANCE', ascending=False).head(3)"
   ]
  },
  {
   "cell_type": "markdown",
   "id": "59aca369-1231-4df1-a1d1-737a93424821",
   "metadata": {},
   "source": [
    "#### **Câu hỏi:** Số dư của khách hàng"
   ]
  },
  {
   "cell_type": "code",
   "execution_count": 13,
   "id": "4a4ff866-c97d-4d55-9d14-5235d01219fb",
   "metadata": {},
   "outputs": [
    {
     "data": {
      "text/html": [
       "<div>\n",
       "<style scoped>\n",
       "    .dataframe tbody tr th:only-of-type {\n",
       "        vertical-align: middle;\n",
       "    }\n",
       "\n",
       "    .dataframe tbody tr th {\n",
       "        vertical-align: top;\n",
       "    }\n",
       "\n",
       "    .dataframe thead th {\n",
       "        text-align: right;\n",
       "    }\n",
       "</style>\n",
       "<table border=\"1\" class=\"dataframe\">\n",
       "  <thead>\n",
       "    <tr style=\"text-align: right;\">\n",
       "      <th></th>\n",
       "      <th>cust_id</th>\n",
       "      <th>avail_balance</th>\n",
       "    </tr>\n",
       "  </thead>\n",
       "  <tbody>\n",
       "    <tr>\n",
       "      <th>0</th>\n",
       "      <td>1</td>\n",
       "      <td>1057.75</td>\n",
       "    </tr>\n",
       "    <tr>\n",
       "      <th>1</th>\n",
       "      <td>1</td>\n",
       "      <td>500.00</td>\n",
       "    </tr>\n",
       "    <tr>\n",
       "      <th>2</th>\n",
       "      <td>1</td>\n",
       "      <td>3000.00</td>\n",
       "    </tr>\n",
       "    <tr>\n",
       "      <th>3</th>\n",
       "      <td>2</td>\n",
       "      <td>2258.02</td>\n",
       "    </tr>\n",
       "    <tr>\n",
       "      <th>4</th>\n",
       "      <td>2</td>\n",
       "      <td>200.00</td>\n",
       "    </tr>\n",
       "  </tbody>\n",
       "</table>\n",
       "</div>"
      ],
      "text/plain": [
       "   cust_id  avail_balance\n",
       "0        1        1057.75\n",
       "1        1         500.00\n",
       "2        1        3000.00\n",
       "3        2        2258.02\n",
       "4        2         200.00"
      ]
     },
     "execution_count": 13,
     "metadata": {},
     "output_type": "execute_result"
    }
   ],
   "source": [
    "sql = \"SELECT a.cust_id, avail_balance FROM account a \\\n",
    "            INNER JOIN customer c ON a.cust_id = c.cust_id\"\n",
    "balance = pd.read_sql(sql, connection)"
   ]
  },
  {
   "cell_type": "code",
   "execution_count": 14,
   "id": "f79e6be2-c2a7-4377-8e95-bfe6efe7c210",
   "metadata": {},
   "outputs": [
    {
     "data": {
      "text/html": [
       "<div>\n",
       "<style scoped>\n",
       "    .dataframe tbody tr th:only-of-type {\n",
       "        vertical-align: middle;\n",
       "    }\n",
       "\n",
       "    .dataframe tbody tr th {\n",
       "        vertical-align: top;\n",
       "    }\n",
       "\n",
       "    .dataframe thead th {\n",
       "        text-align: right;\n",
       "    }\n",
       "</style>\n",
       "<table border=\"1\" class=\"dataframe\">\n",
       "  <thead>\n",
       "    <tr style=\"text-align: right;\">\n",
       "      <th></th>\n",
       "      <th>cust_id</th>\n",
       "      <th>sum_balance</th>\n",
       "    </tr>\n",
       "  </thead>\n",
       "  <tbody>\n",
       "    <tr>\n",
       "      <th>0</th>\n",
       "      <td>1</td>\n",
       "      <td>4557.750000</td>\n",
       "    </tr>\n",
       "    <tr>\n",
       "      <th>1</th>\n",
       "      <td>2</td>\n",
       "      <td>2458.020020</td>\n",
       "    </tr>\n",
       "    <tr>\n",
       "      <th>2</th>\n",
       "      <td>3</td>\n",
       "      <td>3270.250000</td>\n",
       "    </tr>\n",
       "    <tr>\n",
       "      <th>3</th>\n",
       "      <td>4</td>\n",
       "      <td>6788.979858</td>\n",
       "    </tr>\n",
       "    <tr>\n",
       "      <th>4</th>\n",
       "      <td>5</td>\n",
       "      <td>2237.969971</td>\n",
       "    </tr>\n",
       "  </tbody>\n",
       "</table>\n",
       "</div>"
      ],
      "text/plain": [
       "   cust_id  sum_balance\n",
       "0        1  4557.750000\n",
       "1        2  2458.020020\n",
       "2        3  3270.250000\n",
       "3        4  6788.979858\n",
       "4        5  2237.969971"
      ]
     },
     "execution_count": 14,
     "metadata": {},
     "output_type": "execute_result"
    }
   ],
   "source": [
    "sql = \"SELECT a.cust_id, SUM(avail_balance) AS sum_balance FROM account a \\\n",
    "            INNER JOIN customer c ON a.cust_id = c.cust_id GROUP BY a.cust_id\"\n",
    "sum_balance = pd.read_sql(sql, connection)"
   ]
  },
  {
   "cell_type": "markdown",
   "id": "a9234307-34b0-4caa-ab56-699f3d60d42b",
   "metadata": {},
   "source": [
    "Lưu ý, sau khi sử dụng xong, ta sử dụng câu lệnh `.close()` để ngắt kết nối với database."
   ]
  },
  {
   "cell_type": "code",
   "execution_count": 16,
   "id": "f6152642-f4fa-444b-8935-9b23e606d6f3",
   "metadata": {},
   "outputs": [],
   "source": [
    "connection.close()"
   ]
  },
  {
   "cell_type": "markdown",
   "id": "eee4cb9f-0596-46d6-b295-86060eb8325b",
   "metadata": {},
   "source": [
    "Tham khảo thêm về tạo Database trong MySQL tại [MySQL Create DB](https://www.w3schools.com/python/python_mysql_create_db.asp)"
   ]
  }
 ],
 "metadata": {
  "kernelspec": {
   "display_name": "Python 3",
   "language": "python",
   "name": "python3"
  },
  "language_info": {
   "codemirror_mode": {
    "name": "ipython",
    "version": 3
   },
   "file_extension": ".py",
   "mimetype": "text/x-python",
   "name": "python",
   "nbconvert_exporter": "python",
   "pygments_lexer": "ipython3",
   "version": "3.8.11"
  }
 },
 "nbformat": 4,
 "nbformat_minor": 5
}
