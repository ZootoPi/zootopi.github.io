{
 "cells": [
  {
   "cell_type": "markdown",
   "id": "d57db01c-f2e3-45fa-9fd4-0ffb1fd4d0c9",
   "metadata": {},
   "source": [
    "# BÀI 3: GIỚI THIỆU VỀ PYTHON (tiếp theo)"
   ]
  },
  {
   "cell_type": "markdown",
   "id": "9633b1c3-b8fc-4c83-a938-f4bae626b4a8",
   "metadata": {},
   "source": [
    "![](https://laptrinhcanban.com/python/nhap-mon-lap-trinh-python/gioi-thieu-python/python-la-gi/Python.jpg)"
   ]
  },
  {
   "cell_type": "markdown",
   "id": "e2ffdddc-dfa4-4f9c-91e4-dc06078559ba",
   "metadata": {},
   "source": [
    "Trong bài viết trước, chúng ta đã nắm được về các thành phần cơ bản trong Python bao gồm biến, các phép tính, các toán tử, cũng như làm quen với kiểu dữ liệu và cấu trúc dữ liệu cơ bản. Trong bài viết này, Zootopi sẽ cùng các bạn tìm hiểu về cách vận hành cũng như thứ tự thực thi của các đoạn mã 1 chương trình thông qua câu lệnh điều kiện, vòng lặp. Bên cạnh đó, Zootopi sẽ làm quen với hàm và cách để tạo ra hàm thông thường, hàm vô danh, và bao hàm."
   ]
  },
  {
   "cell_type": "markdown",
   "id": "6bc4aef1-2a45-4a17-91f2-0f402e83c013",
   "metadata": {},
   "source": [
    "## 1. Câu lệnh tuần tự\n",
    "\n",
    "Trong Python, các câu lệnh ta viết được thực thi một cách tuần tự từ trên xuống dưới, ví dụ:"
   ]
  },
  {
   "cell_type": "code",
   "execution_count": 1,
   "id": "7bcb9b16-dacf-44f3-a0fc-7bec9c205d39",
   "metadata": {},
   "outputs": [
    {
     "name": "stdout",
     "output_type": "stream",
     "text": [
      "Hello\n",
      "everyone\n",
      "!\n"
     ]
    }
   ],
   "source": [
    "print('Hello')\n",
    "print('everyone')\n",
    "print('!')"
   ]
  },
  {
   "cell_type": "markdown",
   "id": "8788aded-6846-4aa4-ad65-ab542c0b444c",
   "metadata": {},
   "source": [
    "Trong ví dụ trên, 3 hàm `print()` là 3 hàm độc lập với nhau. Khi ta thực thi các câu lệnh này, máy tính sẽ dịch và trả về kết quả các câu lệnh này theo thứ tự chúng xuất hiện trong cell code. Câu lệnh nào xuất hiện trước sẽ trả về kết quả trước và nó sẽ chạy và trả về kết quả cho đến khi hết các dòng lệnh hoặc cho đến khi gặp lỗi.\n",
    "\n",
    "***Đố vui***: In ra kết quả như sau:\n",
    "```\n",
    "*\n",
    "**\n",
    "***\n",
    "****\n",
    "*****\n",
    "```"
   ]
  },
  {
   "cell_type": "code",
   "execution_count": 2,
   "id": "23b188c6-d271-4dd6-8b38-74df78e6f26f",
   "metadata": {},
   "outputs": [
    {
     "name": "stdout",
     "output_type": "stream",
     "text": [
      "*\n",
      "**\n",
      "***\n",
      "****\n",
      "*****\n"
     ]
    }
   ],
   "source": [
    "print('*')\n",
    "print('**')\n",
    "print('***')\n",
    "print('****')\n",
    "print('*****')"
   ]
  },
  {
   "cell_type": "code",
   "execution_count": 3,
   "id": "c0337ef6-4d4d-4022-b266-f7bfbca7a76d",
   "metadata": {},
   "outputs": [
    {
     "name": "stdout",
     "output_type": "stream",
     "text": [
      "*\n",
      "**\n",
      "***\n",
      "****\n",
      "*****\n"
     ]
    }
   ],
   "source": [
    "print('*')\n",
    "print('*'*2)\n",
    "print('*'*3)\n",
    "print('*'*4)\n",
    "print('*'*5)"
   ]
  },
  {
   "cell_type": "code",
   "execution_count": 4,
   "id": "ae7aa619-ec4e-48ee-b449-101f7434a13c",
   "metadata": {},
   "outputs": [
    {
     "name": "stdout",
     "output_type": "stream",
     "text": [
      "*\n",
      "**\n",
      "***\n",
      "****\n",
      "*****\n"
     ]
    }
   ],
   "source": [
    "print('*\\n**\\n***\\n****\\n*****')"
   ]
  },
  {
   "cell_type": "markdown",
   "id": "4b8339c9-a66e-4d51-8e75-e07c4e6047bb",
   "metadata": {},
   "source": [
    "Có thể thấy các dòng cần in ra có cùng 1 đặc trưng như sau:\n",
    "- Các dòng đều chứa kí tự `*`\n",
    "- Số kí tự `*` của dòng sau nhiều hơn dòng trước 1 đơn vị.\n",
    "\n",
    "Vậy liệu có cách nào để ta có thể thực hiện được bài đố vui trên chỉ với 1 hoặc 2 dòng lệnh ngay cả khi số lượng dòng cần in ra theo đặc trưng trên nhiều hơn? Hãy cũng nhau đến với vòng lặp. "
   ]
  },
  {
   "cell_type": "markdown",
   "id": "a966f233-1ed7-4dbd-bc8a-5fce3e640dc6",
   "metadata": {},
   "source": [
    "## 2. Vòng lặp"
   ]
  },
  {
   "cell_type": "markdown",
   "id": "0910a9cd-83d4-476e-b817-dca0c4e873fd",
   "metadata": {},
   "source": [
    "### 2.1 Vòng lặp `for`\n",
    "\n",
    "`for` là 1 kiểu vòng lặp cho phép ta lặp lại các xử lý trong chương trình với một số lần cụ thể.\n",
    "\n",
    "- Cú pháp:\n",
    "    - Cách 1:\n",
    "```\n",
    "for value in iterable:\n",
    "    business logic \n",
    "```\n",
    "\n",
    "    - Cách 2:\n",
    "```\n",
    "for index in range(len(iterable)):\n",
    "    business logic\n",
    "```\n",
    "\n",
    "Trong đó `iterable` là những cấu trúc dữ liệu có một hoặc nhiều phần tử như `List`,`Tuple`,`Set`, `Dictionary`,...\n",
    "\n",
    "Ở ví dụ phần 1, ta có thể sử dụng hàm `range()` để tạo ra 1 dãy số tương ứng với `iterable` trong cú pháp. Ví dụ, `range(10)` sẽ tạo một dãy số từ 0 đến 9 (10 số)."
   ]
  },
  {
   "cell_type": "code",
   "execution_count": 5,
   "id": "3b89ac56-4962-47f1-bd9e-8bb0021a7cb9",
   "metadata": {},
   "outputs": [
    {
     "name": "stdout",
     "output_type": "stream",
     "text": [
      "[0, 1, 2, 3, 4, 5, 6, 7, 8, 9]\n",
      "[2, 3, 4, 5, 6, 7, 8, 9]\n",
      "[2, 4, 6, 8]\n",
      "4\n"
     ]
    }
   ],
   "source": [
    "print(list(range(10))) # list chạy từ 0 đến 10 (không bao gồm 10)\n",
    "print(list(range(2,10))) # list chạy từ 2 đến 10 (không bao gồm 10)\n",
    "print(list(range(2,10,2))) # list chạy từ 2 đến 10 (không bao gồm 10), cách nhau 2 đơn vị\n",
    "print(len(range(2,10,2))) # độ dài của range(2,10,2)"
   ]
  },
  {
   "cell_type": "code",
   "execution_count": 6,
   "id": "ba1b83a2-9c4f-4236-8332-1f41856b2281",
   "metadata": {},
   "outputs": [
    {
     "name": "stdout",
     "output_type": "stream",
     "text": [
      "\n",
      "*\n",
      "**\n",
      "***\n",
      "****\n",
      "*****\n"
     ]
    }
   ],
   "source": [
    "# Cách 1\n",
    "li = range(6)\n",
    "for value in li:\n",
    "    print('*'*value)"
   ]
  },
  {
   "cell_type": "code",
   "execution_count": 7,
   "id": "c0436b75-eca7-4593-91ce-797986572ed7",
   "metadata": {},
   "outputs": [
    {
     "name": "stdout",
     "output_type": "stream",
     "text": [
      "\n",
      "*\n",
      "**\n",
      "***\n",
      "****\n",
      "*****\n"
     ]
    }
   ],
   "source": [
    "# Cách 2\n",
    "for index in li:\n",
    "    print('*'*li[index])"
   ]
  },
  {
   "cell_type": "markdown",
   "id": "0f367140-6b04-43fc-b0ff-8e85b2b64e44",
   "metadata": {},
   "source": [
    "**Bài tập**:\n",
    "\n",
    "Cho 1 danh sách `li` gồm 10 phần tử từ 1 đến 10, trả về danh sách mới `li1` sao cho mỗi phần tử trong `li1` là bình phương của phần tử có trong `li` sử dụng `for`. "
   ]
  },
  {
   "cell_type": "code",
   "execution_count": 8,
   "id": "0e1c08a8-cdfb-498f-82a4-f31507382a77",
   "metadata": {},
   "outputs": [
    {
     "name": "stdout",
     "output_type": "stream",
     "text": [
      "[1, 2, 3, 4, 5, 6, 7, 8, 9, 10]\n",
      "[1, 4, 9, 16, 25, 36, 49, 64, 81, 100]\n"
     ]
    }
   ],
   "source": [
    "li = list(range(1,11)) # tạo 1 list gồm 10 phần tử từ 1 đến 10 và gán vào biến li\n",
    "li1 = [] # khởi tạo 1 list rỗng gán vào biến li1\n",
    "for val in li: # với từng giá trị trong biến li\n",
    "    li1.append(val**2) # nối giá trị bình phương của phần tử trong li vào li1\n",
    "print(li)\n",
    "print(li1)"
   ]
  },
  {
   "cell_type": "code",
   "execution_count": 9,
   "id": "8fd24cbb-0c63-43ea-8ada-a541246753c7",
   "metadata": {},
   "outputs": [
    {
     "name": "stdout",
     "output_type": "stream",
     "text": [
      "[1, 2, 3, 4, 5, 6, 7, 8, 9, 10]\n",
      "[1, 4, 9, 16, 25, 36, 49, 64, 81, 100]\n"
     ]
    }
   ],
   "source": [
    "li1 = [] #khởi tạo 1 list rỗng gán vào biến li1\n",
    "for idx in range(len(li)): # với từng index các phần tử trong biến i\n",
    "    li1.append(li[idx]**2) # nối giá trị bình phương của phần tử trong li vào li1\n",
    "print(li)\n",
    "print(li1)"
   ]
  },
  {
   "cell_type": "markdown",
   "id": "008feb39-91f9-498c-a662-bbe436258810",
   "metadata": {},
   "source": [
    "Thông thường, nếu số lần lặp là cố định thì vòng lặp `for` khuyến khích sử dụng, còn nếu số lần lặp không cố định thì nên sử dụng vòng lặp `while` dưới đây."
   ]
  },
  {
   "cell_type": "markdown",
   "id": "be1bc1ce-3d5d-41fb-93fd-20658f9b0f77",
   "metadata": {},
   "source": [
    "### 2.2 Vòng lặp `while`"
   ]
  },
  {
   "cell_type": "markdown",
   "id": "9c0148c4-6dfe-47c5-89c5-0d57eaa9d80e",
   "metadata": {},
   "source": [
    "- Cú pháp\n",
    "```\n",
    "while condition(True/False):\n",
    "    business logic\n",
    "```"
   ]
  },
  {
   "cell_type": "code",
   "execution_count": 10,
   "id": "c165365b-ff90-4f10-bb23-16d97b892261",
   "metadata": {},
   "outputs": [
    {
     "name": "stdout",
     "output_type": "stream",
     "text": [
      "\n",
      "*\n",
      "**\n",
      "***\n",
      "****\n",
      "*****\n"
     ]
    }
   ],
   "source": [
    "i = 0\n",
    "while i < 6:\n",
    "    print('*'*i)\n",
    "    i += 1"
   ]
  },
  {
   "cell_type": "markdown",
   "id": "6784a894-d0db-49ca-9350-2e09fcf83779",
   "metadata": {},
   "source": [
    "**Bài tập**:\n",
    "\n",
    "Cho 1 danh sách `li` gồm 10 phần tử từ 1 đến 10, trả về danh sách mới `li1` sao cho mỗi phần tử trong `li1` là bình phương của phần tử có trong `li` sử dụng `while`. "
   ]
  },
  {
   "cell_type": "code",
   "execution_count": 11,
   "id": "b9d6c7b6-8053-4b57-b36f-b747a75c44ad",
   "metadata": {},
   "outputs": [
    {
     "name": "stdout",
     "output_type": "stream",
     "text": [
      "[1, 2, 3, 4, 5, 6, 7, 8, 9, 10]\n",
      "[1, 4, 9, 16, 25, 36, 49, 64, 81, 100]\n"
     ]
    }
   ],
   "source": [
    "li = list(range(1,11)) # tạo 1 list gồm 10 phần tử từ 1 đến 10 và gán vào biến li\n",
    "li1 = [] # khởi tạo 1 list rỗng gán vào biến li1\n",
    "index = 0\n",
    "while index < len(li): # với giá trị của index nhỏ hơn độ dài biến li\n",
    "    li1.append(li[index]**2) # nối giá trị bình phương của phần tử trong li vào li1\n",
    "    index += 1\n",
    "print(li)\n",
    "print(li1)"
   ]
  },
  {
   "cell_type": "markdown",
   "id": "c6d75da2-0c83-49b0-a057-96efa4797070",
   "metadata": {},
   "source": [
    "## 3. Câu lệnh điều kiện"
   ]
  },
  {
   "cell_type": "markdown",
   "id": "34c169d7-aaaf-4f84-933a-08de9cd438d1",
   "metadata": {},
   "source": [
    "Câu lệnh điều kiện trong Python sẽ thực thi các tính toán hoặc hành động tùy thuộc vào điều kiện ràng buộc là đúng hay sai. Các điều kiện ràng buộc này được mô tả thông qua toán tử so sánh và toán tử luận lý chúng ta đã học trong bài trước. Nếu kết quả của các phép so sánh hoặc luận lý này là  True, các khối `business logic` bên trong kết quả đó mới được thực hiện.\n",
    "\n",
    "- Cú pháp:\n",
    "```\n",
    "if condition(True/False):\n",
    "    business logic\n",
    "elif condition(True/False): # --> optional\n",
    "    business logic\n",
    "elif condition(True/False): # --> optional\n",
    "    business logic\n",
    "elif condition(True/False): # --> optional\n",
    "    business logic\n",
    "    ....\n",
    "else:\n",
    "    business logic # --> optional\n",
    "```"
   ]
  },
  {
   "cell_type": "code",
   "execution_count": 12,
   "id": "22569a61-4ea8-4792-a1a3-fa90675d3842",
   "metadata": {},
   "outputs": [
    {
     "name": "stdout",
     "output_type": "stream",
     "text": [
      "x is equal to y\n"
     ]
    }
   ],
   "source": [
    "x = 5\n",
    "y = 5\n",
    "if x < y:\n",
    "    print(\"x is smaller than y\") # câu lệnh này không được thực thi vì x < y == False\n",
    "elif x > y:\n",
    "    print(\"x is larger than y\") # câu lệnh này không được thực thi vì x > y == False\n",
    "else:\n",
    "    print(\"x is equal to y\") # câu lệnh này không được thực thi vì x > y == True"
   ]
  },
  {
   "cell_type": "markdown",
   "id": "634e98c5-182a-4567-9a03-52142c94a18f",
   "metadata": {},
   "source": [
    "## 4. Hàm "
   ]
  },
  {
   "cell_type": "markdown",
   "id": "e3706c05-e506-464c-ab3d-dc3945f006ca",
   "metadata": {},
   "source": [
    "Hàm (function) là một khối lệnh đặc biệt có thể gọi để sử dụng ở các nơi khác nhau trong chương trình. Hàm còn có một tác dụng vô cùng quan trọng nữa là tránh việc phải lặp lại code để thực thi những tác vụ tương tự nhau, từ đó giúp cho ta có thể viết mã gọn hơn và đặc biệt có thể tái sử dụng cũng như quản lý mã nguồn chương trình dễ dàng hơn. \n",
    "\n",
    "Trong bài học trước, chúng ta đã làm quen với một số hàm có sẵn. Vậy để có thể tạo ra 1 hàm tự định nghĩa thì làm như thế nào? Ta cùng tham khảo cú pháp dưới đây:\n",
    "\n",
    "- Cú pháp\n",
    "```\n",
    "def function_name(arg1, arg2, ...):\n",
    "    bussiness logic\n",
    "    return #-->  optional\n",
    "```\n",
    "\n",
    "Lưu ý:\n",
    "- `arg` là các tham số truyền vào hàm. Một hàm có thể có 0, 1 hoặc nhiều tham số và các tham số này được ngăn cách nhau bởi dấu phẩy. \n",
    "- Các biến và tham số của hàm chỉ có phạm vi trong hàm. Thời gian tồn tại của biến là khoảng thời gian mà biến đó xuất hiện trong bộ nhớ. Khi hàm được thực thi thì biến sẽ tồn tại. Biến bị hủy khi chúng ta thoát khỏi hàm. Hàm không nhớ giá trị của biến trong những lần gọi hàm trước đó.\n",
    "- `return` dùng để trả về một giá trị (hoặc một biểu thức), hoặc đơn giản là trả về \"không gì cả\". Khi lệnh `return` được thực thi, hàm sẽ kết thúc. Tuy nhiên, `return` là lệnh không bắt buộc phải có trong thân hàm."
   ]
  },
  {
   "cell_type": "code",
   "execution_count": 13,
   "id": "9c32625f-dd14-4d7b-be82-82cd021144a3",
   "metadata": {},
   "outputs": [],
   "source": [
    "def print_asterisk(number):\n",
    "    for i in range(number):\n",
    "        print('*'*i)"
   ]
  },
  {
   "cell_type": "code",
   "execution_count": 14,
   "id": "eb0833a0-4cd4-4334-bca1-12c845e4546a",
   "metadata": {},
   "outputs": [
    {
     "name": "stdout",
     "output_type": "stream",
     "text": [
      "\n",
      "*\n",
      "**\n",
      "***\n",
      "****\n",
      "*****\n"
     ]
    }
   ],
   "source": [
    "print_asterisk(6)"
   ]
  },
  {
   "cell_type": "markdown",
   "id": "e2451dd0-5d1b-4f37-9b5c-e1629d710ba1",
   "metadata": {},
   "source": [
    "**Bài tập**:\n",
    "\n",
    "Viết 1 hàm tìm giá trị lớn nhất của 1 list các số nguyên. "
   ]
  },
  {
   "cell_type": "code",
   "execution_count": 15,
   "id": "d4d3e3d5-7dc6-4811-be14-72af80d30830",
   "metadata": {},
   "outputs": [],
   "source": [
    "def max_list(li):\n",
    "    return max(li)"
   ]
  },
  {
   "cell_type": "code",
   "execution_count": 16,
   "id": "12264707-db28-479a-9b4e-f6443786c034",
   "metadata": {},
   "outputs": [],
   "source": [
    "def max_list1(li):\n",
    "    max_num = 0\n",
    "    for value in li:\n",
    "        if max_num < value:\n",
    "            max_num = value\n",
    "    return max_num"
   ]
  },
  {
   "cell_type": "code",
   "execution_count": 17,
   "id": "88bdded5-dbce-4ad0-985b-f40596b950f9",
   "metadata": {},
   "outputs": [
    {
     "data": {
      "text/plain": [
       "99"
      ]
     },
     "execution_count": 17,
     "metadata": {},
     "output_type": "execute_result"
    }
   ],
   "source": [
    "max_list([1,2,99,6])"
   ]
  },
  {
   "cell_type": "code",
   "execution_count": 18,
   "id": "f9555a9e-fe5b-454c-bc32-69e9b0e30f15",
   "metadata": {},
   "outputs": [
    {
     "data": {
      "text/plain": [
       "99"
      ]
     },
     "execution_count": 18,
     "metadata": {},
     "output_type": "execute_result"
    }
   ],
   "source": [
    "max_list1([1,2,99,6])"
   ]
  },
  {
   "cell_type": "markdown",
   "id": "a4ae5423-c032-408d-bbc9-33f36a178526",
   "metadata": {},
   "source": [
    "Lưu ý, ta có thể thêm mô tả về hàm bằng cách sử dụng `'''` hoặc `\"\"\"` như cách ta viết chú thích trên nhiều dòng ở vị trí giữa `def function_name()` và `business logic`."
   ]
  },
  {
   "cell_type": "code",
   "execution_count": 19,
   "id": "4c511211-7e4d-48f1-a700-c69ed12284bb",
   "metadata": {},
   "outputs": [],
   "source": [
    "def max_list(li):\n",
    "    \"\"\"\n",
    "    Return maximum number of a list\n",
    "    \"\"\"\n",
    "    return max(li)"
   ]
  },
  {
   "cell_type": "markdown",
   "id": "1186e6fa-3ca7-4071-b394-edf209995d7d",
   "metadata": {},
   "source": [
    "Ngoài ra, trong Python ta có 1 khái niệm hàm khác, đó là **Hàm vô danh**. Nếu các hàm bình thường được định nghĩa bằng cách sử dụng từ khóa `def` và có tên hàm, thì hàm vô danh được định nghĩa bằng cách sử dụng từ khóa `lambda`. Đó cũng là lí do mà hàm vô danh còn được gọi là hàm Lambda.\n",
    "- Cú pháp:\n",
    "`lambda parameters: business logic`\n",
    "\n",
    "Lưu ý, hàm vô danh có thể có nhiều tham số nhưng chỉ có 1 biểu thức trả về. \n",
    "Khi bạn muốn biểu diễn các hàm số đơn giản một cách ngắn gọn hơn, hàm vô danh là 1 sự lựa chọn hoàn hảo. Tuy nhiên, khi nuốn xây dưng các hàm số phức tạp với nhiều biểu thức và phép tính toán khác nhau thì hàm bình thường sẽ là sự lựa chọn tốt hơn.\n",
    "\n"
   ]
  },
  {
   "cell_type": "code",
   "execution_count": 20,
   "id": "bfed5afd-1d6d-4fee-8738-ab3f9538c1ac",
   "metadata": {},
   "outputs": [],
   "source": [
    "def square(x):\n",
    "    return x**2"
   ]
  },
  {
   "cell_type": "code",
   "execution_count": 21,
   "id": "49eeac90-3b3a-438e-9f4e-180e81efc3a0",
   "metadata": {},
   "outputs": [],
   "source": [
    "square1 = lambda x : x**2"
   ]
  },
  {
   "cell_type": "code",
   "execution_count": 22,
   "id": "175268d9-fb0c-4171-b5ee-f776398b9a0a",
   "metadata": {},
   "outputs": [
    {
     "data": {
      "text/plain": [
       "4"
      ]
     },
     "execution_count": 22,
     "metadata": {},
     "output_type": "execute_result"
    }
   ],
   "source": [
    "square(2)"
   ]
  },
  {
   "cell_type": "code",
   "execution_count": 23,
   "id": "d05d91fd-be06-4064-8415-20d2a01d8b8e",
   "metadata": {},
   "outputs": [
    {
     "data": {
      "text/plain": [
       "4"
      ]
     },
     "execution_count": 23,
     "metadata": {},
     "output_type": "execute_result"
    }
   ],
   "source": [
    "square1(2)"
   ]
  },
  {
   "cell_type": "code",
   "execution_count": 24,
   "id": "14b42a61-272f-4917-9b4a-a6c9887c8095",
   "metadata": {},
   "outputs": [
    {
     "name": "stdout",
     "output_type": "stream",
     "text": [
      "[1, 2, 3, 4, 5, 6, 7, 8, 9, 10]\n",
      "[1, 4, 9, 16, 25, 36, 49, 64, 81, 100]\n"
     ]
    }
   ],
   "source": [
    "li = list(range(1,11))\n",
    "li1 = list(map(lambda a: a**2 , li))\n",
    "print(li)\n",
    "print(li1)"
   ]
  },
  {
   "cell_type": "markdown",
   "id": "42ef509f-6696-489f-baf3-92e9d4f9668a",
   "metadata": {},
   "source": [
    "## 5. Bao hàm \n",
    "\n",
    "Bao hàm (Comprehension) là một tính năng tuyệt vời của Python giúp bạn giảm được nhiều dòng code và cách tạo ra dữ liệu mới (kiểu list/set/tuple/dictionary) dựa vào dữ liệu cũ theo một điều kiện nào đó chỉ trong 1 dòng. Dữ liệu mới có thể ở cấu trúc dữ liệu list, set, tuple, hoặc dictionary tuy theo cú pháp định nghĩa. Không chỉ giúp ta có thể viết mã ngắn gọn hơn, tốc độ xử lý trên cùng 1 tác vụ cũng chứng minh sử dụng bao hàm nhanh hơn.\n",
    "\n",
    "- Cú pháp:\n",
    "    - List comprehension: `[expression for variable in iterable]`\n",
    "    - Set comprehension: `{expression for variable in iterable}`\n",
    "    - Tuple comprehension: `tuple(expression for variable in iterable)`\n",
    "    - Dictionary comprehension: `{key:value for variable in iterable]`\n",
    "    \n",
    "Lưu ý: ta có thể thêm các điều kiện thông qua câu lệnh điều kiện `if else` với bao hàm, ví dụ cú pháp với list comprehension:\n",
    "- `[expression for variable in iterable if condition]`\n",
    "hoặc\n",
    "- `[expression if condition else else-expression for variable in iterable ]`"
   ]
  },
  {
   "cell_type": "code",
   "execution_count": 25,
   "id": "e5c47ac6-870d-41db-a96b-9c26c120fb2d",
   "metadata": {},
   "outputs": [],
   "source": [
    "def square_list(li): \n",
    "    '''\n",
    "    Hàm tính bình phương từng phần tử trong 1 danh sách\n",
    "    Trả về 1 danh sách mới chứa bình phương từng phần tử \n",
    "    '''\n",
    "    li1 = []\n",
    "    for value in li:\n",
    "        li1.append(value**2)\n",
    "    return li1\n",
    "\n",
    "def square_list1(li): \n",
    "    '''\n",
    "    Hàm tính bình phương từng phần tử trong 1 danh sách\n",
    "    Trả về 1 danh sách mới chứa bình phương từng phần tử \n",
    "    '''\n",
    "    li1 = []\n",
    "    for value in li:\n",
    "        li1.append(square(value))\n",
    "    return li1\n",
    "\n",
    "def square_list2(li):\n",
    "    return [square(x) for x in li]"
   ]
  },
  {
   "cell_type": "code",
   "execution_count": 26,
   "id": "fe2f0825-5e4f-4034-aa69-704fdb7337d8",
   "metadata": {},
   "outputs": [
    {
     "name": "stdout",
     "output_type": "stream",
     "text": [
      "[1, 4, 9]\n",
      "[1, 4, 9]\n",
      "[1, 4, 9]\n"
     ]
    }
   ],
   "source": [
    "li = [1,2,3]\n",
    "print(square_list(li)) # list comprehension\n",
    "print(square_list1(li))\n",
    "print(square_list2(li))"
   ]
  },
  {
   "cell_type": "code",
   "execution_count": 27,
   "id": "1332eb54-b203-4ec3-ba5a-355be9887dd5",
   "metadata": {},
   "outputs": [
    {
     "data": {
      "text/plain": [
       "[4]"
      ]
     },
     "execution_count": 27,
     "metadata": {},
     "output_type": "execute_result"
    }
   ],
   "source": [
    "[square(x) for x in li if x%2 == 0] # list comprehension kết hợp điều kiện"
   ]
  },
  {
   "cell_type": "code",
   "execution_count": 28,
   "id": "8eb17f40-4f02-49ba-98a7-f7c2babe0f62",
   "metadata": {},
   "outputs": [
    {
     "data": {
      "text/plain": [
       "[1, 4, 3]"
      ]
     },
     "execution_count": 28,
     "metadata": {},
     "output_type": "execute_result"
    }
   ],
   "source": [
    "[square(x) if x%2 == 0 else x for x in li ] # list comprehension kết hợp điều kiện"
   ]
  },
  {
   "cell_type": "code",
   "execution_count": 29,
   "id": "0a98ab89-4a92-4c9e-82ad-49bc2dd794d4",
   "metadata": {},
   "outputs": [
    {
     "data": {
      "text/plain": [
       "[0, 4, 3]"
      ]
     },
     "execution_count": 29,
     "metadata": {},
     "output_type": "execute_result"
    }
   ],
   "source": [
    "[square(x) if x%2 == 0 else x if x > 2 else 0 for x in li ] # list comprehension kết hợp điều kiện"
   ]
  },
  {
   "cell_type": "code",
   "execution_count": 30,
   "id": "861d0367-a0ed-4fd4-9631-3727d7856bb9",
   "metadata": {},
   "outputs": [
    {
     "data": {
      "text/plain": [
       "{1, 4, 9}"
      ]
     },
     "execution_count": 30,
     "metadata": {},
     "output_type": "execute_result"
    }
   ],
   "source": [
    "{square(x) for x in li} # set comprehension"
   ]
  },
  {
   "cell_type": "code",
   "execution_count": 31,
   "id": "c63ba466-4ce4-4236-b3d9-de754a7f1a3f",
   "metadata": {},
   "outputs": [
    {
     "data": {
      "text/plain": [
       "(1, 4, 9)"
      ]
     },
     "execution_count": 31,
     "metadata": {},
     "output_type": "execute_result"
    }
   ],
   "source": [
    "tuple(square(x) for x in li) # tuple comprehension"
   ]
  },
  {
   "cell_type": "code",
   "execution_count": 32,
   "id": "e6abb11a-e7c6-4e87-8ea7-5d133c5d7c2e",
   "metadata": {},
   "outputs": [
    {
     "data": {
      "text/plain": [
       "{1: 1, 2: 4, 3: 9}"
      ]
     },
     "execution_count": 32,
     "metadata": {},
     "output_type": "execute_result"
    }
   ],
   "source": [
    "{x: square(x) for x in li} # dictionary comprehension"
   ]
  },
  {
   "cell_type": "markdown",
   "id": "b3c37f58-a05b-459d-9075-afe0b6b10bf5",
   "metadata": {},
   "source": [
    "Trong các bài tiếp theo, chúng ta sẽ cùng nhau tìm hiểu 1 số thư viện bổ trợ cho Python trong việc thao tác, xử lý, phân tích, và trực quan hoá dữ liệu."
   ]
  }
 ],
 "metadata": {
  "kernelspec": {
   "display_name": "Python 3",
   "language": "python",
   "name": "python3"
  },
  "language_info": {
   "codemirror_mode": {
    "name": "ipython",
    "version": 3
   },
   "file_extension": ".py",
   "mimetype": "text/x-python",
   "name": "python",
   "nbconvert_exporter": "python",
   "pygments_lexer": "ipython3",
   "version": "3.8.11"
  }
 },
 "nbformat": 4,
 "nbformat_minor": 5
}
