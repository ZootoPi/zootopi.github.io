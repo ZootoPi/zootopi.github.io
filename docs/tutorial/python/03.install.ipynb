{
 "cells": [
  {
   "cell_type": "markdown",
   "id": "f8602d8d",
   "metadata": {},
   "source": [
    "# Bài 1: Hướng dẫn cài đặt"
   ]
  },
  {
   "cell_type": "markdown",
   "id": "057de08f",
   "metadata": {},
   "source": [
    "## I. GITHUB & GITHUB DESKTOP"
   ]
  },
  {
   "cell_type": "markdown",
   "id": "5021a0e5",
   "metadata": {},
   "source": [
    "**GitHub** là sự kết hợp giữa 2 từ:\n",
    "\n",
    "> **Git** – hệ thống quản lý dự án và phiên bản code.\n",
    "\n",
    "> **Hub** – nơi biến những dòng lệnh trên Git thành mạng xã hội cho lập trình viên.\n",
    "\n",
    "Khi chúng ta tham gia các dự án công nghệ, ta thường làm việc theo nhóm. Github được sinh ra như một nơi lưu trữ các tài nguyên chung của nhóm, nơi quản lý các phiên bản giúp các thành viên trong nhóm có thể giám sát toàn bộ thay đổi của dự án, từ đó tăng sự hiệu quả làm việc. \n",
    "\n",
    "Một thuật ngữ cần nhớ:\n",
    "> **Repository**: kho lưu trữ, chứa toàn bộ dữ liệu thông tin, hình ảnh, video, bảng biểu… và các thay đổi trong quá trình thực hiện dự án. \n",
    "\n",
    "> **Push**: lệnh đưa nội dung mà bạn commit từ kho lưu trữ ở local lên kho lưu trữ server.\n",
    "\n",
    "> **Fetch**: lệnh lấy dữ liệu trên kho lưu trữ server để tích hợp vào branch.\n",
    "\n",
    "> **Pull/rebase**: lệnh sử dụng trên kho lưu trữ server, giúp bạn di chuyển toàn bộ dữ liệu trên kho này về máy tính để tích hợp dữ liệu vào branch.\n",
    "\n",
    "> **Commit**: thao tác ghi lại việc thêm/thay đổi file hay thư mục vào kho lưu trữ. \n",
    "\n",
    "![](https://user-images.githubusercontent.com/359239/44031406-4c5ebaf0-9eda-11e8-826a-b0d4ab6fd98f.png)\n",
    "\n",
    "Với những bạn mới bắt đầu tìm hiểu và chưa quen sử dụng những câu lệnh trên Terminal/Prompt máy tính, Github Desktop là một công cụ trực quan quản lý kho lưu trữ local, cũng như giải pháp giúp cho các bạn làm quen với Github dễ dàng hơn khi thực hiện các thao tác, dòng lệch Git cơ bản thông qua những button có thể dễ dàng click chuột trên giao diện.\n",
    "\n",
    "Tham khảo:\n",
    "- Tải Github Desktop tại [đây](https://desktop.github.com/).\n",
    "- Sổ tay Git tại [đây](https://rogerdudler.github.io/git-guide/index.vi.html?fbclid=IwAR3obi7MWsbgXSiTUSg9QCzP7a8-vX7k9ASu8u5A-WuUVvP_eigo4E0hCbo)."
   ]
  },
  {
   "cell_type": "markdown",
   "id": "a36ba9d0",
   "metadata": {},
   "source": [
    "## II. ANACONDA"
   ]
  },
  {
   "cell_type": "markdown",
   "id": "9c66fc41",
   "metadata": {},
   "source": [
    "Anaconda là 1 nền tảng phân phối các thư viện Python với hơn 25 triệu người dùng, giúp bạn có thể dễ dàng quản lý các môi trường ảo. Mình khuyến khích các bạn mới bắt đầu học làm quen và dùng Anaconda bởi những lí do sau: \n",
    "\n",
    "- Anaconda đơn giản, dễ sử dụng với 1 hệ sinh thái nguồn mở, đáp ứng nhu cầu về khoa học dữ liệu với Python.\n",
    "- Mình khuyến khích mọi người dùng môi trường ảo và cài những thư viện cần thiết cho 1 dự án của bạn trên 1 môi trường ảo. \n",
    "    - Khi ta làm nhiều dự án và cài hết các thư viện cần thiết từ các dự án khác nhau về 1 nơi thì các thư viện, tài nguyên dễ bị xung đột phiên bản, ảnh hưởng đến việc thực thi mã nguồn của bạn. Với Anaconda, mỗi dự án ta có thể dễ dàng tạo 1 môi trường ảo riêng, sau khi kết thúc dự án ta chỉ cần xoá cái môi trường ảo là xong, đơn giản và nhanh gọn.\n",
    "    - Khi làm theo nhóm, việc sử dụng môi trường ảo cũng giúp các bạn chia sẻ các thư viện đúng phiên bản được cài đặt với người khác, đảm bảo sự đồng nhất trong phiên bản giữa các bạn trong nhóm. \n",
    "\n",
    "Thông thường, khi bạn cài Anaconda thì nó sẽ tự động cài thêm cho bạn Python và 1 số thư viện Python hữu ích như Matplotlib, NumPy và SciPy. Ta có thể làm quen với Terminal/Anaconda Prompt bằng 1 số câu lệnh cơ bản:\n",
    "> `python --version`: kiểm tra phiên bản của Python, phiên bản mới nhất hiện tại là 3.9.6\n",
    "\n",
    "> `where conda`: tìm xem vị trí conda được lưu tại đâu trong máy \n",
    "\n",
    "> `pwd` (print working directory): vị trí hiện tại đang trỏ đến, đang làm việc\n",
    "\n",
    "> `open folder-name`: mở thư mục\n",
    "\n",
    "Một số câu lệnh cơ bản với Anaconda:\n",
    "> `conda create -n zootopi python=3.8`: tạo môi trường ảo với python phiên bản 3.8\n",
    "\n",
    "> `conda install packagename`: cài đặt thư viện với `packagename` là tên của thư viện, ví dụ `pandas`, `seaborn`, ...\n",
    "\n",
    "> `conda env remove -n zootopi`: xoá môi trường ảo\n",
    "\n",
    "> `conda env list`: liệt kê các môi trường ảo đã tạo"
   ]
  },
  {
   "cell_type": "markdown",
   "id": "a6b2f4e2",
   "metadata": {},
   "source": [
    "Tham khảo:\n",
    "- Tải Anaconda tại [đây](https://www.anaconda.com/products/individual)."
   ]
  },
  {
   "cell_type": "markdown",
   "id": "4d59ce86",
   "metadata": {},
   "source": [
    "## III. JUPYTER vs COLAB\n",
    "\n",
    "### 1. Jupyter, Jupyter Notebook, Jupyter Lab\n",
    "\n",
    "Jupyter là một nền tảng tính toán khoa học mã nguồn mở cho phép tương tác trực tiếp với từng dòng code, hỗ trợ hơn 40 ngôn ngữ lập trình, trong đó tập trung vào 3 ngôn ngữ là Julia, Python và R và cái tên Jupyter bắt nguồn từ cách chơi chữ Jupyter = Julia + Python + R. Trước đây là nó có tên là IPython, đến năm 2014 lại đổi tên thành Jupyter.\n",
    "\n",
    "- Là môi trường làm việc phổ biến nhất cho phân tích **Khoa học dữ liệu** bằng Python\n",
    "    > `Jupyter Notebook >> Jupyter Lab`\n",
    "\n",
    "- Các file Python gốc sẽ có đuôi `.py`. và file jupyter sẽ có đuôi là `.ipynb`.\n",
    "\n",
    "- **Jupyter** cung cấp môi trường làm việc:\n",
    "    1. Đa ngôn ngữ \n",
    "    > `Jupyter  = Julia + Python + R`\n",
    "    2. Đa nền tảng: `Windows`,`Ubuntu`,`MacOS`\n",
    "    3. Nền web\n",
    "    4. Tích hợp hiển thị kết quả lập trình và trực quan hoá dữ liệu\n",
    "\n",
    "Để chạy notebook, ta sử dụng câu lệnh `jupyter lab` hoặc `jupyter notebook`.\n",
    "\n",
    "### 2. Trình quản lý thử viện PIP\n",
    "\n",
    "- PIP `pip` viết tắt của `Package Installer for Python`, là trình quản lý giúp người dùng cài đặt, gỡ bỏ và cập nhật các gói thư viện trên Python. \n",
    "\n",
    "- Để cài đặt, ta sử dụng câu lệnh `pip install <tên_thư_viện> tử Anaconda Prompt` và `pip` sẽ tự động tải xuống và cài đặt theo yêu cầu của người dùng, ví dụ:\n",
    "\n",
    "```python\n",
    "!pip install scikit-learn\n",
    "```\n",
    "\n",
    "### 3. Google Colab (optional)\n",
    "- Môi trường `colab` là 1 nền tảng được cung cấp miễn phí bởi Google và chạy trên nền Jupyter, giúp người dùng có thể dễ dàng mở và chạy `Jupyter notebook` từ bất kỳ đâu mà không cần cài đặt bất kỳ thứ gì.\n",
    "\n",
    "- Truy cập `colab` tại địa chỉ https://colab.research.google.com/ và bắt đầu viết code.\n",
    "\n",
    "- Giao diện `colab` gần như giống y hệt với `Jupyter notebook`. Tuy nhiên tính năng thì vô vàn! Ví dụ khả năng kết nối tới Google Drive hay khả năng chia sẽ notebook ..."
   ]
  },
  {
   "cell_type": "markdown",
   "id": "eac56327",
   "metadata": {},
   "source": [
    "Ở trong [bài tiếp theo](./foundation), chúng ta sẽ làm quen với những thành phần cơ bản của Python."
   ]
  }
 ],
 "metadata": {
  "kernelspec": {
   "display_name": "Python 3.8.2 64-bit",
   "language": "python",
   "name": "python3"
  },
  "language_info": {
   "codemirror_mode": {
    "name": "ipython",
    "version": 3
   },
   "file_extension": ".py",
   "mimetype": "text/x-python",
   "name": "python",
   "nbconvert_exporter": "python",
   "pygments_lexer": "ipython3",
   "version": "3.8.2"
  },
  "vscode": {
   "interpreter": {
    "hash": "31f2aee4e71d21fbe5cf8b01ff0e069b9275f58929596ceb00d14d90e3e16cd6"
   }
  }
 },
 "nbformat": 4,
 "nbformat_minor": 5
}
