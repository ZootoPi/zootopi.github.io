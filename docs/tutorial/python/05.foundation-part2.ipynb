{
 "cells": [
  {
   "cell_type": "markdown",
   "source": [
    "# BÀI 3: Giới thiệu về PYTHON (tiếp theo)"
   ],
   "metadata": {}
  },
  {
   "cell_type": "markdown",
   "source": [
    "![](https://laptrinhcanban.com/python/nhap-mon-lap-trinh-python/gioi-thieu-python/python-la-gi/Python.jpg)"
   ],
   "metadata": {}
  },
  {
   "cell_type": "markdown",
   "source": [
    "Trong bài viết trước, chúng ta đã nắm được về các thành phần cơ bản trong Python bao gồm biến, các phép tính, các toán tử, cũng như làm quen với kiểu dữ liệu và cấu trúc dữ liệu cơ bản. Trong bài viết này, Zootopi sẽ cùng các bạn tìm hiểu về cách vận hành cũng như thứ tự thực thi của các đoạn mã 1 chương trình thông qua câu lệnh điều kiện, vòng lặp. Bên cạnh đó, Zootopi sẽ làm quen với hàm và cách để tạo ra hàm thông thường, hàm vô danh, và bao hàm."
   ],
   "metadata": {}
  },
  {
   "cell_type": "markdown",
   "source": [
    "## 1. Câu lệnh tuần tự\n",
    "\n",
    "Trong Python, các câu lệnh ta viết được thực thi một cách tuần tự từ trên xuống dưới, ví dụ:"
   ],
   "metadata": {}
  },
  {
   "cell_type": "code",
   "execution_count": 1,
   "source": [
    "print('Hello')\n",
    "print('everyone')\n",
    "print('!')"
   ],
   "outputs": [
    {
     "output_type": "stream",
     "name": "stdout",
     "text": [
      "Hello\n",
      "everyone\n",
      "!\n"
     ]
    }
   ],
   "metadata": {}
  },
  {
   "cell_type": "markdown",
   "source": [
    "Trong ví dụ trên, 3 hàm `print()` là 3 hàm độc lập với nhau. Khi ta thực thi các câu lệnh này, máy tính sẽ dịch và trả về kết quả các câu lệnh này theo thứ tự chúng xuất hiện trong cell code. Câu lệnh nào xuất hiện trước sẽ trả về kết quả trước và nó sẽ chạy và trả về kết quả cho đến khi hết các dòng lệnh hoặc cho đến khi gặp lỗi.\n",
    "\n",
    "***Đố vui***: In ra kết quả như sau:\n",
    "```\n",
    "*\n",
    "**\n",
    "***\n",
    "****\n",
    "*****\n",
    "```"
   ],
   "metadata": {}
  },
  {
   "cell_type": "code",
   "execution_count": 2,
   "source": [
    "print('*')\n",
    "print('**')\n",
    "print('***')\n",
    "print('****')\n",
    "print('*****')"
   ],
   "outputs": [
    {
     "output_type": "stream",
     "name": "stdout",
     "text": [
      "*\n",
      "**\n",
      "***\n",
      "****\n",
      "*****\n"
     ]
    }
   ],
   "metadata": {}
  },
  {
   "cell_type": "code",
   "execution_count": 3,
   "source": [
    "print('*')\n",
    "print('*'*2)\n",
    "print('*'*3)\n",
    "print('*'*4)\n",
    "print('*'*5)"
   ],
   "outputs": [
    {
     "output_type": "stream",
     "name": "stdout",
     "text": [
      "*\n",
      "**\n",
      "***\n",
      "****\n",
      "*****\n"
     ]
    }
   ],
   "metadata": {}
  },
  {
   "cell_type": "code",
   "execution_count": 4,
   "source": [
    "print('*\\n**\\n***\\n****\\n*****')"
   ],
   "outputs": [
    {
     "output_type": "stream",
     "name": "stdout",
     "text": [
      "*\n",
      "**\n",
      "***\n",
      "****\n",
      "*****\n"
     ]
    }
   ],
   "metadata": {}
  },
  {
   "cell_type": "markdown",
   "source": [
    "Có thể thấy các dòng cần in ra có cùng 1 đặc trưng như sau:\n",
    "- Các dòng đều chứa kí tự `*`\n",
    "- Số kí tự `*` của dòng sau nhiều hơn dòng trước 1 đơn vị.\n",
    "\n",
    "Vậy liệu có cách nào để ta có thể thực hiện được bài đố vui trên chỉ với 1 hoặc 2 dòng lệnh ngay cả khi số lượng dòng cần in ra theo đặc trưng trên nhiều hơn? Hãy cũng nhau đến với vòng lặp. "
   ],
   "metadata": {}
  },
  {
   "cell_type": "markdown",
   "source": [
    "## 2. Vòng lặp"
   ],
   "metadata": {}
  },
  {
   "cell_type": "markdown",
   "source": [
    "### 2.1 Vòng lặp `for`\n",
    "\n",
    "`for` là 1 kiểu vòng lặp cho phép ta lặp lại các xử lý trong chương trình với một số lần cụ thể.\n",
    "\n",
    "- Cú pháp:\n",
    "    - Cách 1:\n",
    "```\n",
    "for value in iterable:\n",
    "    business logic \n",
    "```\n",
    "\n",
    "    - Cách 2:\n",
    "```\n",
    "for index in range(len(iterable)):\n",
    "    business logic\n",
    "```\n",
    "\n",
    "Trong đó `iterable` là những cấu trúc dữ liệu có một hoặc nhiều phần tử như `List`,`Tuple`,`Set`, `Dictionary`,...\n",
    "\n",
    "Ở ví dụ phần 1, ta có thể sử dụng hàm `range()` để tạo ra 1 dãy số tương ứng với `iterable` trong cú pháp. Ví dụ, `range(10)` sẽ tạo một dãy số từ 0 đến 9 (10 số)."
   ],
   "metadata": {}
  },
  {
   "cell_type": "code",
   "execution_count": 5,
   "source": [
    "print(list(range(10))) # list chạy từ 0 đến 10 (không bao gồm 10)\n",
    "print(list(range(2,10))) # list chạy từ 2 đến 10 (không bao gồm 10)\n",
    "print(list(range(2,10,2))) # list chạy từ 2 đến 10 (không bao gồm 10), cách nhau 2 đơn vị\n",
    "print(len(range(2,10,2))) # độ dài của range(2,10,2)"
   ],
   "outputs": [
    {
     "output_type": "stream",
     "name": "stdout",
     "text": [
      "[0, 1, 2, 3, 4, 5, 6, 7, 8, 9]\n",
      "[2, 3, 4, 5, 6, 7, 8, 9]\n",
      "[2, 4, 6, 8]\n",
      "4\n"
     ]
    }
   ],
   "metadata": {}
  },
  {
   "cell_type": "code",
   "execution_count": 6,
   "source": [
    "# Cách 1\n",
    "li = range(6)\n",
    "for value in li:\n",
    "    print('*'*value)"
   ],
   "outputs": [
    {
     "output_type": "stream",
     "name": "stdout",
     "text": [
      "\n",
      "*\n",
      "**\n",
      "***\n",
      "****\n",
      "*****\n"
     ]
    }
   ],
   "metadata": {}
  },
  {
   "cell_type": "code",
   "execution_count": 7,
   "source": [
    "# Cách 2\n",
    "for index in li:\n",
    "    print('*'*li[index])"
   ],
   "outputs": [
    {
     "output_type": "stream",
     "name": "stdout",
     "text": [
      "\n",
      "*\n",
      "**\n",
      "***\n",
      "****\n",
      "*****\n"
     ]
    }
   ],
   "metadata": {}
  },
  {
   "cell_type": "markdown",
   "source": [
    "**Bài tập**:\n",
    "\n",
    "Cho 1 danh sách `li` gồm 10 phần tử từ 1 đến 10, trả về danh sách mới `li1` sao cho mỗi phần tử trong `li1` là bình phương của phần tử có trong `li` sử dụng `for`. "
   ],
   "metadata": {}
  },
  {
   "cell_type": "code",
   "execution_count": 8,
   "source": [
    "li = list(range(1,11)) # tạo 1 list gồm 10 phần tử từ 1 đến 10 và gán vào biến li\n",
    "li1 = [] # khởi tạo 1 list rỗng gán vào biến li1\n",
    "for val in li: # với từng giá trị trong biến li\n",
    "    li1.append(val**2) # nối giá trị bình phương của phần tử trong li vào li1\n",
    "print(li)\n",
    "print(li1)"
   ],
   "outputs": [
    {
     "output_type": "stream",
     "name": "stdout",
     "text": [
      "[1, 2, 3, 4, 5, 6, 7, 8, 9, 10]\n",
      "[1, 4, 9, 16, 25, 36, 49, 64, 81, 100]\n"
     ]
    }
   ],
   "metadata": {}
  },
  {
   "cell_type": "code",
   "execution_count": 9,
   "source": [
    "li1 = [] #khởi tạo 1 list rỗng gán vào biến li1\n",
    "for idx in range(len(li)): # với từng index các phần tử trong biến i\n",
    "    li1.append(li[idx]**2) # nối giá trị bình phương của phần tử trong li vào li1\n",
    "print(li)\n",
    "print(li1)"
   ],
   "outputs": [
    {
     "output_type": "stream",
     "name": "stdout",
     "text": [
      "[1, 2, 3, 4, 5, 6, 7, 8, 9, 10]\n",
      "[1, 4, 9, 16, 25, 36, 49, 64, 81, 100]\n"
     ]
    }
   ],
   "metadata": {}
  },
  {
   "cell_type": "markdown",
   "source": [
    "Thông thường, nếu số lần lặp là cố định thì vòng lặp `for` khuyến khích sử dụng, còn nếu số lần lặp không cố định thì nên sử dụng vòng lặp `while` dưới đây."
   ],
   "metadata": {}
  },
  {
   "cell_type": "markdown",
   "source": [
    "### 2.2 Vòng lặp `while`"
   ],
   "metadata": {}
  },
  {
   "cell_type": "markdown",
   "source": [
    "- Cú pháp\n",
    "```\n",
    "while condition(True/False):\n",
    "    business logic\n",
    "```"
   ],
   "metadata": {}
  },
  {
   "cell_type": "code",
   "execution_count": 10,
   "source": [
    "i = 0\n",
    "while i < 6:\n",
    "    print('*'*i)\n",
    "    i += 1"
   ],
   "outputs": [
    {
     "output_type": "stream",
     "name": "stdout",
     "text": [
      "\n",
      "*\n",
      "**\n",
      "***\n",
      "****\n",
      "*****\n"
     ]
    }
   ],
   "metadata": {}
  },
  {
   "cell_type": "markdown",
   "source": [
    "**Bài tập**:\n",
    "\n",
    "Cho 1 danh sách `li` gồm 10 phần tử từ 1 đến 10, trả về danh sách mới `li1` sao cho mỗi phần tử trong `li1` là bình phương của phần tử có trong `li` sử dụng `while`. "
   ],
   "metadata": {}
  },
  {
   "cell_type": "code",
   "execution_count": 11,
   "source": [
    "li = list(range(1,11)) # tạo 1 list gồm 10 phần tử từ 1 đến 10 và gán vào biến li\n",
    "li1 = [] # khởi tạo 1 list rỗng gán vào biến li1\n",
    "index = 0\n",
    "while index < len(li): # với giá trị của index nhỏ hơn độ dài biến li\n",
    "    li1.append(li[index]**2) # nối giá trị bình phương của phần tử trong li vào li1\n",
    "    index += 1\n",
    "print(li)\n",
    "print(li1)"
   ],
   "outputs": [
    {
     "output_type": "stream",
     "name": "stdout",
     "text": [
      "[1, 2, 3, 4, 5, 6, 7, 8, 9, 10]\n",
      "[1, 4, 9, 16, 25, 36, 49, 64, 81, 100]\n"
     ]
    }
   ],
   "metadata": {}
  },
  {
   "cell_type": "markdown",
   "source": [
    "## 3. Câu lệnh điều kiện"
   ],
   "metadata": {}
  },
  {
   "cell_type": "markdown",
   "source": [
    "Câu lệnh điều kiện trong Python sẽ thực thi các tính toán hoặc hành động tùy thuộc vào điều kiện ràng buộc là đúng hay sai. Các điều kiện ràng buộc này được mô tả thông qua toán tử so sánh và toán tử luận lý chúng ta đã học trong bài trước. Nếu kết quả của các phép so sánh hoặc luận lý này là  True, các khối `business logic` bên trong kết quả đó mới được thực hiện.\n",
    "\n",
    "- Cú pháp:\n",
    "```\n",
    "if condition(True/False):\n",
    "    business logic\n",
    "elif condition(True/False): # --> optional\n",
    "    business logic\n",
    "elif condition(True/False): # --> optional\n",
    "    business logic\n",
    "elif condition(True/False): # --> optional\n",
    "    business logic\n",
    "    ....\n",
    "else:\n",
    "    business logic # --> optional\n",
    "```"
   ],
   "metadata": {}
  },
  {
   "cell_type": "code",
   "execution_count": 12,
   "source": [
    "x = 5\n",
    "y = 5\n",
    "if x < y:\n",
    "    print(\"x is smaller than y\") # câu lệnh này không được thực thi vì x < y == False\n",
    "elif x > y:\n",
    "    print(\"x is larger than y\") # câu lệnh này không được thực thi vì x > y == False\n",
    "else:\n",
    "    print(\"x is equal to y\") # câu lệnh này không được thực thi vì x > y == True"
   ],
   "outputs": [
    {
     "output_type": "stream",
     "name": "stdout",
     "text": [
      "x is equal to y\n"
     ]
    }
   ],
   "metadata": {}
  },
  {
   "cell_type": "markdown",
   "source": [
    "## 4. Hàm "
   ],
   "metadata": {}
  },
  {
   "cell_type": "markdown",
   "source": [
    "Hàm (function) là một khối lệnh đặc biệt có thể gọi để sử dụng ở các nơi khác nhau trong chương trình. Hàm còn có một tác dụng vô cùng quan trọng nữa là tránh việc phải lặp lại code để thực thi những tác vụ tương tự nhau, từ đó giúp cho ta có thể viết mã gọn hơn và đặc biệt có thể tái sử dụng cũng như quản lý mã nguồn chương trình dễ dàng hơn. \n",
    "\n",
    "Trong bài học trước, chúng ta đã làm quen với một số hàm có sẵn. Vậy để có thể tạo ra 1 hàm tự định nghĩa thì làm như thế nào? Ta cùng tham khảo cú pháp dưới đây:\n",
    "\n",
    "- Cú pháp\n",
    "```\n",
    "def function_name(arg1, arg2, ...):\n",
    "    bussiness logic\n",
    "    return #-->  optional\n",
    "```\n",
    "\n",
    "Lưu ý:\n",
    "- `arg` là các tham số truyền vào hàm. Một hàm có thể có 0, 1 hoặc nhiều tham số và các tham số này được ngăn cách nhau bởi dấu phẩy. \n",
    "- Các biến và tham số của hàm chỉ có phạm vi trong hàm. Thời gian tồn tại của biến là khoảng thời gian mà biến đó xuất hiện trong bộ nhớ. Khi hàm được thực thi thì biến sẽ tồn tại. Biến bị hủy khi chúng ta thoát khỏi hàm. Hàm không nhớ giá trị của biến trong những lần gọi hàm trước đó.\n",
    "- `return` dùng để trả về một giá trị (hoặc một biểu thức), hoặc đơn giản là trả về \"không gì cả\". Khi lệnh `return` được thực thi, hàm sẽ kết thúc. Tuy nhiên, `return` là lệnh không bắt buộc phải có trong thân hàm."
   ],
   "metadata": {}
  },
  {
   "cell_type": "code",
   "execution_count": 13,
   "source": [
    "def print_asterisk(number):\n",
    "    for i in range(number):\n",
    "        print('*'*i)"
   ],
   "outputs": [],
   "metadata": {}
  },
  {
   "cell_type": "code",
   "execution_count": 14,
   "source": [
    "print_asterisk(6)"
   ],
   "outputs": [
    {
     "output_type": "stream",
     "name": "stdout",
     "text": [
      "\n",
      "*\n",
      "**\n",
      "***\n",
      "****\n",
      "*****\n"
     ]
    }
   ],
   "metadata": {}
  },
  {
   "cell_type": "markdown",
   "source": [
    "**Bài tập**:\n",
    "\n",
    "Viết 1 hàm tìm giá trị lớn nhất của 1 list các số nguyên. "
   ],
   "metadata": {}
  },
  {
   "cell_type": "code",
   "execution_count": 15,
   "source": [
    "def max_list(li):\n",
    "    return max(li)"
   ],
   "outputs": [],
   "metadata": {}
  },
  {
   "cell_type": "code",
   "execution_count": 16,
   "source": [
    "def max_list1(li):\n",
    "    max_num = 0\n",
    "    for value in li:\n",
    "        if max_num < value:\n",
    "            max_num = value\n",
    "    return max_num"
   ],
   "outputs": [],
   "metadata": {}
  },
  {
   "cell_type": "code",
   "execution_count": 17,
   "source": [
    "max_list([1,2,99,6])"
   ],
   "outputs": [
    {
     "output_type": "execute_result",
     "data": {
      "text/plain": [
       "99"
      ]
     },
     "metadata": {},
     "execution_count": 17
    }
   ],
   "metadata": {}
  },
  {
   "cell_type": "code",
   "execution_count": 18,
   "source": [
    "max_list1([1,2,99,6])"
   ],
   "outputs": [
    {
     "output_type": "execute_result",
     "data": {
      "text/plain": [
       "99"
      ]
     },
     "metadata": {},
     "execution_count": 18
    }
   ],
   "metadata": {}
  },
  {
   "cell_type": "markdown",
   "source": [
    "Lưu ý, ta có thể thêm mô tả về hàm bằng cách sử dụng `'''` hoặc `\"\"\"` như cách ta viết chú thích trên nhiều dòng ở vị trí giữa `def function_name()` và `business logic`."
   ],
   "metadata": {}
  },
  {
   "cell_type": "code",
   "execution_count": 19,
   "source": [
    "def max_list(li):\n",
    "    \"\"\"\n",
    "    Return maximum number of a list\n",
    "    \"\"\"\n",
    "    return max(li)"
   ],
   "outputs": [],
   "metadata": {}
  },
  {
   "cell_type": "markdown",
   "source": [
    "Ngoài ra, trong Python ta có 1 khái niệm hàm khác, đó là **Hàm vô danh**. Nếu các hàm bình thường được định nghĩa bằng cách sử dụng từ khóa `def` và có tên hàm, thì hàm vô danh được định nghĩa bằng cách sử dụng từ khóa `lambda`. Đó cũng là lí do mà hàm vô danh còn được gọi là hàm Lambda.\n",
    "- Cú pháp:\n",
    "`lambda parameters: business logic`\n",
    "\n",
    "Lưu ý, hàm vô danh có thể có nhiều tham số nhưng chỉ có 1 biểu thức trả về. \n",
    "Khi bạn muốn biểu diễn các hàm số đơn giản một cách ngắn gọn hơn, hàm vô danh là 1 sự lựa chọn hoàn hảo. Tuy nhiên, khi nuốn xây dưng các hàm số phức tạp với nhiều biểu thức và phép tính toán khác nhau thì hàm bình thường sẽ là sự lựa chọn tốt hơn.\n",
    "\n"
   ],
   "metadata": {}
  },
  {
   "cell_type": "code",
   "execution_count": 20,
   "source": [
    "def square(x):\n",
    "    return x**2"
   ],
   "outputs": [],
   "metadata": {}
  },
  {
   "cell_type": "code",
   "execution_count": 21,
   "source": [
    "square1 = lambda x : x**2"
   ],
   "outputs": [],
   "metadata": {}
  },
  {
   "cell_type": "code",
   "execution_count": 22,
   "source": [
    "square(2)"
   ],
   "outputs": [
    {
     "output_type": "execute_result",
     "data": {
      "text/plain": [
       "4"
      ]
     },
     "metadata": {},
     "execution_count": 22
    }
   ],
   "metadata": {}
  },
  {
   "cell_type": "code",
   "execution_count": 23,
   "source": [
    "square1(2)"
   ],
   "outputs": [
    {
     "output_type": "execute_result",
     "data": {
      "text/plain": [
       "4"
      ]
     },
     "metadata": {},
     "execution_count": 23
    }
   ],
   "metadata": {}
  },
  {
   "cell_type": "code",
   "execution_count": 24,
   "source": [
    "li = list(range(1,11))\n",
    "li1 = list(map(lambda a: a**2 , li))\n",
    "print(li)\n",
    "print(li1)"
   ],
   "outputs": [
    {
     "output_type": "stream",
     "name": "stdout",
     "text": [
      "[1, 2, 3, 4, 5, 6, 7, 8, 9, 10]\n",
      "[1, 4, 9, 16, 25, 36, 49, 64, 81, 100]\n"
     ]
    }
   ],
   "metadata": {}
  },
  {
   "cell_type": "markdown",
   "source": [
    "## 5. Bao hàm \n",
    "\n",
    "Bao hàm (Comprehension) là một tính năng tuyệt vời của Python giúp bạn giảm được nhiều dòng code và cách tạo ra dữ liệu mới (kiểu list/set/tuple/dictionary) dựa vào dữ liệu cũ theo một điều kiện nào đó chỉ trong 1 dòng. Dữ liệu mới có thể ở cấu trúc dữ liệu list, set, tuple, hoặc dictionary tuy theo cú pháp định nghĩa. Không chỉ giúp ta có thể viết mã ngắn gọn hơn, tốc độ xử lý trên cùng 1 tác vụ cũng chứng minh sử dụng bao hàm nhanh hơn.\n",
    "\n",
    "- Cú pháp:\n",
    "    - List comprehension: `[expression for variable in iterable]`\n",
    "    - Set comprehension: `{expression for variable in iterable}`\n",
    "    - Tuple comprehension: `tuple(expression for variable in iterable)`\n",
    "    - Dictionary comprehension: `{key:value for variable in iterable]`\n",
    "    \n",
    "Lưu ý: ta có thể thêm các điều kiện thông qua câu lệnh điều kiện `if else` với bao hàm, ví dụ cú pháp với list comprehension:\n",
    "- `[expression for variable in iterable if condition]`\n",
    "hoặc\n",
    "- `[expression if condition else else-expression for variable in iterable ]`"
   ],
   "metadata": {}
  },
  {
   "cell_type": "code",
   "execution_count": 25,
   "source": [
    "def square_list(li): \n",
    "    '''\n",
    "    Hàm tính bình phương từng phần tử trong 1 danh sách\n",
    "    Trả về 1 danh sách mới chứa bình phương từng phần tử \n",
    "    '''\n",
    "    li1 = []\n",
    "    for value in li:\n",
    "        li1.append(value**2)\n",
    "    return li1\n",
    "\n",
    "def square_list1(li): \n",
    "    '''\n",
    "    Hàm tính bình phương từng phần tử trong 1 danh sách\n",
    "    Trả về 1 danh sách mới chứa bình phương từng phần tử \n",
    "    '''\n",
    "    li1 = []\n",
    "    for value in li:\n",
    "        li1.append(square(value))\n",
    "    return li1\n",
    "\n",
    "def square_list2(li):\n",
    "    return [square(x) for x in li]"
   ],
   "outputs": [],
   "metadata": {}
  },
  {
   "cell_type": "code",
   "execution_count": 26,
   "source": [
    "li = [1,2,3]\n",
    "print(square_list(li)) # list comprehension\n",
    "print(square_list1(li))\n",
    "print(square_list2(li))"
   ],
   "outputs": [
    {
     "output_type": "stream",
     "name": "stdout",
     "text": [
      "[1, 4, 9]\n",
      "[1, 4, 9]\n",
      "[1, 4, 9]\n"
     ]
    }
   ],
   "metadata": {}
  },
  {
   "cell_type": "code",
   "execution_count": 27,
   "source": [
    "[square(x) for x in li if x%2 == 0] # list comprehension kết hợp điều kiện"
   ],
   "outputs": [
    {
     "output_type": "execute_result",
     "data": {
      "text/plain": [
       "[4]"
      ]
     },
     "metadata": {},
     "execution_count": 27
    }
   ],
   "metadata": {}
  },
  {
   "cell_type": "code",
   "execution_count": 28,
   "source": [
    "[square(x) if x%2 == 0 else x for x in li ] # list comprehension kết hợp điều kiện"
   ],
   "outputs": [
    {
     "output_type": "execute_result",
     "data": {
      "text/plain": [
       "[1, 4, 3]"
      ]
     },
     "metadata": {},
     "execution_count": 28
    }
   ],
   "metadata": {}
  },
  {
   "cell_type": "code",
   "execution_count": 29,
   "source": [
    "[square(x) if x%2 == 0 else x if x > 2 else 0 for x in li ] # list comprehension kết hợp điều kiện"
   ],
   "outputs": [
    {
     "output_type": "execute_result",
     "data": {
      "text/plain": [
       "[0, 4, 3]"
      ]
     },
     "metadata": {},
     "execution_count": 29
    }
   ],
   "metadata": {}
  },
  {
   "cell_type": "code",
   "execution_count": 30,
   "source": [
    "{square(x) for x in li} # set comprehension"
   ],
   "outputs": [
    {
     "output_type": "execute_result",
     "data": {
      "text/plain": [
       "{1, 4, 9}"
      ]
     },
     "metadata": {},
     "execution_count": 30
    }
   ],
   "metadata": {}
  },
  {
   "cell_type": "code",
   "execution_count": 31,
   "source": [
    "tuple(square(x) for x in li) # tuple comprehension"
   ],
   "outputs": [
    {
     "output_type": "execute_result",
     "data": {
      "text/plain": [
       "(1, 4, 9)"
      ]
     },
     "metadata": {},
     "execution_count": 31
    }
   ],
   "metadata": {}
  },
  {
   "cell_type": "code",
   "execution_count": 32,
   "source": [
    "{x: square(x) for x in li} # dictionary comprehension"
   ],
   "outputs": [
    {
     "output_type": "execute_result",
     "data": {
      "text/plain": [
       "{1: 1, 2: 4, 3: 9}"
      ]
     },
     "metadata": {},
     "execution_count": 32
    }
   ],
   "metadata": {}
  },
  {
   "cell_type": "markdown",
   "source": [
    "Trong các bài tiếp theo, chúng ta sẽ cùng nhau tìm hiểu 1 số thư viện bổ trợ cho Python trong việc thao tác, xử lý, phân tích, và trực quan hoá dữ liệu."
   ],
   "metadata": {}
  }
 ],
 "metadata": {
  "kernelspec": {
   "display_name": "Python 3",
   "language": "python",
   "name": "python3"
  },
  "language_info": {
   "codemirror_mode": {
    "name": "ipython",
    "version": 3
   },
   "file_extension": ".py",
   "mimetype": "text/x-python",
   "name": "python",
   "nbconvert_exporter": "python",
   "pygments_lexer": "ipython3",
   "version": "3.8.11"
  }
 },
 "nbformat": 4,
 "nbformat_minor": 5
}