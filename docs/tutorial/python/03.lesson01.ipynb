{
 "cells": [
  {
   "cell_type": "markdown",
   "source": [
    "# Bài 1: Hướng dẫn cài đặt"
   ],
   "metadata": {}
  },
  {
   "cell_type": "markdown",
   "source": [
    "![](https://i.ytimg.com/vi/bVOHeROLNyQ/maxresdefault.jpg)"
   ],
   "metadata": {}
  },
  {
   "cell_type": "markdown",
   "source": [
    "## 1. GITHUB & GITHUB DESKTOP"
   ],
   "metadata": {}
  },
  {
   "cell_type": "markdown",
   "source": [
    "**GitHub** là sự kết hợp giữa 2 từ:\n",
    "- **Git** – hệ thống quản lý dự án và phiên bản code,\n",
    "- **Hub** – nơi biến những dòng lệnh trên Git thành mạng xã hội cho lập trình viên.\n",
    "\n",
    "Khi chúng ta tham gia các dự án công nghệ, ta thường làm việc theo nhóm. Github được sinh ra như một nơi lưu trữ các tài nguyên chung của nhóm, nơi quản lý các phiên bản giúp các thành viên trong nhóm có thể giám sát toàn bộ thay đổi của dự án, từ đó tăng sự hiệu quả làm việc. \n",
    "\n",
    "Một thuật ngữ cần nhớ:\n",
    "- **Repository**: kho lưu trữ, chứa toàn bộ dữ liệu thông tin, hình ảnh, video, bảng biểu… và các thay đổi trong quá trình thực hiện dự án. \n",
    "- **Push**: lệnh đưa nội dung mà bạn commit từ kho lưu trữ ở local lên kho lưu trữ server.\n",
    "- **Fetch**: lệnh lấy dữ liệu trên kho lưu trữ server để tích hợp vào branch.\n",
    "- **Pull/rebase**: lệnh sử dụng trên kho lưu trữ server, giúp bạn di chuyển toàn bộ dữ liệu trên kho này về máy tính để tích hợp dữ liệu vào branch.\n",
    "- **Commit**: thao tác ghi lại việc thêm/thay đổi file hay thư mục vào kho lưu trữ. \n",
    "\n",
    "Với những bạn mới bắt đầu tìm hiểu và chưa quen sử dụng những câu lệnh trên Terminal/Prompt máy tính, Github Desktop là một công cụ trực quan quản lý kho lưu trữ local, cũng như giải pháp giúp cho các bạn làm quen với Github dễ dàng hơn khi thực hiện các thao tác, dòng lệch Git cơ bản thông qua những button có thể dễ dàng click chuột trên giao diện.\n",
    "\n",
    "![](https://user-images.githubusercontent.com/359239/44031406-4c5ebaf0-9eda-11e8-826a-b0d4ab6fd98f.png)\n",
    "\n",
    "Tham khảo:\n",
    "- Tải Github Desktop tại [đây](https://desktop.github.com/).\n",
    "- Sổ tay Git tại [đây](https://rogerdudler.github.io/git-guide/index.vi.html?fbclid=IwAR3obi7MWsbgXSiTUSg9QCzP7a8-vX7k9ASu8u5A-WuUVvP_eigo4E0hCbo)."
   ],
   "metadata": {}
  },
  {
   "cell_type": "markdown",
   "source": [
    "## 2. ANACONDA"
   ],
   "metadata": {}
  },
  {
   "cell_type": "markdown",
   "source": [
    "Anaconda là 1 nền tảng nền tảng phân phối Python với hơn 25 triệu người dùng, giúp bạn có thể dễ dàng quản lý môi trường ảo. Mình khuyến khích các bạn mới bắt đầu học làm quen và dùng Anaconda bởi những lí do sau: \n",
    "\n",
    "- Anaconda đơn giản, dễ sử dụng với 1 hệ sinh thái nguồn mở, đáp ứng nhu cầu về khoa học dữ liệu với Python.\n",
    "- Mình khuyến khích mọi người dùng môi trường ảo và cài những thư viện cần thiết cho 1 dự án của bạn trên 1 môi trường ảo. \n",
    "    - Chắc chắn vòng đời của máy tính bạn dùng sẽ dài hơn là vòng đời 1 dự án phần mềm bạn làm. Khi ta làm nhiều dự án và cài hết các thư viện cần thiết từ các dự án khác nhau về 1 nơi thì các thư viện, tài nguyên dễ bị xung đột phiên bản, ảnh hưởng đến việc thực thi mã nguồn của bạn. Thay vì thế, với Anaconda, mỗi dự án ta có thể dễ dàng tạo 1 môi trường ảo riêng, sau khi kết thúc dự án ta chỉ cần xoá cái môi trường ảo là xong, đơn giản và nhanh gọn.\n",
    "    - Khi làm theo nhóm, việc sử dụng môi trường ảo cũng giúp các bạn chia sẻ các thư viện đúng phiên bản được cài đặt với người khác, đảm bảo sự đồng nhất trong phiên bản giữa các bạn trong nhóm. \n",
    "\n",
    "Thông thường, khi bạn cài Anaconda thì nó sẽ tự động cài thêm cho bạn Python và 1 số thư viện Python hữu ích như Matplotlib, NumPy và SciPy. Ta có thể làm quen với Terminal/Anaconda Prompt bằng 1 số câu lệnh cơ bản:\n",
    "- `python --version`: kiểm tra phiên bản của Python, phiên bản mới nhất hiện tại là 3.9.6.\n",
    "- `where conda`: tìm xem vị trí conda được lưu tại đâu trong máy \n",
    "- `pwd` (print working directory): vị trí hiện tại đang trỏ đến, đang làm việc\n",
    "- `open folder-name`: mở thư mục\n",
    "\n",
    "Một số câu lệnh cơ bản với Anaconda:\n",
    "- `conda create -n zootopi python=3.8`: tạo môi trường ảo\n",
    "- `conda install packagename`: cài đặt thư viện\n",
    "- `conda env remove -n zootopi`: xoá môi trường ảo\n",
    "- `conda env list`: liệt kê các môi trường ảo đã tạo"
   ],
   "metadata": {}
  },
  {
   "cell_type": "markdown",
   "source": [
    "Tham khảo:\n",
    "- Tải Anaconda tại [đây](https://www.anaconda.com/products/individual)."
   ],
   "metadata": {}
  },
  {
   "cell_type": "markdown",
   "source": [
    "## 3. JUPYTER LAB"
   ],
   "metadata": {}
  },
  {
   "cell_type": "markdown",
   "source": [
    "Jupyter là một nền tảng tính toán khoa học mã nguồn mở cho phép tương tác trực tiếp với từng dòng code, hỗ trợ hơn 40 ngôn ngữ lập trình, trong đó tập trung vào 3 ngôn ngữ là Julia, Python và R và cái tên Jupyter bắt nguồn từ cách chơi chữ Jupyter = Julia + Python + R. Trước đây là nó có tên là IPython, đến năm 2014 lại đổi tên thành Jupyter.\n",
    "\n",
    "JupyterLab là môi trường phát triển tương tác dựa trên web dành cho notebook, mã và dữ liệu của Jupyter. Nó có cấu trúc mô-đun giúp ta có thể viết các plugin bổ sung các thành phần mới, tích hợp với các thành phần hiện có, và mở một số notebook hoặc tệp (ví dụ: HTML, Markdowns, v.v.) dưới dạng các tab trong cùng một cửa sổ cũng như cung cấp nhiều trải nghiệm giống như khi làm việc với các IDE. "
   ],
   "metadata": {}
  },
  {
   "cell_type": "markdown",
   "source": [
    "### Một số phím tắt cơ bản\n",
    "- Chạy câu lệnh nhấn **Shift + Enter (Windows)** or **Shift + Return (MacOS)**.\n",
    "- Con trỏ chuột ở trong cell, nhấn **Esc** để con trỏ chuột ra khỏi cell.\n",
    "- Nhấn **Esc + m** để chuyển cell code thành cell markdown. \n",
    "- Nhấn **Esc + y** để chuyển cell markdown thành cell code (có dấu ngoặc vuông ở đầu).\n",
    "- Nhấn **a** để tạo 1 cell phía bên trên.\n",
    "- Nhấn **b** để tạo 1 cell phía dưới.\n",
    "- Nhấn **x** để cut cell, v để paste cell.\n",
    "- Copy **c**."
   ],
   "metadata": {}
  },
  {
   "cell_type": "markdown",
   "source": [
    "### Một số cách sử dụng code markdown:"
   ],
   "metadata": {}
  },
  {
   "cell_type": "markdown",
   "source": [
    "- Chèn hình ảnh trong notebook, chuyển cell về chế độ markdown và gõ `![](đường links)` hoặc kéo thẳng ảnh local vào trong cell markdown\n",
    "\n",
    "![](https://upload.wikimedia.org/wikipedia/commons/thumb/7/71/2010-kodiak-bear-1.jpg/1200px-2010-kodiak-bear-1.jpg)"
   ],
   "metadata": {}
  },
  {
   "cell_type": "markdown",
   "source": [
    "- Tạo các tiêu đề, đầu mục bằng cách thêm dấu `#` vào đầu đề mục\n",
    "    - `# 1. Chapter 1`\n",
    "    - `## 1.2 Section 1`\n",
    "    - `### 1.2.1 Part 1`\n",
    "\n",
    "- Viết chữ in nghiêng sử dụng dấu `*` hoặc `_` ở đầu và cuối chữ, đoạn, ví dụ `*italics*` hoặc  `_italics_`\n",
    "\n",
    "- Viết chữ in đậm sử dụng dấu `**` hoặc `__` ở đầu và cuối chữ, đoạn, ví dụ `**bold**` hoặc `__bold__`\n",
    "\n",
    "# 1. Chapter 1\n",
    "## 1.2 Section 1\n",
    "### 1.2.1 Part 1\n",
    "*italics* _italics_ \n",
    "**bold** __bold__"
   ],
   "metadata": {}
  },
  {
   "cell_type": "markdown",
   "source": [
    "## 4. PYTHON"
   ],
   "metadata": {}
  },
  {
   "cell_type": "markdown",
   "source": [
    "Trong lập trình thì sẽ có:\n",
    "- Interpreter (Thông dịch) -> Python\n",
    "- Compiler (Biên dịch)\n",
    "\n",
    "Hiểu nôm na thì biên dịch là dịch một lần hết toàn bộ mã nguồn của một chương trình còn thông dịch là chạy đến câu lệnh nào thì dịch câu lệnh đó. Ví dụ cổ điển là thông dịch giống như một thông dịch viên dịch tiếng Việt sang tiếng Anh cho một người nước ngoài trong khi giao tiếp trực tiếp, khi họ nghe đến câu nào thì dịch đến câu đó, còn biên dịch giống như dịch một cuốn sách, sau khi dịch toàn bộ cuốn sách mới đem tới cho người đọc.\n",
    "\n",
    "Python được sử dụng như một công cụ hạng nhất cho các tác vụ tính toán khoa học, bao gồm phân tích và trực quan hóa các bộ dữ liệu lớn. Bản thân ngôn ngữ này không được thiết kế đặc biệt với phân tích dữ liệu hoặc tính toán khoa học. Tính hữu ích của Python đối với khoa học dữ liệu chủ yếu bắt nguồn từ hệ sinh thái lớn và hoạt động của các gói bên thứ ba: \n",
    "- NumPy \n",
    "- Pandas \n",
    "- Matplotlib, Seaborn\n",
    "- Scikit-Learn\n",
    "\n",
    "Ở trong bài tiếp theo, chúng ta sẽ làm quen với những thành phần cơ bản của Python."
   ],
   "metadata": {}
  }
 ],
 "metadata": {
  "kernelspec": {
   "display_name": "Python 3",
   "language": "python",
   "name": "python3"
  },
  "language_info": {
   "codemirror_mode": {
    "name": "ipython",
    "version": 3
   },
   "file_extension": ".py",
   "mimetype": "text/x-python",
   "name": "python",
   "nbconvert_exporter": "python",
   "pygments_lexer": "ipython3",
   "version": "3.7.10"
  }
 },
 "nbformat": 4,
 "nbformat_minor": 5
}