{
 "cells": [
  {
   "cell_type": "markdown",
   "id": "1b2780d7-904c-4377-9f96-5e33eb134746",
   "metadata": {},
   "source": [
    "# Bài 4: Giới thiệu về NumPy"
   ]
  },
  {
   "cell_type": "markdown",
   "id": "c6596c8e-23ff-4675-9ec2-11ac3e94a7fc",
   "metadata": {},
   "source": [
    "![](https://upload.wikimedia.org/wikipedia/commons/thumb/3/31/NumPy_logo_2020.svg/1200px-NumPy_logo_2020.svg.png)"
   ]
  },
  {
   "cell_type": "markdown",
   "id": "93a6f13e-cf5e-4412-ad72-9ac2737d2090",
   "metadata": {},
   "source": [
    "## I. GIỚI THIỆU"
   ]
  },
  {
   "cell_type": "markdown",
   "id": "4c499fb2-7908-44af-9d51-b40e2d54d631",
   "metadata": {},
   "source": [
    "### 1. Numpy là gì? "
   ]
  },
  {
   "cell_type": "markdown",
   "id": "9bbe4ae1-55fc-456f-8eec-efba39553497",
   "metadata": {},
   "source": [
    "NumPy (Numerical Python) là một thư viện Python mã nguồn mở được sử dụng trong hầu hết các lĩnh vực khoa học và kỹ thuật. Đây là tiêu chuẩn chung để làm việc với dữ liệu số bằng Python và là tiêu chuẩn cốt lõi của hệ sinh thái Python và PyData. NumPy API được sử dụng rộng rãi trong Pandas, SciPy, Matplotlib, scikit-learning, scikit-image và hầu hết các gói Python khoa học và khoa học dữ liệu khác.\n",
    "\n",
    "`NumPy = multidimensional array +  matrix data structures`\n",
    "\n",
    "Thư viện NumPy chứa các cấu trúc dữ liệu ma trận và mảng đa chiều (bạn sẽ tìm thấy thêm thông tin về điều này trong các phần sau). NumPy có thể được sử dụng để thực hiện nhiều phép toán khác nhau trên mảng. Nó bổ sung các cấu trúc dữ liệu mạnh mẽ vào Python để đảm bảo tính toán hiệu quả với các mảng và ma trận, đồng thời nó cung cấp một thư viện khổng lồ các hàm toán học cấp cao hoạt động trên các mảng và ma trận này."
   ]
  },
  {
   "cell_type": "markdown",
   "id": "e587ef23-8b52-468e-8b33-d87bf6d1a498",
   "metadata": {},
   "source": [
    "### 2. Cài đặt"
   ]
  },
  {
   "cell_type": "markdown",
   "id": "fea3290e-93f2-439d-9780-7e9aa50ea878",
   "metadata": {},
   "source": [
    "Để cài đặt thư viện NumPy trong môi trường ảo trên terminal (MacOS/Ubuntu) hoặc Anaconda Prompt (Windows), ta có thể thực hiện bằng 1 trong 2 cách dưới đây:\n",
    "- Cách 1: Cài đặt khi tạo môi trường ảo thông qua câu lệnh `conda create -n hanh python=3.7 numpy`\n",
    "- Cách 2: Cài đặt sau khi tạo xong môi trường ảo thông qua 1 trong 2 câu lệnh sau:\n",
    "    - `conda install numpy` \n",
    "    -  `pip install numpy`\n",
    "\n",
    "Ngoài ra, ta cũng có thể cài đặt thư viện thẳng trong notebook bằng cách chạy 1 trong 2 câu lệnh sau trên cell code:\n",
    "   - `!conda install numpy`\n",
    "   - `!pip instal numpy`\n",
    "    \n",
    "Để tìm hiểu xem `conda` và `pip` khác nhau như thế nào, các bạn có thể tham khảo tại [đây](https://www.anaconda.com/blog/understanding-conda-and-pip)."
   ]
  },
  {
   "cell_type": "markdown",
   "id": "3534b2e8-4edd-43ec-88f3-99291144c988",
   "metadata": {},
   "source": [
    "### 3. Import thư viện"
   ]
  },
  {
   "cell_type": "markdown",
   "id": "1c8406aa-ba50-4204-8c46-b493fa43afcf",
   "metadata": {},
   "source": [
    "Để có thể sử dụng NumPy và các hàm của nó, ta cần chạy câu lệnh sau:\n",
    "\n",
    "`import numpy as np`\n",
    "\n",
    "Chúng ta rút ngắn tên thư viện thành `np` để thuận tiện cho việc đọc code với NumPy. Đây là một quy ước được áp dụng rộng rãi mà bạn nên tuân theo để bất kỳ ai làm việc với code của bạn có thể dễ dàng hiểu nó."
   ]
  },
  {
   "cell_type": "code",
   "execution_count": 1,
   "id": "c3a26b5c-939f-4d63-ab1f-7aa63acd98d5",
   "metadata": {},
   "outputs": [],
   "source": [
    "import numpy as np"
   ]
  },
  {
   "cell_type": "markdown",
   "id": "34a8541f-caf8-470e-b4c3-85db9ac5af13",
   "metadata": {},
   "source": [
    "### 4. Vì sao nên sử dụng NumPy?\n",
    "\n",
    "NumPy cung cấp cho bạn rất nhiều cách nhanh chóng và hiệu quả để tạo mảng (`array`) và thao tác dữ liệu số bên trong chúng. `list` có thể chứa các kiểu dữ liệu khác nhau, còn tất cả các phần tử trong `array` NumPy phải đồng nhất. Điều này cho phép các phép toán được thực hiện trên mảng sẽ cực kỳ kém hiệu quả nếu các mảng không đồng nhất. Cũng bởi vì thế, 1 `array` tiêu tốn ít bộ nhớ hơn, dẫn đến NumPy sử dụng ít bộ nhớ hơn nhiều để lưu trữ dữ liệu và nó cung cấp một cơ chế xác định các kiểu dữ liệu. Điều này cho phép mã được tối ưu hóa hơn nữa.\n",
    "\n",
    "NumPy có 2 tính chất chính:"
   ]
  },
  {
   "cell_type": "markdown",
   "id": "978b2af1-6df0-4bf8-a529-8abaeec841e7",
   "metadata": {},
   "source": [
    "- **Vectorization**:"
   ]
  },
  {
   "cell_type": "code",
   "execution_count": 2,
   "id": "bd7e958b-dbf8-4edd-bd88-007b5e0ea043",
   "metadata": {},
   "outputs": [
    {
     "data": {
      "text/plain": [
       "[1, 2, 3, 4, 5, 6]"
      ]
     },
     "execution_count": 2,
     "metadata": {},
     "output_type": "execute_result"
    }
   ],
   "source": [
    "[1, 2, 3] + [4, 5, 6] # Phép cộng 2 list là phép nối chuỗi phần tử"
   ]
  },
  {
   "cell_type": "code",
   "execution_count": 3,
   "id": "f06546c6-16c3-478b-a2c9-3c36c58578ee",
   "metadata": {},
   "outputs": [
    {
     "data": {
      "text/plain": [
       "array([5, 7, 9])"
      ]
     },
     "execution_count": 3,
     "metadata": {},
     "output_type": "execute_result"
    }
   ],
   "source": [
    "import numpy as np\n",
    "np.array([1,2,3]) + np.array([4,5,6]) "
   ]
  },
  {
   "cell_type": "markdown",
   "id": "0e5912f0-a2d6-47c4-b1b5-5bc406a68aee",
   "metadata": {},
   "source": [
    "- **Broadcasting**:\n",
    "![](https://i.stack.imgur.com/JcKv1.png)\n",
    "*Reference*: [What is Numpy?](https://numpy.org/doc/stable/user/whatisnumpy.html#whatisnumpy)"
   ]
  },
  {
   "cell_type": "markdown",
   "id": "c8536d1a-ba81-4bd7-bc1b-deb0dd7ef396",
   "metadata": {},
   "source": [
    "## II. THỰC HÀNH CÁC HÀM CƠ BẢN TRONG NUMPY"
   ]
  },
  {
   "cell_type": "markdown",
   "id": "0504d1b3-ede4-4e34-a581-e36322c6e8b6",
   "metadata": {},
   "source": [
    "### 0. Ôn tập kiến thức về mảng đa chiều"
   ]
  },
  {
   "cell_type": "markdown",
   "id": "ae0f6a77-55b3-4ebc-9df5-ddf7d9bfcf02",
   "metadata": {},
   "source": [
    "Đôi khi bạn có thể nghe thấy 1 array được gọi là `ndarray`, viết tắt của `N-dimensional array`(mảng N-chiều). `N-dimensional array` chỉ đơn giản là 1 array với 1 hay nhiều chiều dữ liệu."
   ]
  },
  {
   "cell_type": "markdown",
   "id": "f1545612-7ba7-4343-b3fd-56a6b01aac89",
   "metadata": {},
   "source": [
    "![](https://fgnt.github.io/python_crashkurs_doc/_images/numpy_array_t.png)"
   ]
  },
  {
   "cell_type": "markdown",
   "id": "d841ec99-9d17-4df0-aa7f-510fba3105e5",
   "metadata": {},
   "source": [
    "Khi làm việc với mảng đa chiều, ta sẽ gặp những thuật ngữ sau:\n",
    "- Scalar: Mảng 0 chiều (0-D array)\n",
    "- Vector: Mảng 1 chiều (1-D array)\n",
    "- Matrix: Mảng 2 chiều (2-D array)\n",
    "- Tensor: Mảng 3 chiều (3-D array)"
   ]
  },
  {
   "cell_type": "markdown",
   "id": "3232b1a4-2bbc-408f-8ab4-8ee64d0194fc",
   "metadata": {},
   "source": [
    "![](https://www.kdnuggets.com/wp-content/uploads/scalar-vector-matrix-tensor.jpg)"
   ]
  },
  {
   "cell_type": "markdown",
   "id": "37d3ac34-f577-4731-8b98-eafca1710c02",
   "metadata": {},
   "source": [
    "### 1. Tạo 1 mảng (Create an array)\n",
    "#### 1.1 Tạo 1 mảng 1 chiều"
   ]
  },
  {
   "cell_type": "markdown",
   "id": "d85d93ee-54d8-4880-a0cd-04d33b26ecee",
   "metadata": {},
   "source": [
    "Để tạo ra 1 NumPy `array`, ta có thể tận dụng hàm `np.array()` và truyền một list cho nó. "
   ]
  },
  {
   "cell_type": "code",
   "execution_count": 4,
   "id": "c1547656-09a0-4a6b-a8c7-0a3e3e149e4a",
   "metadata": {},
   "outputs": [
    {
     "data": {
      "text/plain": [
       "array([1, 2, 3])"
      ]
     },
     "execution_count": 4,
     "metadata": {},
     "output_type": "execute_result"
    }
   ],
   "source": [
    "arr = np.array([1,2,3]) # khởi tạo 1 array \n",
    "arr"
   ]
  },
  {
   "cell_type": "code",
   "execution_count": 5,
   "id": "a41696a9-f3ca-40c8-90e3-f655dfefbf15",
   "metadata": {},
   "outputs": [
    {
     "data": {
      "text/plain": [
       "numpy.ndarray"
      ]
     },
     "execution_count": 5,
     "metadata": {},
     "output_type": "execute_result"
    }
   ],
   "source": [
    "type(arr) # kiểm tra kiểu dữ liệu của biến arr"
   ]
  },
  {
   "cell_type": "code",
   "execution_count": 6,
   "id": "f40fd398-f385-42c1-9b7d-556d83c76513",
   "metadata": {},
   "outputs": [],
   "source": [
    "def addition(arr1,arr2):\n",
    "    '''\n",
    "    Sum of 2 arrays.\n",
    "\n",
    "    Parameters\n",
    "    ----------\n",
    "    arr1 : First array.\n",
    "    arr2 : Second array.\n",
    "    '''\n",
    "    return arr1 + arr2"
   ]
  },
  {
   "cell_type": "code",
   "execution_count": 7,
   "id": "405108ce-8cc8-44a6-9f4e-9e3f2d8d7cee",
   "metadata": {},
   "outputs": [
    {
     "data": {
      "text/plain": [
       "array([3, 8])"
      ]
     },
     "execution_count": 7,
     "metadata": {},
     "output_type": "execute_result"
    }
   ],
   "source": [
    "addition(np.array([1,2]),np.array([2,6]))"
   ]
  },
  {
   "cell_type": "markdown",
   "id": "85d59470-84bd-464e-9568-efa791282e6c",
   "metadata": {},
   "source": [
    "Tham khảo mã nguồn xây dựng nên thư viện này tại [NumPy github](https://github.com/numpy/numpy)."
   ]
  },
  {
   "cell_type": "markdown",
   "id": "716348d1-fabe-4985-92f3-66bcbd19997b",
   "metadata": {},
   "source": [
    "**Đố vui: Array khác list ở chỗ nào?**\n",
    "\n",
    "**Đáp án**: `list` Python có thể chứa các kiểu dữ liệu khác nhau, còn tất cả các phần tử trong `array` NumPy phải đồng nhất.\n",
    "\n",
    "Có hai quy tắc cơ bản cho mọi mảng trong NumPy.\n",
    "- Mọi phần tử trong mảng phải có cùng kiểu và kích thước (same type and size).\n",
    "- Nếu các phần tử của mảng cũng là mảng thì các mảng bên trong đó phải có cùng kiểu và số phần tử với nhau."
   ]
  },
  {
   "cell_type": "code",
   "execution_count": 8,
   "id": "dc860900-587b-4168-9ccb-13cb89de9994",
   "metadata": {},
   "outputs": [
    {
     "data": {
      "text/plain": [
       "(int, int, str)"
      ]
     },
     "execution_count": 8,
     "metadata": {},
     "output_type": "execute_result"
    }
   ],
   "source": [
    "# list có thể chứa các phần tử thuộc các kiểu dữ liệu khác nhau\n",
    "li = [1,2,'H']\n",
    "type(li[0]), type(li[1]), type(li[2])"
   ]
  },
  {
   "cell_type": "code",
   "execution_count": 9,
   "id": "386b8d4b-1c1b-4e72-908d-e6b843787903",
   "metadata": {},
   "outputs": [
    {
     "data": {
      "text/plain": [
       "(numpy.str_, numpy.str_, numpy.str_)"
      ]
     },
     "execution_count": 9,
     "metadata": {},
     "output_type": "execute_result"
    }
   ],
   "source": [
    "# casting về string với kiểu dữ liệu là unicode string < 21 characters, casting int + float về float\n",
    "arr = np.array([1,2,'H']) \n",
    "type(arr[0]), type(arr[1]), type(arr[2])"
   ]
  },
  {
   "cell_type": "markdown",
   "id": "e2cffe29-a774-4205-8c14-bccf939b6d0e",
   "metadata": {},
   "source": [
    "Từ ví dụ trên, ta có thể thấy NumPy không trả về lỗi, nhưng nó chuyển các số nguyên thành chuỗi để đáp ứng thuộc tính rằng mọi phần tử đều là cùng một loại. Loại ‘<U21’ là viết tắt của chuỗi unicode có 21 ký tự trở xuống."
   ]
  },
  {
   "cell_type": "markdown",
   "id": "c3bdfff8-324b-44c1-87f8-996d494aaa28",
   "metadata": {},
   "source": [
    "Để biết chiều dữ liệu, ta có thể sử dụng 1 trong 3 cách sau:"
   ]
  },
  {
   "cell_type": "code",
   "execution_count": 10,
   "id": "1e5c430f-53f1-4110-b195-f4a5c44b7c87",
   "metadata": {},
   "outputs": [
    {
     "data": {
      "text/plain": [
       "(3,)"
      ]
     },
     "execution_count": 10,
     "metadata": {},
     "output_type": "execute_result"
    }
   ],
   "source": [
    "arr.shape # 1 chiều chứa 3 phần tử"
   ]
  },
  {
   "cell_type": "code",
   "execution_count": 11,
   "id": "2285fb66-1854-4e18-af1f-9e91ea5b3dbc",
   "metadata": {},
   "outputs": [
    {
     "data": {
      "text/plain": [
       "1"
      ]
     },
     "execution_count": 11,
     "metadata": {},
     "output_type": "execute_result"
    }
   ],
   "source": [
    "arr.ndim # 1 chiều"
   ]
  },
  {
   "cell_type": "code",
   "execution_count": 12,
   "id": "5f7fcd41-a510-4424-9095-f4815d676a95",
   "metadata": {},
   "outputs": [
    {
     "data": {
      "text/plain": [
       "3"
      ]
     },
     "execution_count": 12,
     "metadata": {},
     "output_type": "execute_result"
    }
   ],
   "source": [
    "len(arr)"
   ]
  },
  {
   "cell_type": "markdown",
   "id": "90d84b41-14f5-4fbf-96f9-bd8770f6afb3",
   "metadata": {},
   "source": [
    "#### 1.2 Tạo 1 mảng đa chiều\n",
    "Chúng ta cũng có thể tạo một mảng hai chiều từ một list các list."
   ]
  },
  {
   "cell_type": "code",
   "execution_count": 13,
   "id": "ac70a5b6-323e-4fca-bd57-0f4e3e70f14b",
   "metadata": {},
   "outputs": [
    {
     "data": {
      "text/plain": [
       "array([[1, 2, 5],\n",
       "       [2, 3, 4]])"
      ]
     },
     "execution_count": 13,
     "metadata": {},
     "output_type": "execute_result"
    }
   ],
   "source": [
    "arr_2d = np.array([[1,2,5],\n",
    "                 [2,3,4]])\n",
    "arr_2d"
   ]
  },
  {
   "cell_type": "code",
   "execution_count": 14,
   "id": "77182735-2e95-4153-8b91-40b673db7824",
   "metadata": {},
   "outputs": [
    {
     "data": {
      "text/plain": [
       "(2, (2, 3), 2)"
      ]
     },
     "execution_count": 14,
     "metadata": {},
     "output_type": "execute_result"
    }
   ],
   "source": [
    "arr_2d.ndim, arr_2d.shape, len(arr_2d) # Kiểm tra chiều dữ liệu"
   ]
  },
  {
   "cell_type": "markdown",
   "id": "104f481a-b6ad-4b0b-9a44-e896d66327e0",
   "metadata": {},
   "source": [
    "Kết quả từ dòng lệnh trên có thể khiến bạn ngạc nhiên khi `arr_2d` có 2 chứ không phải 6 phần tử. Đó là bởi vì `arr_2d` có thể được hiểu là một mảng chứa hai mảng bên trong nó. Nếu bạn muốn lấy tổng số phần tử lồng nhau trong mảng, bạn có thể sử dụng thuộc tính `size` như dòng lệnh dưới đây."
   ]
  },
  {
   "cell_type": "code",
   "execution_count": 15,
   "id": "eccb83cc-0a5f-42dd-8eb2-a61715b31389",
   "metadata": {},
   "outputs": [
    {
     "data": {
      "text/plain": [
       "6"
      ]
     },
     "execution_count": 15,
     "metadata": {},
     "output_type": "execute_result"
    }
   ],
   "source": [
    "arr_2d.size"
   ]
  },
  {
   "cell_type": "markdown",
   "id": "d46e44a5-b1f4-46d7-986d-7b3638a3a03c",
   "metadata": {},
   "source": [
    "Ngoài ra, nếu bạn muốn biết kiểu dữ liệu trong `array`, bạn có thể thử sử dụng hàm `type()` của Python như ví dụ trong phần 1.1, tuy nhiên câu lệnh này sẽ chỉ cho bạn biết rằng đối tượng là 1 `array` NumPy. Nếu bạn muốn xem mảng đang lưu trữ loại dữ liệu nào, bạn có thể sử dụng thuộc tính `.dtype`."
   ]
  },
  {
   "cell_type": "code",
   "execution_count": 16,
   "id": "15872602-810b-4a2f-b571-4284ba85bbda",
   "metadata": {},
   "outputs": [
    {
     "data": {
      "text/plain": [
       "(numpy.ndarray, dtype('int64'))"
      ]
     },
     "execution_count": 16,
     "metadata": {},
     "output_type": "execute_result"
    }
   ],
   "source": [
    "type(arr_2d), arr_2d.dtype"
   ]
  },
  {
   "cell_type": "markdown",
   "id": "ecac51f2-f218-493f-9aa5-2f57ae03ec9d",
   "metadata": {},
   "source": [
    "#### 1.3 Một số hàm có sẵn hỗ trợ tạo mảng\n",
    "Ngoài `np.array()`, ta có thể tạo 1 số array đặc thù với `np.zeros()`, `np.ones()`, `np.arange()`,`np.linspace()`"
   ]
  },
  {
   "cell_type": "markdown",
   "id": "32d2a34f-8ae4-4261-8cbc-e06422cddceb",
   "metadata": {},
   "source": [
    "|Hàm|Ý nghĩa|\n",
    "|-|-|\n",
    "|`np.zeros()`|1 mảng chứa các giá trị 0|\n",
    "|`np.ones()`|1 mảng chứa các giá trị 1|\n",
    "|`np.full()`|1 mảng chứa các giá trị được gán theo `fill_value`|\n",
    "|`np.arange()`|1 mảng chứa khoảng giá trị có khoảng cách đều nhau|\n",
    "|`np.linspace`|1 mảng các giá trị có khoảng cách tuyến tính với nhau|"
   ]
  },
  {
   "cell_type": "code",
   "execution_count": 17,
   "id": "53cbc849-de5a-4d00-95a1-91c1f3dd16c3",
   "metadata": {},
   "outputs": [
    {
     "data": {
      "text/plain": [
       "(array([0., 0., 0.]),\n",
       " array([[0., 0.],\n",
       "        [0., 0.],\n",
       "        [0., 0.]]),\n",
       " array([[[0., 0., 0., 0.],\n",
       "         [0., 0., 0., 0.]],\n",
       " \n",
       "        [[0., 0., 0., 0.],\n",
       "         [0., 0., 0., 0.]],\n",
       " \n",
       "        [[0., 0., 0., 0.],\n",
       "         [0., 0., 0., 0.]]]))"
      ]
     },
     "execution_count": 17,
     "metadata": {},
     "output_type": "execute_result"
    }
   ],
   "source": [
    "np.zeros(shape = 3), np.zeros(shape = (3,2)), np.zeros(shape = (3,2,4))"
   ]
  },
  {
   "cell_type": "code",
   "execution_count": 18,
   "id": "2143e028-49b0-45c7-88c8-114c49a52b91",
   "metadata": {},
   "outputs": [
    {
     "data": {
      "text/plain": [
       "(array([1., 1., 1.]),\n",
       " array([[1., 1.],\n",
       "        [1., 1.],\n",
       "        [1., 1.]]),\n",
       " array([[[1., 1., 1., 1., 1.],\n",
       "         [1., 1., 1., 1., 1.]],\n",
       " \n",
       "        [[1., 1., 1., 1., 1.],\n",
       "         [1., 1., 1., 1., 1.]],\n",
       " \n",
       "        [[1., 1., 1., 1., 1.],\n",
       "         [1., 1., 1., 1., 1.]]]))"
      ]
     },
     "execution_count": 18,
     "metadata": {},
     "output_type": "execute_result"
    }
   ],
   "source": [
    "np.ones(shape = 3), np.ones(shape = (3,2)), np.ones(shape = (3,2,5))"
   ]
  },
  {
   "cell_type": "code",
   "execution_count": 19,
   "id": "b13732cf-be46-4de4-ad7c-ec9091f68e70",
   "metadata": {},
   "outputs": [
    {
     "data": {
      "text/plain": [
       "array(['cat', 'cat', 'cat'], dtype='<U3')"
      ]
     },
     "execution_count": 19,
     "metadata": {},
     "output_type": "execute_result"
    }
   ],
   "source": [
    "np.full(3, fill_value='cat') # truyền vào một shape và fill_value vào np.full()"
   ]
  },
  {
   "cell_type": "code",
   "execution_count": 20,
   "id": "6d4ed995-403b-4cea-86fb-8c55a61c61f4",
   "metadata": {},
   "outputs": [
    {
     "data": {
      "text/plain": [
       "array([1., 3., 5., 7., 9.])"
      ]
     },
     "execution_count": 20,
     "metadata": {},
     "output_type": "execute_result"
    }
   ],
   "source": [
    "np.arange(1, 10, 2, dtype='float') # tạo ra 1 matrix bất kì có khoảng cách bằng nhau"
   ]
  },
  {
   "cell_type": "code",
   "execution_count": 21,
   "id": "4479fec0-23a7-432f-8624-f012622c2c2e",
   "metadata": {},
   "outputs": [
    {
     "data": {
      "text/plain": [
       "array([ 1.  ,  3.25,  5.5 ,  7.75, 10.  ])"
      ]
     },
     "execution_count": 21,
     "metadata": {},
     "output_type": "execute_result"
    }
   ],
   "source": [
    "np.linspace(1,10,5, dtype='float') # tạo ra 1 matrix bất kì có khoảng cách bằng nhau"
   ]
  },
  {
   "cell_type": "markdown",
   "id": "03ae09c9-ab95-47be-8c0f-3c6b6bdeacd7",
   "metadata": {},
   "source": [
    "#### 1.4 Tạo mảng ngẫu nhiên"
   ]
  },
  {
   "cell_type": "markdown",
   "id": "ebbc69bc-c429-4bb7-8f96-eb5d959ff2ff",
   "metadata": {},
   "source": [
    "Trong NumPy, hàm `np.random` lấy ***ngẫu nhiên*** các giá trị trong 1 phân phối có ***quy luật***. \n",
    "\n",
    "Có một sự thật là trên đời chẳng có gì là ngẫu nhiên cả! Tất cả đều là những quy luật được ẩn giấu, chỉ là chúng ta có phát hiện hay hiểu được nó hay không mà thôi và trường hợp của  `np.random()` cũng vậy. Bản thân máy tính do con người tạo ra, nên những quy tắc hoạt động của nó đều dựa trên những gì mà con người thiết kế. Về bản chất, hàm `np.random()` là 1 mô phỏng (simulation) các kịch bản có thể xảy ra do con người sử dụng thuật toán để lập trình ra. Cũng có nghĩa là, con người làm có mục đích nên không thể coi là random, mà nó là **pseudo-random**!\n",
    "\n",
    "Dưới đây là 1 ví dụ cách chúng ta có thể tạo ra 1 **pseudo-random**"
   ]
  },
  {
   "cell_type": "code",
   "execution_count": 22,
   "id": "4e8e7d52-6d2d-4e67-aa50-0bda02061fc2",
   "metadata": {},
   "outputs": [
    {
     "data": {
      "text/plain": [
       "1748591"
      ]
     },
     "execution_count": 22,
     "metadata": {},
     "output_type": "execute_result"
    }
   ],
   "source": [
    "from datetime import datetime\n",
    "x= datetime.now().microsecond #một phần triệu giây\n",
    "rand = 2*x+3\n",
    "rand"
   ]
  },
  {
   "cell_type": "markdown",
   "id": "cc49af9a-7d33-4c41-af5e-53b6bfb1c084",
   "metadata": {},
   "source": [
    "Trong hàm `np.random`, chúng ta có 2 hàm con là `np.random.random()` và `np.random.normal()` tương ứng với 2 kiểu phân phối chúng ta đã quen thuộc khi học về xác suất thông kê, đó là:\n",
    "\n",
    "- **Phân phối đồng nhất (Uniform Distribution)** là 1 dạng phân phối xác suất thống kê trong đó tất cả các kết quả đều có khả năng xảy ra như nhau, mỗi biến có cùng một xác suất để cho ra một kết quả. Ví dụ, việc tung đồng xu cũng có phân phối đồng nhất vì xác suất xuất hiện mặt ngửa hoặc mặt sấp trong một lần tung đồng xu là như nhau, với điều kiện đồng xu đó là đồng chất.   \n",
    "![](https://upload.wikimedia.org/wikipedia/commons/thumb/9/96/Uniform_Distribution_PDF_SVG.svg/1200px-Uniform_Distribution_PDF_SVG.svg.png)\n",
    "\n",
    "- **Phân phối chuẩn/ Phân phối hình chuông (Normal Distribution)** quyết định bởi mean và standard deviation với những đặc điểm sau:\n",
    "    - Hình chuông (ring-shaped)\n",
    "    - Đối xứng thông qua mean\n",
    "    - Đặc trưng bởi mean và standard deviation (độ phân tán)\n",
    "    - Giá trị trung bình đại diện xu hướng trung tâm phân bố dữ liệu\n",
    "    - Xu hướng trung tâm của bộ data (central tendency): mean = median = mode\n",
    "        - Mean: giá trị trung bình \n",
    "        - Median: giá trị phổ biến nhất trong một tập dữ liệu (số trung vị)\n",
    "        - Mode: giá trị có tần số xuất hiện cao nhất \n",
    "![](https://upload.wikimedia.org/wikipedia/commons/thumb/2/25/The_Normal_Distribution.svg/2560px-The_Normal_Distribution.svg.png)"
   ]
  },
  {
   "cell_type": "code",
   "execution_count": 23,
   "id": "969a2a9b-986a-4fc3-ad2e-1354e72ac147",
   "metadata": {},
   "outputs": [
    {
     "data": {
      "text/plain": [
       "array([[0.2732366 , 0.57810574, 0.66121708],\n",
       "       [0.05618081, 0.18816189, 0.63645469],\n",
       "       [0.26861496, 0.85687507, 0.54761703]])"
      ]
     },
     "execution_count": 23,
     "metadata": {},
     "output_type": "execute_result"
    }
   ],
   "source": [
    "#Tạo ra 1 mảng 3x3 theo phân phối đều với các giá trị nằm trong khoảng từ 0 đến 1\n",
    "np.random.random((3, 3))"
   ]
  },
  {
   "cell_type": "code",
   "execution_count": 56,
   "id": "d7044b12-f0aa-438a-97ac-b8975175ab6d",
   "metadata": {},
   "outputs": [
    {
     "data": {
      "image/png": "[encoded data removed]",
      "text/plain": [
       "<Figure size 640x480 with 1 Axes>"
      ]
     },
     "metadata": {},
     "output_type": "display_data"
    }
   ],
   "source": [
    "import matplotlib.pyplot as plt\n",
    "plt.hist(np.random.random(100), bins = 50)\n",
    "plt.show();"
   ]
  },
  {
   "cell_type": "markdown",
   "id": "72717e31-66af-45bd-9249-10a71701a72d",
   "metadata": {},
   "source": [
    "**Câu hỏi**: Vì sao hình trên không theo phân phối chuẩn?\n",
    "\n",
    "**Đáp án**:"
   ]
  },
  {
   "cell_type": "code",
   "execution_count": 57,
   "id": "0e79a924-42f4-41b9-b01f-5f58edcfb091",
   "metadata": {},
   "outputs": [
    {
     "data": {
      "image/png": "[encoded data removed]",
      "text/plain": [
       "<Figure size 640x480 with 1 Axes>"
      ]
     },
     "metadata": {},
     "output_type": "display_data"
    }
   ],
   "source": [
    "plt.hist(np.random.random(1000000), bins = 50)\n",
    "plt.show();"
   ]
  },
  {
   "cell_type": "code",
   "execution_count": 25,
   "id": "9e44e99f-25c8-47cd-a536-05d555c07796",
   "metadata": {},
   "outputs": [
    {
     "data": {
      "text/plain": [
       "array([[-0.52211353,  0.88670169,  3.13249774],\n",
       "       [-0.67565883,  1.57298885, -0.80391285],\n",
       "       [-1.07727765,  0.3448225 , -0.47382779]])"
      ]
     },
     "execution_count": 25,
     "metadata": {},
     "output_type": "execute_result"
    }
   ],
   "source": [
    "# Tạo ra 1 mảng 3x3 theo phân phối chuẩn với mean = 0, standard deviation = 1\n",
    "np.random.normal(0, 1, (3, 3))"
   ]
  },
  {
   "cell_type": "code",
   "execution_count": 66,
   "id": "cb6b8028-fbee-4b67-9f9e-85f59c138a44",
   "metadata": {},
   "outputs": [
    {
     "data": {
      "image/png": "[encoded data removed]",
      "text/plain": [
       "<Figure size 640x480 with 1 Axes>"
      ]
     },
     "metadata": {},
     "output_type": "display_data"
    }
   ],
   "source": [
    "plt.hist(np.random.normal(0, 1, (10000, 1)))\n",
    "plt.show();"
   ]
  },
  {
   "cell_type": "code",
   "execution_count": 61,
   "id": "091ef4bf-af37-4b39-8fb5-5a587688890c",
   "metadata": {},
   "outputs": [],
   "source": [
    "np.random.seed(0)  # seed for reproducibility -> trả về 1 giá trị như nhau\n",
    "\n",
    "x1 = np.random.randint(10, size=6)  # mảng 1 chiều\n",
    "x2 = np.random.randint(10, size=(3, 4))  # mảng 2 chiều\n",
    "x3 = np.random.randint(10, size=(3, 4, 5))  # mảng 3 chiều"
   ]
  },
  {
   "cell_type": "markdown",
   "id": "1102d91f-6402-430c-aec5-33019d02afac",
   "metadata": {},
   "source": [
    "#### 1.5 Lưu và tải mảng "
   ]
  },
  {
   "cell_type": "code",
   "execution_count": 28,
   "id": "4616d421-2cd1-41bd-bd6e-2db1c5372988",
   "metadata": {},
   "outputs": [],
   "source": [
    "np.savetxt('test.txt',arr_2d) #save array\n",
    "np.loadtxt('test.txt') #load array"
   ]
  },
  {
   "cell_type": "markdown",
   "id": "c074aa10-9925-47cc-9512-40aa54e0d279",
   "metadata": {},
   "source": [
    "### 2. Đổi chiều array "
   ]
  },
  {
   "cell_type": "markdown",
   "id": "0f7686ff-6d0b-42ba-b6c9-e0b765e2e554",
   "metadata": {},
   "source": [
    "Ta có thể sử dụng `np.newaxis` và `np.expand_dims` để tăng kích thước của mảng hiện có của bạn."
   ]
  },
  {
   "cell_type": "code",
   "execution_count": 29,
   "id": "b614210f-09a2-4abb-bd39-652915360a6f",
   "metadata": {},
   "outputs": [
    {
     "data": {
      "text/plain": [
       "1"
      ]
     },
     "execution_count": 29,
     "metadata": {},
     "output_type": "execute_result"
    }
   ],
   "source": [
    "arr = np.array([1, 2, 3, 4, 5, 6])\n",
    "arr.ndim"
   ]
  },
  {
   "cell_type": "code",
   "execution_count": 30,
   "id": "bfcbcee0-8b45-494d-bd62-2402acb1cf1c",
   "metadata": {},
   "outputs": [
    {
     "data": {
      "text/plain": [
       "2"
      ]
     },
     "execution_count": 30,
     "metadata": {},
     "output_type": "execute_result"
    }
   ],
   "source": [
    "arr1 = np.expand_dims(arr, axis=1)\n",
    "arr1.ndim"
   ]
  },
  {
   "cell_type": "code",
   "execution_count": 31,
   "id": "333de334-b9d2-4e62-a9f6-05003bc94696",
   "metadata": {},
   "outputs": [
    {
     "data": {
      "text/plain": [
       "2"
      ]
     },
     "execution_count": 31,
     "metadata": {},
     "output_type": "execute_result"
    }
   ],
   "source": [
    "arr2 = arr[np.newaxis, :]\n",
    "arr2.ndim"
   ]
  },
  {
   "cell_type": "code",
   "execution_count": 32,
   "id": "01277e85-768d-42ae-92fc-bff133bbb586",
   "metadata": {},
   "outputs": [
    {
     "data": {
      "text/plain": [
       "array([[1, 2, 3],\n",
       "       [4, 5, 6]])"
      ]
     },
     "execution_count": 32,
     "metadata": {},
     "output_type": "execute_result"
    }
   ],
   "source": [
    "arr.reshape(2,3)"
   ]
  },
  {
   "cell_type": "markdown",
   "id": "64f163f7-6fbf-4c6b-867d-3c8a949bd380",
   "metadata": {},
   "source": [
    "### 3. Index & Slicing\n",
    "\n",
    "![](https://media.springernature.com/original/springer-static/image/chp%3A10.1007%2F978-1-4842-4246-9_2/MediaObjects/332789_2_En_2_Fig1_HTML.png)"
   ]
  },
  {
   "cell_type": "code",
   "execution_count": 67,
   "id": "3b5cf2fd-2a99-4500-8c23-f6c53725ff71",
   "metadata": {},
   "outputs": [
    {
     "data": {
      "text/plain": [
       "array([[ 1.,  2.,  3.,  4.],\n",
       "       [ 5.,  6.,  7.,  8.],\n",
       "       [ 9., 10., 11., 12.],\n",
       "       [13., 14., 15., 16.]])"
      ]
     },
     "execution_count": 67,
     "metadata": {},
     "output_type": "execute_result"
    }
   ],
   "source": [
    "arr = np.linspace(1,16,16).reshape(4,4) # tạo 1 mảng\n",
    "arr"
   ]
  },
  {
   "cell_type": "markdown",
   "id": "adbb0244-53e8-444c-abcc-8be9f8b5e300",
   "metadata": {},
   "source": [
    "**Đố vui**: Trả về giá trị 5 và giá trị 15 trong `arr`"
   ]
  },
  {
   "cell_type": "code",
   "execution_count": 70,
   "id": "edb9a0f8-8b00-4446-aa24-1f6bdaa1b065",
   "metadata": {},
   "outputs": [
    {
     "data": {
      "text/plain": [
       "array([ 5., 16.])"
      ]
     },
     "execution_count": 70,
     "metadata": {},
     "output_type": "execute_result"
    }
   ],
   "source": [
    "arr[[1,3],[0,3]]"
   ]
  },
  {
   "cell_type": "markdown",
   "id": "00b430a4-46fb-4c94-a676-1a699d50f8fe",
   "metadata": {},
   "source": [
    "### 4. Tính toán với NumPy\n",
    "#### 4.1 Tính toán ma trận"
   ]
  },
  {
   "cell_type": "code",
   "execution_count": 35,
   "id": "46cd94f8-ed59-45d0-8113-5f664cd974f3",
   "metadata": {},
   "outputs": [],
   "source": [
    "arr1 = np.array([[1,2],\n",
    "                [2,3]])\n",
    "arr2 = np.array([[10,10],\n",
    "                [1,1]])"
   ]
  },
  {
   "cell_type": "code",
   "execution_count": 36,
   "id": "4edb29c3-c7c0-4371-9b0b-50117100c912",
   "metadata": {},
   "outputs": [
    {
     "data": {
      "text/plain": [
       "(array([[11, 12],\n",
       "        [ 3,  4]]),\n",
       " array([[-9, -8],\n",
       "        [ 1,  2]]))"
      ]
     },
     "execution_count": 36,
     "metadata": {},
     "output_type": "execute_result"
    }
   ],
   "source": [
    "arr1 + arr2, arr1 - arr2"
   ]
  },
  {
   "cell_type": "code",
   "execution_count": 37,
   "id": "f9ad2e61-ee55-47c0-984d-f198f3824f10",
   "metadata": {},
   "outputs": [
    {
     "data": {
      "text/plain": [
       "(array([[10, 20],\n",
       "        [ 2,  3]]),\n",
       " array([[0.1, 0.2],\n",
       "        [2. , 3. ]]),\n",
       " array([[12, 12],\n",
       "        [23, 23]]))"
      ]
     },
     "execution_count": 37,
     "metadata": {},
     "output_type": "execute_result"
    }
   ],
   "source": [
    "arr1 * arr2, arr1 / arr2, arr1 @ arr2 #element-wise vs matrix multiplication"
   ]
  },
  {
   "cell_type": "code",
   "execution_count": 38,
   "id": "c30c7d57-740d-4bca-9cb9-e3dfd516f50b",
   "metadata": {},
   "outputs": [
    {
     "data": {
      "text/plain": [
       "array([[6, 7],\n",
       "       [7, 8]])"
      ]
     },
     "execution_count": 38,
     "metadata": {},
     "output_type": "execute_result"
    }
   ],
   "source": [
    "arr1 + 5"
   ]
  },
  {
   "cell_type": "markdown",
   "id": "7e128aea-f6d9-4824-8b90-7925b69e9927",
   "metadata": {},
   "source": [
    "#### 4.2 Xác xuất thông kê"
   ]
  },
  {
   "cell_type": "markdown",
   "id": "64dfa1d9-624c-4ead-acbf-8042c1097c6f",
   "metadata": {},
   "source": [
    "NumPy hỗ trợ 1 số hàm cơ bản để ta tính toán thống kê dữ liệu bao gồm:\n",
    "- `mean`, `median`\n",
    "- `min`, `max`\n",
    "- `std`\n",
    "- `count_nonzero`, `unique`"
   ]
  },
  {
   "cell_type": "code",
   "execution_count": 73,
   "id": "86ab8a7d-5bdf-47cb-85a0-7b45b194bf85",
   "metadata": {},
   "outputs": [
    {
     "data": {
      "text/plain": [
       "array([[ 1,  2,  3,  4],\n",
       "       [ 5,  6,  7,  8],\n",
       "       [ 9, 10, 11, 12]])"
      ]
     },
     "execution_count": 73,
     "metadata": {},
     "output_type": "execute_result"
    }
   ],
   "source": [
    "arr = np.linspace(1,12,12,dtype='int').reshape(3,4)\n",
    "arr"
   ]
  },
  {
   "cell_type": "code",
   "execution_count": 74,
   "id": "5345ebe5-800c-4d00-8498-325df1159a6b",
   "metadata": {},
   "outputs": [
    {
     "data": {
      "text/plain": [
       "(6.5, 6.5)"
      ]
     },
     "execution_count": 74,
     "metadata": {},
     "output_type": "execute_result"
    }
   ],
   "source": [
    "np.mean(arr), np.median(arr)"
   ]
  },
  {
   "cell_type": "code",
   "execution_count": 75,
   "id": "569dc953-18f4-4933-8e9c-8d9b308010b4",
   "metadata": {},
   "outputs": [
    {
     "data": {
      "text/plain": [
       "(12, 1, 3.452052529534663)"
      ]
     },
     "execution_count": 75,
     "metadata": {},
     "output_type": "execute_result"
    }
   ],
   "source": [
    "np.max(arr), np.min(arr), np.std(arr)"
   ]
  },
  {
   "cell_type": "code",
   "execution_count": 76,
   "id": "8d7c26e8-c20f-4521-8c63-79e07d6a7751",
   "metadata": {},
   "outputs": [
    {
     "data": {
      "text/plain": [
       "(78, array([15, 18, 21, 24]))"
      ]
     },
     "execution_count": 76,
     "metadata": {},
     "output_type": "execute_result"
    }
   ],
   "source": [
    "np.sum(arr), np.sum(arr, axis=0)"
   ]
  },
  {
   "cell_type": "code",
   "execution_count": 77,
   "id": "4e98506e-ec19-43e2-ad0a-ec182a04034e",
   "metadata": {},
   "outputs": [
    {
     "data": {
      "text/plain": [
       "12"
      ]
     },
     "execution_count": 77,
     "metadata": {},
     "output_type": "execute_result"
    }
   ],
   "source": [
    "np.count_nonzero(arr)"
   ]
  },
  {
   "cell_type": "code",
   "execution_count": 78,
   "id": "d03d5932-9962-4206-a291-10025f927645",
   "metadata": {},
   "outputs": [
    {
     "data": {
      "text/plain": [
       "array([ 1,  2,  3,  4,  5,  6,  7,  8,  9, 10, 11, 12])"
      ]
     },
     "execution_count": 78,
     "metadata": {},
     "output_type": "execute_result"
    }
   ],
   "source": [
    "np.unique(arr)"
   ]
  },
  {
   "cell_type": "code",
   "execution_count": 80,
   "id": "04a53fe9-1924-4e2e-84e6-8b35bcd59fba",
   "metadata": {},
   "outputs": [
    {
     "data": {
      "text/plain": [
       "(array([ 1,  2,  3,  4,  5,  6,  7,  8,  9, 10, 11, 12]),\n",
       " array([1, 1, 1, 1, 1, 1, 1, 1, 1, 1, 1, 1]))"
      ]
     },
     "execution_count": 80,
     "metadata": {},
     "output_type": "execute_result"
    }
   ],
   "source": [
    "np.unique(arr, return_counts = True) # tần suất xuất hiện của mỗi phân tử unique"
   ]
  },
  {
   "cell_type": "markdown",
   "id": "45dfe9b6-b181-491d-8fbe-430915b0789c",
   "metadata": {},
   "source": [
    "Ngoài ra, ta có thể tận dùng hàm `where()` của NumPy như một phương pháp vector hóa để viết các câu lệnh if-else."
   ]
  },
  {
   "cell_type": "code",
   "execution_count": 81,
   "id": "bcbf5985-b9c8-4552-afd8-b29c54de6fa9",
   "metadata": {},
   "outputs": [
    {
     "data": {
      "text/plain": [
       "array([ 0,  1,  2,  3,  4, 50, 60, 70, 80, 90])"
      ]
     },
     "execution_count": 81,
     "metadata": {},
     "output_type": "execute_result"
    }
   ],
   "source": [
    "arr = np.arange(10)\n",
    "np.where(arr < 5, arr, 10*arr)"
   ]
  },
  {
   "cell_type": "code",
   "execution_count": 82,
   "id": "8e243b52-78a7-4e02-bfd2-4fd380811c0f",
   "metadata": {},
   "outputs": [
    {
     "data": {
      "text/plain": [
       "array(['<5', '<5', '<5', '<5', '<5', '>=5', '>=5', '>=5', '>=5', '>=5'],\n",
       "      dtype='<U3')"
      ]
     },
     "execution_count": 82,
     "metadata": {},
     "output_type": "execute_result"
    }
   ],
   "source": [
    "np.where(arr < 5, '<5', '>=5')"
   ]
  },
  {
   "cell_type": "code",
   "execution_count": 83,
   "id": "83728c85-ac20-471a-a8c2-4095638aa527",
   "metadata": {},
   "outputs": [
    {
     "data": {
      "text/plain": [
       "array(['<5', '<5', '<5', '<5', '<5', '=5', '>5', '>5', '>5', '>5'],\n",
       "      dtype='<U2')"
      ]
     },
     "execution_count": 83,
     "metadata": {},
     "output_type": "execute_result"
    }
   ],
   "source": [
    "np.where(arr < 5, '<5', np.where(arr == 5, '=5', '>5'))"
   ]
  },
  {
   "cell_type": "markdown",
   "id": "e678238d-e29c-4052-910b-cb2623bf0637",
   "metadata": {},
   "source": [
    "Trong bài học tiếp theo, chúng ta sẽ cùng nhau tìm hiểu về Pandas, 1 thư viện hỗ trợ mạnh mẽ xử lí và phân tích dữ liệu có cấu trúc."
   ]
  }
 ],
 "metadata": {
  "kernelspec": {
   "display_name": "Python 3",
   "language": "python",
   "name": "python3"
  },
  "language_info": {
   "codemirror_mode": {
    "name": "ipython",
    "version": 3
   },
   "file_extension": ".py",
   "mimetype": "text/x-python",
   "name": "python",
   "nbconvert_exporter": "python",
   "pygments_lexer": "ipython3",
   "version": "3.8.11"
  }
 },
 "nbformat": 4,
 "nbformat_minor": 5
}
