{
 "cells": [
  {
   "cell_type": "markdown",
   "id": "c1d182e6-3239-4517-86b7-c2bce677319d",
   "metadata": {},
   "source": [
    "# <center> Bài 2: Giới thiệu về PYTHON </center>\n",
    "![](https://laptrinhcanban.com/python/nhap-mon-lap-trinh-python/gioi-thieu-python/python-la-gi/Python.jpg)"
   ]
  },
  {
   "cell_type": "markdown",
   "id": "94b15aae-5abd-4c3e-9356-76c6288d07de",
   "metadata": {},
   "source": [
    "## I. GIỚI THIỆU\n",
    "\n",
    "Ngôn ngữ lập trình là ngôn ngữ dùng để viết thuật toán cho máy tính hiểu và thực hiện lệnh theo. Đã bao giờ bạn tự hỏi – có tất cả bao nhiêu ngôn ngữ lập trình? Theo thống kê của Wiki, tính đến đến tháng 10/2010, trên thế giới có khoảng hơn 700 ngôn ngữ lập trình (xem danh sách các ngôn ngữ lập trình tại [đây](https://vi.wikipedia.org/wiki/Danh_s%C3%A1ch_c%C3%A1c_ng%C3%B4n_ng%E1%BB%AF_l%E1%BA%ADp_tr%C3%ACnh)). Theo thống kê của [FOLDOC](http://foldoc.org/), 1 trang từ điển tin học trực tuyến miễn phí, con số này đã lên 1000 vào tháng 9/2020, 1 con số đáng kinh ngạc. Có thể thấy, xuyên suốt lịch sử phát triển, vô số ngôn ngữ lập trình đã được tạo ra, có những ngôn ngữ lập trình ngày càng được ưa chuộng, có những ngôn ngữ đã lùi sau ánh hào quang. \n",
    "\n",
    "![Độ phổ biến của 1 số ngôn ngữ lập trình được sử dụng trên các kho lưu trữ trên GitHub.](./img/python.png)\n",
    "> *Độ phổ biến của 1 số ngôn ngữ lập trình được sử dụng trên các kho lưu trữ trên GitHub tính đến tháng 4/2014 theo [Githut](https://githut.info/).*\n",
    "\n",
    "\n",
    "Cũng giống như ngôn ngữ nói, ngôn ngữ lập trình cũng tuân theo 1 hệ thống phân cấp bao gồm 2 loại chính.\n",
    "\n",
    "- ***Ngôn ngữ bậc thấp***: Cú pháp cực kỳ gần với ngôn ngữ máy nên rất khó sử dụng, tuy nhiên lại cung cấp nhiều chức năng hơn và cho phép ta tạo ra chương trình chi tiết và hiệu quả hơn rất nhiều, thích hợp để viết các chương trình liên quan đến kiến trúc và phần cứng của máy tính. Các ngôn ngữ này có thể được chia thành hai loại: ngôn ngữ máy và hợp ngữ.\n",
    "\n",
    "- ***Ngôn ngữ bậc cao***: Cú pháp gẫn gũi với ngôn ngữ của con người hơn, tương tự như ngôn ngữ tiếng Anh nên dễ hiểu và thân thiện với người dùng hơn, xử lý lỗi nhanh hơn, thích hợp để phát triển phần mềm, xử lý dữ liệu... Một số ngôn ngữ bậc cao nổi tiếng nhất có thể kể đến C, C ++, Java và Python. "
   ]
  },
  {
   "cell_type": "markdown",
   "id": "b4af3f20-03b1-43de-a96d-9bb8bd4c23cf",
   "metadata": {},
   "source": [
    "Python là ngôn ngữ lập trình hướng đối tượng bậc cao được Guido van Rossum phát triển từ cuối những năm 1980 và chính thức phát hành lần đầu tiên vào tháng 2 năm 1991. Python được sử dụng như một công cụ hoàn hảo cho các tác vụ tính toán khoa học, bao gồm phân tích và trực quan hóa các bộ dữ liệu lớn. Bản thân ngôn ngữ này không được thiết kế đặc biệt với phân tích dữ liệu hoặc tính toán khoa học. Tính hữu ích của Python đối với khoa học dữ liệu chủ yếu bắt nguồn từ hệ sinh thái lớn và hoạt động của các gói thư viện bên thứ ba như Numpy, Pandas, Matplotlib, Seaborn, ...\n"
   ]
  },
  {
   "cell_type": "markdown",
   "id": "fc5c6b0a-dd30-4a67-b3a0-41ca10ce5d6c",
   "metadata": {},
   "source": [
    "Để bắt đầu bài học với Python, chúng ta sẽ cùng nhau thực thi chương trình đầu tiên `print('Hello, world')`. Lưu ý, ta có thể nhấn tổ hợp phím `Shift Return` (MacOS) hoặc `Shift Enter` (Windows, Ubuntu) để thực thi câu lệnh trong cell code."
   ]
  },
  {
   "cell_type": "code",
   "execution_count": 1,
   "id": "0cb31b69-b04e-4fa2-aac1-e98b56f5a2bd",
   "metadata": {},
   "outputs": [
    {
     "name": "stdout",
     "output_type": "stream",
     "text": [
      "Hello, world!\n"
     ]
    }
   ],
   "source": [
    "print('Hello, world!')"
   ]
  },
  {
   "cell_type": "markdown",
   "id": "323186fe-887b-482c-af41-1e41b80a3af4",
   "metadata": {},
   "source": [
    "Dòng chú thích (Comments) là các câu giải thích đoạn mã để con người có thể đọc được. Nó cung cấp một số thông tin hoặc giải thích về những gì mỗi phần của một chương trình thực hiện. Dòng chú thích bị trình biên dịch và thông dịch bỏ qua.\n",
    "\n",
    "Python hỗ trợ chú thích một dòng:"
   ]
  },
  {
   "cell_type": "code",
   "execution_count": 2,
   "id": "3a0b3e97-ed76-406b-8914-9a0ced48c1d5",
   "metadata": {},
   "outputs": [
    {
     "name": "stdout",
     "output_type": "stream",
     "text": [
      "Hello, World!\n"
     ]
    }
   ],
   "source": [
    "# Print Hello, World! on the screen\n",
    "print(\"Hello, World!\")"
   ]
  },
  {
   "cell_type": "code",
   "execution_count": 3,
   "id": "5a056565-6581-43ee-96ff-6d01df635110",
   "metadata": {},
   "outputs": [
    {
     "name": "stdout",
     "output_type": "stream",
     "text": [
      "Hello, World!\n"
     ]
    }
   ],
   "source": [
    "print(\"Hello, World!\") # Print Hello, World! on the screen"
   ]
  },
  {
   "cell_type": "markdown",
   "id": "613dd760-4867-4c96-ae47-379483fec098",
   "metadata": {},
   "source": [
    "Để chú thích nhiều dòng, bạn có thể chèn `'''` hoặc `\"\"\"`cho mỗi dòng:"
   ]
  },
  {
   "cell_type": "code",
   "execution_count": 4,
   "id": "7f4957fd-07f3-4be2-b71f-9c8e15d3b64e",
   "metadata": {},
   "outputs": [
    {
     "name": "stdout",
     "output_type": "stream",
     "text": [
      "Hello, World!\n"
     ]
    }
   ],
   "source": [
    "'''\n",
    "Use print() function\n",
    "to print Hello, World! on the screen\n",
    "'''\n",
    "print(\"Hello, World!\")"
   ]
  },
  {
   "cell_type": "markdown",
   "id": "08065013-65a2-4035-94c0-ea6078793130",
   "metadata": {},
   "source": [
    "Ok, bây giờ chúng ta sẽ cũng nhau tìm hiểu sâu hơn về các thành phần cơ bản trong Python nha."
   ]
  },
  {
   "cell_type": "markdown",
   "id": "05b3fc2a-73e7-41bd-88ad-562f1e9051a8",
   "metadata": {},
   "source": [
    "## II. CÁC THÀNH PHẦN CƠ BẢN TRONG PYTHON "
   ]
  },
  {
   "cell_type": "markdown",
   "id": "851db246-0092-480a-8f58-76810e4cb20c",
   "metadata": {},
   "source": [
    "### 1. Biến (Variables)\n",
    "\n",
    "Khái niệm biến chắc hẳn không còn xa lạ gì với các bạn từ những ngày cấp 2, cấp 3. Khi ta làm các bài toán đại số, các bạn luôn phải chạm mặt các biến như là biến x, y,... Trong lập trình, biến là tên của một vùng trong bộ nhớ RAM, được sử dụng để lưu trữ thông tin. Khi một biến được khai báo, một vùng trong bộ nhớ sẽ dành cho các biến.\n",
    "\n",
    "Tại sao chúng ta cần sử dụng biến?"
   ]
  },
  {
   "cell_type": "code",
   "execution_count": 5,
   "id": "fda13e9c-697c-4117-ad9e-0deebe03c789",
   "metadata": {},
   "outputs": [
    {
     "data": {
      "text/plain": [
       "2738087168627369076568435079514204928692"
      ]
     },
     "execution_count": 5,
     "metadata": {},
     "output_type": "execute_result"
    }
   ],
   "source": [
    "5233255324824524012138 * 523209168801482034  # nhân hai số"
   ]
  },
  {
   "cell_type": "code",
   "execution_count": 6,
   "id": "b94facd5-465f-4867-9772-b65c368fce8b",
   "metadata": {},
   "outputs": [
    {
     "data": {
      "text/plain": [
       "2738087168627369076568435079514208069405"
      ]
     },
     "execution_count": 6,
     "metadata": {},
     "output_type": "execute_result"
    }
   ],
   "source": [
    "2738087168627369076568435079514204928692 + 3140713 # lấy kết quả phép tính trên tiếp tục thực hiện cộng hai số"
   ]
  },
  {
   "cell_type": "markdown",
   "id": "4dfe5b91-4cff-44b9-9928-530472ffc782",
   "metadata": {},
   "source": [
    "Từ ví dụ trên, ta có thể thấy rằng những con số với nhiều chữ số gây khó khăn trong việc sử dụng vì chúng có quá nhiều chữ số, đôi lúc chúng ta cũng có thể vô tình gây sai lệnh giá trị. Để tránh điều này xảy ra, ta có thể nhờ tới sự giúp đỡ của các biến để lưu trữ dữ liệu và lấy ra để tính toán được thuận tiện và chính xác hơn."
   ]
  },
  {
   "cell_type": "markdown",
   "id": "7e931684-b6a5-4214-a196-bb5f3afe7f91",
   "metadata": {},
   "source": [
    "#### 1.1 Khởi tạo biến \n",
    "\n",
    "Để khai báo biến trong Python thì mọi người sử dụng cú pháp `tên_biến = giá_trị`, trong đó:\n",
    "- `tên_biến`: tên của biến mà các bạn muốn đặt. \n",
    "- `giá_trị` : giá trị của biến mà bạn muốn gán.\n",
    "- `=`: phép gán."
   ]
  },
  {
   "cell_type": "code",
   "execution_count": 7,
   "id": "55a7fcb7-8671-429c-9948-170366cff06d",
   "metadata": {},
   "outputs": [
    {
     "data": {
      "text/plain": [
       "2738087168627369076568435079514208069405"
      ]
     },
     "execution_count": 7,
     "metadata": {},
     "output_type": "execute_result"
    }
   ],
   "source": [
    "x = 5233255324824524012138 # gán giá trị 5233255324824524012138 cho biến x\n",
    "y = 523209168801482034 # gán giá trị 523209168801482034 cho biến y\n",
    "z = 3140713 # gán giá trị 3140713 cho biến z\n",
    "x * y + z"
   ]
  },
  {
   "cell_type": "markdown",
   "id": "d29279f7-9008-401c-8055-73b663d163fb",
   "metadata": {},
   "source": [
    "Dễ thấy cùng 1 kết quả tương tự, dùng biến giúp ta dễ dàng tính toán, giảm thiểu tỉ lệ sai lệnh giá trị hơn khi không sử dụng tới biến. Ta có thể khai báo mỗi biến 1 dòng như trên hoặc khai báo chúng trên cùng 1 dòng."
   ]
  },
  {
   "cell_type": "code",
   "execution_count": 8,
   "id": "0c174ea6-5965-435f-9b9e-a91ebcf4b637",
   "metadata": {},
   "outputs": [
    {
     "data": {
      "text/plain": [
       "2738087168627369076568435079514208069405"
      ]
     },
     "execution_count": 8,
     "metadata": {},
     "output_type": "execute_result"
    }
   ],
   "source": [
    "x , y , z = 5233255324824524012138, 523209168801482034, 3140713\n",
    "x * y + z"
   ]
  },
  {
   "cell_type": "markdown",
   "id": "e60dd22b-0420-4d48-9627-786580aab4e1",
   "metadata": {},
   "source": [
    "Một số lưu ý khi đặt tên biến:\n",
    "- Tên của biến có thể bắt đầu với các kí tự hoặc dấu `_` nhưng không được bắt đầu bằng số.\n",
    "- Tên biến phân biệt chữ hoa chữ thường: `Num`, `NUM`,`num` là 3 tên biến khác nhau.\n",
    "- Tên biến không được trùng với các từ khóa của Python."
   ]
  },
  {
   "cell_type": "markdown",
   "id": "662a7150-7890-4424-b6c2-3d834c83ce68",
   "metadata": {},
   "source": [
    "#### 1.2 Các kiểu dữ liệu"
   ]
  },
  {
   "cell_type": "markdown",
   "id": "769f4a3f-5702-4818-ac19-5311bd6747c1",
   "metadata": {},
   "source": [
    "Với Python, khi ta khai báo một biến thì kiểu dữ liệu của biến sẽ tự động được nhận biết. Vì vậy, ta cũng không phải quá vất vả khi khai báo 1 biến. Mặc định, Python có các kiểu dữ liệu cơ bản sau:\n",
    "\n",
    "|Kiểu dữ liệu|Ý nghĩa|Ví dụ|\n",
    "|-|-|-|\n",
    "|`int`|Kiểu số nguyên (không có chứa dấu chấm thập phân)|`11`, `-15`|\n",
    "|`float`|Kiểu số thực (có chứa dấu chấm thập phân)|`3.14`, `4.02`|\n",
    "|`complex`|Kiểu số phức|`1 + 2j`, `3 - 4j`|\n",
    "|`str`|Kiểu chuỗi|`'MCI'`,`'Python'`|\n",
    "|`bool`|Kiểu luận lý|`TRUE`, `FALSE`|"
   ]
  },
  {
   "cell_type": "markdown",
   "id": "0e316786-a879-4011-aac7-3de6dc08ed29",
   "metadata": {},
   "source": [
    "#### 1.3 Kiểm tra kiểu dữ liệu của biến"
   ]
  },
  {
   "cell_type": "markdown",
   "id": "465b5103-ba6f-4b82-800d-05a3c9c4b136",
   "metadata": {},
   "source": [
    "Để kiểm tra kiểu dữ liệu giá trị của một biến đã khởi tạo, ta sử dụng hàm `type()`\n",
    "- Cú pháp: `type(tên_biến)`"
   ]
  },
  {
   "cell_type": "code",
   "execution_count": 9,
   "id": "72e8161b-048d-4422-aa1c-8b99af065ced",
   "metadata": {},
   "outputs": [
    {
     "data": {
      "text/plain": [
       "int"
      ]
     },
     "execution_count": 9,
     "metadata": {},
     "output_type": "execute_result"
    }
   ],
   "source": [
    "type(x) # số nguyên"
   ]
  },
  {
   "cell_type": "code",
   "execution_count": 10,
   "id": "dc2eb8bb-c1d9-462b-af3b-ba0ebd6c6703",
   "metadata": {},
   "outputs": [
    {
     "data": {
      "text/plain": [
       "float"
      ]
     },
     "execution_count": 10,
     "metadata": {},
     "output_type": "execute_result"
    }
   ],
   "source": [
    "float_number = 3.14 # số thực\n",
    "type(float_number)"
   ]
  },
  {
   "cell_type": "code",
   "execution_count": 11,
   "id": "276e8c76-2418-4126-a7c2-6b46f0f9bf32",
   "metadata": {},
   "outputs": [],
   "source": [
    "# type = 0 # Không nên gán như thế này"
   ]
  },
  {
   "cell_type": "markdown",
   "id": "6a807a0b-d697-404f-bfb2-fb28dc067e9d",
   "metadata": {},
   "source": [
    "#### 1.4 Ép kiểu dữ liệu\n",
    "Python hỗ trợ chuyển đổi kiểu dữ liệu của một biến x (casting) qua 1 số hàm cơ bản sau:\n",
    "\n",
    "|Cú pháp| Ý nghĩa|\n",
    "|-|-|\n",
    "|`float(x)`| chuyển đổi sang kiểu số thực|\n",
    "|`int(x)`  | chuyển đổi sang kiểu số|\n",
    "|`str(x)`  | chuyển đổi sang dạng chuỗi|\n",
    "|`complex(x)`| chuyển đổi sang kiểu phức hợp|\n",
    "|`tuple(x)`| chuyển đổi sang kiểu Tuple|\n",
    "|`dict(x)` | chuyển đổi sang kiểu Dictionary|\n",
    "|`hex(x)`  | chuyển đổi sang hệ 16|\n",
    "|`oct(x)`  | chuyển đổi sang hệ 8|\n",
    "|`chr(x)`  | chuyển đổi sang dạng ký tự|"
   ]
  },
  {
   "cell_type": "markdown",
   "id": "2172688f-8c10-409a-a8da-22e5c280341c",
   "metadata": {},
   "source": [
    "Ví dụ:"
   ]
  },
  {
   "cell_type": "code",
   "execution_count": 12,
   "id": "abef972b-246d-4e8d-89ab-14834802b57c",
   "metadata": {},
   "outputs": [
    {
     "data": {
      "text/plain": [
       "3"
      ]
     },
     "execution_count": 12,
     "metadata": {},
     "output_type": "execute_result"
    }
   ],
   "source": [
    "x = 3.14\n",
    "int(x)"
   ]
  },
  {
   "cell_type": "code",
   "execution_count": 13,
   "id": "6c305431-ee05-4d44-b440-2054d14c9c59",
   "metadata": {},
   "outputs": [
    {
     "data": {
      "text/plain": [
       "(3.14+0j)"
      ]
     },
     "execution_count": 13,
     "metadata": {},
     "output_type": "execute_result"
    }
   ],
   "source": [
    "complex(x)"
   ]
  },
  {
   "cell_type": "code",
   "execution_count": 14,
   "id": "57037cfc-8abb-4594-9f99-0857af6e76de",
   "metadata": {},
   "outputs": [
    {
     "data": {
      "text/plain": [
       "'3.14'"
      ]
     },
     "execution_count": 14,
     "metadata": {},
     "output_type": "execute_result"
    }
   ],
   "source": [
    "str(x)"
   ]
  },
  {
   "cell_type": "markdown",
   "id": "d3dffccf-c02c-49a1-8c07-13fcb54a815a",
   "metadata": {},
   "source": [
    "### 2. Toán tử số học"
   ]
  },
  {
   "cell_type": "markdown",
   "id": "1237ea51-6555-47b0-9ddb-93583f62e746",
   "metadata": {},
   "source": [
    "|Phép toán|Biểu thức|Ý nghĩa |\n",
    "|-|-|-|\n",
    "|+|`x + y`|Phép cộng|\n",
    "|-|`x - y`|Phép trừ|\n",
    "|*|`x * y`|Phép nhân|\n",
    "|/|`x / y`|Phép chia|\n",
    "|%|`x % y`|Phép chia lấy phần dư|\n",
    "|//|`x // y`|Phép chia làm tròn xuống|\n",
    "|**|`x ** y`|Phép mũ|\n",
    "\n",
    "Ví dụ:"
   ]
  },
  {
   "cell_type": "code",
   "execution_count": 15,
   "id": "d6c42ced-6c15-4399-af01-b4a9f0c315a3",
   "metadata": {},
   "outputs": [],
   "source": [
    "x, y  = 11, 3"
   ]
  },
  {
   "cell_type": "code",
   "execution_count": 16,
   "id": "503c82b3-bc8b-4c45-9607-7b1ee64d509b",
   "metadata": {},
   "outputs": [
    {
     "name": "stdout",
     "output_type": "stream",
     "text": [
      " x + y = 14 \n",
      " x - y = 8 \n",
      " x * y = 33 \n",
      " x / y = 3.6666666666666665 \n",
      " x % y = 2 \n",
      " x // y = 3 \n",
      " x ** y =  1331 \n",
      " x ** (1/2) = 3.3166247903554\n"
     ]
    }
   ],
   "source": [
    "print(' x + y =',x + y, \n",
    "      '\\n x - y =',x - y,\n",
    "      '\\n x * y =',x * y,\n",
    "      '\\n x / y =',x / y ,\n",
    "      '\\n x % y =',x % y, \n",
    "      '\\n x // y =',x // y,\n",
    "      '\\n x ** y = ',x ** y,\n",
    "      '\\n x ** (1/2) =',x ** (1/2))"
   ]
  },
  {
   "cell_type": "markdown",
   "id": "4bfdc245-6480-4364-a313-e662269cf892",
   "metadata": {},
   "source": [
    "Ngoài ra, ta có thể tận dụng thư viện `math` để tính toán"
   ]
  },
  {
   "cell_type": "code",
   "execution_count": 17,
   "id": "02a3cd04-0018-429d-b2d4-0b2d701efd6a",
   "metadata": {},
   "outputs": [
    {
     "name": "stdout",
     "output_type": "stream",
     "text": [
      "4\n",
      "3\n"
     ]
    }
   ],
   "source": [
    "import math\n",
    "print(math.ceil(3.14)) # làm tròn lên\n",
    "print(math.floor(3.14)) # làm tròn xuống"
   ]
  },
  {
   "cell_type": "code",
   "execution_count": 18,
   "id": "776af0b5-047c-41ff-8855-37a596b4a65c",
   "metadata": {
    "tags": []
   },
   "outputs": [
    {
     "data": {
      "text/plain": [
       "4"
      ]
     },
     "execution_count": 18,
     "metadata": {},
     "output_type": "execute_result"
    }
   ],
   "source": [
    "round(3.54)"
   ]
  },
  {
   "cell_type": "markdown",
   "id": "ef8e5cc1-45c9-4bd9-bfd1-fa86c5850ba8",
   "metadata": {},
   "source": [
    "### 3. Toán tử luận lý"
   ]
  },
  {
   "cell_type": "markdown",
   "id": "d401178b-d20c-4a7c-a604-4aab55507812",
   "metadata": {},
   "source": [
    "Để thực hiện các phép toán luận lý trong python, ta có thể sử dụng các toán tử luận lý dưới đây:\n",
    "\n",
    "|Toán tử|Biểu thức|Ý nghĩa|\n",
    "|-|-|-|\n",
    "|AND|`X and Y`|True nếu cả X và Y đều đúng|\n",
    "|OR |`X or Y`|True nếu ít nhất một trong hai vế X hoặc Y đúng|\n",
    "|NOT|`not X`|True nếu X sai và False nếu X đúng|\n",
    "|XOR|`bool(Y) ^ bool(Y)`|True nếu X và Y cùng giá trị và False nếu ngược lại|\n",
    "\n",
    "Phép toán luận lý sẽ kiểm tra hai vế của toán tử là đúng hay sai và kết hợp chúng lại để đưa ra kết quả. Kết quả của phép toán luận lý là kiểu boolean trong Python với hai giá trị là True (đúng) hoặc False (sai)."
   ]
  },
  {
   "cell_type": "code",
   "execution_count": 19,
   "id": "3e3a0197-ea57-4af0-8c5c-a933d9355805",
   "metadata": {},
   "outputs": [
    {
     "data": {
      "text/plain": [
       "False"
      ]
     },
     "execution_count": 19,
     "metadata": {},
     "output_type": "execute_result"
    }
   ],
   "source": [
    "True and False"
   ]
  },
  {
   "cell_type": "code",
   "execution_count": 20,
   "id": "418dc2f3-9ccc-4135-9809-767240d35fc7",
   "metadata": {},
   "outputs": [
    {
     "data": {
      "text/plain": [
       "True"
      ]
     },
     "execution_count": 20,
     "metadata": {},
     "output_type": "execute_result"
    }
   ],
   "source": [
    "True or False"
   ]
  },
  {
   "cell_type": "code",
   "execution_count": 21,
   "id": "8085e060-56c7-4ad4-9fba-3119fb52bf10",
   "metadata": {},
   "outputs": [
    {
     "data": {
      "text/plain": [
       "True"
      ]
     },
     "execution_count": 21,
     "metadata": {},
     "output_type": "execute_result"
    }
   ],
   "source": [
    "True and not False or (True and False)"
   ]
  },
  {
   "cell_type": "markdown",
   "id": "a5f5c91f-4b4b-4520-8ec0-5e2bb0f6d0cc",
   "metadata": {},
   "source": [
    "### 4. Toán tử điều kiện"
   ]
  },
  {
   "cell_type": "markdown",
   "id": "9bc1cc6b-326e-4d56-84e2-a07913844bc7",
   "metadata": {},
   "source": [
    "|Toán tử| Biểu thức| Ý nghĩa|\n",
    "|-|-|-|\n",
    "|<| `x < y` |So sánh giá trị x có nhỏ hơn y hay không|\n",
    "|>| `x > y `|So sánh giá trị x có lớn hơn y hay không|\n",
    "|<=|`x <= y`|So sánh giá trị x có nhỏ hơn hoặc bằng y hay không|\n",
    "|>=|`x >= y`|So sánh giá trị x có lớn hơn hoặc bằng y hay không|\n",
    "|==|`x == y`|So sánh giá trị x có bằng y hay không|\n",
    "|!=|`x != y`|So sánh giá trị x có khác y hay không|\n",
    "\n",
    "Tương tự toán tử luận lý, kết quả của phép toán điều kiện là kiểu boolean với hai giá trị là True (đúng) hoặc False (sai).\n",
    "\n",
    "Lưu ý trong Python, dấu `=` sử dụng cho phép gán, dấu `==` sử dụng cho phép so sánh."
   ]
  },
  {
   "cell_type": "code",
   "execution_count": 22,
   "id": "942a3d02-ca40-4f5e-9c2f-3d9411bbe5ea",
   "metadata": {},
   "outputs": [
    {
     "data": {
      "text/plain": [
       "False"
      ]
     },
     "execution_count": 22,
     "metadata": {},
     "output_type": "execute_result"
    }
   ],
   "source": [
    "3 > 5"
   ]
  },
  {
   "cell_type": "code",
   "execution_count": 23,
   "id": "ff56f202-f730-4c32-af36-d4b91cbbea2f",
   "metadata": {},
   "outputs": [
    {
     "data": {
      "text/plain": [
       "True"
      ]
     },
     "execution_count": 23,
     "metadata": {},
     "output_type": "execute_result"
    }
   ],
   "source": [
    "1 != 2"
   ]
  },
  {
   "cell_type": "code",
   "execution_count": 24,
   "id": "d76a1796-3a2c-41ae-81c5-fcbcd7275cba",
   "metadata": {},
   "outputs": [
    {
     "data": {
      "text/plain": [
       "True"
      ]
     },
     "execution_count": 24,
     "metadata": {},
     "output_type": "execute_result"
    }
   ],
   "source": [
    "(5 == 6) or (9 >= 2) and (8 != 3)"
   ]
  },
  {
   "cell_type": "markdown",
   "id": "c6362ecc-17f2-4f3b-874d-de05581dc6da",
   "metadata": {},
   "source": [
    "### 5. Cấu trúc dữ liệu"
   ]
  },
  {
   "cell_type": "markdown",
   "id": "20bcccf1-45cc-4665-a90c-27de86f69f2a",
   "metadata": {},
   "source": [
    "Cấu trúc dữ liệu (data structures) và giải thuật (algorithms) được xem là 2 yếu tố quan trọng nhất trong lập trình, đúng như câu nói nổi tiếng của Niklaus Wirth:\n",
    "\n",
    "`Programs = Data Structures + Algorithms`\n",
    "\n",
    "Như tên gọi của mình, cấu trúc dữ liệu cho phép ta tổ chức, sắp xếp, quản lý và lưu trữ dữ liệu sao cho đảm bảo việc truy cập dễ dàng hơn và sửa đổi hiệu quả hơn. Trong thực tế, cấu trúc dữ liệu có thể chia thành 2 nhánh: được định nghĩa sẵn chỉ lôi ra dùng thôi (built-in) và định nghĩa bởi người dùng (user-defined).\n",
    "\n",
    "![](https://www.edureka.co/blog/wp-content/uploads/2019/10/TreeStructure-Data-Structures-in-Python-Edureka1.png)\n",
    "\n",
    "Trong nôi dụng bài viết này, chúng ta sẽ đi sâu vào 4 cấu trúc dữ liệu: List, Dictionary, Tuple, và Set.\n",
    "\n",
    "|Cấu trúc dữ liệu| Cú pháp | Đặc điểm|\n",
    "|-|-|-|\n",
    "|List|`[]`,`list()`|có index, có thứ tự, có thể thay đổi|\n",
    "|Dictionary|`{key:value}`|không trùng lặp|\n",
    "|Tuple|`()`,`tuple()`|có index, có thứ tự, không thể thay đổi|\n",
    "|Set|`{}`,`set`|không index, không trùng lặp, có thứ tự , có thể thay đổi|"
   ]
  },
  {
   "cell_type": "markdown",
   "id": "81f2b826-b8f1-42a2-bd11-29b1e468154a",
   "metadata": {},
   "source": [
    "#### 4.1 List\n",
    "\n",
    "List là một danh sách các phần tử dữ liệu phân cách bởi dấu phẩy và được bao ngoài bởi dấu ngoặc vuông `[]`, có thể chứa 1 hoặc nhiều kiểu dữ liệu khác nhau từ 1 số cho đến 1 chuỗi được lưu theo 1 cách tuần tự.\n",
    "\n",
    "##### 4.1.0 Khai báo list\n",
    "\n",
    "- Cú pháp: `[value1, value2, ...]`\n",
    "\n",
    "Mỗi phần tử trong list đều được gán 1 vị trí, gọi là chỉ số index. Giá trị index bắt đầu từ 0 và tiếp tục cho đến phần tử cuối cùng được gọi là index dương (theo chiều từ trái qua phải). Ngoài ra, ta có thể sử dụng index phủ định bắt đầu từ -1 cho phép bạn truy cập các phần tử từ cuối cùng đến đầu tiên (theo chiều từ phải qua trái). \n"
   ]
  },
  {
   "cell_type": "code",
   "execution_count": 25,
   "id": "a9e833d9-de6c-4d6c-ac23-cd04064d1614",
   "metadata": {},
   "outputs": [
    {
     "data": {
      "text/plain": [
       "[1, 2, 'Python', 3.14]"
      ]
     },
     "execution_count": 25,
     "metadata": {},
     "output_type": "execute_result"
    }
   ],
   "source": [
    "li = [1 , 2, \"Python\", 3.14] \n",
    "#     0   1    2         3    -> index từ trái sang phải\n",
    "#    -4  -3   -2        -1    -> index từ phải sang trái \n",
    "li"
   ]
  },
  {
   "cell_type": "code",
   "execution_count": 26,
   "id": "d20f3606-bd15-409b-9138-bd95d5f9977d",
   "metadata": {},
   "outputs": [
    {
     "data": {
      "text/plain": [
       "4"
      ]
     },
     "execution_count": 26,
     "metadata": {},
     "output_type": "execute_result"
    }
   ],
   "source": [
    "len(li)"
   ]
  },
  {
   "cell_type": "markdown",
   "id": "b76a7195-60e1-457d-b0df-41b7404373f5",
   "metadata": {},
   "source": [
    "##### 4.1.1 Truy xuất phần tử trong list\n",
    "\n",
    "Như đề cập ở trên, mỗi phần tử trong List sẽ có một vị trí nhất định tương ứng với một con số index, bắt đầu từ số 0 và tăng dần từ trái qua phải. Chúng ta có thể truy xuất đến các phần tử trong danh sách với cú pháp: `tên_list[index]`"
   ]
  },
  {
   "cell_type": "code",
   "execution_count": 27,
   "id": "4f994885-8a88-4aa4-9fb9-8451095a8869",
   "metadata": {},
   "outputs": [
    {
     "data": {
      "text/plain": [
       "1"
      ]
     },
     "execution_count": 27,
     "metadata": {},
     "output_type": "execute_result"
    }
   ],
   "source": [
    "li[0]"
   ]
  },
  {
   "cell_type": "code",
   "execution_count": 28,
   "id": "a7fac33b-6a18-4b00-b3fe-7c37a5db13a7",
   "metadata": {},
   "outputs": [
    {
     "data": {
      "text/plain": [
       "[2, 'Python']"
      ]
     },
     "execution_count": 28,
     "metadata": {},
     "output_type": "execute_result"
    }
   ],
   "source": [
    "li[1:3]"
   ]
  },
  {
   "cell_type": "markdown",
   "id": "9206e7c6-9ee2-4694-b61e-7f4dfdcd8f0c",
   "metadata": {},
   "source": [
    "Mỗi phần tử bên trong list cũng có thể là 1 list con, khi đó mỗi list con cũng có 1 index duy nhất."
   ]
  },
  {
   "cell_type": "code",
   "execution_count": 29,
   "id": "702cefa9-ba32-4009-baab-b0bb86ab8899",
   "metadata": {},
   "outputs": [
    {
     "data": {
      "text/plain": [
       "[1, 2, 3]"
      ]
     },
     "execution_count": 29,
     "metadata": {},
     "output_type": "execute_result"
    }
   ],
   "source": [
    "li1 = [1, [1,2,3], 3.14, 'Hn']\n",
    "li1[1]"
   ]
  },
  {
   "cell_type": "code",
   "execution_count": 30,
   "id": "0b18f38e-ef70-4dec-ae3b-886a685ea41b",
   "metadata": {},
   "outputs": [
    {
     "data": {
      "text/plain": [
       "1"
      ]
     },
     "execution_count": 30,
     "metadata": {},
     "output_type": "execute_result"
    }
   ],
   "source": [
    "li1[1][0]"
   ]
  },
  {
   "cell_type": "code",
   "execution_count": 31,
   "id": "df5a6657-70dd-499a-9522-9859f728a3b2",
   "metadata": {},
   "outputs": [
    {
     "data": {
      "text/plain": [
       "[3.14, 2, 'Python', 3.14]"
      ]
     },
     "execution_count": 31,
     "metadata": {},
     "output_type": "execute_result"
    }
   ],
   "source": [
    "li[0] = 3.14\n",
    "li"
   ]
  },
  {
   "cell_type": "markdown",
   "id": "068ebd1e-21a1-46c9-843a-d59442293ecf",
   "metadata": {},
   "source": [
    "##### 4.1.2 Các hàm cơ bản với List"
   ]
  },
  {
   "cell_type": "markdown",
   "id": "c9be3858-a070-4949-8a8a-3b15c2aea5c6",
   "metadata": {},
   "source": [
    "Để biết có những hàm có sẵn nào hỗ trợ cho cấu trúc dữ liệu list, ta sử dụng câu lệnh dưới đây:"
   ]
  },
  {
   "cell_type": "code",
   "execution_count": 32,
   "id": "fcbadad1-157d-44ca-95fc-2d4e9d7cb7d8",
   "metadata": {},
   "outputs": [
    {
     "data": {
      "text/plain": [
       "['append',\n",
       " 'clear',\n",
       " 'copy',\n",
       " 'count',\n",
       " 'extend',\n",
       " 'index',\n",
       " 'insert',\n",
       " 'pop',\n",
       " 'remove',\n",
       " 'reverse',\n",
       " 'sort']"
      ]
     },
     "execution_count": 32,
     "metadata": {},
     "output_type": "execute_result"
    }
   ],
   "source": [
    "[method for method in dir(li) if not method.startswith('_')]"
   ]
  },
  {
   "cell_type": "markdown",
   "id": "db54e346-4154-426c-97b7-d7e7d521a3b3",
   "metadata": {},
   "source": [
    "Các hàm này được chia thành 2 loại:\n",
    "- Gán giá trị trực tiếp vào biến và không trả về cái gì\n",
    "- Trả về giá trị và cần gán giá trị đó vào 1 biến mới\n",
    "\n",
    "Dưới đây là 1 số ví dụ về các hàm kể trên:\n",
    "\n",
    "|Tên hàm|Ý nghĩa|Trả về giá trị|\n",
    "|-|-|-|\n",
    "|`append()`|Thêm một phần tử vào vị trí cuối cùng trong list|Không|\n",
    "|`clear()`|Xóa sạch các phần tử trong list|Không|\n",
    "|`copy()`|Sao chép toàn bộ list|Có|\n",
    "|`count()`|Đếm số lần một phần tử xuất hiện trong list|Có|\n",
    "|`extend()`|Kết hợp list với một list khác|Không|\n",
    "|`index()`|Trả về vị trí phần tử trong list|Có|\n",
    "|`insert()`|Chèn một phần tử vào list tại vị trí cho trước|Không|\n",
    "|`pop()`|Loại bỏ phần tử ở vị trí index cho trước trong list|Không|\n",
    "|`remove()`|Loại bỏ một phần tử khỏi list|Không|\n",
    "|`reverse()`|Đảo ngược thứ tự các phần tử trong list|Không|\n",
    "|`sort()`|Sắp xếp các phần tử trong list|Không|"
   ]
  },
  {
   "cell_type": "code",
   "execution_count": 33,
   "id": "73caa425-9065-49b7-ab17-828ead15f70e",
   "metadata": {},
   "outputs": [
    {
     "data": {
      "text/plain": [
       "[3.14, 2, 'Python', 3.14, 10]"
      ]
     },
     "execution_count": 33,
     "metadata": {},
     "output_type": "execute_result"
    }
   ],
   "source": [
    "li.append(10)\n",
    "li"
   ]
  },
  {
   "cell_type": "code",
   "execution_count": 34,
   "id": "007a39ab-e21f-4da9-a980-8dd090e589e8",
   "metadata": {},
   "outputs": [
    {
     "data": {
      "text/plain": [
       "[]"
      ]
     },
     "execution_count": 34,
     "metadata": {},
     "output_type": "execute_result"
    }
   ],
   "source": [
    "li.clear()\n",
    "li"
   ]
  },
  {
   "cell_type": "code",
   "execution_count": 35,
   "id": "ee6e635f-79c7-4157-b0d1-81a3ecef89fd",
   "metadata": {},
   "outputs": [
    {
     "data": {
      "text/plain": [
       "[1, 2, 'Hanoi', 2.14, 'c']"
      ]
     },
     "execution_count": 35,
     "metadata": {},
     "output_type": "execute_result"
    }
   ],
   "source": [
    "li = [1, 2, 'Hanoi', 2.14, 'c']\n",
    "li.copy()"
   ]
  },
  {
   "cell_type": "code",
   "execution_count": 36,
   "id": "52dee05e-53f0-48f2-b0c7-c12bb78ea596",
   "metadata": {},
   "outputs": [
    {
     "data": {
      "text/plain": [
       "1"
      ]
     },
     "execution_count": 36,
     "metadata": {},
     "output_type": "execute_result"
    }
   ],
   "source": [
    "li.count('Hanoi')"
   ]
  },
  {
   "cell_type": "code",
   "execution_count": 37,
   "id": "c8305fc0-8d93-4a81-b0b7-50cddcc459d8",
   "metadata": {},
   "outputs": [
    {
     "data": {
      "text/plain": [
       "[1, 2, 'Hanoi', 2.14, 'c', 1, 2, 3]"
      ]
     },
     "execution_count": 37,
     "metadata": {},
     "output_type": "execute_result"
    }
   ],
   "source": [
    "li.extend([1,2,3])\n",
    "li"
   ]
  },
  {
   "cell_type": "code",
   "execution_count": 38,
   "id": "22c88f44-f50b-443e-a9e1-3781571a970e",
   "metadata": {},
   "outputs": [
    {
     "data": {
      "text/plain": [
       "7"
      ]
     },
     "execution_count": 38,
     "metadata": {},
     "output_type": "execute_result"
    }
   ],
   "source": [
    "li.index(3)"
   ]
  },
  {
   "cell_type": "code",
   "execution_count": 39,
   "id": "c69bc127-64c1-4ea8-8d50-bdec7d9a1dd8",
   "metadata": {},
   "outputs": [
    {
     "data": {
      "text/plain": [
       "[1, 2, 'Hanoi', 2.14, 'c', 1, 2, 3, 0]"
      ]
     },
     "execution_count": 39,
     "metadata": {},
     "output_type": "execute_result"
    }
   ],
   "source": [
    "li.insert(10,0)\n",
    "li"
   ]
  },
  {
   "cell_type": "code",
   "execution_count": 40,
   "id": "bef73b80-87db-46df-b42e-7196d106831c",
   "metadata": {},
   "outputs": [
    {
     "data": {
      "text/plain": [
       "[1, 'Hanoi', 2.14, 'c', 1, 2, 3, 0]"
      ]
     },
     "execution_count": 40,
     "metadata": {},
     "output_type": "execute_result"
    }
   ],
   "source": [
    "li.pop(1)\n",
    "li"
   ]
  },
  {
   "cell_type": "code",
   "execution_count": 41,
   "id": "87b45ac2-2c50-4834-b06c-47508a09cde7",
   "metadata": {},
   "outputs": [
    {
     "data": {
      "text/plain": [
       "[1, 'Hanoi', 2.14, 'c', 1, 2, 3]"
      ]
     },
     "execution_count": 41,
     "metadata": {},
     "output_type": "execute_result"
    }
   ],
   "source": [
    "li.remove(0)\n",
    "li"
   ]
  },
  {
   "cell_type": "code",
   "execution_count": 42,
   "id": "5f5409d7-557d-4fb7-9f0b-f3c57ffbab5f",
   "metadata": {},
   "outputs": [
    {
     "data": {
      "text/plain": [
       "[0, 1, 2, 9]"
      ]
     },
     "execution_count": 42,
     "metadata": {},
     "output_type": "execute_result"
    }
   ],
   "source": [
    "li = [1, 9, 2,0]\n",
    "li.sort()\n",
    "li"
   ]
  },
  {
   "cell_type": "code",
   "execution_count": 43,
   "id": "ab91e629-3e0f-4f3a-b43f-0b0cad906388",
   "metadata": {},
   "outputs": [
    {
     "data": {
      "text/plain": [
       "[9, 2, 1, 0]"
      ]
     },
     "execution_count": 43,
     "metadata": {},
     "output_type": "execute_result"
    }
   ],
   "source": [
    "li.reverse()\n",
    "li"
   ]
  },
  {
   "cell_type": "markdown",
   "id": "8a5c7f8e-b157-477f-8e92-9f2b64b6b9dc",
   "metadata": {},
   "source": [
    "Đố vui:\n",
    "- Hàm `extend()` và hàm `append()` khác gì nhau?\n",
    "- Hàm `remove()` and `pop()` khác gì nhau?"
   ]
  },
  {
   "cell_type": "markdown",
   "id": "8ab380fb-d22d-4d13-9281-1a81ee9d7842",
   "metadata": {},
   "source": [
    "#### 4.2 Tuple\n",
    "\n",
    "Tuple là 1 cấu trúc dữ liệu gần tương tự như list trong Python, tuy nhiên tuple là 1 danh sách bất biến, không thể thay đổi nội dung. Tuple có tốc độ xử lý nhanh hơn list, do tuple được lưu trữ một khối bộ nhớ xác định còn list thì thường xuyên phải thay đổi không gian lưu trữ. Chính vì vậy, với những dữ liệu dạng hằng số, dữ liệu không thay đổi theo thời gian, tuple là 1 sự lựa chọn hoàn hảo. Ngoài ra, tuple còn được sử dụng làm khóa trong dictionary, một cấu trúc dữ liệu ta sẽ được tìm hiểu trong phần sau.\n",
    "\n",
    "##### 4.2.0 Khai báo tuple\n",
    "\n",
    "- Cú pháp: `(value1, value2, ...)`"
   ]
  },
  {
   "cell_type": "code",
   "execution_count": 44,
   "id": "97e62bcc-20dd-4bb0-885d-55d5069f286e",
   "metadata": {},
   "outputs": [
    {
     "data": {
      "text/plain": [
       "(1, 2, 3.14, 'Vietnam')"
      ]
     },
     "execution_count": 44,
     "metadata": {},
     "output_type": "execute_result"
    }
   ],
   "source": [
    "tup = (1, 2, 3.14, 'Vietnam')\n",
    "tup"
   ]
  },
  {
   "cell_type": "markdown",
   "id": "a600e0ad-0d7f-4363-a34f-0bd579e2d690",
   "metadata": {},
   "source": [
    "##### 4.2.1 Các hàm cơ bản trong tuple\n",
    "\n",
    "|Tên hàm|Ý nghĩa|Trả về giá trị|\n",
    "|-|-|-|\n",
    "|`count()`|Đếm số lần một phần tử xuất hiện trong tuple|Có|\n",
    "|`index()`|Trả về vị trí phần tử trong tuple|Có|"
   ]
  },
  {
   "cell_type": "code",
   "execution_count": 45,
   "id": "1e261076-9415-45ef-b8ff-14ec5711bffb",
   "metadata": {},
   "outputs": [
    {
     "data": {
      "text/plain": [
       "['count', 'index']"
      ]
     },
     "execution_count": 45,
     "metadata": {},
     "output_type": "execute_result"
    }
   ],
   "source": [
    "[method for method in dir(tup) if not method.startswith('_')]"
   ]
  },
  {
   "cell_type": "code",
   "execution_count": 46,
   "id": "b6e310ed-316c-4094-9e84-d3b9c4b07495",
   "metadata": {},
   "outputs": [
    {
     "data": {
      "text/plain": [
       "1"
      ]
     },
     "execution_count": 46,
     "metadata": {},
     "output_type": "execute_result"
    }
   ],
   "source": [
    "tup.count(3.14)"
   ]
  },
  {
   "cell_type": "code",
   "execution_count": 47,
   "id": "9436aceb-5d1c-44e5-b174-ea03ff44e4c0",
   "metadata": {},
   "outputs": [
    {
     "data": {
      "text/plain": [
       "1"
      ]
     },
     "execution_count": 47,
     "metadata": {},
     "output_type": "execute_result"
    }
   ],
   "source": [
    "tup.index(2)"
   ]
  },
  {
   "cell_type": "markdown",
   "id": "9ac494df-c373-4fbd-be0d-1fae08116c94",
   "metadata": {},
   "source": [
    "#### 4.3 Set\n",
    "\n",
    "Set là danh sách không theo thứ tự các phần tử không trùng nhau nằm trong hai dấu ngoặc nhọn `{}` hoặc được khởi tạo bằng `set()`. Set có hỗ trợ các tính toán tổ hợp như là phép toán giao, phép toán hợp, phép đối xứng, phép loại trừ...\n",
    "\n",
    "##### 4.3.0 Khai báo set\n",
    "\n",
    "- Cú pháp: `{value1, value2, ...}`\n"
   ]
  },
  {
   "cell_type": "code",
   "execution_count": 48,
   "id": "74fbce33-ce65-46de-a7b1-f2705acd8acd",
   "metadata": {},
   "outputs": [
    {
     "data": {
      "text/plain": [
       "{1, 2, 3}"
      ]
     },
     "execution_count": 48,
     "metadata": {},
     "output_type": "execute_result"
    }
   ],
   "source": [
    "s = {1, 1, 1, 2, 3}\n",
    "s"
   ]
  },
  {
   "cell_type": "code",
   "execution_count": 49,
   "id": "e7bc2fbf-3155-4e8c-bed3-95942f3cf6a6",
   "metadata": {},
   "outputs": [
    {
     "data": {
      "text/plain": [
       "{1, 2, 3}"
      ]
     },
     "execution_count": 49,
     "metadata": {},
     "output_type": "execute_result"
    }
   ],
   "source": [
    "s.difference()"
   ]
  },
  {
   "cell_type": "markdown",
   "id": "9f21eede-0912-4c83-a061-60b0fe305e26",
   "metadata": {},
   "source": [
    "##### 4.3.1 Các hàm cơ bản trong set\n",
    "\n",
    "|Tên hàm|Ý nghĩa|Trả về giá trị|\n",
    "|-|-|-|\n",
    "|`add()`|Thêm một phần tử vào vị trí cuối cùng trong set|Không|\n",
    "|`clear()`|Xóa sạch các phần tử trong set|Không|\n",
    "|`copy()`|Sao chép toàn bộ set|Có|\n",
    "|`A.difference(B)`|Phép trừ sẽ trả về một tập hợp các giá trị chỉ có ở set A hoặc set B|Có|\n",
    "|`A.difference_update(B)`|Xóa các thành phần tồn tại trong cả hai bộ của set A|Không|\n",
    "|`discard()`|Xoá phần tử trong set|Có|\n",
    "|`A.intersection(B)`|Phép giao giữa 2 set|Có|\n",
    "|`A.intersection_update(B)`|Loại bỏ các thành phần không có trong cả 2 set|Không|\n",
    "|`A.isdisjoint(B)`|Trả về True nếu 2 set là tập hợp rời rạc|Có|\n",
    "|`A.issubset(B)`|Trả về True nếu tất cả các item của set A đều có trong set B, False nếu ngược lại|Có|\n",
    "|`A.issuperset(B)`|Trả về True nếu tất cả các item của set B đều có trong set A, False nếu ngược lại|Có|\n",
    "|`pop()`|Loại bỏ phần tử ở vị trí index cho trước|Không|\n",
    "|`remove()`|Loại bỏ một phần tử |Không|\n",
    "|`A.symmetric_difference(B)`|Phép đối xứng trả về tập hợp những giá trị có trong set A không có trong set B và ngược lại|Có|\n",
    "|`A.symmetric_difference_update(B)`|Xóa các thành phần có trong cả hai nhóm và chèn các mục không có trong cả hai nhóm|Có|\n",
    "|`A.union(B)`|Phép hợp của 2 set|Có|\n",
    "|`update()`|Thêm phần tử|Không|\n",
    "\n",
    "\n",
    "Để có thể nắm được ý nghĩa của các hàm trong set hay bất kì cấu trúc dữ liệu nào, ta có thể tận dụng `docstring` hoặc `help()`.\n"
   ]
  },
  {
   "cell_type": "code",
   "execution_count": 50,
   "id": "704b73fc-9e84-40aa-8c3d-3bb50853654f",
   "metadata": {},
   "outputs": [
    {
     "data": {
      "text/plain": [
       "['add',\n",
       " 'clear',\n",
       " 'copy',\n",
       " 'difference',\n",
       " 'difference_update',\n",
       " 'discard',\n",
       " 'intersection',\n",
       " 'intersection_update',\n",
       " 'isdisjoint',\n",
       " 'issubset',\n",
       " 'issuperset',\n",
       " 'pop',\n",
       " 'remove',\n",
       " 'symmetric_difference',\n",
       " 'symmetric_difference_update',\n",
       " 'union',\n",
       " 'update']"
      ]
     },
     "execution_count": 50,
     "metadata": {},
     "output_type": "execute_result"
    }
   ],
   "source": [
    "[method for method in dir(s) if not method.startswith('_')]"
   ]
  },
  {
   "cell_type": "code",
   "execution_count": 51,
   "id": "847121a1-b994-4ae2-9e5f-250fdb8cf258",
   "metadata": {},
   "outputs": [],
   "source": [
    "s = {1, 1, 1, 2, 3}\n",
    "s1 = {2,3,4,5}"
   ]
  },
  {
   "cell_type": "code",
   "execution_count": 52,
   "id": "538e10ad-ac48-474f-b396-fe06697ea263",
   "metadata": {},
   "outputs": [
    {
     "data": {
      "text/plain": [
       "{1}"
      ]
     },
     "execution_count": 52,
     "metadata": {},
     "output_type": "execute_result"
    }
   ],
   "source": [
    "s.difference(s1)"
   ]
  },
  {
   "cell_type": "code",
   "execution_count": 53,
   "id": "9bfd202e-be53-4100-97f5-83f90057bb03",
   "metadata": {},
   "outputs": [
    {
     "data": {
      "text/plain": [
       "{4, 5}"
      ]
     },
     "execution_count": 53,
     "metadata": {},
     "output_type": "execute_result"
    }
   ],
   "source": [
    "s1.difference(s)"
   ]
  },
  {
   "cell_type": "code",
   "execution_count": 54,
   "id": "7965dd0f-3218-4b97-99f7-a66710f2bf32",
   "metadata": {},
   "outputs": [
    {
     "data": {
      "text/plain": [
       "{2, 3}"
      ]
     },
     "execution_count": 54,
     "metadata": {},
     "output_type": "execute_result"
    }
   ],
   "source": [
    "s.intersection(s1)"
   ]
  },
  {
   "cell_type": "code",
   "execution_count": 55,
   "id": "a574e153-e6db-42d7-b833-7d3f2483281f",
   "metadata": {},
   "outputs": [
    {
     "data": {
      "text/plain": [
       "{1, 4, 5}"
      ]
     },
     "execution_count": 55,
     "metadata": {},
     "output_type": "execute_result"
    }
   ],
   "source": [
    "s.symmetric_difference(s1)"
   ]
  },
  {
   "cell_type": "markdown",
   "id": "886e7fd7-1008-438a-8711-bb9574e8dec4",
   "metadata": {},
   "source": [
    "#### 4.4 Dictionary\n",
    "\n",
    "##### 4.4.0 Khai báo dictionary\n",
    "\n",
    "Để khai báo một dictionary chúng ta dùng cặp dấu `{}` theo cú pháp sau:\n",
    "- Cú pháp: `{key1:value1, key2:value2,...}`\n",
    "\n",
    "Lưu ý:\n",
    "- Các phần tử đều phải có key.\n",
    "- Key chỉ có thể là số hoặc chuỗi.\n",
    "- Key phải là duy nhất, nếu không nó sẽ nhận giá trị của phần tử có key được xuất hiện cuối cùng.\n",
    "- Key khi đã được khai báo thì không thể đổi được tên.\n",
    "- Key có phân biệt hoa thường."
   ]
  },
  {
   "cell_type": "code",
   "execution_count": 56,
   "id": "7ed62ad9-a41d-4416-a920-82605b020f1f",
   "metadata": {},
   "outputs": [],
   "source": [
    "my_dict = {}"
   ]
  },
  {
   "cell_type": "code",
   "execution_count": 57,
   "id": "1b4a3a3c-7023-4698-8836-b75780fe3d6e",
   "metadata": {},
   "outputs": [
    {
     "data": {
      "text/plain": [
       "{'language1': 'Java', 'language2': 'Python', 'language3': 'C++'}"
      ]
     },
     "execution_count": 57,
     "metadata": {},
     "output_type": "execute_result"
    }
   ],
   "source": [
    "my_dict1 = {'language1':'Java', 'language2':'Python', 'language3':'C++'}\n",
    "my_dict1"
   ]
  },
  {
   "cell_type": "markdown",
   "id": "dcbe179c-9446-4886-ac32-1d62d82b844d",
   "metadata": {},
   "source": [
    "##### 4.4.1 Truy xuất các phần tử trong dictionary"
   ]
  },
  {
   "cell_type": "code",
   "execution_count": 58,
   "id": "a8e12fe4-6d11-4279-8d80-17d8210ab476",
   "metadata": {},
   "outputs": [
    {
     "data": {
      "text/plain": [
       "'Java'"
      ]
     },
     "execution_count": 58,
     "metadata": {},
     "output_type": "execute_result"
    }
   ],
   "source": [
    "my_dict1['language1']"
   ]
  },
  {
   "cell_type": "code",
   "execution_count": 59,
   "id": "c52c22ea-c507-4bdb-8748-1b5708aa26a0",
   "metadata": {},
   "outputs": [],
   "source": [
    "my_dict1['language4'] = 'C' # dict_name[key] = value"
   ]
  },
  {
   "cell_type": "markdown",
   "id": "ecc550fd-31da-4c8b-8a5e-6e43687f75c2",
   "metadata": {},
   "source": [
    "Dictionary có thể lồng trong dictionary"
   ]
  },
  {
   "cell_type": "code",
   "execution_count": 60,
   "id": "600fcdeb-d742-4f50-8cb0-26c6262f8af9",
   "metadata": {},
   "outputs": [],
   "source": [
    "my_dict2 = {'name':'Zootpi',\n",
    "           'info':{'age':1,\n",
    "                  'sex':'unknown'}}"
   ]
  },
  {
   "cell_type": "code",
   "execution_count": 61,
   "id": "3efea3e2-cdbc-4320-842e-83217452c86f",
   "metadata": {},
   "outputs": [
    {
     "data": {
      "text/plain": [
       "'unknown'"
      ]
     },
     "execution_count": 61,
     "metadata": {},
     "output_type": "execute_result"
    }
   ],
   "source": [
    "my_dict2['info']['sex']"
   ]
  },
  {
   "cell_type": "markdown",
   "id": "630a82c4-9ee8-41b0-8ab8-d1005916b108",
   "metadata": {},
   "source": [
    "##### 4.3.3 Các hàm cơ bản trong dictionary\n",
    "\n",
    "|Tên hàm|Ý nghĩa|Trả về giá trị|\n",
    "|-|-|-|\n",
    "|`clear()`|Xóa sạch các phần tử|Không|\n",
    "|`copy()`|Sao chép các phần tử|Có|\n",
    "|`fromkeys()`|Tạo ra một dictionary với các khóa và giá trị được chỉ định|Có|\n",
    "|`get()`|Trả về giá trị của khóa được chỉ định|Có|\n",
    "|`items()`| Trả về danh sách chứa bộ giá trị cho mỗi cặp giá trị khóa|Có|\n",
    "|`keys()`|Trả về danh sách chứa các key của dictionary|Có|\n",
    "|`pop()`|Loại bỏ phần tử có key được chỉ định|Không|\n",
    "|`popitem()`|Xóa cặp key-value được chèn cuối cùng|Không|\n",
    "|`setdefault()`|Trả về giá trị của key được chỉ định. Nếu key không tồn tại: hãy chèn key, với giá trị được chỉ định|Không|\n",
    "|`update()`|Cập nhật dictionary với các cặp key-value được chỉ định|Không|\n",
    "|`values()`| Trả về danh sách tất cả các value trong từ điển |Có|"
   ]
  },
  {
   "cell_type": "code",
   "execution_count": 62,
   "id": "d3ca58f5-1676-47be-9538-db291d97985c",
   "metadata": {},
   "outputs": [
    {
     "data": {
      "text/plain": [
       "['clear',\n",
       " 'copy',\n",
       " 'fromkeys',\n",
       " 'get',\n",
       " 'items',\n",
       " 'keys',\n",
       " 'pop',\n",
       " 'popitem',\n",
       " 'setdefault',\n",
       " 'update',\n",
       " 'values']"
      ]
     },
     "execution_count": 62,
     "metadata": {},
     "output_type": "execute_result"
    }
   ],
   "source": [
    "[method for method in dir(my_dict1) if not method.startswith('_')]"
   ]
  },
  {
   "cell_type": "code",
   "execution_count": 63,
   "id": "3479c486-9981-42b1-84c8-d50aab1a4ae6",
   "metadata": {},
   "outputs": [
    {
     "data": {
      "text/plain": [
       "{'key1': 0, 'key2': 0, 'key3': 0}"
      ]
     },
     "execution_count": 63,
     "metadata": {},
     "output_type": "execute_result"
    }
   ],
   "source": [
    "x = ('key1', 'key2', 'key3')\n",
    "y = 0\n",
    "dict.fromkeys(x, y)"
   ]
  },
  {
   "cell_type": "code",
   "execution_count": 64,
   "id": "874aa6a2-db23-441c-95ca-6291d2a1ad24",
   "metadata": {},
   "outputs": [
    {
     "data": {
      "text/plain": [
       "'Python'"
      ]
     },
     "execution_count": 64,
     "metadata": {},
     "output_type": "execute_result"
    }
   ],
   "source": [
    "my_dict1.get('language2')"
   ]
  },
  {
   "cell_type": "code",
   "execution_count": 65,
   "id": "4fbafc80-9172-45e3-8088-48c51efa8722",
   "metadata": {},
   "outputs": [
    {
     "data": {
      "text/plain": [
       "dict_items([('language1', 'Java'), ('language2', 'Python'), ('language3', 'C++'), ('language4', 'C')])"
      ]
     },
     "execution_count": 65,
     "metadata": {},
     "output_type": "execute_result"
    }
   ],
   "source": [
    "my_dict1.items()"
   ]
  },
  {
   "cell_type": "code",
   "execution_count": 66,
   "id": "0979a1ed-136c-4b44-87eb-eb2c9e994aaa",
   "metadata": {},
   "outputs": [
    {
     "data": {
      "text/plain": [
       "dict_keys(['language1', 'language2', 'language3', 'language4'])"
      ]
     },
     "execution_count": 66,
     "metadata": {},
     "output_type": "execute_result"
    }
   ],
   "source": [
    "my_dict1.keys()"
   ]
  },
  {
   "cell_type": "code",
   "execution_count": 67,
   "id": "5ae2be26-4ff6-447b-affe-974fd6344f5f",
   "metadata": {},
   "outputs": [
    {
     "data": {
      "text/plain": [
       "'C'"
      ]
     },
     "execution_count": 67,
     "metadata": {},
     "output_type": "execute_result"
    }
   ],
   "source": [
    "my_dict1.pop('language4')"
   ]
  },
  {
   "cell_type": "code",
   "execution_count": 68,
   "id": "f7f9f641-43f5-4ec8-adfa-2770df5f6a56",
   "metadata": {},
   "outputs": [
    {
     "data": {
      "text/plain": [
       "{'language1': 'Java', 'language2': 'Python', 'language3': 'C++'}"
      ]
     },
     "execution_count": 68,
     "metadata": {},
     "output_type": "execute_result"
    }
   ],
   "source": [
    "my_dict1"
   ]
  },
  {
   "cell_type": "code",
   "execution_count": 69,
   "id": "60c7b879-5b44-4574-b259-40e88344da0b",
   "metadata": {},
   "outputs": [
    {
     "data": {
      "text/plain": [
       "('language3', 'C++')"
      ]
     },
     "execution_count": 69,
     "metadata": {},
     "output_type": "execute_result"
    }
   ],
   "source": [
    "my_dict1.popitem()"
   ]
  },
  {
   "cell_type": "code",
   "execution_count": 70,
   "id": "6d4614b3-4b98-452c-ad92-58989b13942b",
   "metadata": {},
   "outputs": [
    {
     "data": {
      "text/plain": [
       "{'language1': 'Java', 'language2': 'Python'}"
      ]
     },
     "execution_count": 70,
     "metadata": {},
     "output_type": "execute_result"
    }
   ],
   "source": [
    "my_dict1"
   ]
  },
  {
   "cell_type": "code",
   "execution_count": 71,
   "id": "47214047-61f9-452e-8f97-55f7b1eb1c86",
   "metadata": {},
   "outputs": [],
   "source": [
    "my_dict1.setdefault('language3')"
   ]
  },
  {
   "cell_type": "code",
   "execution_count": 72,
   "id": "338931b5-10bd-4e3d-b144-5ce2ae5d481b",
   "metadata": {},
   "outputs": [
    {
     "data": {
      "text/plain": [
       "{'language1': 'Java', 'language2': 'Python', 'language3': None}"
      ]
     },
     "execution_count": 72,
     "metadata": {},
     "output_type": "execute_result"
    }
   ],
   "source": [
    "my_dict1"
   ]
  },
  {
   "cell_type": "code",
   "execution_count": 73,
   "id": "55a7eb77-31e2-4349-925b-be8ed37a0a03",
   "metadata": {},
   "outputs": [],
   "source": [
    "my_dict1.update({'language3':'Ruby'})"
   ]
  },
  {
   "cell_type": "code",
   "execution_count": 74,
   "id": "df52546f-7da2-44b2-ae8b-7cd571b83e95",
   "metadata": {},
   "outputs": [
    {
     "data": {
      "text/plain": [
       "{'language1': 'Java', 'language2': 'Python', 'language3': 'Ruby'}"
      ]
     },
     "execution_count": 74,
     "metadata": {},
     "output_type": "execute_result"
    }
   ],
   "source": [
    "my_dict1"
   ]
  },
  {
   "cell_type": "code",
   "execution_count": 75,
   "id": "dc1b773c-742e-438d-83f7-cd9ef6984112",
   "metadata": {},
   "outputs": [
    {
     "data": {
      "text/plain": [
       "dict_values(['Java', 'Python', 'Ruby'])"
      ]
     },
     "execution_count": 75,
     "metadata": {},
     "output_type": "execute_result"
    }
   ],
   "source": [
    "my_dict1.values()"
   ]
  },
  {
   "cell_type": "markdown",
   "id": "33659433-089e-4dd5-8509-5ac0806bc9ae",
   "metadata": {},
   "source": [
    "Ở bài tiếp theo, chúng ta sẽ tìm hiểu về vòng lặp, câu điều kiện, cũng như cách viết 1 hàm trong Python."
   ]
  }
 ],
 "metadata": {
  "kernelspec": {
   "display_name": "Python 3 (ipykernel)",
   "language": "python",
   "name": "python3"
  },
  "language_info": {
   "codemirror_mode": {
    "name": "ipython",
    "version": 3
   },
   "file_extension": ".py",
   "mimetype": "text/x-python",
   "name": "python",
   "nbconvert_exporter": "python",
   "pygments_lexer": "ipython3",
   "version": "3.8.11"
  }
 },
 "nbformat": 4,
 "nbformat_minor": 5
}
