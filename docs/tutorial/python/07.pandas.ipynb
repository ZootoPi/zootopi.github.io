{
 "cells": [
  {
   "cell_type": "markdown",
   "id": "3433a74e-10a1-413e-8c45-2df63e2275ab",
   "metadata": {
    "id": "3433a74e-10a1-413e-8c45-2df63e2275ab"
   },
   "source": [
    "# Bài 5: Giới thiệu về Pandas"
   ]
  },
  {
   "cell_type": "markdown",
   "id": "91ed8df8-fc8e-45fa-83f8-e71770b2b53e",
   "metadata": {
    "id": "91ed8df8-fc8e-45fa-83f8-e71770b2b53e"
   },
   "source": [
    "![](https://upload.wikimedia.org/wikipedia/commons/thumb/e/ed/Pandas_logo.svg/1200px-Pandas_logo.svg.png)"
   ]
  },
  {
   "cell_type": "markdown",
   "id": "93a6f13e-cf5e-4412-ad72-9ac2737d2090",
   "metadata": {
    "id": "93a6f13e-cf5e-4412-ad72-9ac2737d2090"
   },
   "source": [
    "## 1. Giới thiệu\n",
    "\n",
    "### 1.1. Pandas là gì? \n",
    "\n",
    "Pandas (viết tắt từ `Panel Data` -  bảng dữ liệu) là thư viện mã nguồn mở phục vụ cho việc phân tích và xử lý dữ liệu trong Python, được phát triển bởi Wes McKinney trong năm 2008. Thư viện này được thiết kế để làm việc dễ dàng và trực quan với dữ liệu có cấu trúc (dạng bảng, đa chiều, ...) và dữ liệu chuỗi thời gian. Hiện nay, Pandas được sử dụng rộng rãi trong cả nghiên cứu lẫn phát triển các ứng dụng về khoa học dữ liệu.  \n",
    "\n",
    "\n",
    "Pandas trở thành thư viện yêu thích của những nhà phân tích dữ liệu bởi:\n",
    "- Pandas phù hợp với nhiều loại dữ liệu khác nhau:\n",
    "    - Dữ liệu dạng bảng, như trong bảng SQL hoặc bảng tính Excel.\n",
    "    - Dữ liệu chuỗi thời gian theo thứ tự và không có thứ tự.\n",
    "    - Dữ liệu ma trận tùy ý với nhãn hàng và cột...\n",
    "- Dễ dàng thao tác, phân tích, xử lý và trực quan hoá dữ liệu:\n",
    "    - Khả năng xử lý dữ liệu mất mát (NaN,...), nhiễu, ...\n",
    "    - Khả năng thay đổi kích thước: chèn và xóa cột, dòng\n",
    "    - Khả năng căn chỉnh dữ liệu tự động và rõ ràng\n",
    "    - Khả năng phân tách, gộp nối, chuyển đổi, định hình các tập dữ liệu 1 cách linh hoạt giúp cho việc tổng hợp và phân tích dữ liệu nhanh gọn, dễ dàng hơn.\n",
    "    - Khả năng tải và lưu trữ dữ liệu theo nhiều format khác nhau: .csv, .txt, .excel, .pkl, .hdfs5, ...\n",
    "    - Khả năng xử lí dữ liệu dạng chuỗi.\n",
    "    - Khả năng tích hợp tốt với các thư viện khác của Python: SciPy, Matplotlib, Seaborn, Plotly, Sklearn, ...\n",
    "\n",
    "### 1.2. Cài đặt\n",
    "\n",
    "- Cài đặt khi tạo môi trường ảo:\n",
    "\n",
    "`conda create -n hanh python=3.7 pandas`\n",
    "\n",
    "- Cài đặt sau khi tạo xong môi trường ảo:\n",
    "\n",
    "`conda install pandas`\n",
    "hoặc \n",
    "`pip install pandas`\n",
    "\n",
    "### 1.3. Import thư viện"
   ]
  },
  {
   "cell_type": "code",
   "execution_count": 1,
   "id": "4d831a00-9511-40fd-a2c1-fe96543a7783",
   "metadata": {
    "id": "4d831a00-9511-40fd-a2c1-fe96543a7783"
   },
   "outputs": [],
   "source": [
    "import pandas as pd"
   ]
  },
  {
   "cell_type": "markdown",
   "id": "ff38d2d7-d982-42da-a114-ca6aaa3dcc84",
   "metadata": {
    "id": "ff38d2d7-d982-42da-a114-ca6aaa3dcc84"
   },
   "source": [
    "#### **Tham khảo**: \n",
    "- [Pandas Cheatsheet](https://pandas.pydata.org/Pandas_Cheat_Sheet.pdf)\n",
    "- [Python for Data Analysis](https://bedford-computing.co.uk/learning/wp-content/uploads/2015/10/Python-for-Data-Analysis.pdf)"
   ]
  },
  {
   "cell_type": "markdown",
   "id": "d9ee5f6d-f0e7-48f1-9c5d-00fcb8442427",
   "metadata": {
    "id": "d9ee5f6d-f0e7-48f1-9c5d-00fcb8442427"
   },
   "source": [
    "## 2. Các hàm cơ bản trong Pandas\n",
    "\n",
    "### 2.1. Objects trong Pandas\n",
    "\n",
    "Trong Pandas, ta có 2 khái niệm:\n",
    "\n",
    "- **DataFrames**: các bảng dữ liệu bao gồm nhiều hàng và nhiều cột, khởi tạo thông qua câu lệnh `pd.DataFrame()`\n",
    "- **Series**: cột dữ liệu, khởi tạo thông qua câu lệnh `pd.Series()`\n",
    "\n",
    "Bảng dữ liệu trong SQL gọi là bảng, Excel gọi là sheet, còn Python gọi đây là 1 DataFrame của Pandas.\n",
    "Hiểu đơn giản, 1 cái Series là 1 cột của DataFrame. Ở mức máy tính thì Series là 1 object riêng và DataFrame là 1 object riêng. Tuy nhiên, có thể chuyển 1 Series thành DataFrame và chuyển DataFrame 1 cột thành Series.\n",
    "\n",
    "![](https://media.geeksforgeeks.org/wp-content/cdn-uploads/creating_dataframe1.png)\n",
    "![](https://analyticssavvy.com/wp-content/uploads/2020/05/series-and-dataframe.png)\n"
   ]
  },
  {
   "cell_type": "markdown",
   "id": "2971cd98-00c2-40ad-a0a5-e15cae5526a9",
   "metadata": {
    "id": "2971cd98-00c2-40ad-a0a5-e15cae5526a9"
   },
   "source": [
    "### 2.2. Khởi tạo 1 DataFrame"
   ]
  },
  {
   "cell_type": "markdown",
   "id": "d1851a83-e75e-4642-89b5-8e85c68087eb",
   "metadata": {
    "id": "d1851a83-e75e-4642-89b5-8e85c68087eb"
   },
   "source": [
    "1. Tạo ra 1 DataFrame rỗng"
   ]
  },
  {
   "cell_type": "code",
   "execution_count": 2,
   "id": "9541c8b7-e1df-4bb7-87d8-17ed681df194",
   "metadata": {
    "colab": {
     "base_uri": "https://localhost:8080/",
     "height": 32
    },
    "executionInfo": {
     "elapsed": 633,
     "status": "ok",
     "timestamp": 1630858959113,
     "user": {
      "displayName": "Hanh Hong",
      "photoUrl": "https://lh3.googleusercontent.com/a-/AOh14GgTGrVmuc_fqpti3RtfBoBV5xUv39ZrkX4aNbIspKA=s64",
      "userId": "02640640021897565157"
     },
     "user_tz": -420
    },
    "id": "9541c8b7-e1df-4bb7-87d8-17ed681df194",
    "outputId": "92a86726-e031-4495-c3ae-aa67242b4a16",
    "tags": []
   },
   "outputs": [],
   "source": [
    "df = pd.DataFrame() #tạo ra 1 dataframe rỗng"
   ]
  },
  {
   "cell_type": "code",
   "execution_count": 3,
   "id": "9b7a3117-c4a8-4aaf-af2d-b871f9abd0d6",
   "metadata": {
    "colab": {
     "base_uri": "https://localhost:8080/"
    },
    "executionInfo": {
     "elapsed": 25,
     "status": "ok",
     "timestamp": 1630858959114,
     "user": {
      "displayName": "Hanh Hong",
      "photoUrl": "https://lh3.googleusercontent.com/a-/AOh14GgTGrVmuc_fqpti3RtfBoBV5xUv39ZrkX4aNbIspKA=s64",
      "userId": "02640640021897565157"
     },
     "user_tz": -420
    },
    "id": "4cf08953-c0aa-43c4-8cd8-0f9388b25a85",
    "outputId": "7303c282-499b-4939-e163-e48c6d4f3332",
    "tags": []
   },
   "outputs": [
    {
     "data": {
      "text/plain": [
       "pandas.core.frame.DataFrame"
      ]
     },
     "execution_count": 3,
     "metadata": {},
     "output_type": "execute_result"
    }
   ],
   "source": [
    "type(df) "
   ]
  },
  {
   "cell_type": "markdown",
   "id": "5884a1e8-b791-4ebb-98f5-541e4a322411",
   "metadata": {},
   "source": [
    "Vậy trong trường hợp ta muốn tạo ra 1 DataFrame có chứa dữ liệu như dưới đây thì làm thế nào?\n",
    "\n",
    "|          | name   |   age | university   |\n",
    "|:---------|:-------|------:|:-------------|\n",
    "| student1 |  My    |    10 | MIT          |\n",
    "| student2 | Hanh   |    11 | Harvard      |\n",
    "| student3 | Long   |    12 | NYU          |\n",
    "| student4 | Dat    |    14 | Paris13      |\n",
    "| student5 | Hoai   |    15 | MCU          |"
   ]
  },
  {
   "cell_type": "markdown",
   "id": "1147a47e-45c2-4b34-bfd4-584aacea90e0",
   "metadata": {
    "id": "1147a47e-45c2-4b34-bfd4-584aacea90e0"
   },
   "source": [
    "2. Tạo ra 1 DataFrame từ dict"
   ]
  },
  {
   "cell_type": "code",
   "execution_count": 4,
   "id": "6b7e1797-5077-40f5-859a-ede385dd962e",
   "metadata": {
    "colab": {
     "base_uri": "https://localhost:8080/",
     "height": 204
    },
    "executionInfo": {
     "elapsed": 20,
     "status": "ok",
     "timestamp": 1630858959114,
     "user": {
      "displayName": "Hanh Hong",
      "photoUrl": "https://lh3.googleusercontent.com/a-/AOh14GgTGrVmuc_fqpti3RtfBoBV5xUv39ZrkX4aNbIspKA=s64",
      "userId": "02640640021897565157"
     },
     "user_tz": -420
    },
    "id": "6b7e1797-5077-40f5-859a-ede385dd962e",
    "outputId": "7aad4994-653e-44bc-fb78-87a27262d9f2",
    "tags": []
   },
   "outputs": [],
   "source": [
    "dict1 = {'name':['My','Hanh', 'Long', 'Dat', 'Hoai'],\n",
    "        'age':[10,11,12,14,15],\n",
    "        'university':['MIT','Harvard','NYU','Paris13','MCU']}\n",
    "df1 = pd.DataFrame(dict1, index=[f'student{i}' for i in range(1,6)])"
   ]
  },
  {
   "cell_type": "markdown",
   "id": "9de7a33b-887a-4d9e-b4f0-6a96c805df3a",
   "metadata": {
    "id": "9de7a33b-887a-4d9e-b4f0-6a96c805df3a"
   },
   "source": [
    "3. Tạo ra 1 DataFrame từ list của list"
   ]
  },
  {
   "cell_type": "code",
   "execution_count": 5,
   "id": "66867371-1cf4-4a62-a32e-5ebcce60ed08",
   "metadata": {
    "colab": {
     "base_uri": "https://localhost:8080/",
     "height": 111
    },
    "executionInfo": {
     "elapsed": 19,
     "status": "ok",
     "timestamp": 1630858959114,
     "user": {
      "displayName": "Hanh Hong",
      "photoUrl": "https://lh3.googleusercontent.com/a-/AOh14GgTGrVmuc_fqpti3RtfBoBV5xUv39ZrkX4aNbIspKA=s64",
      "userId": "02640640021897565157"
     },
     "user_tz": -420
    },
    "id": "66867371-1cf4-4a62-a32e-5ebcce60ed08",
    "outputId": "5b207d2f-f2bd-44ff-c22d-6999b3c6e2bb",
    "tags": []
   },
   "outputs": [],
   "source": [
    "li = [['My',10,'MIT'], ['Hanh',11,'Havard'], ['Long',12,'NYU'],['Dat',14,'Paris13'],['Hoai',15,'MCU']]\n",
    "df2 = pd.DataFrame(li, columns=['name', 'age', 'university'], index=[f'student{i}' for i in range(1,6)])"
   ]
  },
  {
   "cell_type": "markdown",
   "id": "22b73c84-5abf-41e5-af03-ba9624f8d86d",
   "metadata": {
    "id": "22b73c84-5abf-41e5-af03-ba9624f8d86d"
   },
   "source": [
    "4. Tạo ra 1 DataFrame từ zip"
   ]
  },
  {
   "cell_type": "code",
   "execution_count": 6,
   "id": "ea346bb3-ffd4-44e2-924b-565ff6cfdefd",
   "metadata": {
    "colab": {
     "base_uri": "https://localhost:8080/",
     "height": 204
    },
    "executionInfo": {
     "elapsed": 18,
     "status": "ok",
     "timestamp": 1630858959114,
     "user": {
      "displayName": "Hanh Hong",
      "photoUrl": "https://lh3.googleusercontent.com/a-/AOh14GgTGrVmuc_fqpti3RtfBoBV5xUv39ZrkX4aNbIspKA=s64",
      "userId": "02640640021897565157"
     },
     "user_tz": -420
    },
    "id": "ea346bb3-ffd4-44e2-924b-565ff6cfdefd",
    "outputId": "6baeedb8-29e0-4949-f3c5-88494accbdfa",
    "tags": []
   },
   "outputs": [],
   "source": [
    "name = ['My','Hanh', 'Long', 'Dat', 'Hoai']\n",
    "age = [10,11,12,14,15]\n",
    "university = ['MIT', 'Harvard','NYU','Paris13','MCU']\n",
    "tuple_li = list(zip(name, age, university))\n",
    "df3 = pd.DataFrame(tuple_li,columns = ['name', 'age','university'], index=[f'student{i}' for i in range(1,6)])"
   ]
  },
  {
   "cell_type": "markdown",
   "id": "7d32859a-8ba8-4ab8-9041-f97c3a3dea65",
   "metadata": {
    "id": "7d32859a-8ba8-4ab8-9041-f97c3a3dea65"
   },
   "source": [
    "5. Tạo từ 1 chuỗi numpy\n",
    "\n",
    "|    |   col1 |   col2 |   col3 |   col4 |\n",
    "|---:|-------:|-------:|-------:|-------:|\n",
    "|  0 |      1 |      2 |      3 |      4 |\n",
    "|  1 |      5 |      6 |      7 |      8 |\n",
    "|  2 |      9 |     10 |     11 |     12 |\n",
    "|  3 |     13 |     14 |     15 |     16 |"
   ]
  },
  {
   "cell_type": "code",
   "execution_count": 7,
   "id": "ed32c789-a673-437d-b597-b788f069cc43",
   "metadata": {
    "colab": {
     "base_uri": "https://localhost:8080/",
     "height": 173
    },
    "executionInfo": {
     "elapsed": 18,
     "status": "ok",
     "timestamp": 1630858959115,
     "user": {
      "displayName": "Hanh Hong",
      "photoUrl": "https://lh3.googleusercontent.com/a-/AOh14GgTGrVmuc_fqpti3RtfBoBV5xUv39ZrkX4aNbIspKA=s64",
      "userId": "02640640021897565157"
     },
     "user_tz": -420
    },
    "id": "ed32c789-a673-437d-b597-b788f069cc43",
    "outputId": "5a2cee5f-47a3-4376-f3e7-d93aedf9393e",
    "tags": []
   },
   "outputs": [],
   "source": [
    "import numpy as np\n",
    "df1 = pd.DataFrame(np.linspace(1,16,16).reshape(4,4), columns=['col1', 'col2','col3', 'col4'])\n",
    "df1 = pd.DataFrame(np.linspace(1,16,16).reshape(4,4), columns=[f'col{i}' for i in range(1,5)])"
   ]
  },
  {
   "cell_type": "markdown",
   "id": "d83e0c15-c9ee-4600-a59b-d5eb3971c4a9",
   "metadata": {
    "id": "d83e0c15-c9ee-4600-a59b-d5eb3971c4a9"
   },
   "source": [
    "### 2.3. Khởi tạo 1 Series"
   ]
  },
  {
   "cell_type": "code",
   "execution_count": 8,
   "id": "3063331f-0808-4e6d-9885-ab7f557b953c",
   "metadata": {
    "colab": {
     "base_uri": "https://localhost:8080/"
    },
    "executionInfo": {
     "elapsed": 17,
     "status": "ok",
     "timestamp": 1630858959115,
     "user": {
      "displayName": "Hanh Hong",
      "photoUrl": "https://lh3.googleusercontent.com/a-/AOh14GgTGrVmuc_fqpti3RtfBoBV5xUv39ZrkX4aNbIspKA=s64",
      "userId": "02640640021897565157"
     },
     "user_tz": -420
    },
    "id": "3063331f-0808-4e6d-9885-ab7f557b953c",
    "outputId": "f1e91c5f-555c-4277-e20a-bbc21a9db204",
    "tags": []
   },
   "outputs": [],
   "source": [
    "#Lấy các giá trị 1 cột trong DataFrame và truyền vào biến Series\n",
    "series = df2['name'] # cách 1\n",
    "series = df2.name # cách 2"
   ]
  },
  {
   "cell_type": "markdown",
   "id": "9404e410-f7ed-437b-85d2-bb2d615f5f09",
   "metadata": {
    "id": "9404e410-f7ed-437b-85d2-bb2d615f5f09"
   },
   "source": [
    "**Đố vui**: Vì sao trong Pandas lại có 2 cách khác nhau để gọi 1 cột trong DataFrame?\n",
    "\n",
    "Ngoài ra, có 1 số cách để ta khởi tạo 1 Series như dưới đây\""
   ]
  },
  {
   "cell_type": "code",
   "execution_count": 9,
   "id": "7bf81709-f81c-40ed-8efe-77f9fc285b40",
   "metadata": {
    "colab": {
     "base_uri": "https://localhost:8080/"
    },
    "executionInfo": {
     "elapsed": 13,
     "status": "ok",
     "timestamp": 1630858959115,
     "user": {
      "displayName": "Hanh Hong",
      "photoUrl": "https://lh3.googleusercontent.com/a-/AOh14GgTGrVmuc_fqpti3RtfBoBV5xUv39ZrkX4aNbIspKA=s64",
      "userId": "02640640021897565157"
     },
     "user_tz": -420
    },
    "id": "7bf81709-f81c-40ed-8efe-77f9fc285b40",
    "outputId": "ca92ae57-191c-4576-faa3-79b98ea2dc55",
    "tags": []
   },
   "outputs": [],
   "source": [
    "series1 = pd.Series({'name':[1,2,3]}) #khởi tạo 1 Series tên name và có các giá trị 1,2,3"
   ]
  },
  {
   "cell_type": "markdown",
   "id": "0c7f0289-60d6-476a-a85c-5aa075a73806",
   "metadata": {},
   "source": [
    "Để trả về 1 Series có tên là `Zoo` có giá trị `['Z','o','o']` tương ứng index là `['Char1','Char2','Char3']`.\n",
    "\n",
    "Ta có thể chọn 1 trong 2 cách dưới đây."
   ]
  },
  {
   "cell_type": "code",
   "execution_count": 10,
   "id": "ba1c2807-49f0-44e8-9aad-e7a39e9bf885",
   "metadata": {
    "colab": {
     "base_uri": "https://localhost:8080/"
    },
    "executionInfo": {
     "elapsed": 14,
     "status": "ok",
     "timestamp": 1630858959116,
     "user": {
      "displayName": "Hanh Hong",
      "photoUrl": "https://lh3.googleusercontent.com/a-/AOh14GgTGrVmuc_fqpti3RtfBoBV5xUv39ZrkX4aNbIspKA=s64",
      "userId": "02640640021897565157"
     },
     "user_tz": -420
    },
    "id": "ba1c2807-49f0-44e8-9aad-e7a39e9bf885",
    "outputId": "a17fefd2-82da-4257-c5e6-fe1ddd3cc122",
    "tags": []
   },
   "outputs": [],
   "source": [
    "series2 = pd.Series(['Z','o','o'], index=['Char1', 'Char2','Char3'], name='Zoo')"
   ]
  },
  {
   "cell_type": "code",
   "execution_count": 11,
   "id": "e75f1fa2-ed25-4b60-9aba-bc39b4c967b2",
   "metadata": {
    "colab": {
     "base_uri": "https://localhost:8080/"
    },
    "executionInfo": {
     "elapsed": 13,
     "status": "ok",
     "timestamp": 1630858959116,
     "user": {
      "displayName": "Hanh Hong",
      "photoUrl": "https://lh3.googleusercontent.com/a-/AOh14GgTGrVmuc_fqpti3RtfBoBV5xUv39ZrkX4aNbIspKA=s64",
      "userId": "02640640021897565157"
     },
     "user_tz": -420
    },
    "id": "e75f1fa2-ed25-4b60-9aba-bc39b4c967b2",
    "outputId": "9affa29c-2cd3-4251-ff0a-304d791a1be2",
    "tags": []
   },
   "outputs": [],
   "source": [
    "series3 = pd.Series(np.array(['Z','o','o']), index=['Char1', 'Char2','Char3'], name='Zoo')"
   ]
  },
  {
   "cell_type": "markdown",
   "id": "182936dc-c6db-481f-8dbf-4ea195b28f4e",
   "metadata": {
    "id": "182936dc-c6db-481f-8dbf-4ea195b28f4e",
    "tags": []
   },
   "source": [
    "### 2.4. Đọc/lưu 1 DataFrame\n",
    "\n",
    "Pandas hỗ trợ đọc nhiều format dữ liệu khác nhau, ví dụ như: excel, csv, sql, html, json, table, ... Ở đây, mình sẽ ví dụ với 1 kiểu dữ liệu được sử dụng phổ biến nhất, đó là `.csv`. `csv` là viết tắt của cụm từ `commas seperated value`, về bản chất là 1 file text lưu trữ các thông tin dạng bảng với các giá trị từng cột phân cách nhau bới dấu `commas`, tức là dấu phẩy. Có nhiều biến thể của file `.csv`, ví dụ `.tsv` tương ứng `tab seperated value`, ...\n",
    "\n",
    "Ta có thể đọc file csv thông qua câu lệnh `pd.read_csv()` và lưu file tạo ra và thao tác thông qua câu lệnh `pd.to_csv()`. Tương tự như csv, các format dữ liệu khác cũng sẽ có cấu trúc câu lệnh trong Pandas tương tự như với csv. Dưới đây là 1 số ví dụ về đọc và lưu file với Pandas."
   ]
  },
  {
   "cell_type": "code",
   "execution_count": 12,
   "id": "9d9b87be-4243-44b3-b3f8-cc705fd51b09",
   "metadata": {
    "colab": {
     "base_uri": "https://localhost:8080/",
     "height": 204
    },
    "executionInfo": {
     "elapsed": 1077,
     "status": "ok",
     "timestamp": 1630858960180,
     "user": {
      "displayName": "Hanh Hong",
      "photoUrl": "https://lh3.googleusercontent.com/a-/AOh14GgTGrVmuc_fqpti3RtfBoBV5xUv39ZrkX4aNbIspKA=s64",
      "userId": "02640640021897565157"
     },
     "user_tz": -420
    },
    "id": "9d9b87be-4243-44b3-b3f8-cc705fd51b09",
    "outputId": "6384dee2-6075-4618-80a9-a809123cea05",
    "tags": []
   },
   "outputs": [],
   "source": [
    "df = pd.read_csv('https://archive.ics.uci.edu/ml/machine-learning-databases/iris/iris.data', header=None) #dữ liệu online"
   ]
  },
  {
   "cell_type": "code",
   "execution_count": 13,
   "id": "5221728b-6968-4381-8dee-f0d294c7d8b3",
   "metadata": {
    "colab": {
     "base_uri": "https://localhost:8080/",
     "height": 204
    },
    "executionInfo": {
     "elapsed": 1432,
     "status": "ok",
     "timestamp": 1630924101757,
     "user": {
      "displayName": "Hanh Hong",
      "photoUrl": "https://lh3.googleusercontent.com/a-/AOh14GgTGrVmuc_fqpti3RtfBoBV5xUv39ZrkX4aNbIspKA=s64",
      "userId": "02640640021897565157"
     },
     "user_tz": -420
    },
    "id": "5221728b-6968-4381-8dee-f0d294c7d8b3",
    "outputId": "661affb4-257a-445e-a2c7-1edbb2447aee"
   },
   "outputs": [],
   "source": [
    "import seaborn as sns\n",
    "tips_df = sns.load_dataset('tips') #dữ liệu từ github của seaborn."
   ]
  },
  {
   "cell_type": "markdown",
   "id": "4f6c11f1-62b0-4c68-aa04-c232531e6927",
   "metadata": {},
   "source": [
    "Trong bài học tiếp theo, chúng ta sẽ cùng nhau tìm hiểu 1 số hàm phổ biến giúp cho Pandas trở thành công cụ xử lý dữ liệu cấu trúc dạng bảng hàng đầu khi làm việc với Python."
   ]
  }
 ],
 "metadata": {
  "colab": {
   "collapsed_sections": [
    "d83e0c15-c9ee-4600-a59b-d5eb3971c4a9"
   ],
   "name": "07.pandas.ipynb",
   "provenance": []
  },
  "kernelspec": {
   "display_name": "Python 3.8.2 64-bit",
   "language": "python",
   "name": "python3"
  },
  "language_info": {
   "codemirror_mode": {
    "name": "ipython",
    "version": 3
   },
   "file_extension": ".py",
   "mimetype": "text/x-python",
   "name": "python",
   "nbconvert_exporter": "python",
   "pygments_lexer": "ipython3",
   "version": "3.8.2"
  },
  "vscode": {
   "interpreter": {
    "hash": "31f2aee4e71d21fbe5cf8b01ff0e069b9275f58929596ceb00d14d90e3e16cd6"
   }
  }
 },
 "nbformat": 4,
 "nbformat_minor": 5
}
